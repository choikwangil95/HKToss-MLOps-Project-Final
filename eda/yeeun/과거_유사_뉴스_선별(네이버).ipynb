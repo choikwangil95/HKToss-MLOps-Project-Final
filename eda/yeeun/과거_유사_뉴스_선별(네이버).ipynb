{
 "cells": [
  {
   "cell_type": "markdown",
   "id": "22bea38c",
   "metadata": {},
   "source": [
    "# 라이브러리"
   ]
  },
  {
   "cell_type": "code",
   "execution_count": 4,
   "id": "a9d776b2",
   "metadata": {},
   "outputs": [
    {
     "name": "stdout",
     "output_type": "stream",
     "text": [
      "Requirement already satisfied: sentence-transformers in /opt/anaconda3/lib/python3.12/site-packages (4.1.0)\n",
      "Requirement already satisfied: transformers<5.0.0,>=4.41.0 in /opt/anaconda3/lib/python3.12/site-packages (from sentence-transformers) (4.51.3)\n",
      "Requirement already satisfied: tqdm in /opt/anaconda3/lib/python3.12/site-packages (from sentence-transformers) (4.66.5)\n",
      "Requirement already satisfied: torch>=1.11.0 in /opt/anaconda3/lib/python3.12/site-packages (from sentence-transformers) (2.7.0)\n",
      "Requirement already satisfied: scikit-learn in /opt/anaconda3/lib/python3.12/site-packages (from sentence-transformers) (1.5.1)\n",
      "Requirement already satisfied: scipy in /opt/anaconda3/lib/python3.12/site-packages (from sentence-transformers) (1.13.1)\n",
      "Requirement already satisfied: huggingface-hub>=0.20.0 in /opt/anaconda3/lib/python3.12/site-packages (from sentence-transformers) (0.31.2)\n",
      "Requirement already satisfied: Pillow in /opt/anaconda3/lib/python3.12/site-packages (from sentence-transformers) (10.4.0)\n",
      "Requirement already satisfied: typing_extensions>=4.5.0 in /opt/anaconda3/lib/python3.12/site-packages (from sentence-transformers) (4.11.0)\n",
      "Requirement already satisfied: filelock in /opt/anaconda3/lib/python3.12/site-packages (from huggingface-hub>=0.20.0->sentence-transformers) (3.13.1)\n",
      "Requirement already satisfied: fsspec>=2023.5.0 in /opt/anaconda3/lib/python3.12/site-packages (from huggingface-hub>=0.20.0->sentence-transformers) (2024.6.1)\n",
      "Requirement already satisfied: packaging>=20.9 in /opt/anaconda3/lib/python3.12/site-packages (from huggingface-hub>=0.20.0->sentence-transformers) (24.1)\n",
      "Requirement already satisfied: pyyaml>=5.1 in /opt/anaconda3/lib/python3.12/site-packages (from huggingface-hub>=0.20.0->sentence-transformers) (6.0.1)\n",
      "Requirement already satisfied: requests in /opt/anaconda3/lib/python3.12/site-packages (from huggingface-hub>=0.20.0->sentence-transformers) (2.32.3)\n",
      "Requirement already satisfied: setuptools in /opt/anaconda3/lib/python3.12/site-packages (from torch>=1.11.0->sentence-transformers) (75.1.0)\n",
      "Requirement already satisfied: sympy>=1.13.3 in /opt/anaconda3/lib/python3.12/site-packages (from torch>=1.11.0->sentence-transformers) (1.14.0)\n",
      "Requirement already satisfied: networkx in /opt/anaconda3/lib/python3.12/site-packages (from torch>=1.11.0->sentence-transformers) (3.3)\n",
      "Requirement already satisfied: jinja2 in /opt/anaconda3/lib/python3.12/site-packages (from torch>=1.11.0->sentence-transformers) (3.1.4)\n",
      "Requirement already satisfied: numpy>=1.17 in /opt/anaconda3/lib/python3.12/site-packages (from transformers<5.0.0,>=4.41.0->sentence-transformers) (1.26.4)\n",
      "Requirement already satisfied: regex!=2019.12.17 in /opt/anaconda3/lib/python3.12/site-packages (from transformers<5.0.0,>=4.41.0->sentence-transformers) (2024.9.11)\n",
      "Requirement already satisfied: tokenizers<0.22,>=0.21 in /opt/anaconda3/lib/python3.12/site-packages (from transformers<5.0.0,>=4.41.0->sentence-transformers) (0.21.1)\n",
      "Requirement already satisfied: safetensors>=0.4.3 in /opt/anaconda3/lib/python3.12/site-packages (from transformers<5.0.0,>=4.41.0->sentence-transformers) (0.5.3)\n",
      "Requirement already satisfied: joblib>=1.2.0 in /opt/anaconda3/lib/python3.12/site-packages (from scikit-learn->sentence-transformers) (1.4.2)\n",
      "Requirement already satisfied: threadpoolctl>=3.1.0 in /opt/anaconda3/lib/python3.12/site-packages (from scikit-learn->sentence-transformers) (3.5.0)\n",
      "Requirement already satisfied: mpmath<1.4,>=1.1.0 in /opt/anaconda3/lib/python3.12/site-packages (from sympy>=1.13.3->torch>=1.11.0->sentence-transformers) (1.3.0)\n",
      "Requirement already satisfied: MarkupSafe>=2.0 in /opt/anaconda3/lib/python3.12/site-packages (from jinja2->torch>=1.11.0->sentence-transformers) (2.1.3)\n",
      "Requirement already satisfied: charset-normalizer<4,>=2 in /opt/anaconda3/lib/python3.12/site-packages (from requests->huggingface-hub>=0.20.0->sentence-transformers) (3.3.2)\n",
      "Requirement already satisfied: idna<4,>=2.5 in /opt/anaconda3/lib/python3.12/site-packages (from requests->huggingface-hub>=0.20.0->sentence-transformers) (3.7)\n",
      "Requirement already satisfied: urllib3<3,>=1.21.1 in /opt/anaconda3/lib/python3.12/site-packages (from requests->huggingface-hub>=0.20.0->sentence-transformers) (2.2.3)\n",
      "Requirement already satisfied: certifi>=2017.4.17 in /opt/anaconda3/lib/python3.12/site-packages (from requests->huggingface-hub>=0.20.0->sentence-transformers) (2024.12.14)\n",
      "Collecting tf-keras\n",
      "  Downloading tf_keras-2.19.0-py3-none-any.whl.metadata (1.8 kB)\n",
      "Requirement already satisfied: tensorflow<2.20,>=2.19 in /opt/anaconda3/lib/python3.12/site-packages (from tf-keras) (2.19.0)\n",
      "Requirement already satisfied: absl-py>=1.0.0 in /opt/anaconda3/lib/python3.12/site-packages (from tensorflow<2.20,>=2.19->tf-keras) (2.2.2)\n",
      "Requirement already satisfied: astunparse>=1.6.0 in /opt/anaconda3/lib/python3.12/site-packages (from tensorflow<2.20,>=2.19->tf-keras) (1.6.3)\n",
      "Requirement already satisfied: flatbuffers>=24.3.25 in /opt/anaconda3/lib/python3.12/site-packages (from tensorflow<2.20,>=2.19->tf-keras) (25.2.10)\n",
      "Requirement already satisfied: gast!=0.5.0,!=0.5.1,!=0.5.2,>=0.2.1 in /opt/anaconda3/lib/python3.12/site-packages (from tensorflow<2.20,>=2.19->tf-keras) (0.6.0)\n",
      "Requirement already satisfied: google-pasta>=0.1.1 in /opt/anaconda3/lib/python3.12/site-packages (from tensorflow<2.20,>=2.19->tf-keras) (0.2.0)\n",
      "Requirement already satisfied: libclang>=13.0.0 in /opt/anaconda3/lib/python3.12/site-packages (from tensorflow<2.20,>=2.19->tf-keras) (18.1.1)\n",
      "Requirement already satisfied: opt-einsum>=2.3.2 in /opt/anaconda3/lib/python3.12/site-packages (from tensorflow<2.20,>=2.19->tf-keras) (3.4.0)\n",
      "Requirement already satisfied: packaging in /opt/anaconda3/lib/python3.12/site-packages (from tensorflow<2.20,>=2.19->tf-keras) (24.1)\n",
      "Requirement already satisfied: protobuf!=4.21.0,!=4.21.1,!=4.21.2,!=4.21.3,!=4.21.4,!=4.21.5,<6.0.0dev,>=3.20.3 in /opt/anaconda3/lib/python3.12/site-packages (from tensorflow<2.20,>=2.19->tf-keras) (4.25.3)\n",
      "Requirement already satisfied: requests<3,>=2.21.0 in /opt/anaconda3/lib/python3.12/site-packages (from tensorflow<2.20,>=2.19->tf-keras) (2.32.3)\n",
      "Requirement already satisfied: setuptools in /opt/anaconda3/lib/python3.12/site-packages (from tensorflow<2.20,>=2.19->tf-keras) (75.1.0)\n",
      "Requirement already satisfied: six>=1.12.0 in /opt/anaconda3/lib/python3.12/site-packages (from tensorflow<2.20,>=2.19->tf-keras) (1.16.0)\n",
      "Requirement already satisfied: termcolor>=1.1.0 in /opt/anaconda3/lib/python3.12/site-packages (from tensorflow<2.20,>=2.19->tf-keras) (3.1.0)\n",
      "Requirement already satisfied: typing-extensions>=3.6.6 in /opt/anaconda3/lib/python3.12/site-packages (from tensorflow<2.20,>=2.19->tf-keras) (4.11.0)\n",
      "Requirement already satisfied: wrapt>=1.11.0 in /opt/anaconda3/lib/python3.12/site-packages (from tensorflow<2.20,>=2.19->tf-keras) (1.14.1)\n",
      "Requirement already satisfied: grpcio<2.0,>=1.24.3 in /opt/anaconda3/lib/python3.12/site-packages (from tensorflow<2.20,>=2.19->tf-keras) (1.71.0)\n",
      "Requirement already satisfied: tensorboard~=2.19.0 in /opt/anaconda3/lib/python3.12/site-packages (from tensorflow<2.20,>=2.19->tf-keras) (2.19.0)\n",
      "Requirement already satisfied: keras>=3.5.0 in /opt/anaconda3/lib/python3.12/site-packages (from tensorflow<2.20,>=2.19->tf-keras) (3.10.0)\n",
      "Requirement already satisfied: numpy<2.2.0,>=1.26.0 in /opt/anaconda3/lib/python3.12/site-packages (from tensorflow<2.20,>=2.19->tf-keras) (1.26.4)\n",
      "Requirement already satisfied: h5py>=3.11.0 in /opt/anaconda3/lib/python3.12/site-packages (from tensorflow<2.20,>=2.19->tf-keras) (3.11.0)\n",
      "Requirement already satisfied: ml-dtypes<1.0.0,>=0.5.1 in /opt/anaconda3/lib/python3.12/site-packages (from tensorflow<2.20,>=2.19->tf-keras) (0.5.1)\n",
      "Requirement already satisfied: wheel<1.0,>=0.23.0 in /opt/anaconda3/lib/python3.12/site-packages (from astunparse>=1.6.0->tensorflow<2.20,>=2.19->tf-keras) (0.44.0)\n",
      "Requirement already satisfied: rich in /opt/anaconda3/lib/python3.12/site-packages (from keras>=3.5.0->tensorflow<2.20,>=2.19->tf-keras) (13.7.1)\n",
      "Requirement already satisfied: namex in /opt/anaconda3/lib/python3.12/site-packages (from keras>=3.5.0->tensorflow<2.20,>=2.19->tf-keras) (0.0.9)\n",
      "Requirement already satisfied: optree in /opt/anaconda3/lib/python3.12/site-packages (from keras>=3.5.0->tensorflow<2.20,>=2.19->tf-keras) (0.15.0)\n",
      "Requirement already satisfied: charset-normalizer<4,>=2 in /opt/anaconda3/lib/python3.12/site-packages (from requests<3,>=2.21.0->tensorflow<2.20,>=2.19->tf-keras) (3.3.2)\n",
      "Requirement already satisfied: idna<4,>=2.5 in /opt/anaconda3/lib/python3.12/site-packages (from requests<3,>=2.21.0->tensorflow<2.20,>=2.19->tf-keras) (3.7)\n",
      "Requirement already satisfied: urllib3<3,>=1.21.1 in /opt/anaconda3/lib/python3.12/site-packages (from requests<3,>=2.21.0->tensorflow<2.20,>=2.19->tf-keras) (2.2.3)\n",
      "Requirement already satisfied: certifi>=2017.4.17 in /opt/anaconda3/lib/python3.12/site-packages (from requests<3,>=2.21.0->tensorflow<2.20,>=2.19->tf-keras) (2024.12.14)\n",
      "Requirement already satisfied: markdown>=2.6.8 in /opt/anaconda3/lib/python3.12/site-packages (from tensorboard~=2.19.0->tensorflow<2.20,>=2.19->tf-keras) (3.4.1)\n",
      "Requirement already satisfied: tensorboard-data-server<0.8.0,>=0.7.0 in /opt/anaconda3/lib/python3.12/site-packages (from tensorboard~=2.19.0->tensorflow<2.20,>=2.19->tf-keras) (0.7.2)\n",
      "Requirement already satisfied: werkzeug>=1.0.1 in /opt/anaconda3/lib/python3.12/site-packages (from tensorboard~=2.19.0->tensorflow<2.20,>=2.19->tf-keras) (3.0.3)\n",
      "Requirement already satisfied: MarkupSafe>=2.1.1 in /opt/anaconda3/lib/python3.12/site-packages (from werkzeug>=1.0.1->tensorboard~=2.19.0->tensorflow<2.20,>=2.19->tf-keras) (2.1.3)\n",
      "Requirement already satisfied: markdown-it-py>=2.2.0 in /opt/anaconda3/lib/python3.12/site-packages (from rich->keras>=3.5.0->tensorflow<2.20,>=2.19->tf-keras) (2.2.0)\n",
      "Requirement already satisfied: pygments<3.0.0,>=2.13.0 in /opt/anaconda3/lib/python3.12/site-packages (from rich->keras>=3.5.0->tensorflow<2.20,>=2.19->tf-keras) (2.15.1)\n",
      "Requirement already satisfied: mdurl~=0.1 in /opt/anaconda3/lib/python3.12/site-packages (from markdown-it-py>=2.2.0->rich->keras>=3.5.0->tensorflow<2.20,>=2.19->tf-keras) (0.1.0)\n",
      "Downloading tf_keras-2.19.0-py3-none-any.whl (1.7 MB)\n",
      "\u001b[2K   \u001b[90m━━━━━━━━━━━━━━━━━━━━━━━━━━━━━━━━━━━━━━━━\u001b[0m \u001b[32m1.7/1.7 MB\u001b[0m \u001b[31m317.1 kB/s\u001b[0m eta \u001b[36m0:00:00\u001b[0ma \u001b[36m0:00:01\u001b[0m\n",
      "\u001b[?25hInstalling collected packages: tf-keras\n",
      "Successfully installed tf-keras-2.19.0\n"
     ]
    }
   ],
   "source": [
    "!pip install sentence-transformers\n",
    "!pip install tf-keras"
   ]
  },
  {
   "cell_type": "code",
   "execution_count": 86,
   "id": "12590ba2",
   "metadata": {},
   "outputs": [],
   "source": [
    "import matplotlib.pyplot as plt\n",
    "import seaborn as sns\n",
    "plt.rc('font', family='AppleGothic')\n",
    "plt.rcParams['axes.unicode_minus'] =False"
   ]
  },
  {
   "cell_type": "code",
   "execution_count": 68,
   "id": "5739b4bf",
   "metadata": {},
   "outputs": [],
   "source": [
    "import pandas as pd\n",
    "import numpy as np\n",
    "from sentence_transformers import SentenceTransformer\n",
    "from sklearn.metrics.pairwise import cosine_similarity\n",
    "from time import time\n",
    "from datetime import timedelta\n",
    "from sklearn.preprocessing import MinMaxScaler"
   ]
  },
  {
   "cell_type": "markdown",
   "id": "869735e4",
   "metadata": {},
   "source": [
    "# 네이버 뉴스로 유사도 추출"
   ]
  },
  {
   "cell_type": "code",
   "execution_count": null,
   "id": "a5ef0902",
   "metadata": {},
   "outputs": [],
   "source": [
    "# 데이터 불러오기\n",
    "news_df = pd.read_csv('/Users/han-yeeun/final/db/news_2023_2025.csv')"
   ]
  },
  {
   "cell_type": "code",
   "execution_count": 45,
   "id": "e617ad49",
   "metadata": {},
   "outputs": [
    {
     "data": {
      "text/html": [
       "<div>\n",
       "<style scoped>\n",
       "    .dataframe tbody tr th:only-of-type {\n",
       "        vertical-align: middle;\n",
       "    }\n",
       "\n",
       "    .dataframe tbody tr th {\n",
       "        vertical-align: top;\n",
       "    }\n",
       "\n",
       "    .dataframe thead th {\n",
       "        text-align: right;\n",
       "    }\n",
       "</style>\n",
       "<table border=\"1\" class=\"dataframe\">\n",
       "  <thead>\n",
       "    <tr style=\"text-align: right;\">\n",
       "      <th></th>\n",
       "      <th>news_id</th>\n",
       "      <th>wdate</th>\n",
       "      <th>title</th>\n",
       "      <th>article</th>\n",
       "      <th>press</th>\n",
       "      <th>url</th>\n",
       "      <th>image</th>\n",
       "    </tr>\n",
       "  </thead>\n",
       "  <tbody>\n",
       "    <tr>\n",
       "      <th>0</th>\n",
       "      <td>20250523_0001</td>\n",
       "      <td>2025-05-23 19:11</td>\n",
       "      <td>[마켓인]모태펀드 존속 불확실성 해소될까…이재명 공약에 업계 주목</td>\n",
       "      <td>2035년 종료 앞둬, 존속 공약에 기대감\\n창업 초기자금 공백 완화 가능성에 업계...</td>\n",
       "      <td>이데일리</td>\n",
       "      <td>https://n.news.naver.com/mnews/article/018/000...</td>\n",
       "      <td>https://imgnews.pstatic.net/image/018/2025/05/...</td>\n",
       "    </tr>\n",
       "    <tr>\n",
       "      <th>1</th>\n",
       "      <td>20250523_0002</td>\n",
       "      <td>2025-05-23 18:52</td>\n",
       "      <td>[단독] 카카오페이, 2500만 회원 쓱·스마일페이 품나…간편결제 시장 빅3 경쟁 후끈</td>\n",
       "      <td>매각가 5000억 안팎 달할듯\\n결제시장 내 입지강화 포석\\n카카오페이 [사진 = ...</td>\n",
       "      <td>매일경제</td>\n",
       "      <td>https://n.news.naver.com/mnews/article/009/000...</td>\n",
       "      <td>https://imgnews.pstatic.net/image/009/2025/05/...</td>\n",
       "    </tr>\n",
       "    <tr>\n",
       "      <th>2</th>\n",
       "      <td>20250523_0003</td>\n",
       "      <td>2025-05-23 18:38</td>\n",
       "      <td>키스트론, 일반 청약 흥행…증거금 6조원 모았다</td>\n",
       "      <td>5월22~23일 청약 진행, 경쟁률 총2166대1\\n상장 후 예상 시가총개 643억...</td>\n",
       "      <td>머니투데이</td>\n",
       "      <td>https://n.news.naver.com/mnews/article/008/000...</td>\n",
       "      <td>https://imgnews.pstatic.net/image/008/2025/05/...</td>\n",
       "    </tr>\n",
       "    <tr>\n",
       "      <th>3</th>\n",
       "      <td>20250523_0004</td>\n",
       "      <td>2025-05-23 18:33</td>\n",
       "      <td>골드만삭스 차기 CEO, 이재용·김병주·이창용 만났다</td>\n",
       "      <td>[사진=연합뉴스]\\n세계 2위 투자은행(IB)인 골드만삭스의 사장 겸 최고운영책임자...</td>\n",
       "      <td>매일경제</td>\n",
       "      <td>https://n.news.naver.com/mnews/article/009/000...</td>\n",
       "      <td>https://imgnews.pstatic.net/image/009/2025/05/...</td>\n",
       "    </tr>\n",
       "    <tr>\n",
       "      <th>4</th>\n",
       "      <td>20250523_0005</td>\n",
       "      <td>2025-05-23 18:24</td>\n",
       "      <td>흔들리는 미국…달러 패권 붕괴에 '스테이블코인' 선택한 美</td>\n",
       "      <td>/사진=게티이미지뱅크\\n미국 정부가 달러의 기축통화 지위를 위협하는 금에 대응하기 ...</td>\n",
       "      <td>머니투데이</td>\n",
       "      <td>https://n.news.naver.com/mnews/article/008/000...</td>\n",
       "      <td>https://imgnews.pstatic.net/image/008/2025/05/...</td>\n",
       "    </tr>\n",
       "  </tbody>\n",
       "</table>\n",
       "</div>"
      ],
      "text/plain": [
       "         news_id             wdate  \\\n",
       "0  20250523_0001  2025-05-23 19:11   \n",
       "1  20250523_0002  2025-05-23 18:52   \n",
       "2  20250523_0003  2025-05-23 18:38   \n",
       "3  20250523_0004  2025-05-23 18:33   \n",
       "4  20250523_0005  2025-05-23 18:24   \n",
       "\n",
       "                                              title  \\\n",
       "0              [마켓인]모태펀드 존속 불확실성 해소될까…이재명 공약에 업계 주목   \n",
       "1  [단독] 카카오페이, 2500만 회원 쓱·스마일페이 품나…간편결제 시장 빅3 경쟁 후끈   \n",
       "2                        키스트론, 일반 청약 흥행…증거금 6조원 모았다   \n",
       "3                     골드만삭스 차기 CEO, 이재용·김병주·이창용 만났다   \n",
       "4                  흔들리는 미국…달러 패권 붕괴에 '스테이블코인' 선택한 美   \n",
       "\n",
       "                                             article  press  \\\n",
       "0  2035년 종료 앞둬, 존속 공약에 기대감\\n창업 초기자금 공백 완화 가능성에 업계...   이데일리   \n",
       "1  매각가 5000억 안팎 달할듯\\n결제시장 내 입지강화 포석\\n카카오페이 [사진 = ...   매일경제   \n",
       "2  5월22~23일 청약 진행, 경쟁률 총2166대1\\n상장 후 예상 시가총개 643억...  머니투데이   \n",
       "3  [사진=연합뉴스]\\n세계 2위 투자은행(IB)인 골드만삭스의 사장 겸 최고운영책임자...   매일경제   \n",
       "4  /사진=게티이미지뱅크\\n미국 정부가 달러의 기축통화 지위를 위협하는 금에 대응하기 ...  머니투데이   \n",
       "\n",
       "                                                 url  \\\n",
       "0  https://n.news.naver.com/mnews/article/018/000...   \n",
       "1  https://n.news.naver.com/mnews/article/009/000...   \n",
       "2  https://n.news.naver.com/mnews/article/008/000...   \n",
       "3  https://n.news.naver.com/mnews/article/009/000...   \n",
       "4  https://n.news.naver.com/mnews/article/008/000...   \n",
       "\n",
       "                                               image  \n",
       "0  https://imgnews.pstatic.net/image/018/2025/05/...  \n",
       "1  https://imgnews.pstatic.net/image/009/2025/05/...  \n",
       "2  https://imgnews.pstatic.net/image/008/2025/05/...  \n",
       "3  https://imgnews.pstatic.net/image/009/2025/05/...  \n",
       "4  https://imgnews.pstatic.net/image/008/2025/05/...  "
      ]
     },
     "execution_count": 45,
     "metadata": {},
     "output_type": "execute_result"
    }
   ],
   "source": [
    "news_df.head()"
   ]
  },
  {
   "cell_type": "code",
   "execution_count": 6,
   "id": "1f73a92e",
   "metadata": {},
   "outputs": [],
   "source": [
    "# 기업명 및 유사도 추출 개수 설정\n",
    "target_company = '삼성전자'\n",
    "top_n = 5"
   ]
  },
  {
   "cell_type": "code",
   "execution_count": 78,
   "id": "2d65f66f",
   "metadata": {},
   "outputs": [],
   "source": [
    "# 날짜 형식 변환\n",
    "news_df['wdate'] = pd.to_datetime(news_df['wdate'])"
   ]
  },
  {
   "cell_type": "code",
   "execution_count": 79,
   "id": "96910370",
   "metadata": {},
   "outputs": [],
   "source": [
    "# 기준 뉴스 선택 (해당 기업 포함 + 가장 최신 기사 1건)\n",
    "filtered_df = news_df[\n",
    "    (news_df['title'].str.contains(target_company, na=False)) &\n",
    "    (news_df['wdate'].dt.year == 2025)\n",
    "].sort_values('wdate', ascending=False)\n",
    "\n",
    "if not filtered_df.empty:\n",
    "    target_news = filtered_df.iloc[0]\n",
    "    target_content = target_news['article']\n",
    "    target_date = target_news['wdate']\n",
    "else:\n",
    "    print(f\"[주의] '{target_company}' 관련 2025년 뉴스가 없습니다.\")\n",
    "    target_news = None\n",
    "    target_content = \"\"\n",
    "    target_date = pd.NaT"
   ]
  },
  {
   "cell_type": "code",
   "execution_count": 80,
   "id": "5c2116f3",
   "metadata": {},
   "outputs": [
    {
     "data": {
      "text/plain": [
       "'https://n.news.naver.com/mnews/article/011/0004487837'"
      ]
     },
     "execution_count": 80,
     "metadata": {},
     "output_type": "execute_result"
    }
   ],
   "source": [
    "target_news['url']"
   ]
  },
  {
   "cell_type": "code",
   "execution_count": null,
   "id": "4bf9f893",
   "metadata": {},
   "outputs": [],
   "source": [
    "# 비교군 설정\n",
    "# - 2022~2024년\n",
    "# - 최소 6개월 전\n",
    "# - 기업명 포함\n",
    "\n",
    "min_gap_days = 180  # 6개월 기준\n",
    "\n",
    "compare_df = news_df[\n",
    "    (news_df['wdate'].dt.year >= 2022) &\n",
    "    (news_df['wdate'].dt.year <= 2024) &\n",
    "    ((news_df['title'].str.contains(target_company, na=False)) |\n",
    "     (news_df['article'].str.contains(target_company, na=False))) &\n",
    "    (news_df['wdate'] <= target_date - timedelta(days=min_gap_days))\n",
    "].reset_index(drop=True)"
   ]
  },
  {
   "cell_type": "code",
   "execution_count": 82,
   "id": "9077d9f7",
   "metadata": {},
   "outputs": [],
   "source": [
    "# 유사 뉴스 찾기\n",
    "def find_similar_news(model_name):\n",
    "    print(f'\\n모델: {model_name}')\n",
    "    model = SentenceTransformer(model_name)\n",
    "\n",
    "    start = time()\n",
    "    target_embedding = model.encode([target_content])\n",
    "    compare_embeddings = model.encode(compare_df['article'].tolist(), show_progress_bar=True)\n",
    "    print(f'임베딩 완료: {time() - start:.2f}초')\n",
    "\n",
    "    similarities = cosine_similarity(target_embedding, compare_embeddings)[0]\n",
    "    compare_df['similarity'] = similarities\n",
    "    compare_df['wdate'] = pd.to_datetime(compare_df['wdate'], errors='coerce')\n",
    "    compare_df_sorted = compare_df.sort_values(by='similarity', ascending=False).dropna(subset=['wdate'])\n",
    "\n",
    "    # 기준 뉴스 날짜\n",
    "    target_date = target_news['wdate']\n",
    "    selected = []\n",
    "\n",
    "    for _, row in compare_df_sorted.iterrows():\n",
    "        candidate_date = row['wdate']\n",
    "\n",
    "        # 조건 1: 기준 기사와 시차 ≥ 6개월\n",
    "        if abs((target_date - candidate_date).days) < 180:\n",
    "            continue\n",
    "\n",
    "        # 조건 2: 기존 선택 뉴스들과 시차 ≥ 3개월\n",
    "        if any(abs((candidate_date - sel['wdate']).days) < 90 for sel in selected):\n",
    "            continue\n",
    "\n",
    "        selected.append(row)\n",
    "        if len(selected) == top_n:\n",
    "            break\n",
    "\n",
    "    result = pd.DataFrame(selected)\n",
    "    return result"
   ]
  },
  {
   "cell_type": "code",
   "execution_count": 83,
   "id": "4f1be219",
   "metadata": {},
   "outputs": [
    {
     "name": "stdout",
     "output_type": "stream",
     "text": [
      "\n",
      "모델: jhgan/ko-sbert-sts\n"
     ]
    },
    {
     "data": {
      "application/vnd.jupyter.widget-view+json": {
       "model_id": "6c0ca9e9b44640e08442913d798659ea",
       "version_major": 2,
       "version_minor": 0
      },
      "text/plain": [
       "Batches:   0%|          | 0/110 [00:00<?, ?it/s]"
      ]
     },
     "metadata": {},
     "output_type": "display_data"
    },
    {
     "name": "stdout",
     "output_type": "stream",
     "text": [
      "임베딩 완료: 48.68초\n",
      "\n",
      "모델: snunlp/KR-SBERT-V40K-klueNLI-augSTS\n"
     ]
    },
    {
     "data": {
      "application/vnd.jupyter.widget-view+json": {
       "model_id": "0566bd2b64794604bf93e41d0a992053",
       "version_major": 2,
       "version_minor": 0
      },
      "text/plain": [
       "Batches:   0%|          | 0/110 [00:00<?, ?it/s]"
      ]
     },
     "metadata": {},
     "output_type": "display_data"
    },
    {
     "name": "stdout",
     "output_type": "stream",
     "text": [
      "임베딩 완료: 48.93초\n"
     ]
    }
   ],
   "source": [
    "# 실행 1\n",
    "result1 = find_similar_news('jhgan/ko-sbert-sts')\n",
    "\n",
    "# 실행 2\n",
    "result2 = find_similar_news('snunlp/KR-SBERT-V40K-klueNLI-augSTS')"
   ]
  },
  {
   "cell_type": "code",
   "execution_count": null,
   "id": "2f666032",
   "metadata": {},
   "outputs": [
    {
     "name": "stdout",
     "output_type": "stream",
     "text": [
      "\n",
      "Top-5 유사 뉴스 (jhgan 모델)\n",
      "1412. [2024-07-08] '12만 전자' 가나…증권가, 삼전 호실적에 목표가 줄상향 (유사도: 0.7760)\n",
      "url: https://n.news.naver.com/mnews/article/011/0004363260\n",
      "\n",
      "2384. [2024-04-08] 증권가, 삼성전자 실적개선·HBM 순항 낙관…'11만전자' 전망도 (유사도: 0.7417)\n",
      "url: https://n.news.naver.com/mnews/article/001/0014617118\n",
      "\n",
      "3423. [2024-01-08] 반도체·배터리·바이오·방산, 연초 증시 주도…숨 고르는 코스피 다시 뛸까 (유사도: 0.6962)\n",
      "url: https://n.news.naver.com/mnews/article/015/0004934113\n",
      "\n",
      "295. [2024-11-01] 삼성전자 \"HBM 퀄테스트 진전\"…증권가는 신중한 반응 (유사도: 0.6901)\n",
      "url: https://n.news.naver.com/mnews/article/015/0005051642\n",
      "\n",
      "\n",
      "Top-5 유사 뉴스 (snunlp 모델)\n",
      "2626. [2024-03-21] 삼성전자, 우려가 기대로 전환…밸류업 구간 진입-KB (유사도: 0.7932)\n",
      "url: https://n.news.naver.com/mnews/article/008/0005014825\n",
      "\n",
      "299. [2024-11-01] \"삼성전자, 반도체 업종 최선호주\"…엔비디아향 공급 기대-키움 (유사도: 0.7748)\n",
      "url: https://n.news.naver.com/mnews/article/008/0005108582\n",
      "\n",
      "1202. [2024-08-01] KB證 \"삼성전자, 하반기엔 더 좋아…'13만전자' 간다\" (유사도: 0.7730)\n",
      "url: https://n.news.naver.com/mnews/article/015/0005016800\n",
      "\n"
     ]
    }
   ],
   "source": [
    "# 결과 확인\n",
    "print('\\nTop-5 유사 뉴스 (jhgan 모델)')\n",
    "for i, row in result1.head(5).iterrows():\n",
    "    print(f\"{i+1}. [{row['wdate'].date()}] {row['title']} (유사도: {row['similarity']:.4f})\")\n",
    "    print(f'url: {row['url']}')\n",
    "    print()\n",
    "\n",
    "print('\\nTop-5 유사 뉴스 (snunlp 모델)')\n",
    "for i, row in result2.head(5).iterrows():\n",
    "    print(f\"{i+1}. [{row['wdate'].date()}] {row['title']} (유사도: {row['similarity']:.4f})\")\n",
    "    print(f'url: {row['url']}')\n",
    "    print()"
   ]
  },
  {
   "cell_type": "markdown",
   "id": "54bedbee",
   "metadata": {},
   "source": [
    "# 중요도 추가된 네이버 뉴스로 유사도 추출"
   ]
  },
  {
   "cell_type": "markdown",
   "id": "3dceca9b",
   "metadata": {},
   "source": [
    "## 기존 방식"
   ]
  },
  {
   "cell_type": "code",
   "execution_count": 57,
   "id": "f1be7f92",
   "metadata": {},
   "outputs": [],
   "source": [
    "# 데이터 불러오기\n",
    "impact_df = pd.read_csv('/Users/han-yeeun/final/db/news_2023_2025_with_stock_impact.csv')"
   ]
  },
  {
   "cell_type": "code",
   "execution_count": 58,
   "id": "b79430c9",
   "metadata": {},
   "outputs": [],
   "source": [
    "# 기업명, 유사도 추출 개수 설정\n",
    "target_company = '삼성전자'\n",
    "top_n = 5"
   ]
  },
  {
   "cell_type": "code",
   "execution_count": 59,
   "id": "78c3d281",
   "metadata": {},
   "outputs": [],
   "source": [
    "# 날짜 형식 변환\n",
    "impact_df['wdate'] = pd.to_datetime(impact_df['wdate'])"
   ]
  },
  {
   "cell_type": "code",
   "execution_count": 60,
   "id": "19498dcd",
   "metadata": {},
   "outputs": [],
   "source": [
    "# 기준 뉴스 선택 (해당 기업 포함 + 가장 최신 기사 1건, 중요도 포함)\n",
    "filtered_df = impact_df[\n",
    "    (impact_df['title'].str.contains(target_company, na=False)) &\n",
    "    (impact_df['wdate'].dt.year == 2025)\n",
    "][['wdate', 'title', 'article', 'url', 'impact_score']].sort_values('wdate', ascending=False)\n",
    "\n",
    "if not filtered_df.empty:\n",
    "    target_news = filtered_df.iloc[0]\n",
    "    target_content = target_news['article']\n",
    "    target_date = target_news['wdate']\n",
    "else:\n",
    "    print(f\"[주의] '{target_company}' 관련 2025년 뉴스가 없습니다.\")\n",
    "    target_news = None\n",
    "    target_content = \"\"\n",
    "    target_date = pd.NaT"
   ]
  },
  {
   "cell_type": "code",
   "execution_count": 61,
   "id": "06c5e49b",
   "metadata": {},
   "outputs": [
    {
     "data": {
      "text/plain": [
       "'https://n.news.naver.com/mnews/article/011/0004487837'"
      ]
     },
     "execution_count": 61,
     "metadata": {},
     "output_type": "execute_result"
    }
   ],
   "source": [
    "target_news['url']"
   ]
  },
  {
   "cell_type": "code",
   "execution_count": null,
   "id": "64bcf124",
   "metadata": {},
   "outputs": [],
   "source": [
    "# 비교군 설정\n",
    "# - 2022~2024년\n",
    "# - 최소 6개월 전\n",
    "# - 기업명 포함\n",
    "\n",
    "min_gap_days = 180  # 6개월 기준\n",
    "\n",
    "compare_df = impact_df[\n",
    "    (impact_df['wdate'].dt.year >= 2022) &\n",
    "    (impact_df['wdate'].dt.year <= 2024) &\n",
    "    ((impact_df['title'].str.contains(target_company, na=False)) |\n",
    "     (impact_df['article'].str.contains(target_company, na=False))) &\n",
    "    (impact_df['wdate'] <= target_date - timedelta(days=min_gap_days))\n",
    "][['wdate', 'title', 'article', 'url', 'impact_score']].reset_index(drop=True)"
   ]
  },
  {
   "cell_type": "code",
   "execution_count": null,
   "id": "08bc8f2d",
   "metadata": {},
   "outputs": [],
   "source": [
    "# 과거 유사 뉴스 찾기\n",
    "def find_similar_news(model_name):\n",
    "    print(f'\\n모델: {model_name}')\n",
    "    model = SentenceTransformer(model_name)\n",
    "\n",
    "    # 기준 뉴스 임베딩\n",
    "    start = time()\n",
    "    target_embedding = model.encode([target_content])\n",
    "\n",
    "    # 비교 뉴스 임베딩\n",
    "    compare_embeddings = model.encode(compare_df['article'].tolist(), show_progress_bar=True)\n",
    "    print(f'임베딩 완료: {time() - start:.2f}초')\n",
    "\n",
    "    # 유사도 계산\n",
    "    similarities = cosine_similarity(target_embedding, compare_embeddings)[0]\n",
    "    compare_df['similarity'] = similarities\n",
    "    compare_df['wdate'] = pd.to_datetime(compare_df['wdate'], errors='coerce')\n",
    "\n",
    "    # 유사도 기준 정렬\n",
    "    compare_df_sorted = compare_df.sort_values(by='similarity', ascending=False).dropna(subset=['wdate'])\n",
    "\n",
    "    # 기준 뉴스 날짜\n",
    "    target_date = target_news['wdate']\n",
    "    selected = []\n",
    "\n",
    "    for _, row in compare_df_sorted.iterrows():\n",
    "        candidate_date = row['wdate']\n",
    "\n",
    "        # 조건 1: 기준 뉴스와 시차 ≥ 6개월\n",
    "        if abs((target_date - candidate_date).days) < 180:\n",
    "            continue\n",
    "\n",
    "        # 조건 2: 기존 선택 뉴스들과 시차 ≥ 3개월\n",
    "        if any(abs((candidate_date - sel['wdate']).days) < 90 for sel in selected):\n",
    "            continue\n",
    "\n",
    "        selected.append(row)\n",
    "        if len(selected) == top_n:\n",
    "            break\n",
    "\n",
    "    result = pd.DataFrame(selected)\n",
    "    return result"
   ]
  },
  {
   "cell_type": "code",
   "execution_count": 64,
   "id": "c29e85da",
   "metadata": {},
   "outputs": [
    {
     "name": "stdout",
     "output_type": "stream",
     "text": [
      "\n",
      "모델: jhgan/ko-sbert-sts\n"
     ]
    },
    {
     "data": {
      "application/vnd.jupyter.widget-view+json": {
       "model_id": "c2b2ee287bd74c69a89cdf7b6bb62031",
       "version_major": 2,
       "version_minor": 0
      },
      "text/plain": [
       "Batches:   0%|          | 0/110 [00:00<?, ?it/s]"
      ]
     },
     "metadata": {},
     "output_type": "display_data"
    },
    {
     "name": "stdout",
     "output_type": "stream",
     "text": [
      "임베딩 완료: 48.18초\n",
      "\n",
      "모델: snunlp/KR-SBERT-V40K-klueNLI-augSTS\n"
     ]
    },
    {
     "data": {
      "application/vnd.jupyter.widget-view+json": {
       "model_id": "c1f8b3233c1244448ab5516d0e614247",
       "version_major": 2,
       "version_minor": 0
      },
      "text/plain": [
       "Batches:   0%|          | 0/110 [00:00<?, ?it/s]"
      ]
     },
     "metadata": {},
     "output_type": "display_data"
    },
    {
     "name": "stdout",
     "output_type": "stream",
     "text": [
      "임베딩 완료: 48.40초\n"
     ]
    }
   ],
   "source": [
    "# 실행 1\n",
    "result1 = find_similar_news('jhgan/ko-sbert-sts')\n",
    "\n",
    "# 실행 2\n",
    "result2 = find_similar_news('snunlp/KR-SBERT-V40K-klueNLI-augSTS')"
   ]
  },
  {
   "cell_type": "code",
   "execution_count": 65,
   "id": "b7a9787e",
   "metadata": {},
   "outputs": [
    {
     "name": "stdout",
     "output_type": "stream",
     "text": [
      "\n",
      "Top-5 유사 뉴스 (jhgan 모델)\n",
      "1404. [2024-07-08] '12만 전자' 가나…증권가, 삼전 호실적에 목표가 줄상향 (유사도: 0.7760) (중요도: 10.3400)\n",
      "url: https://n.news.naver.com/mnews/article/011/0004363260\n",
      "\n",
      "2370. [2024-04-08] 증권가, 삼성전자 실적개선·HBM 순항 낙관…'11만전자' 전망도 (유사도: 0.7417) (중요도: 10.3300)\n",
      "url: https://n.news.naver.com/mnews/article/001/0014617118\n",
      "\n",
      "3400. [2024-01-08] 반도체·배터리·바이오·방산, 연초 증시 주도…숨 고르는 코스피 다시 뛸까 (유사도: 0.6962) (중요도: 14.9000)\n",
      "url: https://n.news.naver.com/mnews/article/015/0004934113\n",
      "\n",
      "293. [2024-11-01] 삼성전자 \"HBM 퀄테스트 진전\"…증권가는 신중한 반응 (유사도: 0.6901) (중요도: 15.8200)\n",
      "url: https://n.news.naver.com/mnews/article/015/0005051642\n",
      "\n",
      "\n",
      "Top-5 유사 뉴스 (snunlp 모델)\n",
      "2611. [2024-03-21] 삼성전자, 우려가 기대로 전환…밸류업 구간 진입-KB (유사도: 0.7932) (중요도: 16.5200)\n",
      "url: https://n.news.naver.com/mnews/article/008/0005014825\n",
      "\n",
      "297. [2024-11-01] \"삼성전자, 반도체 업종 최선호주\"…엔비디아향 공급 기대-키움 (유사도: 0.7748) (중요도: 11.4500)\n",
      "url: https://n.news.naver.com/mnews/article/008/0005108582\n",
      "\n",
      "1196. [2024-08-01] KB證 \"삼성전자, 하반기엔 더 좋아…'13만전자' 간다\" (유사도: 0.7730) (중요도: 18.6500)\n",
      "url: https://n.news.naver.com/mnews/article/015/0005016800\n",
      "\n"
     ]
    }
   ],
   "source": [
    "# 결과 확인\n",
    "print('\\nTop-5 유사 뉴스 (jhgan 모델)')\n",
    "for i, row in result1.head(5).iterrows():\n",
    "    print(f\"{i+1}. [{row['wdate'].date()}] {row['title']} (유사도: {row['similarity']:.4f}) (중요도: {row['impact_score']:.4f})\")\n",
    "    print(f'url: {row['url']}')\n",
    "    print()\n",
    "\n",
    "print('\\nTop-5 유사 뉴스 (snunlp 모델)')\n",
    "for i, row in result2.head(5).iterrows():\n",
    "    print(f\"{i+1}. [{row['wdate'].date()}] {row['title']} (유사도: {row['similarity']:.4f}) (중요도: {row['impact_score']:.4f})\")\n",
    "    print(f'url: {row['url']}')\n",
    "    print()"
   ]
  },
  {
   "cell_type": "code",
   "execution_count": 67,
   "id": "049beae4",
   "metadata": {},
   "outputs": [
    {
     "name": "stdout",
     "output_type": "stream",
     "text": [
      "count    35198.000000\n",
      "mean        18.486186\n",
      "std         13.214733\n",
      "min          0.000000\n",
      "25%         10.310000\n",
      "50%         15.100000\n",
      "75%         22.970000\n",
      "max        209.450000\n",
      "Name: impact_score, dtype: float64\n"
     ]
    }
   ],
   "source": [
    "print(impact_df['impact_score'].describe())"
   ]
  },
  {
   "cell_type": "code",
   "execution_count": 66,
   "id": "aeb8c6b1",
   "metadata": {},
   "outputs": [
    {
     "data": {
      "image/png": "[encoded data removed]",
      "text/plain": [
       "<Figure size 800x500 with 1 Axes>"
      ]
     },
     "metadata": {},
     "output_type": "display_data"
    }
   ],
   "source": [
    "import matplotlib.pyplot as plt\n",
    "\n",
    "plt.figure(figsize=(8, 5))\n",
    "plt.hist(impact_df['impact_score'].dropna(), bins=30, edgecolor='black')\n",
    "plt.title('Impact Score Distribution')\n",
    "plt.xlabel('Impact Score')\n",
    "plt.ylabel('Frequency')\n",
    "plt.grid(True)\n",
    "plt.show()"
   ]
  },
  {
   "cell_type": "markdown",
   "id": "facd188d",
   "metadata": {},
   "source": [
    "## 유사도 × 중요도"
   ]
  },
  {
   "cell_type": "code",
   "execution_count": 38,
   "id": "5d9ad023",
   "metadata": {},
   "outputs": [],
   "source": [
    "# 데이터 불러오기\n",
    "impact_df = pd.read_csv('/Users/han-yeeun/final/db/news_2023_2025_with_stock_impact.csv')"
   ]
  },
  {
   "cell_type": "code",
   "execution_count": 39,
   "id": "87de76ee",
   "metadata": {},
   "outputs": [],
   "source": [
    "# 기업명, 유사도 추출 개수 설정\n",
    "target_company = '삼성전자'\n",
    "top_n = 5"
   ]
  },
  {
   "cell_type": "code",
   "execution_count": 40,
   "id": "3257ead5",
   "metadata": {},
   "outputs": [],
   "source": [
    "# 날짜 형식 변환\n",
    "impact_df['wdate'] = pd.to_datetime(impact_df['wdate'])"
   ]
  },
  {
   "cell_type": "code",
   "execution_count": 41,
   "id": "f0fb3d44",
   "metadata": {},
   "outputs": [],
   "source": [
    "# 기준 뉴스 선택 (해당 기업 포함 + 가장 최신 기사 1건, 중요도 포함)\n",
    "filtered_df = impact_df[\n",
    "    (impact_df['title'].str.contains(target_company, na=False)) &\n",
    "    (impact_df['wdate'].dt.year == 2025)\n",
    "][['wdate', 'title', 'article', 'url', 'impact_score']].sort_values('wdate', ascending=False)\n",
    "\n",
    "if not filtered_df.empty:\n",
    "    target_news = filtered_df.iloc[0]\n",
    "    target_content = target_news['article']\n",
    "    target_date = target_news['wdate']\n",
    "else:\n",
    "    print(f\"[주의] '{target_company}' 관련 2025년 뉴스가 없습니다.\")\n",
    "    target_news = None\n",
    "    target_content = \"\"\n",
    "    target_date = pd.NaT"
   ]
  },
  {
   "cell_type": "code",
   "execution_count": null,
   "id": "d1400642",
   "metadata": {},
   "outputs": [],
   "source": [
    "# 비교군 설정\n",
    "# - 2022~2024년\n",
    "# - 최소 6개월 전\n",
    "# - 기업명 포함\n",
    "\n",
    "min_gap_days = 180  # 6개월 기준\n",
    "\n",
    "compare_df = impact_df[\n",
    "    (impact_df['wdate'].dt.year >= 2022) &\n",
    "    (impact_df['wdate'].dt.year <= 2024) &\n",
    "    ((impact_df['title'].str.contains(target_company, na=False)) |\n",
    "     (impact_df['article'].str.contains(target_company, na=False))) &\n",
    "    (impact_df['wdate'] <= target_date - timedelta(days=min_gap_days))\n",
    "][['wdate', 'title', 'article', 'url', 'impact_score']].reset_index(drop=True)"
   ]
  },
  {
   "cell_type": "code",
   "execution_count": 46,
   "id": "00d1015d",
   "metadata": {},
   "outputs": [],
   "source": [
    "def find_similar_news(model_name):\n",
    "    print(f'\\n모델: {model_name}')\n",
    "    model = SentenceTransformer(model_name)\n",
    "\n",
    "    # 기준 뉴스 임베딩\n",
    "    start = time()\n",
    "    target_embedding = model.encode([target_content])\n",
    "\n",
    "    # 비교 뉴스 임베딩\n",
    "    compare_embeddings = model.encode(compare_df['article'].tolist(), show_progress_bar=True)\n",
    "    print(f'임베딩 완료: {time() - start:.2f}초')\n",
    "\n",
    "    # 유사도 계산\n",
    "    similarities = cosine_similarity(target_embedding, compare_embeddings)[0]\n",
    "    compare_df['similarity'] = similarities\n",
    "    compare_df['wdate'] = pd.to_datetime(compare_df['wdate'], errors='coerce')\n",
    "\n",
    "    # 중요도 정규화 (impact_score → impact_score_norm)\n",
    "    if compare_df['impact_score'].max() > 1:\n",
    "        scaler = MinMaxScaler()\n",
    "        compare_df['impact_score_norm'] = scaler.fit_transform(compare_df[['impact_score']])\n",
    "    else:\n",
    "        compare_df['impact_score_norm'] = compare_df['impact_score']  # 이미 정규화된 경우\n",
    "\n",
    "    # 곱 연산 기반 유사도 × 중요도 점수\n",
    "    compare_df['adjusted_score'] = compare_df['similarity'] * compare_df['impact_score_norm']\n",
    "\n",
    "    # 점수 높은 순 정렬\n",
    "    compare_df_sorted = compare_df.sort_values(by='adjusted_score', ascending=False).dropna(subset=['wdate'])\n",
    "\n",
    "    # 기준 뉴스 날짜\n",
    "    target_date = target_news['wdate']\n",
    "    selected = []\n",
    "\n",
    "    for _, row in compare_df_sorted.iterrows():\n",
    "        candidate_date = row['wdate']\n",
    "\n",
    "        # 조건 1: 기준 뉴스와 시차 ≥ 6개월\n",
    "        if abs((target_date - candidate_date).days) < 180:\n",
    "            continue\n",
    "\n",
    "        # 조건 2: 기존 선택 뉴스들과 시차 ≥ 3개월\n",
    "        if any(abs((candidate_date - sel['wdate']).days) < 90 for sel in selected):\n",
    "            continue\n",
    "\n",
    "        selected.append(row)\n",
    "        if len(selected) == top_n:\n",
    "            break\n",
    "\n",
    "    result = pd.DataFrame(selected)\n",
    "    return result"
   ]
  },
  {
   "cell_type": "code",
   "execution_count": 47,
   "id": "6f70b09a",
   "metadata": {},
   "outputs": [
    {
     "name": "stdout",
     "output_type": "stream",
     "text": [
      "\n",
      "모델: jhgan/ko-sbert-sts\n"
     ]
    },
    {
     "data": {
      "application/vnd.jupyter.widget-view+json": {
       "model_id": "37c2848574e340c38417d520dec88579",
       "version_major": 2,
       "version_minor": 0
      },
      "text/plain": [
       "Batches:   0%|          | 0/110 [00:00<?, ?it/s]"
      ]
     },
     "metadata": {},
     "output_type": "display_data"
    },
    {
     "name": "stdout",
     "output_type": "stream",
     "text": [
      "임베딩 완료: 48.59초\n",
      "\n",
      "모델: snunlp/KR-SBERT-V40K-klueNLI-augSTS\n"
     ]
    },
    {
     "data": {
      "application/vnd.jupyter.widget-view+json": {
       "model_id": "c65ea9a0de1e4c08adc081c3c56f7550",
       "version_major": 2,
       "version_minor": 0
      },
      "text/plain": [
       "Batches:   0%|          | 0/110 [00:00<?, ?it/s]"
      ]
     },
     "metadata": {},
     "output_type": "display_data"
    },
    {
     "name": "stdout",
     "output_type": "stream",
     "text": [
      "임베딩 완료: 48.04초\n"
     ]
    }
   ],
   "source": [
    "# 실행 1\n",
    "result1 = find_similar_news('jhgan/ko-sbert-sts')\n",
    "\n",
    "# 실행 2\n",
    "result2 = find_similar_news('snunlp/KR-SBERT-V40K-klueNLI-augSTS')"
   ]
  },
  {
   "cell_type": "code",
   "execution_count": 48,
   "id": "f87f16a5",
   "metadata": {},
   "outputs": [
    {
     "name": "stdout",
     "output_type": "stream",
     "text": [
      "\n",
      "Top-5 유사 뉴스 (jhgan 모델)\n",
      "2831. [2024-03-04] \"HBM장비 관련주 추가 모멘텀 기대…한미반도체 등 수혜\"\n",
      "   유사도: 0.6685, 중요도: 89.63, 유사도×중요도: 0.5919\n",
      "   url: https://n.news.naver.com/mnews/article/015/0004955092\n",
      "\n",
      "697. [2024-09-24] 배당·자사주 소각·흑자기업만 포함… \"추가상승 여력 충분\"[베일 벗은 '밸류업 지수']\n",
      "   유사도: 0.5492, 중요도: 100.99, 유사도×중요도: 0.5492\n",
      "   url: https://n.news.naver.com/mnews/article/014/0005244808\n",
      "\n",
      "1747. [2024-06-09] AI 수혜주로 돈몰렸다…삼성전자·LG전자 찜\n",
      "   유사도: 0.4770, 중요도: 86.01, 유사도×중요도: 0.4048\n",
      "   url: https://n.news.naver.com/mnews/article/015/0004994612\n",
      "\n",
      "\n",
      "Top-5 유사 뉴스 (snunlp 모델)\n",
      "2831. [2024-03-04] \"HBM장비 관련주 추가 모멘텀 기대…한미반도체 등 수혜\"\n",
      "   유사도: 0.7017, 중요도: 89.63, 유사도×중요도: 0.6212\n",
      "   url: https://n.news.naver.com/mnews/article/015/0004955092\n",
      "\n",
      "697. [2024-09-24] 배당·자사주 소각·흑자기업만 포함… \"추가상승 여력 충분\"[베일 벗은 '밸류업 지수']\n",
      "   유사도: 0.5434, 중요도: 100.99, 유사도×중요도: 0.5434\n",
      "   url: https://n.news.naver.com/mnews/article/014/0005244808\n",
      "\n",
      "1747. [2024-06-09] AI 수혜주로 돈몰렸다…삼성전자·LG전자 찜\n",
      "   유사도: 0.6198, 중요도: 86.01, 유사도×중요도: 0.5260\n",
      "   url: https://n.news.naver.com/mnews/article/015/0004994612\n",
      "\n"
     ]
    }
   ],
   "source": [
    "# 결과 확인 (곱연산 점수 기반)\n",
    "print('\\nTop-5 유사 뉴스 (jhgan 모델)')\n",
    "for i, row in result1.head(5).iterrows():\n",
    "    print(f\"{i+1}. [{row['wdate'].date()}] {row['title']}\")\n",
    "    print(f\"   유사도: {row['similarity']:.4f}, 중요도: {row['impact_score']:.2f}, 유사도×중요도: {row['adjusted_score']:.4f}\")\n",
    "    print(f\"   url: {row.get('url', 'N/A')}\")\n",
    "    print()\n",
    "\n",
    "print('\\nTop-5 유사 뉴스 (snunlp 모델)')\n",
    "for i, row in result2.head(5).iterrows():\n",
    "    print(f\"{i+1}. [{row['wdate'].date()}] {row['title']}\")\n",
    "    print(f\"   유사도: {row['similarity']:.4f}, 중요도: {row['impact_score']:.2f}, 유사도×중요도: {row['adjusted_score']:.4f}\")\n",
    "    print(f\"   url: {row.get('url', 'N/A')}\")\n",
    "    print()"
   ]
  },
  {
   "cell_type": "markdown",
   "id": "22983dad",
   "metadata": {},
   "source": [
    "## 유사도 × 중요도로 가중합 점수 계산\n",
    "\n",
    "점수=α⋅유사도+(1−α)⋅중요도\n",
    "- 한쪽이 낮아도 다른 쪽이 보완해줄 수 있음\n",
    "    - e.g. α=0.7이라면, 유사도가 70%, 중요도가 30%의 비중을 차지함\n",
    "    - 유사도는 0.75인데 중요도는 0.2 → 점수는 약 0.585가 되는 것"
   ]
  },
  {
   "cell_type": "code",
   "execution_count": 77,
   "id": "60c198ae",
   "metadata": {},
   "outputs": [],
   "source": [
    "# 데이터 불러오기\n",
    "impact_df = pd.read_csv('/Users/han-yeeun/final/db/news_2023_2025_with_stock_impact.csv')"
   ]
  },
  {
   "cell_type": "code",
   "execution_count": 78,
   "id": "0a211ec0",
   "metadata": {},
   "outputs": [],
   "source": [
    "# 기업명, 유사도 추출 개수 설정\n",
    "target_company = '삼성전자'\n",
    "top_n = 5"
   ]
  },
  {
   "cell_type": "code",
   "execution_count": 79,
   "id": "f1ac22db",
   "metadata": {},
   "outputs": [],
   "source": [
    "# 날짜 형식 변환\n",
    "impact_df['wdate'] = pd.to_datetime(impact_df['wdate'])"
   ]
  },
  {
   "cell_type": "code",
   "execution_count": 80,
   "id": "c3a04170",
   "metadata": {},
   "outputs": [],
   "source": [
    "# 기준 뉴스 선택 (해당 기업 포함 + 가장 최신 기사 1건, 중요도 포함)\n",
    "filtered_df = impact_df[\n",
    "    (impact_df['title'].str.contains(target_company, na=False)) &\n",
    "    (impact_df['wdate'].dt.year == 2025)\n",
    "][['wdate', 'title', 'article', 'url', 'impact_score']].sort_values('wdate', ascending=False)\n",
    "\n",
    "if not filtered_df.empty:\n",
    "    target_news = filtered_df.iloc[0]\n",
    "    target_content = target_news['article']\n",
    "    target_date = target_news['wdate']\n",
    "else:\n",
    "    print(f\"[주의] '{target_company}' 관련 2025년 뉴스가 없습니다.\")\n",
    "    target_news = None\n",
    "    target_content = \"\"\n",
    "    target_date = pd.NaT"
   ]
  },
  {
   "cell_type": "code",
   "execution_count": 81,
   "id": "cb4d3fe3",
   "metadata": {},
   "outputs": [],
   "source": [
    "# 비교군 설정\n",
    "# - 2022~2024년\n",
    "# - 최소 6개월 전\n",
    "# - 기업명 포함\n",
    "\n",
    "min_gap_days = 180  # 6개월 기준\n",
    "\n",
    "compare_df = impact_df[\n",
    "    (impact_df['wdate'].dt.year >= 2022) &\n",
    "    (impact_df['wdate'].dt.year <= 2024) &\n",
    "    ((impact_df['title'].str.contains(target_company, na=False)) |\n",
    "     (impact_df['article'].str.contains(target_company, na=False))) &\n",
    "    (impact_df['wdate'] <= target_date - timedelta(days=min_gap_days))\n",
    "][['wdate', 'title', 'article', 'url', 'impact_score']].reset_index(drop=True)"
   ]
  },
  {
   "cell_type": "code",
   "execution_count": 74,
   "id": "f4961127",
   "metadata": {},
   "outputs": [],
   "source": [
    "# 유사도 + 중요도 가중합 기반 유사 뉴스 찾기\n",
    "def find_similar_news(model_name):\n",
    "    print(f'\\n모델: {model_name}')\n",
    "    model = SentenceTransformer(model_name)\n",
    "\n",
    "    # 기준 뉴스 임베딩\n",
    "    start = time()\n",
    "    target_embedding = model.encode([target_content])\n",
    "    \n",
    "    # 비교 뉴스 임베딩\n",
    "    compare_embeddings = model.encode(compare_df['article'].tolist(), show_progress_bar=True)\n",
    "    print(f'임베딩 완료: {time() - start:.2f}초')\n",
    "\n",
    "    # 유사도 계산\n",
    "    similarities = cosine_similarity(target_embedding, compare_embeddings)[0]\n",
    "    compare_df['similarity'] = similarities\n",
    "    compare_df['wdate'] = pd.to_datetime(compare_df['wdate'], errors='coerce')\n",
    "\n",
    "    # 중요도 로그 변환 + 정규화 (impact_score → impact_score_log → impact_score_norm)\n",
    "    compare_df['impact_score_log'] = np.log1p(compare_df['impact_score'])  # log(1 + x)\n",
    "    scaler = MinMaxScaler()\n",
    "    compare_df['impact_score_norm'] = scaler.fit_transform(compare_df[['impact_score_log']])\n",
    "\n",
    "    # 가중합 점수 계산 (alpha = 0.75: 유사도 75%, 중요도 25%)\n",
    "    alpha = 0.75\n",
    "    compare_df['adjusted_score'] = (\n",
    "        alpha * compare_df['similarity'] +\n",
    "        (1 - alpha) * compare_df['impact_score_norm']\n",
    "    )\n",
    "\n",
    "    # 점수 높은 순 정렬\n",
    "    compare_df_sorted = compare_df.sort_values(by='adjusted_score', ascending=False).dropna(subset=['wdate'])\n",
    "\n",
    "    # 기준 뉴스 날짜\n",
    "    target_date = target_news['wdate']\n",
    "    selected = []\n",
    "\n",
    "    for _, row in compare_df_sorted.iterrows():\n",
    "        candidate_date = row['wdate']\n",
    "\n",
    "        # 조건 1: 기준 뉴스와 시차 ≥ 6개월\n",
    "        if abs((target_date - candidate_date).days) < 180:\n",
    "            continue\n",
    "\n",
    "        # 조건 2: 기존 선택 뉴스들과 시차 ≥ 3개월\n",
    "        if any(abs((candidate_date - sel['wdate']).days) < 90 for sel in selected):\n",
    "            continue\n",
    "\n",
    "        selected.append(row)\n",
    "        if len(selected) == top_n:\n",
    "            break\n",
    "\n",
    "    result = pd.DataFrame(selected)\n",
    "    return result\n"
   ]
  },
  {
   "cell_type": "code",
   "execution_count": 75,
   "id": "4644754e",
   "metadata": {},
   "outputs": [
    {
     "name": "stdout",
     "output_type": "stream",
     "text": [
      "\n",
      "모델: jhgan/ko-sbert-sts\n"
     ]
    },
    {
     "data": {
      "application/vnd.jupyter.widget-view+json": {
       "model_id": "a1a161a81b0447919cdc47d3c1451730",
       "version_major": 2,
       "version_minor": 0
      },
      "text/plain": [
       "Batches:   0%|          | 0/110 [00:00<?, ?it/s]"
      ]
     },
     "metadata": {},
     "output_type": "display_data"
    },
    {
     "name": "stdout",
     "output_type": "stream",
     "text": [
      "임베딩 완료: 48.78초\n",
      "\n",
      "모델: snunlp/KR-SBERT-V40K-klueNLI-augSTS\n"
     ]
    },
    {
     "data": {
      "application/vnd.jupyter.widget-view+json": {
       "model_id": "dd7fc18acdef458e96ccbe394f60e217",
       "version_major": 2,
       "version_minor": 0
      },
      "text/plain": [
       "Batches:   0%|          | 0/110 [00:00<?, ?it/s]"
      ]
     },
     "metadata": {},
     "output_type": "display_data"
    },
    {
     "name": "stdout",
     "output_type": "stream",
     "text": [
      "임베딩 완료: 48.22초\n"
     ]
    }
   ],
   "source": [
    "# 실행 1\n",
    "result1 = find_similar_news('jhgan/ko-sbert-sts')\n",
    "\n",
    "# 실행 2\n",
    "result2 = find_similar_news('snunlp/KR-SBERT-V40K-klueNLI-augSTS')"
   ]
  },
  {
   "cell_type": "code",
   "execution_count": 76,
   "id": "c9b87daa",
   "metadata": {},
   "outputs": [
    {
     "name": "stdout",
     "output_type": "stream",
     "text": [
      "\n",
      "Top-5 유사 뉴스 (jhgan 모델)\n",
      "2831. [2024-03-04] \"HBM장비 관련주 추가 모멘텀 기대…한미반도체 등 수혜\"\n",
      "   유사도: 0.6685, 중요도: 89.63, 유사도×중요도: 0.7431\n",
      "   url: https://n.news.naver.com/mnews/article/015/0004955092\n",
      "\n",
      "1679. [2024-06-16] 2분기 실적 기대주 주목... 삼성전자·LIG넥스원 ‘픽’[株슐랭가이드]\n",
      "   유사도: 0.7350, 중요도: 25.55, 유사도×중요도: 0.7062\n",
      "   url: https://n.news.naver.com/mnews/article/014/0005199753\n",
      "\n",
      "697. [2024-09-24] 배당·자사주 소각·흑자기업만 포함… \"추가상승 여력 충분\"[베일 벗은 '밸류업 지수']\n",
      "   유사도: 0.5492, 중요도: 100.99, 유사도×중요도: 0.6619\n",
      "   url: https://n.news.naver.com/mnews/article/014/0005244808\n",
      "\n",
      "\n",
      "Top-5 유사 뉴스 (snunlp 모델)\n",
      "2831. [2024-03-04] \"HBM장비 관련주 추가 모멘텀 기대…한미반도체 등 수혜\"\n",
      "   유사도: 0.7017, 중요도: 89.63, 유사도×중요도: 0.7679\n",
      "   url: https://n.news.naver.com/mnews/article/015/0004955092\n",
      "\n",
      "728. [2024-09-23] '안된다는 생각을 버려라' 대체할 삼성의 새 '반도체인 신조'는\n",
      "   유사도: 0.7423, 중요도: 29.71, 유사도×중요도: 0.7219\n",
      "   url: https://n.news.naver.com/mnews/article/001/0014941048\n",
      "\n",
      "1703. [2024-06-13] \"엔비디아 인증 가능성 높다\"…삼성전자의 시간 온다-삼성증권\n",
      "   유사도: 0.7597, 중요도: 22.96, 유사도×중요도: 0.7175\n",
      "   url: https://n.news.naver.com/mnews/article/008/0005049957\n",
      "\n"
     ]
    }
   ],
   "source": [
    "# 결과 확인 (가중합 점수 기반)\n",
    "print('\\nTop-5 유사 뉴스 (jhgan 모델)')\n",
    "for i, row in result1.head(5).iterrows():\n",
    "    print(f\"{i+1}. [{row['wdate'].date()}] {row['title']}\")\n",
    "    print(f\"   유사도: {row['similarity']:.4f}, 중요도: {row['impact_score']:.2f}, 유사도×중요도: {row['adjusted_score']:.4f}\")\n",
    "    print(f\"   url: {row.get('url', 'N/A')}\")\n",
    "    print()\n",
    "\n",
    "print('\\nTop-5 유사 뉴스 (snunlp 모델)')\n",
    "for i, row in result2.head(5).iterrows():\n",
    "    print(f\"{i+1}. [{row['wdate'].date()}] {row['title']}\")\n",
    "    print(f\"   유사도: {row['similarity']:.4f}, 중요도: {row['impact_score']:.2f}, 유사도×중요도: {row['adjusted_score']:.4f}\")\n",
    "    print(f\"   url: {row.get('url', 'N/A')}\")\n",
    "    print()"
   ]
  },
  {
   "cell_type": "code",
   "execution_count": 82,
   "id": "1c3d2deb",
   "metadata": {},
   "outputs": [],
   "source": [
    "# 최적 alpha 찾기\n",
    "def find_best_alpha_news(model_name, top_n=5, alphas=np.arange(0.5, 1.0, 0.05)):\n",
    "    print(f'\\n모델: {model_name}')\n",
    "    model = SentenceTransformer(model_name)\n",
    "\n",
    "    # 기준 뉴스 임베딩\n",
    "    start = time()\n",
    "    target_embedding = model.encode([target_content])\n",
    "    \n",
    "    # 비교 뉴스 임베딩\n",
    "    compare_embeddings = model.encode(compare_df['article'].tolist(), show_progress_bar=True)\n",
    "    print(f'임베딩 완료: {time() - start:.2f}초')\n",
    "\n",
    "    # 유사도 계산\n",
    "    similarities = cosine_similarity(target_embedding, compare_embeddings)[0]\n",
    "    compare_df['similarity'] = similarities\n",
    "    compare_df['wdate'] = pd.to_datetime(compare_df['wdate'], errors='coerce')\n",
    "\n",
    "    # 중요도 로그 변환 + 정규화\n",
    "    compare_df['impact_score_log'] = np.log1p(compare_df['impact_score'])\n",
    "    scaler = MinMaxScaler()\n",
    "    compare_df['impact_score_norm'] = scaler.fit_transform(compare_df[['impact_score_log']])\n",
    "\n",
    "    target_date = target_news['wdate']\n",
    "    best_alpha = 0\n",
    "    best_impact = -1\n",
    "    best_result = None\n",
    "\n",
    "    for alpha in alphas:\n",
    "        compare_df['adjusted_score'] = (\n",
    "            alpha * compare_df['similarity'] +\n",
    "            (1 - alpha) * compare_df['impact_score_norm']\n",
    "        )\n",
    "        compare_df_sorted = compare_df.sort_values(by='adjusted_score', ascending=False).dropna(subset=['wdate'])\n",
    "\n",
    "        selected = []\n",
    "        for _, row in compare_df_sorted.iterrows():\n",
    "            candidate_date = row['wdate']\n",
    "            if abs((target_date - candidate_date).days) < 180:\n",
    "                continue\n",
    "            if any(abs((candidate_date - sel['wdate']).days) < 90 for sel in selected):\n",
    "                continue\n",
    "            selected.append(row)\n",
    "            if len(selected) == top_n:\n",
    "                break\n",
    "\n",
    "        result_df = pd.DataFrame(selected)\n",
    "        avg_impact = result_df['impact_score'].mean()\n",
    "\n",
    "        if avg_impact > best_impact:\n",
    "            best_impact = avg_impact\n",
    "            best_alpha = alpha\n",
    "            best_result = result_df.copy()\n",
    "\n",
    "    print(f'\\n최적 alpha: {best_alpha:.2f} (Top-{top_n} 뉴스의 평균 중요도 = {best_impact:.2f})')\n",
    "    return best_result"
   ]
  },
  {
   "cell_type": "code",
   "execution_count": 83,
   "id": "7a244a80",
   "metadata": {},
   "outputs": [
    {
     "name": "stdout",
     "output_type": "stream",
     "text": [
      "\n",
      "모델: jhgan/ko-sbert-sts\n"
     ]
    },
    {
     "data": {
      "application/vnd.jupyter.widget-view+json": {
       "model_id": "121cc4d19df24df8907f191b4663b4a9",
       "version_major": 2,
       "version_minor": 0
      },
      "text/plain": [
       "Batches:   0%|          | 0/110 [00:00<?, ?it/s]"
      ]
     },
     "metadata": {},
     "output_type": "display_data"
    },
    {
     "name": "stdout",
     "output_type": "stream",
     "text": [
      "임베딩 완료: 49.21초\n",
      "\n",
      "최적 alpha: 0.50 (Top-5 뉴스의 평균 중요도 = 92.21)\n",
      "\n",
      "모델: snunlp/KR-SBERT-V40K-klueNLI-augSTS\n"
     ]
    },
    {
     "data": {
      "application/vnd.jupyter.widget-view+json": {
       "model_id": "21d793eb23a64f688ec5d075bcd40540",
       "version_major": 2,
       "version_minor": 0
      },
      "text/plain": [
       "Batches:   0%|          | 0/110 [00:00<?, ?it/s]"
      ]
     },
     "metadata": {},
     "output_type": "display_data"
    },
    {
     "name": "stdout",
     "output_type": "stream",
     "text": [
      "임베딩 완료: 49.05초\n",
      "\n",
      "최적 alpha: 0.50 (Top-5 뉴스의 평균 중요도 = 92.21)\n"
     ]
    }
   ],
   "source": [
    "# 실행 1 \n",
    "result1 = find_best_alpha_news('jhgan/ko-sbert-sts', top_n=5)\n",
    "\n",
    "# 실행 2\n",
    "result2 = find_best_alpha_news('snunlp/KR-SBERT-V40K-klueNLI-augSTS', top_n=5)"
   ]
  },
  {
   "cell_type": "code",
   "execution_count": 84,
   "id": "56f51d47",
   "metadata": {},
   "outputs": [
    {
     "name": "stdout",
     "output_type": "stream",
     "text": [
      "\n",
      "Top-5 유사 뉴스 (jhgan 모델)\n",
      "2831. [2024-03-04] \"HBM장비 관련주 추가 모멘텀 기대…한미반도체 등 수혜\"\n",
      "   유사도: 0.6685, 중요도: 89.63, 유사도×중요도: 0.8176\n",
      "   url: https://n.news.naver.com/mnews/article/015/0004955092\n",
      "\n",
      "697. [2024-09-24] 배당·자사주 소각·흑자기업만 포함… \"추가상승 여력 충분\"[베일 벗은 '밸류업 지수']\n",
      "   유사도: 0.5492, 중요도: 100.99, 유사도×중요도: 0.7746\n",
      "   url: https://n.news.naver.com/mnews/article/014/0005244808\n",
      "\n",
      "1747. [2024-06-09] AI 수혜주로 돈몰렸다…삼성전자·LG전자 찜\n",
      "   유사도: 0.4770, 중요도: 86.01, 유사도×중요도: 0.7160\n",
      "   url: https://n.news.naver.com/mnews/article/015/0004994612\n",
      "\n",
      "\n",
      "Top-5 유사 뉴스 (snunlp 모델)\n",
      "2831. [2024-03-04] \"HBM장비 관련주 추가 모멘텀 기대…한미반도체 등 수혜\"\n",
      "   유사도: 0.7017, 중요도: 89.63, 유사도×중요도: 0.8342\n",
      "   url: https://n.news.naver.com/mnews/article/015/0004955092\n",
      "\n",
      "1747. [2024-06-09] AI 수혜주로 돈몰렸다…삼성전자·LG전자 찜\n",
      "   유사도: 0.6198, 중요도: 86.01, 유사도×중요도: 0.7874\n",
      "   url: https://n.news.naver.com/mnews/article/015/0004994612\n",
      "\n",
      "697. [2024-09-24] 배당·자사주 소각·흑자기업만 포함… \"추가상승 여력 충분\"[베일 벗은 '밸류업 지수']\n",
      "   유사도: 0.5434, 중요도: 100.99, 유사도×중요도: 0.7717\n",
      "   url: https://n.news.naver.com/mnews/article/014/0005244808\n",
      "\n"
     ]
    }
   ],
   "source": [
    "# 결과 확인 (가중합 점수 기반)\n",
    "print('\\nTop-5 유사 뉴스 (jhgan 모델)')\n",
    "for i, row in result1.head(5).iterrows():\n",
    "    print(f\"{i+1}. [{row['wdate'].date()}] {row['title']}\")\n",
    "    print(f\"   유사도: {row['similarity']:.4f}, 중요도: {row['impact_score']:.2f}, 유사도×중요도: {row['adjusted_score']:.4f}\")\n",
    "    print(f\"   url: {row.get('url', 'N/A')}\")\n",
    "    print()\n",
    "\n",
    "print('\\nTop-5 유사 뉴스 (snunlp 모델)')\n",
    "for i, row in result2.head(5).iterrows():\n",
    "    print(f\"{i+1}. [{row['wdate'].date()}] {row['title']}\")\n",
    "    print(f\"   유사도: {row['similarity']:.4f}, 중요도: {row['impact_score']:.2f}, 유사도×중요도: {row['adjusted_score']:.4f}\")\n",
    "    print(f\"   url: {row.get('url', 'N/A')}\")\n",
    "    print()"
   ]
  },
  {
   "cell_type": "code",
   "execution_count": null,
   "id": "fd0ef1a6",
   "metadata": {},
   "outputs": [
    {
     "name": "stderr",
     "output_type": "stream",
     "text": [
      "/opt/anaconda3/lib/python3.12/site-packages/IPython/core/pylabtools.py:170: UserWarning: Glyph 129516 (\\N{DNA DOUBLE HELIX}) missing from font(s) AppleGothic.\n",
      "  fig.canvas.print_figure(bytes_io, **kw)\n"
     ]
    },
    {
     "data": {
      "image/png": "[encoded data removed]",
      "text/plain": [
       "<Figure size 1000x600 with 2 Axes>"
      ]
     },
     "metadata": {},
     "output_type": "display_data"
    }
   ],
   "source": [
    "from sklearn.metrics.pairwise import cosine_similarity\n",
    "from sentence_transformers import SentenceTransformer\n",
    "import matplotlib.pyplot as plt\n",
    "import seaborn as sns\n",
    "\n",
    "def plot_coverage_heatmap(base_text, compare_text, model_name='snunlp/KR-SBERT-V40K-klueNLI-augSTS'):\n",
    "    model = SentenceTransformer(model_name)\n",
    "\n",
    "    base_sents = [s.strip() for s in base_text.split('. ') if len(s.strip()) > 5]\n",
    "    comp_sents = [s.strip() for s in compare_text.split('. ') if len(s.strip()) > 5]\n",
    "\n",
    "    base_emb = model.encode(base_sents)\n",
    "    comp_emb = model.encode(comp_sents)\n",
    "\n",
    "    sim_matrix = cosine_similarity(comp_emb, base_emb)\n",
    "\n",
    "    plt.figure(figsize=(10, 6))\n",
    "    sns.heatmap(sim_matrix, cmap='YlGnBu', xticklabels=False, yticklabels=False)\n",
    "    plt.title(\"기준 뉴스 vs 유사 뉴스 문장 유사도 히트맵\")\n",
    "    plt.xlabel(\"기준 뉴스 문장\")\n",
    "    plt.ylabel(\"유사 뉴스 문장\")\n",
    "    plt.show()\n",
    "\n",
    "    return sim_matrix\n",
    "# 기준 뉴스와 유사 뉴스 문장 유사도 히트맵 시각화\n",
    "if target_news is not None:\n",
    "    base_text = target_news['article']\n",
    "    compare_text = result1['article'].str.cat(sep=' ')\n",
    "    sim_matrix = plot_coverage_heatmap(base_text, compare_text, model_name='snunlp/KR-SBERT-V40K-klueNLI-augSTS')"
   ]
  },
  {
   "cell_type": "code",
   "execution_count": null,
   "id": "8c4c4a74",
   "metadata": {},
   "outputs": [],
   "source": []
  }
 ],
 "metadata": {
  "kernelspec": {
   "display_name": "base",
   "language": "python",
   "name": "python3"
  },
  "language_info": {
   "codemirror_mode": {
    "name": "ipython",
    "version": 3
   },
   "file_extension": ".py",
   "mimetype": "text/x-python",
   "name": "python",
   "nbconvert_exporter": "python",
   "pygments_lexer": "ipython3",
   "version": "3.12.7"
  }
 },
 "nbformat": 4,
 "nbformat_minor": 5
}
