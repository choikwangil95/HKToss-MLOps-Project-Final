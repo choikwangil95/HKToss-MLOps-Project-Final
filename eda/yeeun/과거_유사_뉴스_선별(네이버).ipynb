{
 "cells": [
  {
   "cell_type": "code",
   "execution_count": 4,
   "id": "a9d776b2",
   "metadata": {},
   "outputs": [
    {
     "name": "stdout",
     "output_type": "stream",
     "text": [
      "Requirement already satisfied: sentence-transformers in /opt/anaconda3/lib/python3.12/site-packages (4.1.0)\n",
      "Requirement already satisfied: transformers<5.0.0,>=4.41.0 in /opt/anaconda3/lib/python3.12/site-packages (from sentence-transformers) (4.51.3)\n",
      "Requirement already satisfied: tqdm in /opt/anaconda3/lib/python3.12/site-packages (from sentence-transformers) (4.66.5)\n",
      "Requirement already satisfied: torch>=1.11.0 in /opt/anaconda3/lib/python3.12/site-packages (from sentence-transformers) (2.7.0)\n",
      "Requirement already satisfied: scikit-learn in /opt/anaconda3/lib/python3.12/site-packages (from sentence-transformers) (1.5.1)\n",
      "Requirement already satisfied: scipy in /opt/anaconda3/lib/python3.12/site-packages (from sentence-transformers) (1.13.1)\n",
      "Requirement already satisfied: huggingface-hub>=0.20.0 in /opt/anaconda3/lib/python3.12/site-packages (from sentence-transformers) (0.31.2)\n",
      "Requirement already satisfied: Pillow in /opt/anaconda3/lib/python3.12/site-packages (from sentence-transformers) (10.4.0)\n",
      "Requirement already satisfied: typing_extensions>=4.5.0 in /opt/anaconda3/lib/python3.12/site-packages (from sentence-transformers) (4.11.0)\n",
      "Requirement already satisfied: filelock in /opt/anaconda3/lib/python3.12/site-packages (from huggingface-hub>=0.20.0->sentence-transformers) (3.13.1)\n",
      "Requirement already satisfied: fsspec>=2023.5.0 in /opt/anaconda3/lib/python3.12/site-packages (from huggingface-hub>=0.20.0->sentence-transformers) (2024.6.1)\n",
      "Requirement already satisfied: packaging>=20.9 in /opt/anaconda3/lib/python3.12/site-packages (from huggingface-hub>=0.20.0->sentence-transformers) (24.1)\n",
      "Requirement already satisfied: pyyaml>=5.1 in /opt/anaconda3/lib/python3.12/site-packages (from huggingface-hub>=0.20.0->sentence-transformers) (6.0.1)\n",
      "Requirement already satisfied: requests in /opt/anaconda3/lib/python3.12/site-packages (from huggingface-hub>=0.20.0->sentence-transformers) (2.32.3)\n",
      "Requirement already satisfied: setuptools in /opt/anaconda3/lib/python3.12/site-packages (from torch>=1.11.0->sentence-transformers) (75.1.0)\n",
      "Requirement already satisfied: sympy>=1.13.3 in /opt/anaconda3/lib/python3.12/site-packages (from torch>=1.11.0->sentence-transformers) (1.14.0)\n",
      "Requirement already satisfied: networkx in /opt/anaconda3/lib/python3.12/site-packages (from torch>=1.11.0->sentence-transformers) (3.3)\n",
      "Requirement already satisfied: jinja2 in /opt/anaconda3/lib/python3.12/site-packages (from torch>=1.11.0->sentence-transformers) (3.1.4)\n",
      "Requirement already satisfied: numpy>=1.17 in /opt/anaconda3/lib/python3.12/site-packages (from transformers<5.0.0,>=4.41.0->sentence-transformers) (1.26.4)\n",
      "Requirement already satisfied: regex!=2019.12.17 in /opt/anaconda3/lib/python3.12/site-packages (from transformers<5.0.0,>=4.41.0->sentence-transformers) (2024.9.11)\n",
      "Requirement already satisfied: tokenizers<0.22,>=0.21 in /opt/anaconda3/lib/python3.12/site-packages (from transformers<5.0.0,>=4.41.0->sentence-transformers) (0.21.1)\n",
      "Requirement already satisfied: safetensors>=0.4.3 in /opt/anaconda3/lib/python3.12/site-packages (from transformers<5.0.0,>=4.41.0->sentence-transformers) (0.5.3)\n",
      "Requirement already satisfied: joblib>=1.2.0 in /opt/anaconda3/lib/python3.12/site-packages (from scikit-learn->sentence-transformers) (1.4.2)\n",
      "Requirement already satisfied: threadpoolctl>=3.1.0 in /opt/anaconda3/lib/python3.12/site-packages (from scikit-learn->sentence-transformers) (3.5.0)\n",
      "Requirement already satisfied: mpmath<1.4,>=1.1.0 in /opt/anaconda3/lib/python3.12/site-packages (from sympy>=1.13.3->torch>=1.11.0->sentence-transformers) (1.3.0)\n",
      "Requirement already satisfied: MarkupSafe>=2.0 in /opt/anaconda3/lib/python3.12/site-packages (from jinja2->torch>=1.11.0->sentence-transformers) (2.1.3)\n",
      "Requirement already satisfied: charset-normalizer<4,>=2 in /opt/anaconda3/lib/python3.12/site-packages (from requests->huggingface-hub>=0.20.0->sentence-transformers) (3.3.2)\n",
      "Requirement already satisfied: idna<4,>=2.5 in /opt/anaconda3/lib/python3.12/site-packages (from requests->huggingface-hub>=0.20.0->sentence-transformers) (3.7)\n",
      "Requirement already satisfied: urllib3<3,>=1.21.1 in /opt/anaconda3/lib/python3.12/site-packages (from requests->huggingface-hub>=0.20.0->sentence-transformers) (2.2.3)\n",
      "Requirement already satisfied: certifi>=2017.4.17 in /opt/anaconda3/lib/python3.12/site-packages (from requests->huggingface-hub>=0.20.0->sentence-transformers) (2024.12.14)\n",
      "Collecting tf-keras\n",
      "  Downloading tf_keras-2.19.0-py3-none-any.whl.metadata (1.8 kB)\n",
      "Requirement already satisfied: tensorflow<2.20,>=2.19 in /opt/anaconda3/lib/python3.12/site-packages (from tf-keras) (2.19.0)\n",
      "Requirement already satisfied: absl-py>=1.0.0 in /opt/anaconda3/lib/python3.12/site-packages (from tensorflow<2.20,>=2.19->tf-keras) (2.2.2)\n",
      "Requirement already satisfied: astunparse>=1.6.0 in /opt/anaconda3/lib/python3.12/site-packages (from tensorflow<2.20,>=2.19->tf-keras) (1.6.3)\n",
      "Requirement already satisfied: flatbuffers>=24.3.25 in /opt/anaconda3/lib/python3.12/site-packages (from tensorflow<2.20,>=2.19->tf-keras) (25.2.10)\n",
      "Requirement already satisfied: gast!=0.5.0,!=0.5.1,!=0.5.2,>=0.2.1 in /opt/anaconda3/lib/python3.12/site-packages (from tensorflow<2.20,>=2.19->tf-keras) (0.6.0)\n",
      "Requirement already satisfied: google-pasta>=0.1.1 in /opt/anaconda3/lib/python3.12/site-packages (from tensorflow<2.20,>=2.19->tf-keras) (0.2.0)\n",
      "Requirement already satisfied: libclang>=13.0.0 in /opt/anaconda3/lib/python3.12/site-packages (from tensorflow<2.20,>=2.19->tf-keras) (18.1.1)\n",
      "Requirement already satisfied: opt-einsum>=2.3.2 in /opt/anaconda3/lib/python3.12/site-packages (from tensorflow<2.20,>=2.19->tf-keras) (3.4.0)\n",
      "Requirement already satisfied: packaging in /opt/anaconda3/lib/python3.12/site-packages (from tensorflow<2.20,>=2.19->tf-keras) (24.1)\n",
      "Requirement already satisfied: protobuf!=4.21.0,!=4.21.1,!=4.21.2,!=4.21.3,!=4.21.4,!=4.21.5,<6.0.0dev,>=3.20.3 in /opt/anaconda3/lib/python3.12/site-packages (from tensorflow<2.20,>=2.19->tf-keras) (4.25.3)\n",
      "Requirement already satisfied: requests<3,>=2.21.0 in /opt/anaconda3/lib/python3.12/site-packages (from tensorflow<2.20,>=2.19->tf-keras) (2.32.3)\n",
      "Requirement already satisfied: setuptools in /opt/anaconda3/lib/python3.12/site-packages (from tensorflow<2.20,>=2.19->tf-keras) (75.1.0)\n",
      "Requirement already satisfied: six>=1.12.0 in /opt/anaconda3/lib/python3.12/site-packages (from tensorflow<2.20,>=2.19->tf-keras) (1.16.0)\n",
      "Requirement already satisfied: termcolor>=1.1.0 in /opt/anaconda3/lib/python3.12/site-packages (from tensorflow<2.20,>=2.19->tf-keras) (3.1.0)\n",
      "Requirement already satisfied: typing-extensions>=3.6.6 in /opt/anaconda3/lib/python3.12/site-packages (from tensorflow<2.20,>=2.19->tf-keras) (4.11.0)\n",
      "Requirement already satisfied: wrapt>=1.11.0 in /opt/anaconda3/lib/python3.12/site-packages (from tensorflow<2.20,>=2.19->tf-keras) (1.14.1)\n",
      "Requirement already satisfied: grpcio<2.0,>=1.24.3 in /opt/anaconda3/lib/python3.12/site-packages (from tensorflow<2.20,>=2.19->tf-keras) (1.71.0)\n",
      "Requirement already satisfied: tensorboard~=2.19.0 in /opt/anaconda3/lib/python3.12/site-packages (from tensorflow<2.20,>=2.19->tf-keras) (2.19.0)\n",
      "Requirement already satisfied: keras>=3.5.0 in /opt/anaconda3/lib/python3.12/site-packages (from tensorflow<2.20,>=2.19->tf-keras) (3.10.0)\n",
      "Requirement already satisfied: numpy<2.2.0,>=1.26.0 in /opt/anaconda3/lib/python3.12/site-packages (from tensorflow<2.20,>=2.19->tf-keras) (1.26.4)\n",
      "Requirement already satisfied: h5py>=3.11.0 in /opt/anaconda3/lib/python3.12/site-packages (from tensorflow<2.20,>=2.19->tf-keras) (3.11.0)\n",
      "Requirement already satisfied: ml-dtypes<1.0.0,>=0.5.1 in /opt/anaconda3/lib/python3.12/site-packages (from tensorflow<2.20,>=2.19->tf-keras) (0.5.1)\n",
      "Requirement already satisfied: wheel<1.0,>=0.23.0 in /opt/anaconda3/lib/python3.12/site-packages (from astunparse>=1.6.0->tensorflow<2.20,>=2.19->tf-keras) (0.44.0)\n",
      "Requirement already satisfied: rich in /opt/anaconda3/lib/python3.12/site-packages (from keras>=3.5.0->tensorflow<2.20,>=2.19->tf-keras) (13.7.1)\n",
      "Requirement already satisfied: namex in /opt/anaconda3/lib/python3.12/site-packages (from keras>=3.5.0->tensorflow<2.20,>=2.19->tf-keras) (0.0.9)\n",
      "Requirement already satisfied: optree in /opt/anaconda3/lib/python3.12/site-packages (from keras>=3.5.0->tensorflow<2.20,>=2.19->tf-keras) (0.15.0)\n",
      "Requirement already satisfied: charset-normalizer<4,>=2 in /opt/anaconda3/lib/python3.12/site-packages (from requests<3,>=2.21.0->tensorflow<2.20,>=2.19->tf-keras) (3.3.2)\n",
      "Requirement already satisfied: idna<4,>=2.5 in /opt/anaconda3/lib/python3.12/site-packages (from requests<3,>=2.21.0->tensorflow<2.20,>=2.19->tf-keras) (3.7)\n",
      "Requirement already satisfied: urllib3<3,>=1.21.1 in /opt/anaconda3/lib/python3.12/site-packages (from requests<3,>=2.21.0->tensorflow<2.20,>=2.19->tf-keras) (2.2.3)\n",
      "Requirement already satisfied: certifi>=2017.4.17 in /opt/anaconda3/lib/python3.12/site-packages (from requests<3,>=2.21.0->tensorflow<2.20,>=2.19->tf-keras) (2024.12.14)\n",
      "Requirement already satisfied: markdown>=2.6.8 in /opt/anaconda3/lib/python3.12/site-packages (from tensorboard~=2.19.0->tensorflow<2.20,>=2.19->tf-keras) (3.4.1)\n",
      "Requirement already satisfied: tensorboard-data-server<0.8.0,>=0.7.0 in /opt/anaconda3/lib/python3.12/site-packages (from tensorboard~=2.19.0->tensorflow<2.20,>=2.19->tf-keras) (0.7.2)\n",
      "Requirement already satisfied: werkzeug>=1.0.1 in /opt/anaconda3/lib/python3.12/site-packages (from tensorboard~=2.19.0->tensorflow<2.20,>=2.19->tf-keras) (3.0.3)\n",
      "Requirement already satisfied: MarkupSafe>=2.1.1 in /opt/anaconda3/lib/python3.12/site-packages (from werkzeug>=1.0.1->tensorboard~=2.19.0->tensorflow<2.20,>=2.19->tf-keras) (2.1.3)\n",
      "Requirement already satisfied: markdown-it-py>=2.2.0 in /opt/anaconda3/lib/python3.12/site-packages (from rich->keras>=3.5.0->tensorflow<2.20,>=2.19->tf-keras) (2.2.0)\n",
      "Requirement already satisfied: pygments<3.0.0,>=2.13.0 in /opt/anaconda3/lib/python3.12/site-packages (from rich->keras>=3.5.0->tensorflow<2.20,>=2.19->tf-keras) (2.15.1)\n",
      "Requirement already satisfied: mdurl~=0.1 in /opt/anaconda3/lib/python3.12/site-packages (from markdown-it-py>=2.2.0->rich->keras>=3.5.0->tensorflow<2.20,>=2.19->tf-keras) (0.1.0)\n",
      "Downloading tf_keras-2.19.0-py3-none-any.whl (1.7 MB)\n",
      "\u001b[2K   \u001b[90m━━━━━━━━━━━━━━━━━━━━━━━━━━━━━━━━━━━━━━━━\u001b[0m \u001b[32m1.7/1.7 MB\u001b[0m \u001b[31m317.1 kB/s\u001b[0m eta \u001b[36m0:00:00\u001b[0ma \u001b[36m0:00:01\u001b[0m\n",
      "\u001b[?25hInstalling collected packages: tf-keras\n",
      "Successfully installed tf-keras-2.19.0\n"
     ]
    }
   ],
   "source": [
    "!pip install sentence-transformers\n",
    "!pip install tf-keras"
   ]
  },
  {
   "cell_type": "code",
   "execution_count": 5,
   "id": "5739b4bf",
   "metadata": {},
   "outputs": [],
   "source": [
    "from time import time\n",
    "import pandas as pd\n",
    "from sentence_transformers import SentenceTransformer\n",
    "from sklearn.metrics.pairwise import cosine_similarity"
   ]
  },
  {
   "cell_type": "code",
   "execution_count": 44,
   "id": "a5ef0902",
   "metadata": {},
   "outputs": [],
   "source": [
    "# 설정\n",
    "news_df = pd.read_csv('/Users/han-yeeun/final/db/news_2023_2025.csv')"
   ]
  },
  {
   "cell_type": "code",
   "execution_count": 45,
   "id": "e617ad49",
   "metadata": {},
   "outputs": [
    {
     "data": {
      "text/html": [
       "<div>\n",
       "<style scoped>\n",
       "    .dataframe tbody tr th:only-of-type {\n",
       "        vertical-align: middle;\n",
       "    }\n",
       "\n",
       "    .dataframe tbody tr th {\n",
       "        vertical-align: top;\n",
       "    }\n",
       "\n",
       "    .dataframe thead th {\n",
       "        text-align: right;\n",
       "    }\n",
       "</style>\n",
       "<table border=\"1\" class=\"dataframe\">\n",
       "  <thead>\n",
       "    <tr style=\"text-align: right;\">\n",
       "      <th></th>\n",
       "      <th>news_id</th>\n",
       "      <th>wdate</th>\n",
       "      <th>title</th>\n",
       "      <th>article</th>\n",
       "      <th>press</th>\n",
       "      <th>url</th>\n",
       "      <th>image</th>\n",
       "    </tr>\n",
       "  </thead>\n",
       "  <tbody>\n",
       "    <tr>\n",
       "      <th>0</th>\n",
       "      <td>20250523_0001</td>\n",
       "      <td>2025-05-23 19:11</td>\n",
       "      <td>[마켓인]모태펀드 존속 불확실성 해소될까…이재명 공약에 업계 주목</td>\n",
       "      <td>2035년 종료 앞둬, 존속 공약에 기대감\\n창업 초기자금 공백 완화 가능성에 업계...</td>\n",
       "      <td>이데일리</td>\n",
       "      <td>https://n.news.naver.com/mnews/article/018/000...</td>\n",
       "      <td>https://imgnews.pstatic.net/image/018/2025/05/...</td>\n",
       "    </tr>\n",
       "    <tr>\n",
       "      <th>1</th>\n",
       "      <td>20250523_0002</td>\n",
       "      <td>2025-05-23 18:52</td>\n",
       "      <td>[단독] 카카오페이, 2500만 회원 쓱·스마일페이 품나…간편결제 시장 빅3 경쟁 후끈</td>\n",
       "      <td>매각가 5000억 안팎 달할듯\\n결제시장 내 입지강화 포석\\n카카오페이 [사진 = ...</td>\n",
       "      <td>매일경제</td>\n",
       "      <td>https://n.news.naver.com/mnews/article/009/000...</td>\n",
       "      <td>https://imgnews.pstatic.net/image/009/2025/05/...</td>\n",
       "    </tr>\n",
       "    <tr>\n",
       "      <th>2</th>\n",
       "      <td>20250523_0003</td>\n",
       "      <td>2025-05-23 18:38</td>\n",
       "      <td>키스트론, 일반 청약 흥행…증거금 6조원 모았다</td>\n",
       "      <td>5월22~23일 청약 진행, 경쟁률 총2166대1\\n상장 후 예상 시가총개 643억...</td>\n",
       "      <td>머니투데이</td>\n",
       "      <td>https://n.news.naver.com/mnews/article/008/000...</td>\n",
       "      <td>https://imgnews.pstatic.net/image/008/2025/05/...</td>\n",
       "    </tr>\n",
       "    <tr>\n",
       "      <th>3</th>\n",
       "      <td>20250523_0004</td>\n",
       "      <td>2025-05-23 18:33</td>\n",
       "      <td>골드만삭스 차기 CEO, 이재용·김병주·이창용 만났다</td>\n",
       "      <td>[사진=연합뉴스]\\n세계 2위 투자은행(IB)인 골드만삭스의 사장 겸 최고운영책임자...</td>\n",
       "      <td>매일경제</td>\n",
       "      <td>https://n.news.naver.com/mnews/article/009/000...</td>\n",
       "      <td>https://imgnews.pstatic.net/image/009/2025/05/...</td>\n",
       "    </tr>\n",
       "    <tr>\n",
       "      <th>4</th>\n",
       "      <td>20250523_0005</td>\n",
       "      <td>2025-05-23 18:24</td>\n",
       "      <td>흔들리는 미국…달러 패권 붕괴에 '스테이블코인' 선택한 美</td>\n",
       "      <td>/사진=게티이미지뱅크\\n미국 정부가 달러의 기축통화 지위를 위협하는 금에 대응하기 ...</td>\n",
       "      <td>머니투데이</td>\n",
       "      <td>https://n.news.naver.com/mnews/article/008/000...</td>\n",
       "      <td>https://imgnews.pstatic.net/image/008/2025/05/...</td>\n",
       "    </tr>\n",
       "  </tbody>\n",
       "</table>\n",
       "</div>"
      ],
      "text/plain": [
       "         news_id             wdate  \\\n",
       "0  20250523_0001  2025-05-23 19:11   \n",
       "1  20250523_0002  2025-05-23 18:52   \n",
       "2  20250523_0003  2025-05-23 18:38   \n",
       "3  20250523_0004  2025-05-23 18:33   \n",
       "4  20250523_0005  2025-05-23 18:24   \n",
       "\n",
       "                                              title  \\\n",
       "0              [마켓인]모태펀드 존속 불확실성 해소될까…이재명 공약에 업계 주목   \n",
       "1  [단독] 카카오페이, 2500만 회원 쓱·스마일페이 품나…간편결제 시장 빅3 경쟁 후끈   \n",
       "2                        키스트론, 일반 청약 흥행…증거금 6조원 모았다   \n",
       "3                     골드만삭스 차기 CEO, 이재용·김병주·이창용 만났다   \n",
       "4                  흔들리는 미국…달러 패권 붕괴에 '스테이블코인' 선택한 美   \n",
       "\n",
       "                                             article  press  \\\n",
       "0  2035년 종료 앞둬, 존속 공약에 기대감\\n창업 초기자금 공백 완화 가능성에 업계...   이데일리   \n",
       "1  매각가 5000억 안팎 달할듯\\n결제시장 내 입지강화 포석\\n카카오페이 [사진 = ...   매일경제   \n",
       "2  5월22~23일 청약 진행, 경쟁률 총2166대1\\n상장 후 예상 시가총개 643억...  머니투데이   \n",
       "3  [사진=연합뉴스]\\n세계 2위 투자은행(IB)인 골드만삭스의 사장 겸 최고운영책임자...   매일경제   \n",
       "4  /사진=게티이미지뱅크\\n미국 정부가 달러의 기축통화 지위를 위협하는 금에 대응하기 ...  머니투데이   \n",
       "\n",
       "                                                 url  \\\n",
       "0  https://n.news.naver.com/mnews/article/018/000...   \n",
       "1  https://n.news.naver.com/mnews/article/009/000...   \n",
       "2  https://n.news.naver.com/mnews/article/008/000...   \n",
       "3  https://n.news.naver.com/mnews/article/009/000...   \n",
       "4  https://n.news.naver.com/mnews/article/008/000...   \n",
       "\n",
       "                                               image  \n",
       "0  https://imgnews.pstatic.net/image/018/2025/05/...  \n",
       "1  https://imgnews.pstatic.net/image/009/2025/05/...  \n",
       "2  https://imgnews.pstatic.net/image/008/2025/05/...  \n",
       "3  https://imgnews.pstatic.net/image/009/2025/05/...  \n",
       "4  https://imgnews.pstatic.net/image/008/2025/05/...  "
      ]
     },
     "execution_count": 45,
     "metadata": {},
     "output_type": "execute_result"
    }
   ],
   "source": [
    "news_df.head()"
   ]
  },
  {
   "cell_type": "code",
   "execution_count": 77,
   "id": "1f73a92e",
   "metadata": {},
   "outputs": [],
   "source": [
    "# 기업명 및 시차, 유사도 추출 개수 설정\n",
    "target_company = '삼성전자'\n",
    "top_n = 5"
   ]
  },
  {
   "cell_type": "code",
   "execution_count": 78,
   "id": "2d65f66f",
   "metadata": {},
   "outputs": [],
   "source": [
    "# 날짜 형식 변환\n",
    "news_df['wdate'] = pd.to_datetime(news_df['wdate'])"
   ]
  },
  {
   "cell_type": "code",
   "execution_count": 79,
   "id": "96910370",
   "metadata": {},
   "outputs": [],
   "source": [
    "# 기준 뉴스 선택 (해당 기업 포함 + 가장 최신 기사 1건)\n",
    "filtered_df = news_df[\n",
    "    (news_df['title'].str.contains(target_company, na=False)) &\n",
    "    (news_df['wdate'].dt.year == 2025)\n",
    "].sort_values('wdate', ascending=False)\n",
    "\n",
    "if not filtered_df.empty:\n",
    "    target_news = filtered_df.iloc[0]\n",
    "    target_content = target_news['article']\n",
    "    target_date = target_news['wdate']\n",
    "else:\n",
    "    print(f\"[주의] '{target_company}' 관련 2025년 뉴스가 없습니다.\")\n",
    "    target_news = None\n",
    "    target_content = \"\"\n",
    "    target_date = pd.NaT"
   ]
  },
  {
   "cell_type": "code",
   "execution_count": 80,
   "id": "5c2116f3",
   "metadata": {},
   "outputs": [
    {
     "data": {
      "text/plain": [
       "'https://n.news.naver.com/mnews/article/011/0004487837'"
      ]
     },
     "execution_count": 80,
     "metadata": {},
     "output_type": "execute_result"
    }
   ],
   "source": [
    "target_news['url']"
   ]
  },
  {
   "cell_type": "code",
   "execution_count": 81,
   "id": "4bf9f893",
   "metadata": {},
   "outputs": [],
   "source": [
    "# 비교군 설정\n",
    "# - 2022~2024년\n",
    "# - 최소 6개월 전\n",
    "# - 기업명 포함\n",
    "from datetime import timedelta\n",
    "\n",
    "min_gap_days = 180  # 6개월 기준\n",
    "\n",
    "compare_df = news_df[\n",
    "    (news_df['wdate'].dt.year >= 2022) &\n",
    "    (news_df['wdate'].dt.year <= 2024) &\n",
    "    ((news_df['title'].str.contains(target_company, na=False)) |\n",
    "     (news_df['article'].str.contains(target_company, na=False))) &\n",
    "    (news_df['wdate'] <= target_date - timedelta(days=min_gap_days))\n",
    "].reset_index(drop=True)\n"
   ]
  },
  {
   "cell_type": "code",
   "execution_count": 82,
   "id": "9077d9f7",
   "metadata": {},
   "outputs": [],
   "source": [
    "# 유사 뉴스 찾기\n",
    "def find_similar_news(model_name):\n",
    "    print(f'\\n모델: {model_name}')\n",
    "    model = SentenceTransformer(model_name)\n",
    "\n",
    "    start = time()\n",
    "    target_embedding = model.encode([target_content])\n",
    "    compare_embeddings = model.encode(compare_df['article'].tolist(), show_progress_bar=True)\n",
    "    print(f'임베딩 완료: {time() - start:.2f}초')\n",
    "\n",
    "    similarities = cosine_similarity(target_embedding, compare_embeddings)[0]\n",
    "    compare_df['similarity'] = similarities\n",
    "    compare_df['wdate'] = pd.to_datetime(compare_df['wdate'], errors='coerce')\n",
    "    compare_df_sorted = compare_df.sort_values(by='similarity', ascending=False).dropna(subset=['wdate'])\n",
    "\n",
    "    # 기준 뉴스 날짜\n",
    "    target_date = target_news['wdate']\n",
    "    selected = []\n",
    "\n",
    "    for _, row in compare_df_sorted.iterrows():\n",
    "        candidate_date = row['wdate']\n",
    "\n",
    "        # 조건 1: 기준 기사와 시차 ≥ 6개월\n",
    "        if abs((target_date - candidate_date).days) < 180:\n",
    "            continue\n",
    "\n",
    "        # 조건 2: 기존 선택 뉴스들과 시차 ≥ 3개월\n",
    "        if any(abs((candidate_date - sel['wdate']).days) < 90 for sel in selected):\n",
    "            continue\n",
    "\n",
    "        selected.append(row)\n",
    "        if len(selected) == top_n:\n",
    "            break\n",
    "\n",
    "    result = pd.DataFrame(selected)\n",
    "    return result"
   ]
  },
  {
   "cell_type": "code",
   "execution_count": 83,
   "id": "4f1be219",
   "metadata": {},
   "outputs": [
    {
     "name": "stdout",
     "output_type": "stream",
     "text": [
      "\n",
      "모델: jhgan/ko-sbert-sts\n"
     ]
    },
    {
     "data": {
      "application/vnd.jupyter.widget-view+json": {
       "model_id": "6c0ca9e9b44640e08442913d798659ea",
       "version_major": 2,
       "version_minor": 0
      },
      "text/plain": [
       "Batches:   0%|          | 0/110 [00:00<?, ?it/s]"
      ]
     },
     "metadata": {},
     "output_type": "display_data"
    },
    {
     "name": "stdout",
     "output_type": "stream",
     "text": [
      "임베딩 완료: 48.68초\n",
      "\n",
      "모델: snunlp/KR-SBERT-V40K-klueNLI-augSTS\n"
     ]
    },
    {
     "data": {
      "application/vnd.jupyter.widget-view+json": {
       "model_id": "0566bd2b64794604bf93e41d0a992053",
       "version_major": 2,
       "version_minor": 0
      },
      "text/plain": [
       "Batches:   0%|          | 0/110 [00:00<?, ?it/s]"
      ]
     },
     "metadata": {},
     "output_type": "display_data"
    },
    {
     "name": "stdout",
     "output_type": "stream",
     "text": [
      "임베딩 완료: 48.93초\n"
     ]
    }
   ],
   "source": [
    "# 실행 1\n",
    "result1 = find_similar_news('jhgan/ko-sbert-sts')\n",
    "\n",
    "# 실행 2\n",
    "result2 = find_similar_news('snunlp/KR-SBERT-V40K-klueNLI-augSTS')"
   ]
  },
  {
   "cell_type": "code",
   "execution_count": 84,
   "id": "2f666032",
   "metadata": {},
   "outputs": [
    {
     "name": "stdout",
     "output_type": "stream",
     "text": [
      "\n",
      "Top-5 유사 뉴스 (jhgan 모델)\n",
      "1412. [2024-07-08] '12만 전자' 가나…증권가, 삼전 호실적에 목표가 줄상향 (유사도: 0.7760)\n",
      "url: https://n.news.naver.com/mnews/article/011/0004363260\n",
      "\n",
      "2384. [2024-04-08] 증권가, 삼성전자 실적개선·HBM 순항 낙관…'11만전자' 전망도 (유사도: 0.7417)\n",
      "url: https://n.news.naver.com/mnews/article/001/0014617118\n",
      "\n",
      "3423. [2024-01-08] 반도체·배터리·바이오·방산, 연초 증시 주도…숨 고르는 코스피 다시 뛸까 (유사도: 0.6962)\n",
      "url: https://n.news.naver.com/mnews/article/015/0004934113\n",
      "\n",
      "295. [2024-11-01] 삼성전자 \"HBM 퀄테스트 진전\"…증권가는 신중한 반응 (유사도: 0.6901)\n",
      "url: https://n.news.naver.com/mnews/article/015/0005051642\n",
      "\n",
      "\n",
      "Top-5 유사 뉴스 (snunlp 모델)\n",
      "2626. [2024-03-21] 삼성전자, 우려가 기대로 전환…밸류업 구간 진입-KB (유사도: 0.7932)\n",
      "url: https://n.news.naver.com/mnews/article/008/0005014825\n",
      "\n",
      "299. [2024-11-01] \"삼성전자, 반도체 업종 최선호주\"…엔비디아향 공급 기대-키움 (유사도: 0.7748)\n",
      "url: https://n.news.naver.com/mnews/article/008/0005108582\n",
      "\n",
      "1202. [2024-08-01] KB證 \"삼성전자, 하반기엔 더 좋아…'13만전자' 간다\" (유사도: 0.7730)\n",
      "url: https://n.news.naver.com/mnews/article/015/0005016800\n",
      "\n"
     ]
    }
   ],
   "source": [
    "print('\\nTop-5 유사 뉴스 (jhgan 모델)')\n",
    "for i, row in result1.head(5).iterrows():\n",
    "    print(f\"{i+1}. [{row['wdate'].date()}] {row['title']} (유사도: {row['similarity']:.4f})\")\n",
    "    print(f'url: {row['url']}')\n",
    "    print()\n",
    "\n",
    "print('\\nTop-5 유사 뉴스 (snunlp 모델)')\n",
    "for i, row in result2.head(5).iterrows():\n",
    "    print(f\"{i+1}. [{row['wdate'].date()}] {row['title']} (유사도: {row['similarity']:.4f})\")\n",
    "    print(f'url: {row['url']}')\n",
    "    print()"
   ]
  },
  {
   "cell_type": "code",
   "execution_count": null,
   "id": "9982d8e0",
   "metadata": {},
   "outputs": [],
   "source": []
  }
 ],
 "metadata": {
  "kernelspec": {
   "display_name": "base",
   "language": "python",
   "name": "python3"
  },
  "language_info": {
   "codemirror_mode": {
    "name": "ipython",
    "version": 3
   },
   "file_extension": ".py",
   "mimetype": "text/x-python",
   "name": "python",
   "nbconvert_exporter": "python",
   "pygments_lexer": "ipython3",
   "version": "3.12.7"
  }
 },
 "nbformat": 4,
 "nbformat_minor": 5
}
