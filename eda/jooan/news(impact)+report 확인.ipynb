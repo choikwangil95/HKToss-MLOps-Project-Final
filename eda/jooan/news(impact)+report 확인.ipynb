{
 "cells": [
  {
   "cell_type": "code",
   "execution_count": 1,
   "id": "d2f6745c",
   "metadata": {},
   "outputs": [
    {
     "data": {
      "text/plain": [
       "703960"
      ]
     },
     "execution_count": 1,
     "metadata": {},
     "output_type": "execute_result"
    }
   ],
   "source": [
    "import pandas as pd\n",
    "\n",
    "result_df = pd.read_csv('/Users/JooAnLee/final_project/eda/jooan/news(impact)+report(23-25)_embedding.csv')\n",
    "len(result_df)"
   ]
  },
  {
   "cell_type": "code",
   "execution_count": 3,
   "id": "44265d18",
   "metadata": {},
   "outputs": [
    {
     "name": "stdout",
     "output_type": "stream",
     "text": [
      "<class 'pandas.core.frame.DataFrame'>\n",
      "RangeIndex: 703960 entries, 0 to 703959\n",
      "Data columns (total 16 columns):\n",
      " #   Column          Non-Null Count   Dtype  \n",
      "---  ------          --------------   -----  \n",
      " 0   news_id         703960 non-null  object \n",
      " 1   wdate           703960 non-null  object \n",
      " 2   stock_name      703960 non-null  object \n",
      " 3   news_title      703960 non-null  object \n",
      " 4   news_content    703960 non-null  object \n",
      " 5   report_id       703960 non-null  object \n",
      " 6   작성일             703960 non-null  object \n",
      " 7   종목명             703960 non-null  object \n",
      " 8   report_title    703960 non-null  object \n",
      " 9   report_content  703960 non-null  object \n",
      " 10  impact_score    703960 non-null  float64\n",
      " 11  sim             703960 non-null  float64\n",
      " 12  date_diff_days  703960 non-null  int64  \n",
      " 13  sim_bin_05      703960 non-null  object \n",
      " 14  is_same_stock   703960 non-null  bool   \n",
      " 15  sim_rank        703960 non-null  float64\n",
      "dtypes: bool(1), float64(3), int64(1), object(11)\n",
      "memory usage: 81.2+ MB\n"
     ]
    }
   ],
   "source": [
    "result_df.info()"
   ]
  },
  {
   "cell_type": "code",
   "execution_count": 6,
   "id": "3e17bcb9",
   "metadata": {},
   "outputs": [
    {
     "data": {
      "text/plain": [
       "881"
      ]
     },
     "execution_count": 6,
     "metadata": {},
     "output_type": "execute_result"
    }
   ],
   "source": [
    "filtered_result_df = result_df[\n",
    "    (result_df['date_diff_days'] >= -30) & (result_df['date_diff_days'] <= 0) &  # 날짜차이 -30~0일\n",
    "    (result_df['sim'] >= 0.8) &                                                 # 유사도 0.8 이상\n",
    "    (result_df['is_same_stock'] == True)                                        # 같은 종목\n",
    "]\n",
    "\n",
    "len(filtered_result_df)"
   ]
  },
  {
   "cell_type": "code",
   "execution_count": 7,
   "id": "44839944",
   "metadata": {},
   "outputs": [
    {
     "data": {
      "text/plain": [
       "187"
      ]
     },
     "execution_count": 7,
     "metadata": {},
     "output_type": "execute_result"
    }
   ],
   "source": [
    "filtered_result_df2 = result_df[\n",
    "    (result_df['date_diff_days'] >= -30) & (result_df['date_diff_days'] <= 0) &  # 날짜차이 -30~0일\n",
    "    (result_df['sim'] >= 0.85) &                                                 # 유사도 0.8 이상\n",
    "    (result_df['is_same_stock'] == True)                                        # 같은 종목\n",
    "]\n",
    "\n",
    "len(filtered_result_df2)"
   ]
  },
  {
   "cell_type": "code",
   "execution_count": 9,
   "id": "7b182a1f",
   "metadata": {},
   "outputs": [
    {
     "data": {
      "text/plain": [
       "2753"
      ]
     },
     "execution_count": 9,
     "metadata": {},
     "output_type": "execute_result"
    }
   ],
   "source": [
    "filtered_result_df3 = result_df[\n",
    "    (result_df['date_diff_days'] >= -30) & (result_df['date_diff_days'] <= 0) &  # 날짜차이 -30~0일\n",
    "    (result_df['sim'] >= 0.75) &                                                 # 유사도 0.8 이상\n",
    "    (result_df['is_same_stock'] == True)                                        # 같은 종목\n",
    "]\n",
    "\n",
    "len(filtered_result_df3)"
   ]
  },
  {
   "cell_type": "code",
   "execution_count": 10,
   "id": "abfe7b3b",
   "metadata": {},
   "outputs": [
    {
     "data": {
      "text/html": [
       "<div>\n",
       "<style scoped>\n",
       "    .dataframe tbody tr th:only-of-type {\n",
       "        vertical-align: middle;\n",
       "    }\n",
       "\n",
       "    .dataframe tbody tr th {\n",
       "        vertical-align: top;\n",
       "    }\n",
       "\n",
       "    .dataframe thead th {\n",
       "        text-align: right;\n",
       "    }\n",
       "</style>\n",
       "<table border=\"1\" class=\"dataframe\">\n",
       "  <thead>\n",
       "    <tr style=\"text-align: right;\">\n",
       "      <th></th>\n",
       "      <th>news_id</th>\n",
       "      <th>wdate</th>\n",
       "      <th>stock_name</th>\n",
       "      <th>news_title</th>\n",
       "      <th>news_content</th>\n",
       "      <th>report_id</th>\n",
       "      <th>작성일</th>\n",
       "      <th>종목명</th>\n",
       "      <th>report_title</th>\n",
       "      <th>report_content</th>\n",
       "      <th>impact_score</th>\n",
       "      <th>sim</th>\n",
       "      <th>date_diff_days</th>\n",
       "      <th>sim_bin_05</th>\n",
       "      <th>is_same_stock</th>\n",
       "      <th>sim_rank</th>\n",
       "    </tr>\n",
       "  </thead>\n",
       "  <tbody>\n",
       "    <tr>\n",
       "      <th>700694</th>\n",
       "      <td>20240103_0279</td>\n",
       "      <td>2024-01-03 08:04:00</td>\n",
       "      <td>DL이앤씨</td>\n",
       "      <td>\"DL이앤씨, 작년 4분기 실적 컨센서스 상회 기대감에 투자의견·목표가↑\"-하나</td>\n",
       "      <td>하나증권은 DL이앤씨에 대해 지난해 4분기 실적이 시장 컨센서스를 크게 상회할 것이...</td>\n",
       "      <td>20240112_0031</td>\n",
       "      <td>2024-01-12</td>\n",
       "      <td>DL이앤씨</td>\n",
       "      <td>[4Q23 Preview] DL이앤씨 안정적인 선택지</td>\n",
       "      <td>4Q23 Preview: 영업이익, 시장 컨센서스 상회 예상\\nDL이앤씨의 2023...</td>\n",
       "      <td>14.99</td>\n",
       "      <td>0.777690</td>\n",
       "      <td>-9</td>\n",
       "      <td>0.75~0.8</td>\n",
       "      <td>True</td>\n",
       "      <td>15.0</td>\n",
       "    </tr>\n",
       "    <tr>\n",
       "      <th>700740</th>\n",
       "      <td>20240103_0284</td>\n",
       "      <td>2024-01-03 08:02:00</td>\n",
       "      <td>카카오뱅크</td>\n",
       "      <td>\"카카오뱅크, 대출 목표 달성 긍정적…새 플랫폼 수혜 기대\"-대신</td>\n",
       "      <td>목표주가 3만6000원, 투자 의견 '매수' 유지\\n\"올해 출시될 담보대출 대환 플...</td>\n",
       "      <td>20240103_0016</td>\n",
       "      <td>2024-01-03</td>\n",
       "      <td>카카오뱅크</td>\n",
       "      <td>새해, 새로운 모멘텀 3개</td>\n",
       "      <td>2024년~2026년 인터넷전문은행 중·저신용자 대출 비중 결정\\n2023년까지 인...</td>\n",
       "      <td>14.34</td>\n",
       "      <td>0.769317</td>\n",
       "      <td>0</td>\n",
       "      <td>0.75~0.8</td>\n",
       "      <td>True</td>\n",
       "      <td>1.0</td>\n",
       "    </tr>\n",
       "    <tr>\n",
       "      <th>702215</th>\n",
       "      <td>20240102_0266</td>\n",
       "      <td>2024-01-02 10:08:00</td>\n",
       "      <td>SK하이닉스</td>\n",
       "      <td>SK하이닉스, 4분기 영업손실 개선…목표가 18.5만원 상향 -메리츠證</td>\n",
       "      <td>메리츠증권이 SK하이닉스에 대해 목표주가를 기존 16만7000원에서 18만5000원...</td>\n",
       "      <td>20240126_0011</td>\n",
       "      <td>2024-01-26</td>\n",
       "      <td>SK하이닉스</td>\n",
       "      <td>4Q23 Review: 선제적 감산결정과 고부가 제품..</td>\n",
       "      <td>- 4Q23 실적은 매출 11.3조원, 영업이익 +3,460억원으로 흑자전환에 성공...</td>\n",
       "      <td>7.94</td>\n",
       "      <td>0.764958</td>\n",
       "      <td>-24</td>\n",
       "      <td>0.75~0.8</td>\n",
       "      <td>True</td>\n",
       "      <td>16.0</td>\n",
       "    </tr>\n",
       "    <tr>\n",
       "      <th>702845</th>\n",
       "      <td>20240102_0357</td>\n",
       "      <td>2024-01-02 08:23:00</td>\n",
       "      <td>현대제철</td>\n",
       "      <td>현대제철, \"철강 기업 중 가장 저평가\"…수소밸류체인 구축 필요-이베스트</td>\n",
       "      <td>현대제철 당진 수소공장 전경/사진제공=현대제찰\\n이베스트투자증권은 현대제철이 철강 ...</td>\n",
       "      <td>20240110_0032</td>\n",
       "      <td>2024-01-10</td>\n",
       "      <td>현대제철</td>\n",
       "      <td>결국 중국 철강 가격이 중요</td>\n",
       "      <td>4Q23 부진한 실적 기록\\n동사의 4분기 연결 실적은 매출액 6조원(+0.9% Y...</td>\n",
       "      <td>11.34</td>\n",
       "      <td>0.756210</td>\n",
       "      <td>-8</td>\n",
       "      <td>0.75~0.8</td>\n",
       "      <td>True</td>\n",
       "      <td>6.0</td>\n",
       "    </tr>\n",
       "    <tr>\n",
       "      <th>702903</th>\n",
       "      <td>20240102_0363</td>\n",
       "      <td>2024-01-02 08:15:00</td>\n",
       "      <td>SK하이닉스</td>\n",
       "      <td>“SK하이닉스, 당장의 실적보다 더 나은 올해에 주목”…목표가↑</td>\n",
       "      <td>경기도 이천시 SK하이닉스 본사의 모습. [출처 : 연합뉴스]\\n메리츠증권은 2일 ...</td>\n",
       "      <td>20240126_0033</td>\n",
       "      <td>2024-01-26</td>\n",
       "      <td>SK하이닉스</td>\n",
       "      <td>보수적 운영으로 이익 극대화 기대</td>\n",
       "      <td>4Q23 Review: 시장 기대치를 상회하는 실적\\nSK하이닉스의 23년 4분기 ...</td>\n",
       "      <td>7.94</td>\n",
       "      <td>0.756017</td>\n",
       "      <td>-24</td>\n",
       "      <td>0.75~0.8</td>\n",
       "      <td>True</td>\n",
       "      <td>4.0</td>\n",
       "    </tr>\n",
       "  </tbody>\n",
       "</table>\n",
       "</div>"
      ],
      "text/plain": [
       "              news_id                wdate stock_name  \\\n",
       "700694  20240103_0279  2024-01-03 08:04:00      DL이앤씨   \n",
       "700740  20240103_0284  2024-01-03 08:02:00      카카오뱅크   \n",
       "702215  20240102_0266  2024-01-02 10:08:00     SK하이닉스   \n",
       "702845  20240102_0357  2024-01-02 08:23:00       현대제철   \n",
       "702903  20240102_0363  2024-01-02 08:15:00     SK하이닉스   \n",
       "\n",
       "                                          news_title  \\\n",
       "700694  \"DL이앤씨, 작년 4분기 실적 컨센서스 상회 기대감에 투자의견·목표가↑\"-하나   \n",
       "700740          \"카카오뱅크, 대출 목표 달성 긍정적…새 플랫폼 수혜 기대\"-대신   \n",
       "702215       SK하이닉스, 4분기 영업손실 개선…목표가 18.5만원 상향 -메리츠證   \n",
       "702845      현대제철, \"철강 기업 중 가장 저평가\"…수소밸류체인 구축 필요-이베스트   \n",
       "702903           “SK하이닉스, 당장의 실적보다 더 나은 올해에 주목”…목표가↑   \n",
       "\n",
       "                                             news_content      report_id  \\\n",
       "700694  하나증권은 DL이앤씨에 대해 지난해 4분기 실적이 시장 컨센서스를 크게 상회할 것이...  20240112_0031   \n",
       "700740  목표주가 3만6000원, 투자 의견 '매수' 유지\\n\"올해 출시될 담보대출 대환 플...  20240103_0016   \n",
       "702215  메리츠증권이 SK하이닉스에 대해 목표주가를 기존 16만7000원에서 18만5000원...  20240126_0011   \n",
       "702845  현대제철 당진 수소공장 전경/사진제공=현대제찰\\n이베스트투자증권은 현대제철이 철강 ...  20240110_0032   \n",
       "702903  경기도 이천시 SK하이닉스 본사의 모습. [출처 : 연합뉴스]\\n메리츠증권은 2일 ...  20240126_0033   \n",
       "\n",
       "               작성일     종목명                     report_title  \\\n",
       "700694  2024-01-12   DL이앤씨    [4Q23 Preview] DL이앤씨 안정적인 선택지   \n",
       "700740  2024-01-03   카카오뱅크                   새해, 새로운 모멘텀 3개   \n",
       "702215  2024-01-26  SK하이닉스  4Q23 Review: 선제적 감산결정과 고부가 제품..   \n",
       "702845  2024-01-10    현대제철                  결국 중국 철강 가격이 중요   \n",
       "702903  2024-01-26  SK하이닉스               보수적 운영으로 이익 극대화 기대   \n",
       "\n",
       "                                           report_content  impact_score  \\\n",
       "700694  4Q23 Preview: 영업이익, 시장 컨센서스 상회 예상\\nDL이앤씨의 2023...         14.99   \n",
       "700740  2024년~2026년 인터넷전문은행 중·저신용자 대출 비중 결정\\n2023년까지 인...         14.34   \n",
       "702215  - 4Q23 실적은 매출 11.3조원, 영업이익 +3,460억원으로 흑자전환에 성공...          7.94   \n",
       "702845  4Q23 부진한 실적 기록\\n동사의 4분기 연결 실적은 매출액 6조원(+0.9% Y...         11.34   \n",
       "702903  4Q23 Review: 시장 기대치를 상회하는 실적\\nSK하이닉스의 23년 4분기 ...          7.94   \n",
       "\n",
       "             sim  date_diff_days sim_bin_05  is_same_stock  sim_rank  \n",
       "700694  0.777690              -9   0.75~0.8           True      15.0  \n",
       "700740  0.769317               0   0.75~0.8           True       1.0  \n",
       "702215  0.764958             -24   0.75~0.8           True      16.0  \n",
       "702845  0.756210              -8   0.75~0.8           True       6.0  \n",
       "702903  0.756017             -24   0.75~0.8           True       4.0  "
      ]
     },
     "execution_count": 10,
     "metadata": {},
     "output_type": "execute_result"
    }
   ],
   "source": [
    "filtered_result_df3.tail()"
   ]
  },
  {
   "cell_type": "code",
   "execution_count": 11,
   "id": "b9fdc205",
   "metadata": {},
   "outputs": [
    {
     "data": {
      "text/plain": [
       "5714"
      ]
     },
     "execution_count": 11,
     "metadata": {},
     "output_type": "execute_result"
    }
   ],
   "source": [
    "filtered_result_df4 = result_df[\n",
    "    (result_df['date_diff_days'] >= -30) & (result_df['date_diff_days'] <= 0) &  # 날짜차이 -30~0일                                            # 유사도 0.8 이상\n",
    "    (result_df['is_same_stock'] == True)                                        # 같은 종목\n",
    "]\n",
    "\n",
    "len(filtered_result_df4)"
   ]
  },
  {
   "cell_type": "code",
   "execution_count": null,
   "id": "c0eb0af3",
   "metadata": {},
   "outputs": [],
   "source": []
  }
 ],
 "metadata": {
  "kernelspec": {
   "display_name": "final_jn",
   "language": "python",
   "name": "python3"
  },
  "language_info": {
   "codemirror_mode": {
    "name": "ipython",
    "version": 3
   },
   "file_extension": ".py",
   "mimetype": "text/x-python",
   "name": "python",
   "nbconvert_exporter": "python",
   "pygments_lexer": "ipython3",
   "version": "3.9.18"
  }
 },
 "nbformat": 4,
 "nbformat_minor": 5
}
