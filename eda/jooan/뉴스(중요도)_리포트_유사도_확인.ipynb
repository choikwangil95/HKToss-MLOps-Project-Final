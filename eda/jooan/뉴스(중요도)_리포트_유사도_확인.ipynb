{
  "cells": [
    {
      "cell_type": "code",
      "execution_count": 1,
      "metadata": {
        "colab": {
          "base_uri": "https://localhost:8080/"
        },
        "id": "37cxwNDdDTEN",
        "outputId": "317c7568-47f1-4636-ec0d-7b7c10a274af"
      },
      "outputs": [
        {
          "name": "stdout",
          "output_type": "stream",
          "text": [
            "Reading package lists... Done\n",
            "Building dependency tree... Done\n",
            "Reading state information... Done\n",
            "fonts-nanum is already the newest version (20200506-1).\n",
            "0 upgraded, 0 newly installed, 0 to remove and 35 not upgraded.\n",
            "/usr/share/fonts: caching, new cache contents: 0 fonts, 1 dirs\n",
            "/usr/share/fonts/truetype: caching, new cache contents: 0 fonts, 3 dirs\n",
            "/usr/share/fonts/truetype/humor-sans: caching, new cache contents: 1 fonts, 0 dirs\n",
            "/usr/share/fonts/truetype/liberation: caching, new cache contents: 16 fonts, 0 dirs\n",
            "/usr/share/fonts/truetype/nanum: caching, new cache contents: 12 fonts, 0 dirs\n",
            "/usr/local/share/fonts: caching, new cache contents: 0 fonts, 0 dirs\n",
            "/root/.local/share/fonts: skipping, no such directory\n",
            "/root/.fonts: skipping, no such directory\n",
            "/usr/share/fonts/truetype: skipping, looped directory detected\n",
            "/usr/share/fonts/truetype/humor-sans: skipping, looped directory detected\n",
            "/usr/share/fonts/truetype/liberation: skipping, looped directory detected\n",
            "/usr/share/fonts/truetype/nanum: skipping, looped directory detected\n",
            "/var/cache/fontconfig: cleaning cache directory\n",
            "/root/.cache/fontconfig: not cleaning non-existent cache directory\n",
            "/root/.fontconfig: not cleaning non-existent cache directory\n",
            "fc-cache: succeeded\n"
          ]
        }
      ],
      "source": [
        "# 글꼴 설치\n",
        "!sudo apt-get install -y fonts-nanum\n",
        "!sudo fc-cache -fv\n",
        "!rm ~/.cache/matplotlib -rf\n",
        "\n",
        "import matplotlib.pyplot as plt\n",
        "\n",
        "plt.rc('font', family='NanumBarunGothic')\n",
        "plt.rcParams['axes.unicode_minus'] = False"
      ]
    },
    {
      "cell_type": "markdown",
      "metadata": {
        "id": "7KWF09sdFsLm"
      },
      "source": [
        "## 중요도 컬럼 추가된 뉴스 - 리포트 유사도 확인\n",
        "- 임베딩 모델 : snunlp/KR-SBERT-V40K-klueNLI-augSTS"
      ]
    },
    {
      "cell_type": "code",
      "execution_count": 2,
      "metadata": {
        "id": "3abH5yZApVw5"
      },
      "outputs": [],
      "source": [
        "import pandas as pd\n",
        "# news_df, report_df 불러오기\n",
        "news_df = pd.read_csv('/content/news_2023_2025_with_stock_impact.csv')\n",
        "report_df = pd.read_csv('/content/report_2023_2025.csv')"
      ]
    },
    {
      "cell_type": "code",
      "execution_count": 3,
      "metadata": {
        "colab": {
          "base_uri": "https://localhost:8080/",
          "height": 1000
        },
        "id": "IpyyBRoHp67v",
        "outputId": "99046a9e-bfe6-4c8b-896c-a377accecb36"
      },
      "outputs": [
        {
          "data": {
            "application/vnd.google.colaboratory.intrinsic+json": {
              "type": "dataframe",
              "variable_name": "news_df"
            },
            "text/html": [
              "\n",
              "  <div id=\"df-f84133b8-292f-4e36-9b6b-d26c2c1b5c56\" class=\"colab-df-container\">\n",
              "    <div>\n",
              "<style scoped>\n",
              "    .dataframe tbody tr th:only-of-type {\n",
              "        vertical-align: middle;\n",
              "    }\n",
              "\n",
              "    .dataframe tbody tr th {\n",
              "        vertical-align: top;\n",
              "    }\n",
              "\n",
              "    .dataframe thead th {\n",
              "        text-align: right;\n",
              "    }\n",
              "</style>\n",
              "<table border=\"1\" class=\"dataframe\">\n",
              "  <thead>\n",
              "    <tr style=\"text-align: right;\">\n",
              "      <th></th>\n",
              "      <th>news_id</th>\n",
              "      <th>wdate</th>\n",
              "      <th>title</th>\n",
              "      <th>article</th>\n",
              "      <th>press</th>\n",
              "      <th>url</th>\n",
              "      <th>image</th>\n",
              "      <th>text_combined</th>\n",
              "      <th>labels_by_id</th>\n",
              "      <th>stock_name</th>\n",
              "      <th>...</th>\n",
              "      <th>D-3</th>\n",
              "      <th>D-2</th>\n",
              "      <th>D-1</th>\n",
              "      <th>D+1</th>\n",
              "      <th>D+2</th>\n",
              "      <th>D+3</th>\n",
              "      <th>D+7</th>\n",
              "      <th>D+14</th>\n",
              "      <th>D+30</th>\n",
              "      <th>impact_score</th>\n",
              "    </tr>\n",
              "  </thead>\n",
              "  <tbody>\n",
              "    <tr>\n",
              "      <th>0</th>\n",
              "      <td>20250523_0002</td>\n",
              "      <td>2025-05-23 18:52:00</td>\n",
              "      <td>[단독] 카카오페이, 2500만 회원 쓱·스마일페이 품나…간편결제 시장 빅3 경쟁 후끈</td>\n",
              "      <td>매각가 5000억 안팎 달할듯\\n결제시장 내 입지강화 포석\\n카카오페이 [사진 = ...</td>\n",
              "      <td>매일경제</td>\n",
              "      <td>https://n.news.naver.com/mnews/article/009/000...</td>\n",
              "      <td>https://imgnews.pstatic.net/image/009/2025/05/...</td>\n",
              "      <td>[단독] 카카오페이, 2500만 회원 쓱·스마일페이 품나…간편결제 시장 빅3 경쟁 ...</td>\n",
              "      <td>['카카오페이']</td>\n",
              "      <td>카카오페이</td>\n",
              "      <td>...</td>\n",
              "      <td>-3.57</td>\n",
              "      <td>-1.62</td>\n",
              "      <td>0.0</td>\n",
              "      <td>4.22</td>\n",
              "      <td>4.22</td>\n",
              "      <td>16.72</td>\n",
              "      <td>26.30</td>\n",
              "      <td>26.30</td>\n",
              "      <td>26.30</td>\n",
              "      <td>30.85</td>\n",
              "    </tr>\n",
              "    <tr>\n",
              "      <th>1</th>\n",
              "      <td>20250523_0004</td>\n",
              "      <td>2025-05-23 18:33:00</td>\n",
              "      <td>골드만삭스 차기 CEO, 이재용·김병주·이창용 만났다</td>\n",
              "      <td>[사진=연합뉴스]\\n세계 2위 투자은행(IB)인 골드만삭스의 사장 겸 최고운영책임자...</td>\n",
              "      <td>매일경제</td>\n",
              "      <td>https://n.news.naver.com/mnews/article/009/000...</td>\n",
              "      <td>https://imgnews.pstatic.net/image/009/2025/05/...</td>\n",
              "      <td>골드만삭스 차기 CEO, 이재용·김병주·이창용 만났다 [사진=연합뉴스] 세계 2위 ...</td>\n",
              "      <td>['삼성전자']</td>\n",
              "      <td>삼성전자</td>\n",
              "      <td>...</td>\n",
              "      <td>2.77</td>\n",
              "      <td>0.92</td>\n",
              "      <td>0.0</td>\n",
              "      <td>0.92</td>\n",
              "      <td>0.92</td>\n",
              "      <td>-0.55</td>\n",
              "      <td>3.14</td>\n",
              "      <td>3.14</td>\n",
              "      <td>3.14</td>\n",
              "      <td>5.35</td>\n",
              "    </tr>\n",
              "    <tr>\n",
              "      <th>2</th>\n",
              "      <td>20250523_0005</td>\n",
              "      <td>2025-05-23 18:24:00</td>\n",
              "      <td>흔들리는 미국…달러 패권 붕괴에 '스테이블코인' 선택한 美</td>\n",
              "      <td>/사진=게티이미지뱅크\\n미국 정부가 달러의 기축통화 지위를 위협하는 금에 대응하기 ...</td>\n",
              "      <td>머니투데이</td>\n",
              "      <td>https://n.news.naver.com/mnews/article/008/000...</td>\n",
              "      <td>https://imgnews.pstatic.net/image/008/2025/05/...</td>\n",
              "      <td>흔들리는 미국…달러 패권 붕괴에 '스테이블코인' 선택한 美 /사진=게티이미지뱅크 미...</td>\n",
              "      <td>['상상인증권']</td>\n",
              "      <td>상상인증권</td>\n",
              "      <td>...</td>\n",
              "      <td>2.47</td>\n",
              "      <td>-2.47</td>\n",
              "      <td>0.0</td>\n",
              "      <td>-1.24</td>\n",
              "      <td>-1.24</td>\n",
              "      <td>-4.12</td>\n",
              "      <td>8.66</td>\n",
              "      <td>8.66</td>\n",
              "      <td>8.66</td>\n",
              "      <td>16.70</td>\n",
              "    </tr>\n",
              "    <tr>\n",
              "      <th>3</th>\n",
              "      <td>20250523_0007</td>\n",
              "      <td>2025-05-23 18:00:00</td>\n",
              "      <td>[단독] 전자결제 강자 카카오페이 쓱·스마일 페이 인수 추진</td>\n",
              "      <td>국내 대표 전자결제사업자인 카카오페이가 신세계이마트 산하 간편결제사업부 인수에 나섰...</td>\n",
              "      <td>매일경제</td>\n",
              "      <td>https://n.news.naver.com/mnews/article/009/000...</td>\n",
              "      <td>https://ssl.pstatic.net/static.news/image/news...</td>\n",
              "      <td>[단독] 전자결제 강자 카카오페이 쓱·스마일 페이 인수 추진 국내 대표 전자결제사업...</td>\n",
              "      <td>['카카오페이']</td>\n",
              "      <td>카카오페이</td>\n",
              "      <td>...</td>\n",
              "      <td>-3.57</td>\n",
              "      <td>-1.62</td>\n",
              "      <td>0.0</td>\n",
              "      <td>4.22</td>\n",
              "      <td>4.22</td>\n",
              "      <td>16.72</td>\n",
              "      <td>26.30</td>\n",
              "      <td>26.30</td>\n",
              "      <td>26.30</td>\n",
              "      <td>30.85</td>\n",
              "    </tr>\n",
              "    <tr>\n",
              "      <th>4</th>\n",
              "      <td>20250523_0008</td>\n",
              "      <td>2025-05-23 17:58:00</td>\n",
              "      <td>“이 단기 실적 안 좋을 때 사야죠”...비행기 타기 전에 사둔다는 이 주식</td>\n",
              "      <td>큰장 기다리는 韓美 여행주\\n시장점유율 1위 부킹홀딩스\\n올 최고 유망주 익스피디아...</td>\n",
              "      <td>매일경제</td>\n",
              "      <td>https://n.news.naver.com/mnews/article/009/000...</td>\n",
              "      <td>https://imgnews.pstatic.net/image/009/2025/05/...</td>\n",
              "      <td>“이 단기 실적 안 좋을 때 사야죠”...비행기 타기 전에 사둔다는 이 주식 큰장 ...</td>\n",
              "      <td>['호텔신라', '하나투어', '아시아나항공', '강원랜드', '대신증권', '대한...</td>\n",
              "      <td>호텔신라</td>\n",
              "      <td>...</td>\n",
              "      <td>-1.35</td>\n",
              "      <td>1.45</td>\n",
              "      <td>0.0</td>\n",
              "      <td>0.52</td>\n",
              "      <td>0.52</td>\n",
              "      <td>1.35</td>\n",
              "      <td>1.14</td>\n",
              "      <td>1.14</td>\n",
              "      <td>1.14</td>\n",
              "      <td>20.72</td>\n",
              "    </tr>\n",
              "  </tbody>\n",
              "</table>\n",
              "<p>5 rows × 26 columns</p>\n",
              "</div>\n",
              "    <div class=\"colab-df-buttons\">\n",
              "\n",
              "  <div class=\"colab-df-container\">\n",
              "    <button class=\"colab-df-convert\" onclick=\"convertToInteractive('df-f84133b8-292f-4e36-9b6b-d26c2c1b5c56')\"\n",
              "            title=\"Convert this dataframe to an interactive table.\"\n",
              "            style=\"display:none;\">\n",
              "\n",
              "  <svg xmlns=\"http://www.w3.org/2000/svg\" height=\"24px\" viewBox=\"0 -960 960 960\">\n",
              "    <path d=\"M120-120v-720h720v720H120Zm60-500h600v-160H180v160Zm220 220h160v-160H400v160Zm0 220h160v-160H400v160ZM180-400h160v-160H180v160Zm440 0h160v-160H620v160ZM180-180h160v-160H180v160Zm440 0h160v-160H620v160Z\"/>\n",
              "  </svg>\n",
              "    </button>\n",
              "\n",
              "  <style>\n",
              "    .colab-df-container {\n",
              "      display:flex;\n",
              "      gap: 12px;\n",
              "    }\n",
              "\n",
              "    .colab-df-convert {\n",
              "      background-color: #E8F0FE;\n",
              "      border: none;\n",
              "      border-radius: 50%;\n",
              "      cursor: pointer;\n",
              "      display: none;\n",
              "      fill: #1967D2;\n",
              "      height: 32px;\n",
              "      padding: 0 0 0 0;\n",
              "      width: 32px;\n",
              "    }\n",
              "\n",
              "    .colab-df-convert:hover {\n",
              "      background-color: #E2EBFA;\n",
              "      box-shadow: 0px 1px 2px rgba(60, 64, 67, 0.3), 0px 1px 3px 1px rgba(60, 64, 67, 0.15);\n",
              "      fill: #174EA6;\n",
              "    }\n",
              "\n",
              "    .colab-df-buttons div {\n",
              "      margin-bottom: 4px;\n",
              "    }\n",
              "\n",
              "    [theme=dark] .colab-df-convert {\n",
              "      background-color: #3B4455;\n",
              "      fill: #D2E3FC;\n",
              "    }\n",
              "\n",
              "    [theme=dark] .colab-df-convert:hover {\n",
              "      background-color: #434B5C;\n",
              "      box-shadow: 0px 1px 3px 1px rgba(0, 0, 0, 0.15);\n",
              "      filter: drop-shadow(0px 1px 2px rgba(0, 0, 0, 0.3));\n",
              "      fill: #FFFFFF;\n",
              "    }\n",
              "  </style>\n",
              "\n",
              "    <script>\n",
              "      const buttonEl =\n",
              "        document.querySelector('#df-f84133b8-292f-4e36-9b6b-d26c2c1b5c56 button.colab-df-convert');\n",
              "      buttonEl.style.display =\n",
              "        google.colab.kernel.accessAllowed ? 'block' : 'none';\n",
              "\n",
              "      async function convertToInteractive(key) {\n",
              "        const element = document.querySelector('#df-f84133b8-292f-4e36-9b6b-d26c2c1b5c56');\n",
              "        const dataTable =\n",
              "          await google.colab.kernel.invokeFunction('convertToInteractive',\n",
              "                                                    [key], {});\n",
              "        if (!dataTable) return;\n",
              "\n",
              "        const docLinkHtml = 'Like what you see? Visit the ' +\n",
              "          '<a target=\"_blank\" href=https://colab.research.google.com/notebooks/data_table.ipynb>data table notebook</a>'\n",
              "          + ' to learn more about interactive tables.';\n",
              "        element.innerHTML = '';\n",
              "        dataTable['output_type'] = 'display_data';\n",
              "        await google.colab.output.renderOutput(dataTable, element);\n",
              "        const docLink = document.createElement('div');\n",
              "        docLink.innerHTML = docLinkHtml;\n",
              "        element.appendChild(docLink);\n",
              "      }\n",
              "    </script>\n",
              "  </div>\n",
              "\n",
              "\n",
              "    <div id=\"df-d7d3e355-1cf0-4e22-b451-7334599ecdd8\">\n",
              "      <button class=\"colab-df-quickchart\" onclick=\"quickchart('df-d7d3e355-1cf0-4e22-b451-7334599ecdd8')\"\n",
              "                title=\"Suggest charts\"\n",
              "                style=\"display:none;\">\n",
              "\n",
              "<svg xmlns=\"http://www.w3.org/2000/svg\" height=\"24px\"viewBox=\"0 0 24 24\"\n",
              "     width=\"24px\">\n",
              "    <g>\n",
              "        <path d=\"M19 3H5c-1.1 0-2 .9-2 2v14c0 1.1.9 2 2 2h14c1.1 0 2-.9 2-2V5c0-1.1-.9-2-2-2zM9 17H7v-7h2v7zm4 0h-2V7h2v10zm4 0h-2v-4h2v4z\"/>\n",
              "    </g>\n",
              "</svg>\n",
              "      </button>\n",
              "\n",
              "<style>\n",
              "  .colab-df-quickchart {\n",
              "      --bg-color: #E8F0FE;\n",
              "      --fill-color: #1967D2;\n",
              "      --hover-bg-color: #E2EBFA;\n",
              "      --hover-fill-color: #174EA6;\n",
              "      --disabled-fill-color: #AAA;\n",
              "      --disabled-bg-color: #DDD;\n",
              "  }\n",
              "\n",
              "  [theme=dark] .colab-df-quickchart {\n",
              "      --bg-color: #3B4455;\n",
              "      --fill-color: #D2E3FC;\n",
              "      --hover-bg-color: #434B5C;\n",
              "      --hover-fill-color: #FFFFFF;\n",
              "      --disabled-bg-color: #3B4455;\n",
              "      --disabled-fill-color: #666;\n",
              "  }\n",
              "\n",
              "  .colab-df-quickchart {\n",
              "    background-color: var(--bg-color);\n",
              "    border: none;\n",
              "    border-radius: 50%;\n",
              "    cursor: pointer;\n",
              "    display: none;\n",
              "    fill: var(--fill-color);\n",
              "    height: 32px;\n",
              "    padding: 0;\n",
              "    width: 32px;\n",
              "  }\n",
              "\n",
              "  .colab-df-quickchart:hover {\n",
              "    background-color: var(--hover-bg-color);\n",
              "    box-shadow: 0 1px 2px rgba(60, 64, 67, 0.3), 0 1px 3px 1px rgba(60, 64, 67, 0.15);\n",
              "    fill: var(--button-hover-fill-color);\n",
              "  }\n",
              "\n",
              "  .colab-df-quickchart-complete:disabled,\n",
              "  .colab-df-quickchart-complete:disabled:hover {\n",
              "    background-color: var(--disabled-bg-color);\n",
              "    fill: var(--disabled-fill-color);\n",
              "    box-shadow: none;\n",
              "  }\n",
              "\n",
              "  .colab-df-spinner {\n",
              "    border: 2px solid var(--fill-color);\n",
              "    border-color: transparent;\n",
              "    border-bottom-color: var(--fill-color);\n",
              "    animation:\n",
              "      spin 1s steps(1) infinite;\n",
              "  }\n",
              "\n",
              "  @keyframes spin {\n",
              "    0% {\n",
              "      border-color: transparent;\n",
              "      border-bottom-color: var(--fill-color);\n",
              "      border-left-color: var(--fill-color);\n",
              "    }\n",
              "    20% {\n",
              "      border-color: transparent;\n",
              "      border-left-color: var(--fill-color);\n",
              "      border-top-color: var(--fill-color);\n",
              "    }\n",
              "    30% {\n",
              "      border-color: transparent;\n",
              "      border-left-color: var(--fill-color);\n",
              "      border-top-color: var(--fill-color);\n",
              "      border-right-color: var(--fill-color);\n",
              "    }\n",
              "    40% {\n",
              "      border-color: transparent;\n",
              "      border-right-color: var(--fill-color);\n",
              "      border-top-color: var(--fill-color);\n",
              "    }\n",
              "    60% {\n",
              "      border-color: transparent;\n",
              "      border-right-color: var(--fill-color);\n",
              "    }\n",
              "    80% {\n",
              "      border-color: transparent;\n",
              "      border-right-color: var(--fill-color);\n",
              "      border-bottom-color: var(--fill-color);\n",
              "    }\n",
              "    90% {\n",
              "      border-color: transparent;\n",
              "      border-bottom-color: var(--fill-color);\n",
              "    }\n",
              "  }\n",
              "</style>\n",
              "\n",
              "      <script>\n",
              "        async function quickchart(key) {\n",
              "          const quickchartButtonEl =\n",
              "            document.querySelector('#' + key + ' button');\n",
              "          quickchartButtonEl.disabled = true;  // To prevent multiple clicks.\n",
              "          quickchartButtonEl.classList.add('colab-df-spinner');\n",
              "          try {\n",
              "            const charts = await google.colab.kernel.invokeFunction(\n",
              "                'suggestCharts', [key], {});\n",
              "          } catch (error) {\n",
              "            console.error('Error during call to suggestCharts:', error);\n",
              "          }\n",
              "          quickchartButtonEl.classList.remove('colab-df-spinner');\n",
              "          quickchartButtonEl.classList.add('colab-df-quickchart-complete');\n",
              "        }\n",
              "        (() => {\n",
              "          let quickchartButtonEl =\n",
              "            document.querySelector('#df-d7d3e355-1cf0-4e22-b451-7334599ecdd8 button');\n",
              "          quickchartButtonEl.style.display =\n",
              "            google.colab.kernel.accessAllowed ? 'block' : 'none';\n",
              "        })();\n",
              "      </script>\n",
              "    </div>\n",
              "\n",
              "    </div>\n",
              "  </div>\n"
            ],
            "text/plain": [
              "         news_id                wdate  \\\n",
              "0  20250523_0002  2025-05-23 18:52:00   \n",
              "1  20250523_0004  2025-05-23 18:33:00   \n",
              "2  20250523_0005  2025-05-23 18:24:00   \n",
              "3  20250523_0007  2025-05-23 18:00:00   \n",
              "4  20250523_0008  2025-05-23 17:58:00   \n",
              "\n",
              "                                              title  \\\n",
              "0  [단독] 카카오페이, 2500만 회원 쓱·스마일페이 품나…간편결제 시장 빅3 경쟁 후끈   \n",
              "1                     골드만삭스 차기 CEO, 이재용·김병주·이창용 만났다   \n",
              "2                  흔들리는 미국…달러 패권 붕괴에 '스테이블코인' 선택한 美   \n",
              "3                 [단독] 전자결제 강자 카카오페이 쓱·스마일 페이 인수 추진   \n",
              "4        “이 단기 실적 안 좋을 때 사야죠”...비행기 타기 전에 사둔다는 이 주식   \n",
              "\n",
              "                                             article  press  \\\n",
              "0  매각가 5000억 안팎 달할듯\\n결제시장 내 입지강화 포석\\n카카오페이 [사진 = ...   매일경제   \n",
              "1  [사진=연합뉴스]\\n세계 2위 투자은행(IB)인 골드만삭스의 사장 겸 최고운영책임자...   매일경제   \n",
              "2  /사진=게티이미지뱅크\\n미국 정부가 달러의 기축통화 지위를 위협하는 금에 대응하기 ...  머니투데이   \n",
              "3  국내 대표 전자결제사업자인 카카오페이가 신세계이마트 산하 간편결제사업부 인수에 나섰...   매일경제   \n",
              "4  큰장 기다리는 韓美 여행주\\n시장점유율 1위 부킹홀딩스\\n올 최고 유망주 익스피디아...   매일경제   \n",
              "\n",
              "                                                 url  \\\n",
              "0  https://n.news.naver.com/mnews/article/009/000...   \n",
              "1  https://n.news.naver.com/mnews/article/009/000...   \n",
              "2  https://n.news.naver.com/mnews/article/008/000...   \n",
              "3  https://n.news.naver.com/mnews/article/009/000...   \n",
              "4  https://n.news.naver.com/mnews/article/009/000...   \n",
              "\n",
              "                                               image  \\\n",
              "0  https://imgnews.pstatic.net/image/009/2025/05/...   \n",
              "1  https://imgnews.pstatic.net/image/009/2025/05/...   \n",
              "2  https://imgnews.pstatic.net/image/008/2025/05/...   \n",
              "3  https://ssl.pstatic.net/static.news/image/news...   \n",
              "4  https://imgnews.pstatic.net/image/009/2025/05/...   \n",
              "\n",
              "                                       text_combined  \\\n",
              "0  [단독] 카카오페이, 2500만 회원 쓱·스마일페이 품나…간편결제 시장 빅3 경쟁 ...   \n",
              "1  골드만삭스 차기 CEO, 이재용·김병주·이창용 만났다 [사진=연합뉴스] 세계 2위 ...   \n",
              "2  흔들리는 미국…달러 패권 붕괴에 '스테이블코인' 선택한 美 /사진=게티이미지뱅크 미...   \n",
              "3  [단독] 전자결제 강자 카카오페이 쓱·스마일 페이 인수 추진 국내 대표 전자결제사업...   \n",
              "4  “이 단기 실적 안 좋을 때 사야죠”...비행기 타기 전에 사둔다는 이 주식 큰장 ...   \n",
              "\n",
              "                                        labels_by_id stock_name  ...   D-3  \\\n",
              "0                                          ['카카오페이']      카카오페이  ... -3.57   \n",
              "1                                           ['삼성전자']       삼성전자  ...  2.77   \n",
              "2                                          ['상상인증권']      상상인증권  ...  2.47   \n",
              "3                                          ['카카오페이']      카카오페이  ... -3.57   \n",
              "4  ['호텔신라', '하나투어', '아시아나항공', '강원랜드', '대신증권', '대한...       호텔신라  ... -1.35   \n",
              "\n",
              "    D-2  D-1   D+1   D+2    D+3    D+7   D+14   D+30  impact_score  \n",
              "0 -1.62  0.0  4.22  4.22  16.72  26.30  26.30  26.30         30.85  \n",
              "1  0.92  0.0  0.92  0.92  -0.55   3.14   3.14   3.14          5.35  \n",
              "2 -2.47  0.0 -1.24 -1.24  -4.12   8.66   8.66   8.66         16.70  \n",
              "3 -1.62  0.0  4.22  4.22  16.72  26.30  26.30  26.30         30.85  \n",
              "4  1.45  0.0  0.52  0.52   1.35   1.14   1.14   1.14         20.72  \n",
              "\n",
              "[5 rows x 26 columns]"
            ]
          },
          "execution_count": 3,
          "metadata": {},
          "output_type": "execute_result"
        }
      ],
      "source": [
        "news_df.head()"
      ]
    },
    {
      "cell_type": "code",
      "execution_count": 4,
      "metadata": {
        "colab": {
          "base_uri": "https://localhost:8080/"
        },
        "id": "KgR2NezXp95-",
        "outputId": "a8f609f6-c0b7-4c24-9142-2cf4f16c31ee"
      },
      "outputs": [
        {
          "name": "stdout",
          "output_type": "stream",
          "text": [
            "<class 'pandas.core.frame.DataFrame'>\n",
            "RangeIndex: 35198 entries, 0 to 35197\n",
            "Data columns (total 26 columns):\n",
            " #   Column         Non-Null Count  Dtype  \n",
            "---  ------         --------------  -----  \n",
            " 0   news_id        35198 non-null  object \n",
            " 1   wdate          35198 non-null  object \n",
            " 2   title          35198 non-null  object \n",
            " 3   article        35198 non-null  object \n",
            " 4   press          35198 non-null  object \n",
            " 5   url            35198 non-null  object \n",
            " 6   image          35198 non-null  object \n",
            " 7   text_combined  35198 non-null  object \n",
            " 8   labels_by_id   35198 non-null  object \n",
            " 9   stock_name     35198 non-null  object \n",
            " 10  종목코드           35198 non-null  int64  \n",
            " 11  상장시가총액         35198 non-null  float64\n",
            " 12  base_price     35198 non-null  float64\n",
            " 13  D-30           35198 non-null  float64\n",
            " 14  D-14           35198 non-null  float64\n",
            " 15  D-7            35198 non-null  float64\n",
            " 16  D-3            35198 non-null  float64\n",
            " 17  D-2            35198 non-null  float64\n",
            " 18  D-1            35198 non-null  float64\n",
            " 19  D+1            35198 non-null  float64\n",
            " 20  D+2            35198 non-null  float64\n",
            " 21  D+3            35198 non-null  float64\n",
            " 22  D+7            35198 non-null  float64\n",
            " 23  D+14           35198 non-null  float64\n",
            " 24  D+30           35198 non-null  float64\n",
            " 25  impact_score   35198 non-null  float64\n",
            "dtypes: float64(15), int64(1), object(10)\n",
            "memory usage: 7.0+ MB\n",
            "===============================================\n",
            "<class 'pandas.core.frame.DataFrame'>\n",
            "RangeIndex: 17310 entries, 0 to 17309\n",
            "Data columns (total 10 columns):\n",
            " #   Column     Non-Null Count  Dtype \n",
            "---  ------     --------------  ----- \n",
            " 0   report_id  17310 non-null  object\n",
            " 1   종목명        17310 non-null  object\n",
            " 2   제목         17310 non-null  object\n",
            " 3   증권사        17310 non-null  object\n",
            " 4   작성일        17310 non-null  object\n",
            " 5   조회수        17310 non-null  int64 \n",
            " 6   URL        17310 non-null  object\n",
            " 7   본문         17310 non-null  object\n",
            " 8   목표가        14525 non-null  object\n",
            " 9   투자의견       17310 non-null  object\n",
            "dtypes: int64(1), object(9)\n",
            "memory usage: 1.3+ MB\n"
          ]
        }
      ],
      "source": [
        "news_df.info()\n",
        "print(\"===============================================\")\n",
        "report_df.info()"
      ]
    },
    {
      "cell_type": "code",
      "execution_count": 5,
      "metadata": {
        "colab": {
          "base_uri": "https://localhost:8080/"
        },
        "id": "GqXVqwruqHLL",
        "outputId": "0d6bc53d-f908-460d-9da4-2ab145d1ac60"
      },
      "outputs": [
        {
          "name": "stdout",
          "output_type": "stream",
          "text": [
            "Requirement already satisfied: sentence-transformers in /usr/local/lib/python3.11/dist-packages (4.1.0)\n",
            "Requirement already satisfied: transformers<5.0.0,>=4.41.0 in /usr/local/lib/python3.11/dist-packages (from sentence-transformers) (4.52.2)\n",
            "Requirement already satisfied: tqdm in /usr/local/lib/python3.11/dist-packages (from sentence-transformers) (4.67.1)\n",
            "Requirement already satisfied: torch>=1.11.0 in /usr/local/lib/python3.11/dist-packages (from sentence-transformers) (2.6.0+cu124)\n",
            "Requirement already satisfied: scikit-learn in /usr/local/lib/python3.11/dist-packages (from sentence-transformers) (1.6.1)\n",
            "Requirement already satisfied: scipy in /usr/local/lib/python3.11/dist-packages (from sentence-transformers) (1.15.3)\n",
            "Requirement already satisfied: huggingface-hub>=0.20.0 in /usr/local/lib/python3.11/dist-packages (from sentence-transformers) (0.31.4)\n",
            "Requirement already satisfied: Pillow in /usr/local/lib/python3.11/dist-packages (from sentence-transformers) (11.2.1)\n",
            "Requirement already satisfied: typing_extensions>=4.5.0 in /usr/local/lib/python3.11/dist-packages (from sentence-transformers) (4.13.2)\n",
            "Requirement already satisfied: filelock in /usr/local/lib/python3.11/dist-packages (from huggingface-hub>=0.20.0->sentence-transformers) (3.18.0)\n",
            "Requirement already satisfied: fsspec>=2023.5.0 in /usr/local/lib/python3.11/dist-packages (from huggingface-hub>=0.20.0->sentence-transformers) (2025.3.2)\n",
            "Requirement already satisfied: packaging>=20.9 in /usr/local/lib/python3.11/dist-packages (from huggingface-hub>=0.20.0->sentence-transformers) (24.2)\n",
            "Requirement already satisfied: pyyaml>=5.1 in /usr/local/lib/python3.11/dist-packages (from huggingface-hub>=0.20.0->sentence-transformers) (6.0.2)\n",
            "Requirement already satisfied: requests in /usr/local/lib/python3.11/dist-packages (from huggingface-hub>=0.20.0->sentence-transformers) (2.32.3)\n",
            "Requirement already satisfied: networkx in /usr/local/lib/python3.11/dist-packages (from torch>=1.11.0->sentence-transformers) (3.4.2)\n",
            "Requirement already satisfied: jinja2 in /usr/local/lib/python3.11/dist-packages (from torch>=1.11.0->sentence-transformers) (3.1.6)\n",
            "Requirement already satisfied: nvidia-cuda-nvrtc-cu12==12.4.127 in /usr/local/lib/python3.11/dist-packages (from torch>=1.11.0->sentence-transformers) (12.4.127)\n",
            "Requirement already satisfied: nvidia-cuda-runtime-cu12==12.4.127 in /usr/local/lib/python3.11/dist-packages (from torch>=1.11.0->sentence-transformers) (12.4.127)\n",
            "Requirement already satisfied: nvidia-cuda-cupti-cu12==12.4.127 in /usr/local/lib/python3.11/dist-packages (from torch>=1.11.0->sentence-transformers) (12.4.127)\n",
            "Requirement already satisfied: nvidia-cudnn-cu12==9.1.0.70 in /usr/local/lib/python3.11/dist-packages (from torch>=1.11.0->sentence-transformers) (9.1.0.70)\n",
            "Requirement already satisfied: nvidia-cublas-cu12==12.4.5.8 in /usr/local/lib/python3.11/dist-packages (from torch>=1.11.0->sentence-transformers) (12.4.5.8)\n",
            "Requirement already satisfied: nvidia-cufft-cu12==11.2.1.3 in /usr/local/lib/python3.11/dist-packages (from torch>=1.11.0->sentence-transformers) (11.2.1.3)\n",
            "Requirement already satisfied: nvidia-curand-cu12==10.3.5.147 in /usr/local/lib/python3.11/dist-packages (from torch>=1.11.0->sentence-transformers) (10.3.5.147)\n",
            "Requirement already satisfied: nvidia-cusolver-cu12==11.6.1.9 in /usr/local/lib/python3.11/dist-packages (from torch>=1.11.0->sentence-transformers) (11.6.1.9)\n",
            "Requirement already satisfied: nvidia-cusparse-cu12==12.3.1.170 in /usr/local/lib/python3.11/dist-packages (from torch>=1.11.0->sentence-transformers) (12.3.1.170)\n",
            "Requirement already satisfied: nvidia-cusparselt-cu12==0.6.2 in /usr/local/lib/python3.11/dist-packages (from torch>=1.11.0->sentence-transformers) (0.6.2)\n",
            "Requirement already satisfied: nvidia-nccl-cu12==2.21.5 in /usr/local/lib/python3.11/dist-packages (from torch>=1.11.0->sentence-transformers) (2.21.5)\n",
            "Requirement already satisfied: nvidia-nvtx-cu12==12.4.127 in /usr/local/lib/python3.11/dist-packages (from torch>=1.11.0->sentence-transformers) (12.4.127)\n",
            "Requirement already satisfied: nvidia-nvjitlink-cu12==12.4.127 in /usr/local/lib/python3.11/dist-packages (from torch>=1.11.0->sentence-transformers) (12.4.127)\n",
            "Requirement already satisfied: triton==3.2.0 in /usr/local/lib/python3.11/dist-packages (from torch>=1.11.0->sentence-transformers) (3.2.0)\n",
            "Requirement already satisfied: sympy==1.13.1 in /usr/local/lib/python3.11/dist-packages (from torch>=1.11.0->sentence-transformers) (1.13.1)\n",
            "Requirement already satisfied: mpmath<1.4,>=1.1.0 in /usr/local/lib/python3.11/dist-packages (from sympy==1.13.1->torch>=1.11.0->sentence-transformers) (1.3.0)\n",
            "Requirement already satisfied: numpy>=1.17 in /usr/local/lib/python3.11/dist-packages (from transformers<5.0.0,>=4.41.0->sentence-transformers) (2.0.2)\n",
            "Requirement already satisfied: regex!=2019.12.17 in /usr/local/lib/python3.11/dist-packages (from transformers<5.0.0,>=4.41.0->sentence-transformers) (2024.11.6)\n",
            "Requirement already satisfied: tokenizers<0.22,>=0.21 in /usr/local/lib/python3.11/dist-packages (from transformers<5.0.0,>=4.41.0->sentence-transformers) (0.21.1)\n",
            "Requirement already satisfied: safetensors>=0.4.3 in /usr/local/lib/python3.11/dist-packages (from transformers<5.0.0,>=4.41.0->sentence-transformers) (0.5.3)\n",
            "Requirement already satisfied: joblib>=1.2.0 in /usr/local/lib/python3.11/dist-packages (from scikit-learn->sentence-transformers) (1.5.0)\n",
            "Requirement already satisfied: threadpoolctl>=3.1.0 in /usr/local/lib/python3.11/dist-packages (from scikit-learn->sentence-transformers) (3.6.0)\n",
            "Requirement already satisfied: MarkupSafe>=2.0 in /usr/local/lib/python3.11/dist-packages (from jinja2->torch>=1.11.0->sentence-transformers) (3.0.2)\n",
            "Requirement already satisfied: charset-normalizer<4,>=2 in /usr/local/lib/python3.11/dist-packages (from requests->huggingface-hub>=0.20.0->sentence-transformers) (3.4.2)\n",
            "Requirement already satisfied: idna<4,>=2.5 in /usr/local/lib/python3.11/dist-packages (from requests->huggingface-hub>=0.20.0->sentence-transformers) (3.10)\n",
            "Requirement already satisfied: urllib3<3,>=1.21.1 in /usr/local/lib/python3.11/dist-packages (from requests->huggingface-hub>=0.20.0->sentence-transformers) (2.4.0)\n",
            "Requirement already satisfied: certifi>=2017.4.17 in /usr/local/lib/python3.11/dist-packages (from requests->huggingface-hub>=0.20.0->sentence-transformers) (2025.4.26)\n"
          ]
        }
      ],
      "source": [
        "pip install sentence-transformers"
      ]
    },
    {
      "cell_type": "code",
      "execution_count": 6,
      "metadata": {
        "colab": {
          "base_uri": "https://localhost:8080/"
        },
        "id": "-t675_AKqQuX",
        "outputId": "3fa56fb0-408d-47e1-8f29-55244187d197"
      },
      "outputs": [
        {
          "name": "stderr",
          "output_type": "stream",
          "text": [
            "/usr/local/lib/python3.11/dist-packages/huggingface_hub/utils/_auth.py:94: UserWarning: \n",
            "The secret `HF_TOKEN` does not exist in your Colab secrets.\n",
            "To authenticate with the Hugging Face Hub, create a token in your settings tab (https://huggingface.co/settings/tokens), set it as secret in your Google Colab and restart your session.\n",
            "You will be able to reuse this secret in all of your notebooks.\n",
            "Please note that authentication is recommended but still optional to access public models or datasets.\n",
            "  warnings.warn(\n"
          ]
        }
      ],
      "source": [
        "from sentence_transformers import SentenceTransformer\n",
        "\n",
        "model = SentenceTransformer(\"snunlp/KR-SBERT-V40K-klueNLI-augSTS\")"
      ]
    },
    {
      "cell_type": "code",
      "execution_count": 7,
      "metadata": {
        "colab": {
          "base_uri": "https://localhost:8080/",
          "height": 81,
          "referenced_widgets": [
            "66d4c30b6b84416fb5ab1a5f619875e9",
            "5d44492950384f55ac7bc9c5bf075491",
            "894d966b09904deb848776075be5461e",
            "9220369d361e4c31b241cc1a22eb0aa2",
            "e271d704f3c84044a6bfab920143ef5b",
            "0ad849e1855c4e1fb4032de331bc4f3e",
            "c29912e1cbf6490daa5d3162f9031a90",
            "954526f8c0b04986915dfd172c801d89",
            "05b34f7fbd414465acf224c4383875b0",
            "a128d5d5d9324a4ab29962aeccca527a",
            "4084e861bd1844a9b44848c5f4eecbe6",
            "f4dcc9b6aff0478c97d682265a39713d",
            "f092842401ef4f99859fae968df3c7ff",
            "0222c154120046ea80ea13de1ca5b8c5",
            "a929d0d1c0d5419dbd62f702da5b0324",
            "3cfa227853374ce08930f15dbbdbec9b",
            "33a3bfffc3f545bdbcd80397cc35ae10",
            "e172425d386a4fa0a885c6c392202eb7",
            "aab4acd3ae9c45c78c8c3328380b76e7",
            "19d8ba7276d04fb489d0eb9b4ca83f68",
            "18047ae3f2124ddaa947b0180cb87cc5",
            "07c633db9f5644feada9545ca00688a3"
          ]
        },
        "id": "AzgsFLT-qVaO",
        "outputId": "9b165ba7-2efa-44ca-b7d5-7bbb199dae23"
      },
      "outputs": [
        {
          "data": {
            "application/vnd.jupyter.widget-view+json": {
              "model_id": "66d4c30b6b84416fb5ab1a5f619875e9",
              "version_major": 2,
              "version_minor": 0
            },
            "text/plain": [
              "Batches:   0%|          | 0/550 [00:00<?, ?it/s]"
            ]
          },
          "metadata": {},
          "output_type": "display_data"
        },
        {
          "data": {
            "application/vnd.jupyter.widget-view+json": {
              "model_id": "f4dcc9b6aff0478c97d682265a39713d",
              "version_major": 2,
              "version_minor": 0
            },
            "text/plain": [
              "Batches:   0%|          | 0/271 [00:00<?, ?it/s]"
            ]
          },
          "metadata": {},
          "output_type": "display_data"
        }
      ],
      "source": [
        "# 임베딩\n",
        "news_emb = model.encode(news_df['article'].tolist(), batch_size=64, show_progress_bar=True)\n",
        "report_emb = model.encode(report_df['본문'].tolist(), batch_size=64, show_progress_bar=True)\n",
        "\n",
        "# DataFrame에 embedding 컬럼으로 저장 (각 row에 np.ndarray 또는 list)\n",
        "import numpy as np\n",
        "\n",
        "news_df['embedding'] = list(news_emb)\n",
        "report_df['embedding'] = list(report_emb)"
      ]
    },
    {
      "cell_type": "code",
      "execution_count": 8,
      "metadata": {
        "colab": {
          "base_uri": "https://localhost:8080/"
        },
        "id": "1GcAnKGeqlY4",
        "outputId": "3cb97a65-3c9d-4804-f8d4-6e155eea0d00"
      },
      "outputs": [
        {
          "name": "stderr",
          "output_type": "stream",
          "text": [
            "100%|██████████| 35198/35198 [06:11<00:00, 94.82it/s] \n"
          ]
        }
      ],
      "source": [
        "from sklearn.metrics.pairwise import cosine_similarity\n",
        "import numpy as np\n",
        "from tqdm import tqdm\n",
        "import pandas as pd\n",
        "\n",
        "# 1. embedding matrix 추출\n",
        "news_emb = np.stack(news_df['embedding'].values)\n",
        "report_emb = np.stack(report_df['embedding'].values)\n",
        "\n",
        "# 2. 코사인 유사도 계산\n",
        "cos_sim = cosine_similarity(news_emb, report_emb)  # shape: (num_news, num_report)\n",
        "\n",
        "# 3. 매칭 (유사도 기준, 날짜 기준 없이 상위 20개만)\n",
        "all_matches = []\n",
        "\n",
        "for i in tqdm(range(len(news_df))):\n",
        "    sims = cos_sim[i]\n",
        "    top20_idx = np.argsort(sims)[::-1][:20]\n",
        "    for j in top20_idx:\n",
        "        sim = sims[j]\n",
        "        all_matches.append({\n",
        "            'news_id': news_df.iloc[i]['news_id'],\n",
        "            'wdate': news_df.iloc[i]['wdate'],\n",
        "            'stock_name': news_df.iloc[i]['stock_name'],\n",
        "            'news_title': news_df.iloc[i]['title'],\n",
        "            'news_content': news_df.iloc[i]['article'],\n",
        "            'report_id': report_df.iloc[j]['report_id'],\n",
        "            '작성일': report_df.iloc[j]['작성일'],\n",
        "            '종목명': report_df.iloc[j]['종목명'],\n",
        "            'report_title': report_df.iloc[j]['제목'],\n",
        "            'report_content': report_df.iloc[j]['본문'],\n",
        "            'impact_score': news_df.iloc[i]['impact_score'],\n",
        "            'sim': sim\n",
        "        })\n",
        "\n",
        "result_df = pd.DataFrame(all_matches)"
      ]
    },
    {
      "cell_type": "code",
      "execution_count": 9,
      "metadata": {
        "id": "MzYv34YmqoVD"
      },
      "outputs": [],
      "source": [
        "result_df['wdate'] = pd.to_datetime(result_df['wdate'])\n",
        "result_df['작성일'] = pd.to_datetime(result_df['작성일'])"
      ]
    },
    {
      "cell_type": "code",
      "execution_count": 10,
      "metadata": {
        "id": "TAfTacBir3Hi"
      },
      "outputs": [],
      "source": [
        "result_df['date_diff_days'] = (result_df['wdate'] - result_df['작성일']).dt.days"
      ]
    },
    {
      "cell_type": "code",
      "execution_count": 11,
      "metadata": {
        "id": "DPlD8gp7sBnZ"
      },
      "outputs": [],
      "source": [
        "import numpy as np\n",
        "\n",
        "# 0.00 ~ 1.00, 0.05 간격으로 bins 생성\n",
        "bins = np.arange(0, 1.05, 0.05)\n",
        "labels = [f\"{round(b,2)}~{round(b+0.05,2)}\" for b in bins[:-1]]\n",
        "\n",
        "# sim_bin_05 컬럼 생성\n",
        "result_df['sim_bin_05'] = pd.cut(result_df['sim'], bins=bins, labels=labels, include_lowest=True, right=False)"
      ]
    },
    {
      "cell_type": "code",
      "execution_count": 12,
      "metadata": {
        "colab": {
          "base_uri": "https://localhost:8080/",
          "height": 485
        },
        "id": "Jr92ETj3yPSb",
        "outputId": "24cbc25f-d359-467d-a628-402875da97e4"
      },
      "outputs": [
        {
          "data": {
            "image/png": "[encoded data removed]",
            "text/plain": [
              "<Figure size 1000x500 with 1 Axes>"
            ]
          },
          "metadata": {},
          "output_type": "display_data"
        }
      ],
      "source": [
        "import matplotlib.pyplot as plt\n",
        "\n",
        "plt.rc('font', family='NanumGothic')\n",
        "plt.rcParams['axes.unicode_minus'] = False\n",
        "\n",
        "plt.figure(figsize=(10, 5))\n",
        "plt.hist(result_df['sim'], bins=40, alpha=0.7)\n",
        "plt.xlabel('유사도(sim)')\n",
        "plt.ylabel('빈도수')\n",
        "plt.title('전체 유사도 분포')\n",
        "plt.show()"
      ]
    },
    {
      "cell_type": "code",
      "execution_count": 13,
      "metadata": {
        "colab": {
          "base_uri": "https://localhost:8080/",
          "height": 407
        },
        "id": "VXdrX-5k2Nrz",
        "outputId": "70aa669d-aea2-4022-f55a-bd491fe410a5"
      },
      "outputs": [
        {
          "data": {
            "image/png": "[encoded data removed]",
            "text/plain": [
              "<Figure size 1000x400 with 1 Axes>"
            ]
          },
          "metadata": {},
          "output_type": "display_data"
        }
      ],
      "source": [
        "import matplotlib.pyplot as plt\n",
        "\n",
        "plt.figure(figsize=(10,4))\n",
        "plt.hist(result_df['impact_score'], bins=30, alpha=0.7)\n",
        "plt.xlabel('impact_score')\n",
        "plt.ylabel('빈도수')\n",
        "plt.title('전체 뉴스 중요도(impact_score) 분포')\n",
        "plt.tight_layout()\n",
        "plt.show()"
      ]
    },
    {
      "cell_type": "markdown",
      "metadata": {
        "id": "1iYnqb0zw9PX"
      },
      "source": [
        "### 유사도 0.7~0.8 구간 EDA"
      ]
    },
    {
      "cell_type": "code",
      "execution_count": 14,
      "metadata": {
        "colab": {
          "base_uri": "https://localhost:8080/",
          "height": 1000
        },
        "id": "CiMM_Xz-xOm2",
        "outputId": "d8de087a-6682-42ea-bcf3-1e26249d4e36"
      },
      "outputs": [
        {
          "data": {
            "application/vnd.google.colaboratory.intrinsic+json": {
              "summary": "{\n  \"name\": \"sim_07_08_df\",\n  \"rows\": 10,\n  \"fields\": [\n    {\n      \"column\": \"news_id\",\n      \"properties\": {\n        \"dtype\": \"string\",\n        \"num_unique_values\": 10,\n        \"samples\": [\n          \"20240503_0235\",\n          \"20240823_0041\",\n          \"20240422_0335\"\n        ],\n        \"semantic_type\": \"\",\n        \"description\": \"\"\n      }\n    },\n    {\n      \"column\": \"wdate\",\n      \"properties\": {\n        \"dtype\": \"date\",\n        \"min\": \"2024-04-19 09:35:00\",\n        \"max\": \"2025-03-26 07:57:00\",\n        \"num_unique_values\": 10,\n        \"samples\": [\n          \"2024-05-03 07:40:00\",\n          \"2024-08-23 14:45:00\",\n          \"2024-04-22 07:51:00\"\n        ],\n        \"semantic_type\": \"\",\n        \"description\": \"\"\n      }\n    },\n    {\n      \"column\": \"stock_name\",\n      \"properties\": {\n        \"dtype\": \"string\",\n        \"num_unique_values\": 10,\n        \"samples\": [\n          \"\\ud558\\uc774\\ube0c\",\n          \"\\uc0bc\\uc131\\uc804\\uc790\",\n          \"HD\\ud604\\ub300\\uc778\\ud504\\ub77c\\ucf54\\uc5b4\"\n        ],\n        \"semantic_type\": \"\",\n        \"description\": \"\"\n      }\n    },\n    {\n      \"column\": \"news_title\",\n      \"properties\": {\n        \"dtype\": \"string\",\n        \"num_unique_values\": 10,\n        \"samples\": [\n          \"\\ud558\\uc774\\ube0c, \\ub2e8\\uae30 \\uc8fc\\uac00 \\uc57d\\uc138 \\ubd88\\uac00\\ud53c\\u2026\\uc911\\uc7a5\\uae30 \\uc131\\uc7a5\\uc131 \\uc5ec\\uc804-\\uc720\\uc548\\ud0c0\",\n          \"\\ubbf8\\ub798\\uc0b0\\uc5c5, \\ub3c5\\uc77c \\uc778\\ud53c\\ub2c8\\uc5b8 \\ubc0f \\uc911\\uad6d \\ucc3d\\uc2e0\\uba54\\ubaa8\\ub9ac\\uc640 74\\uc5b5\\uc6d0 \\uc7a5\\ube44 \\uacf5\\uae09\\uacc4\\uc57d\",\n          \"[\\ud074\\ub9ad e\\uc885\\ubaa9]\\\"HD\\ud604\\ub300\\uc778\\ud504\\ub77c\\ucf54\\uc5b4, \\uc5c5\\ud669 \\ubd80\\uc9c4\\uc5d0\\ub3c4 \\uacac\\uc870\\ud55c \\uc2e4\\uc801\\\"\"\n        ],\n        \"semantic_type\": \"\",\n        \"description\": \"\"\n      }\n    },\n    {\n      \"column\": \"news_content\",\n      \"properties\": {\n        \"dtype\": \"string\",\n        \"num_unique_values\": 10,\n        \"samples\": [\n          \"[\\uc774\\ub370\\uc77c\\ub9ac \\uae40\\uc778\\uacbd \\uae30\\uc790] \\uc720\\uc548\\ud0c0\\uc99d\\uad8c\\uc740 3\\uc77c \\ud558\\uc774\\ube0c(352820)\\uac00 1\\ubd84\\uae30 \\uc2dc\\uc7a5\\uae30\\ub300\\uce58\\ub97c \\ubc11\\ub3c4\\ub294 \\uc2e4\\uc801\\uc744 \\ub0b8 \\uac00\\uc6b4\\ub370 \\ub808\\uc774\\ube14 \\uc774\\uc288\\ub85c \\ub2e8\\uae30 \\uc8fc\\uac00 \\uc57d\\uc138\\ub294 \\ubd88\\uac00\\ud53c\\ud558\\uaca0\\uc9c0\\ub9cc \\uc911\\uc7a5\\uae30\\uc801 \\uc131\\uc7a5\\uc131\\uc740 \\uacac\\uace0\\ud558\\ub2e4\\uace0 \\ud310\\ub2e8\\ud588\\ub2e4. \\ud22c\\uc790\\uc758\\uacac \\u2018\\ub9e4\\uc218\\u2019\\uc640 \\ubaa9\\ud45c\\uac00 30\\ub9cc\\uc6d0\\uc740 \\uc720\\uc9c0\\ud588\\ub2e4.\\n\\uc774\\ud658\\uc6b1 \\uc720\\uc548\\ud0c0\\uc99d\\uad8c \\uc5f0\\uad6c\\uc6d0\\uc740 \\u201c\\ucd5c\\uadfc \\ubd88\\uac70\\uc9c4 \\uc0b0\\ud558 \\ub808\\uc774\\ube14 \\uc774\\uc288\\ub85c \\ub2e8\\uae30 \\uc8fc\\uac00 \\uc57d\\uc138\\ub294 \\ubd88\\uac00\\ud53c\\ud560 \\uc804\\ub9dd\\uc774\\uc9c0\\ub9cc \\uc911\\uc7a5\\uae30\\uc801 \\uad00\\uc810\\uc5d0\\uc11c \\ud604 \\uc8fc\\uac00 \\uc218\\uc900\\uc740 \\ud22c\\uc790 \\ub9e4\\ub825\\ub3c4\\uac00 \\ub192\\uc740 \\uad6c\\uac04\\u201d\\uc774\\ub77c\\uba70 \\uc774\\uac19\\uc774 \\ubc1d\\ud614\\ub2e4.\\n\\uc804\\ub0a0 \\ud558\\uc774\\ube0c\\ub294 \\uacf5\\uc2dc\\ub97c \\ud1b5\\ud574 1\\ubd84\\uae30 \\uc5f0\\uacb0 \\uae30\\uc900 \\ub9e4\\ucd9c\\uc561\\uc740 \\uc804\\ub144 \\ub3d9\\uae30\\ubcf4\\ub2e4 12.1% \\uc904\\uc5b4\\ub4e0 3609\\uc5b5\\uc6d0, \\uc601\\uc5c5\\uc774\\uc775\\uc740 72.6% \\uac10\\uc18c\\ud55c 144\\uc5b5\\uc6d0\\uc744 \\uae30\\ub85d\\ud588\\ub2e4\\uace0 \\ubc1d\\ud614\\ub2e4. \\uc2dc\\uc7a5\\uc774 \\uae30\\ub300\\ud55c \\uc601\\uc5c5\\uc774\\uc775(172\\uc5b5\\uc6d0)\\uc744 \\ud558\\ud68c\\ud558\\ub294 \\uc218\\uc900\\uc774\\uc5c8\\ub2e4.\\n\\uc774 \\uc5f0\\uad6c\\uc6d0\\uc740 \\u201c\\uc8fc\\ub825 \\uc544\\ud2f0\\uc2a4\\ud2b8 \\uc9c0\\uc2dd\\uc7ac\\uc0b0\\uad8c(IP)\\uc758 \\ud65c\\ub3d9 \\uacf5\\ubc31\\uc73c\\ub85c \\uc804\\ub144 \\ub3d9\\uae30 \\ub300\\ube44 \\uc5ed\\uc131\\uc7a5 \\ubd88\\uac00\\ud53c\\ud588\\ub2e4\\u201d\\uba74\\uc11c \\u201c2\\ud300\\uc758 \\uc2e0\\uc778 IP \\ub7f0\\uce6d \\ube44\\uc6a9 \\uac00\\uc911 \\ubc0f \\uad6d\\ub0b4\\uc678 \\ub808\\uc774\\ube14 \\uc778\\uc218\\uc5d0 \\ub530\\ub978 \\uc0c1\\uac01\\ube44 \\uc99d\\uac00 \\ub4f1\\uc758 \\uc601\\ud5a5\\uc73c\\ub85c \\uc218\\uc775\\uc131 \\uc545\\ud654\\uac00 \\ub450\\ub4dc\\ub7ec\\uc84c\\ub2e4\\u201d\\uace0 \\ubd84\\uc11d\\ud588\\ub2e4.\\n\\uc138\\ubd80\\uc801\\uc73c\\ub85c\\ub294 \\uc568\\ubc94\\uacfc \\uc74c\\uc6d0\\uc758 \\ub9e4\\ucd9c\\uc561\\uc774 1451\\uc5b5\\uc6d0\\uc73c\\ub85c \\uc804\\ub144 \\ub3d9\\uae30\\ubcf4\\ub2e4 21.3% \\uc904\\uc5c8\\ub2e4 \\ucd1d \\uc568\\ubc94 \\ud310\\ub9e4\\ub7c9\\uc740 390\\ub9cc\\uc7a5\\uc73c\\ub85c \\uc804\\ub144 \\ub3d9\\uae30 \\ub300\\ube44 56.2% \\uc904\\uc5c8\\uc9c0\\ub9cc \\uadf8\\ub098\\ub9c8 \\uc74c\\uc6d0 \\ubd80\\ubb38\\uc758 \\uace0\\uc131\\uc7a5\\uc138\\uac00 \\uc774\\uc5b4\\uc838 \\ub9e4\\ucd9c \\uacf5\\ubc31 \\uc77c\\ubd80\\ub97c \\uc0c1\\uc1c4\\ud588\\ub2e4\\ub294 \\ud3c9\\uac00\\ub2e4.\\n\\uc774 \\uc5f0\\uad6c\\uc6d0\\uc740 \\u201c\\uacf5\\uc5f0 \\ubd80\\ubb38\\uc5d0\\uc11c\\ub294 \\uc138\\ube10\\ud2f4, \\uc5d4\\ud558\\uc774\\ud508, \\uc564\\ud300 \\ub4f1 \\ucd1d \\ubaa8\\uac1d\\uc218\\ub294 \\uc57d 33\\ub9cc\\uba85 \\uc218\\uc900\\uc73c\\ub85c \\uc804\\ub144 \\ub3d9\\uae30 \\ub300\\ube44 74.5% \\uc99d\\uac00\\ud588\\ub2e4\\u201d\\uace0 \\ubd84\\uc11d\\ud588\\ub2e4. \\ub610 \\uc704\\ubc84\\uc2a4\\uc758 1\\ubd84\\uae30 \\uc6d4\\uac04\\ud65c\\uc131\\uc774\\uc6a9\\uc790\\uc218(MAU)\\ub294 920\\ub9cc\\uba85\\uc73c\\ub85c \\uc804\\ub144 \\ub3d9\\uae30\\ubcf4\\ub2e4 2.1% \\uc904\\uc5c8\\ub2e4.\\n\\uc774 \\uc5f0\\uad6c\\uc6d0\\uc740 \\u201c\\uc785\\uc810 \\uc544\\ud2f0\\uc2a4\\ud2b8(130\\ud300)\\uc758 \\uace0\\ub978 \\uc131\\uc7a5\\uc5d0\\ub3c4 \\ubd88\\uad6c\\ud558\\uace0 BTS \\ud65c\\ub3d9 \\uacf5\\ubc31 \\uc601\\ud5a5\\uc73c\\ub85c \\ud30c\\uc545\\ub41c\\ub2e4\\u201d\\uba74\\uc11c \\u201c\\ucc38\\uace0\\ub85c \\uba64\\ubc84\\uc2ed \\ubc0f \\uad11\\uace0 \\ub4f1 \\uc2e0\\uaddc \\uc11c\\ube44\\uc2a4\\ub294 \\uc62c\\ud574 \\ud558\\ubc18\\uae30 \\uc801\\uc6a9\\ub420 \\uc608\\uc815\\u201d\\uc774\\ub77c\\uace0 \\ubd84\\uc11d\\ud588\\ub2e4.\\n\\ub2e4\\ub9cc \\uadf8\\ub294 \\u201c\\ubcf4\\uc720 \\uc544\\ud2f0\\uc2a4\\ud2b8 IP\\uc758 \\uace0\\ub978 \\uae00\\ub85c\\ubc8c \\uc131\\uc7a5\\uc138\\uc640 \\ub354\\ubd88\\uc5b4 \\ub0b4\\ub144\\ub3c4 BTS \\uc644\\uc804\\uccb4 \\ucef4\\ubc31\\uc73c\\ub85c \\uc778\\ud55c \\uc911\\uc7a5\\uae30\\uc801 \\uc2e4\\uc801 \\uc131\\uc7a5 \\uae30\\uc870\\uc5d0\\ub294 \\ubcc0\\ud568\\uc5c6\\ub294 \\uc0c1\\ud669\\u201d\\uc774\\ub77c\\uba70 \\u201c\\uc62c\\ud574 \\uc5f0\\uac04 \\uc2e0\\ubcf4 \\ubc1c\\ub9e4 \\ubc0f \\uacf5\\uc5f0 \\ud69f\\uc218\\uac00 \\uc804\\ub144\\ub3d9\\uae30\\ub300\\ube44 20~30% \\uc99d\\uac00\\ud568\\uc5d0 \\ub530\\ub77c \\uc18c\\ud3ed\\uc758 \\uc5f0\\uac04 \\uc2e4\\uc801 \\uc131\\uc7a5 \\uac00\\ub2a5\\ud560 \\uac83\\uc73c\\ub85c \\ud310\\ub2e8\\ub418\\ub294\\ub370, BTS \\uacf5\\ubc31\\uacfc \\uc911\\uad6d \\uc568\\ubc94 \\uacf5\\uad6c \\uae09\\uac10 \\uc5ec\\ud30c\\ub97c \\uac10\\uc548\\ud558\\uba74 \\uc120\\ubc29\\ud55c \\uacb0\\uacfc\\u201d\\ub77c\\uace0 \\uac15\\uc870\\ud588\\ub2e4.\\n\\uc544\\uc6b8\\ub7ec \\u201c2025\\ub144\\uc5d0\\ub294 \\uc5ed\\uc2dc BTS \\uc644\\uc804\\uccb4 \\ucef4\\ubc31\\uacfc \\ub274\\uc9c4\\uc2a4, \\ub974\\uc138\\ub77c\\ud54c, \\uc5d4\\ud558\\uc774\\ud508 \\ub4f1\\uc758 \\uae00\\ub85c\\ubc8c \\ud22c\\uc5b4\\uae4c\\uc9c0 \\ub9de\\ubb3c\\ub824 \\uc2e4\\uc801 \\uace0\\uc131\\uc7a5 \\uac00\\uc2dc\\uc131\\uc774 \\ub192\\uc740 \\uc0c1\\ud669\\u201d\\uc774\\ub77c\\uace0 \\ub367\\ubd99\\uc600\\ub2e4.\\n\\uc5f0\\ud569\\ub274\\uc2a4 \\uc81c\\uacf5\",\n          \"\\ubc18\\ub3c4\\uccb4 \\ud6c4 \\uacf5\\uc815 \\uc7a5\\ube44\\ud68c\\uc0ac\\uc778 \\ubbf8\\ub798\\uc0b0\\uc5c5\\uc740 \\ucc28\\ub7c9\\uc6a9 \\ubc18\\ub3c4\\uccb4 \\uc138\\uacc4 1\\uc704\\uc778 \\ub3c5\\uc77c\\uc758 \\uc778\\ud53c\\ub2c8\\uc5b8(INFINEON), \\uc911\\uad6d \\ucc3d\\uc2e0\\uba54\\ubaa8\\ub9ac(CXMT)\\uc640 \\uac01\\uac01 15\\uc5b5\\uc6d0, 59\\uc5b5\\uc6d0 \\uaddc\\ubaa8\\uc758 \\ubc18\\ub3c4\\uccb4 \\ud6c4\\uacf5\\uc815 \\uac80\\uc0ac\\uc7a5\\ube44\\uc778 \\uace0\\uc628\\uc790\\ub3d9\\ubd84\\ub958\\uae30(Burn In Sorter) \\uacf5\\uae09\\uacc4\\uc57d\\uc744 \\uccb4\\uacb0\\ud588\\ub2e4\\uace0 23\\uc77c \\ubc1d\\ud614\\ub2e4. \\uc9c0\\ub09c\\ud574 \\ub9e4\\ucd9c\\uc561 \\ub300\\ube44 33.67% \\uaddc\\ubaa8\\ub2e4.\\n\\uc778\\ud53c\\ub2c8\\uc5b8\\uc740 \\ucc28\\ub7c9\\uc6a9 \\ubc18\\ub3c4\\uccb4 \\uc138\\uacc4 1\\uc704\\uc778 \\uae30\\uc5c5\\uc73c\\ub85c \\uc804\\uae30\\ucc28\\uc640 \\uc790\\uc728\\uc8fc\\ud589\\ucc28 \\ub4f1 \\ubbf8\\ub798 \\ubaa8\\ube4c\\ub9ac\\ud2f0 \\uc774\\uc678\\uc5d0 \\uc7ac\\uc0dd \\uc5d0\\ub108\\uc9c0\\uc640 \\ub370\\uc774\\ud130 \\uc13c\\ud130\\uc6a9 \\uc804\\ub825\\ubc18\\ub3c4\\uccb4 \\ub4f1\\uc744 \\uc124\\uacc4, \\uc0dd\\uc0b0\\ud55c\\ub2e4. 2022\\ub144\\ubd80\\ud130 \\uc0bc\\uc131\\uc804\\uc790\\uac00 \\uc778\\ud53c\\ub2c8\\uc5b8\\uc774 \\uc124\\uacc4\\ud55c \\uc804\\ub825\\ubc18\\ub3c4\\uccb4 \\ubb3c\\ub7c9\\uc744 \\uc77c\\ubd80 \\uc218\\uc8fc\\ud558\\uc5ec \\uc704\\ud0c1\\uc0dd\\uc0b0 \\ud558\\uace0 \\uc788\\ub2e4.\\n\\ucc3d\\uc2e0\\uba54\\ubaa8\\ub9ac\\ub294 \\uc911\\uad6d DRAM \\uc885\\ud569 \\ubc18\\ub3c4\\uccb4 \\uae30\\uc5c5\\uc73c\\ub85c, \\ud504\\ub85c\\uc81d\\ud2b8 \\uc99d\\uac00\\uc5d0 \\ub300\\ube44\\ud574 \\ud22c\\uc790\\ub97c \\ub298\\ub9ac\\uace0 \\uc788\\ub2e4. \\ubbf8\\ub798\\uc0b0\\uc5c5\\uc758 \\uba54\\ubaa8\\ub9ac\\ud578\\ub4e4\\ub7ec \\uc2dc\\uc7a5 \\uc810\\uc720\\uc728\\uc774 \\uc0c1\\uc2b9\\ud560 \\uc804\\ub9dd\\uc774\\ub77c\\uace0 \\ud68c\\uc0ac \\uce21\\uc740 \\uc804\\ud588\\ub2e4.\\n\\ubbf8\\ub798\\uc0b0\\uc5c5 \\uad00\\uacc4\\uc790\\ub294 \\\"\\uc778\\uacf5\\uc9c0\\ub2a5(AI) \\uc11c\\ubc84 \\uc218\\uc694 \\uc99d\\uac00\\uc5d0 \\ub530\\ub978 \\uace0\\ub300\\uc5ed\\ud3ed\\uba54\\ubaa8\\ub9ac(HBM) \\ud655\\ub300 \\ub4f1\\uc73c\\ub85c \\ubc18\\ub3c4\\uccb4 \\uc0b0\\uc5c5\\uc774 \\uc804\\ubc18\\uc801\\uc778 \\uac1c\\uc120\\uc744 \\ubcf4\\uc774\\uace0 \\uc788\\ub2e4\\\"\\ub77c\\uba70 \\\"SK\\ud558\\uc774\\ub2c9\\uc2a4 \\uc81c\\ud488 \\uacf5\\uae09\\uc774 \\uc2dc\\uc791\\ub410\\ub2e4. \\ud558\\ubc18\\uae30\\uc5d0\\ub3c4 \\uc218\\uc8fc \\uc804\\ub9dd\\uc744 \\uae0d\\uc815\\uc801\\uc73c\\ub85c \\ubcf4\\uace0 \\uc788\\ub2e4\\\"\\ub77c\\uace0 \\ub9d0\\ud588\\ub2e4.\",\n          \"1\\ubd84\\uae30 \\ub9e4\\ucd9c, \\uc601\\uc5c5\\uc775 \\uac01\\uac01 10%, 39% \\uac10\\uc18c\\n2\\ubd84\\uae30\\uc5d0\\ub3c4 \\ubd80\\uc9c4 \\uac00\\ub2a5\\uc131\\u2191\\n\\\"\\uc120\\uc9c4 \\uc218\\uc694 \\uc5ec\\uc804\\ud788 \\uacac\\uc870\\u2026\\ud558\\ubc29 \\uacbd\\uc9c1\\uc131 \\uae30\\ub300\\\"\\n\\ud558\\ub098\\uc99d\\uad8c\\uc740 22\\uc77c HD\\ud604\\ub300\\uc778\\ud504\\ub77c\\ucf54\\uc5b4\\uc5d0 \\ub300\\ud574 \\ud558\\ubc18\\uae30 \\ud68c\\ubcf5\\uc5d0 \\ub300\\ud55c \\ubd88\\ud655\\uc2e4\\uc131\\uc774 \\uc874\\uc7ac\\ud558\\uc9c0\\ub9cc \\uacac\\uc870\\ud55c \\uc2e4\\uc801\\uc744 \\uace0\\ub824\\ud558\\uba74 \\ud558\\ubc29 \\uacbd\\uc9c1\\uc131\\uc774 \\ud655\\ubcf4\\ub420 \\uc218 \\uc788\\ub2e4\\uace0 \\ubd84\\uc11d\\ud588\\ub2e4. \\ud22c\\uc790\\uc758\\uacac '\\ub9e4\\uc218'\\uc640 \\ubaa9\\ud45c\\uc8fc\\uac00 1\\ub9cc1000\\uc6d0\\uc744 \\uc720\\uc9c0\\ud588\\ub2e4.\\n\\uc720\\uc7ac\\uc120, \\ucc44\\uc6b4\\uc0d8 \\ud558\\ub098\\uc99d\\uad8c \\uc5f0\\uad6c\\uc6d0\\uc740 \\\"HD\\ud604\\ub300\\uc778\\ud504\\ub77c\\ucf54\\uc5b4\\uc758 1\\ubd84\\uae30 \\uc2e4\\uc801\\uc740 \\ucee8\\uc13c\\uc11c\\uc2a4(\\uc2dc\\uc7a5 \\ud3c9\\uade0 \\uc804\\ub9dd\\uce58)\\ub97c \\ud558\\ud68c\\ud588\\ub2e4\\\"\\uba70 \\\"\\uc804\\ub144 \\uac19\\uc740 \\uae30\\uac04 \\ub300\\ube44 \\uc77c\\ud68c\\uc131 \\uc774\\uc775\\uacfc \\ub192\\uc740 \\uae30\\uc800\\uac00 \\ubd80\\ub2f4\\uc73c\\ub85c \\uc791\\uc6a9\\ud558\\ub294 \\uac00\\uc6b4\\ub370 \\uac74\\uc124 \\uae30\\uacc4 \\ubd80\\ubb38 \\uc218\\uc694\\uac00 \\ubd80\\uc9c4\\ud588\\ub2e4\\\"\\uace0 \\ud588\\ub2e4. 1\\ubd84\\uae30 \\ub9e4\\ucd9c\\uc561\\uc740 1\\uc8701573\\uc5b5\\uc6d0\\uc73c\\ub85c 2022\\ub144 \\uac19\\uc740 \\uae30\\uac04 \\ub300\\ube44 10.1% \\uac10\\uc18c\\ud588\\ub2e4. \\uc9c0\\uc5ed\\ubcc4 \\ub9e4\\ucd9c\\uc561\\uc740 \\uc120\\uc9c4\\uacfc \\uc2e0\\ud765\\uc9c0\\uc5ed \\ubaa8\\ub450 \\uac01\\uac01 9.4%, 15.8% \\uac10\\uc18c\\ud588\\ub2e4. \\uc601\\uc5c5\\uc774\\uc775 \\uc5ed\\uc2dc 928\\uc5b5\\uc6d0\\uc73c\\ub85c \\uc804\\ub144 \\ub300\\ube44 39.2% \\uac10\\uc18c\\ud588\\ub2e4.\\n\\ub51c\\ub7ec\\ub4e4\\uc758 \\uc120\\uc81c\\uc801\\uc778 \\uc7ac\\uace0\\ucd95\\uc18c\\ub85c \\ubd80\\uc9c4\\uc740 2\\ubd84\\uae30\\uc5d0\\ub3c4 \\uc9c0\\uc18d\\ub420 \\uc5ec\\uc9c0\\uac00 \\uc788\\ub2e4. \\uadf8\\ub7ec\\ub098 \\ubd81\\ubbf8 \\ucd5c\\uc885 \\ub9ac\\ud14c\\uc77c \\uc218\\uc694\\ub294 \\uc5ec\\uc804\\ud788 \\uacac\\uc870\\ud55c \\uc0c1\\ud669\\uc774\\uba70 \\uc720\\ub7fd\\uc758 \\uacbd\\uc6b0 \\uc544\\uc9c1 \\ubd80\\uc9c4\\ud558\\uc9c0\\ub9cc \\uac74\\uc124\\uae30\\uacc4 \\uc218\\uc694\\ub97c \\uc120\\ud589\\ud558\\ub294 \\uc77c\\ubd80 \\uc9c0\\ud45c\\ub4e4\\uc774 \\ud68c\\ubcf5 \\uc911\\uc778 \\uac83\\uc73c\\ub85c \\ud30c\\uc545\\ub41c\\ub2e4. \\ub450 \\uc5f0\\uad6c\\uc6d0\\uc740 \\\"\\ucd5c\\uadfc \\uae08\\ub9ac \\uc778\\ud558 \\uae30\\ub300\\uac10\\uc774 \\ub0ae\\uc544\\uc9d0\\uc5d0 \\ub530\\ub77c \\ud558\\ubc18\\uae30 \\ud68c\\ubcf5\\uc5d0 \\ub300\\ud55c \\ubd88\\ud655\\uc2e4\\uc131\\uc774 \\uc874\\uc7ac\\ud55c\\ub2e4\\\"\\uba70 \\\"\\ub2e4\\ub9cc \\uacac\\uc870\\ud55c \\uc120\\uc9c4\\uc9c0\\uc5ed\\uc218\\uc694, \\uc804\\ubc18\\uc801\\uc778 \\ub51c\\ub7ec\\ub4e4\\uc758 \\uc7ac\\uace0 \\uc218\\uc900, \\uc5d4\\uc9c4 \\ubd80\\ubb38\\uc758 \\uc548\\uc815\\uc801\\uc778 \\uc131\\uc7a5\\uc138\\ub97c \\uace0\\ub824\\ud558\\uba74 \\ud5a5\\ud6c4 \\uacfc\\uac70\\ub2e4\\uc6b4\\uc0ac\\uc774\\ud074\\uacfc\\ub294 \\ub2e4\\ub978 \\uc2e4\\uc801 \\ud558\\ubc29 \\uacbd\\uc9c1\\uc131\\uc774 \\ud655\\ubcf4\\ub420 \\uc218 \\uc788\\ub2e4\\\"\\uace0 \\ud588\\ub2e4.\\n\\uc5c5\\ud669 \\ud558\\ub77d\\uae30\\uc5d0\\ub3c4 \\uacfc\\uac70\\uc640 \\ub2ec\\ub9ac \\uc9c0\\uc5ed\\ubbf9\\uc2a4\\uc640 \\uc0ac\\uc5c5\\ub2e4\\uac01\\ud654\\ub85c \\uacac\\uc870\\ud55c \\uc2e4\\uc801 \\ud750\\ub984\\uc744 \\uae30\\ub300\\ud560 \\uc218 \\uc788\\ub2e4\\ub294 \\uac83\\uc774\\ub2e4. \\uacfc\\uac70 \\uc911\\uad6d\\uc5d0 \\uc9d1\\uc911\\ub41c \\uc9c0\\uc5ed\\ubbf9\\uc2a4\\ub85c \\uc911\\uad6d \\uc5c5\\ud669\\uc774 \\uc545\\ud654\\ud558\\uba74 \\uace0\\uc815\\ube44 \\ucee4\\ubc84\\uac00 \\ubd88\\uac00\\ub2a5\\ud574\\uc838 \\ubd84\\uae30 \\uae30\\uc900 \\uc601\\uc5c5\\uc801\\uc790\\ub97c \\uc5ec\\ub7ec \\ucc28\\ub840 \\uae30\\ub85d\\ud55c \\ubc14 \\uc788\\ub2e4. \\ud604\\uc7ac \\uac74\\uc124\\uae30\\uacc4 \\uc9c0\\uc5ed\\ubbf9\\uc2a4\\ub294 \\uc2e0\\ud765\\uacfc \\uc120\\uc9c4\\uc774\\uac01\\uac01 6\\ub3004\\ub85c \\uc120\\uc9c4\\uc9c0\\uc5ed \\ube44\\uc911\\uc774 \\uacfc\\uac70 \\ub300\\ube44 \\ud070 \\ud3ed\\uc73c\\ub85c \\uc0c1\\uc2b9\\ud588\\ub2e4. \\uc720\\uc7ac\\uc120, \\ucc44\\uc6b4\\uc0d8 \\uc5f0\\uad6c\\uc6d0\\uc740 \\\"\\ub610\\ud55c \\uc2e0\\ud765\\uc9c0\\uc5ed \\ub0b4\\uc5d0\\uc11c \\uc911\\uad6d\\uc758 \\ube44\\uc911\\uc740 \\uc544\\uc2dc\\uc544, \\uc911\\ub0a8\\ubbf8, \\uc911\\ub3d9 \\ubc0f CIS \\ub4f1\\uc758 \\uc9c0\\uc5ed\\uc73c\\ub85c \\ubd84\\uc0b0\\ub410\\ub2e4\\\"\\uba70 \\\"\\uc5d4\\uc9c4 \\ubd80\\ubb38 \\uc5ed\\uc2dc \\ud5a5\\ud6c4 \\ubc29\\uc0b0 \\ube44\\uc911 \\ud655\\ub300\\uc640 \\ucea1\\ud2f0\\ube0c \\uc218\\uc694 \\uc99d\\uac00\\ub85c \\uc548\\uc815\\uc801\\uc778 \\uc2e4\\uc801 \\uc131\\uc7a5\\uc744 \\uae30\\ub300\\ud574\\ubcfc \\uc218 \\uc788\\ub2e4\\\"\\uace0 \\ud588\\ub2e4.\"\n        ],\n        \"semantic_type\": \"\",\n        \"description\": \"\"\n      }\n    },\n    {\n      \"column\": \"report_id\",\n      \"properties\": {\n        \"dtype\": \"string\",\n        \"num_unique_values\": 10,\n        \"samples\": [\n          \"20250211_0023\",\n          \"20231215_0002\",\n          \"20250402_0026\"\n        ],\n        \"semantic_type\": \"\",\n        \"description\": \"\"\n      }\n    },\n    {\n      \"column\": \"\\uc791\\uc131\\uc77c\",\n      \"properties\": {\n        \"dtype\": \"date\",\n        \"min\": \"2023-06-23 00:00:00\",\n        \"max\": \"2025-04-02 00:00:00\",\n        \"num_unique_values\": 10,\n        \"samples\": [\n          \"2025-02-11 00:00:00\",\n          \"2023-12-15 00:00:00\",\n          \"2025-04-02 00:00:00\"\n        ],\n        \"semantic_type\": \"\",\n        \"description\": \"\"\n      }\n    },\n    {\n      \"column\": \"\\uc885\\ubaa9\\uba85\",\n      \"properties\": {\n        \"dtype\": \"string\",\n        \"num_unique_values\": 10,\n        \"samples\": [\n          \"\\ub450\\uc0b0\\ubc25\\ucea3\",\n          \"\\uc138\\uc544\\uba54\\uce74\\ub2c9\\uc2a4\",\n          \"\\uc0bc\\uc131\\uc804\\uc790\"\n        ],\n        \"semantic_type\": \"\",\n        \"description\": \"\"\n      }\n    },\n    {\n      \"column\": \"report_title\",\n      \"properties\": {\n        \"dtype\": \"string\",\n        \"num_unique_values\": 10,\n        \"samples\": [\n          \"\\uad6c\\uccb4\\uc801\\uc778 \\ud68c\\ubcf5 \\uc2dc\\uc810\\uc740 \\uc544\\uc9c1 \\ubd88\\ud655\\uc2e4\\ud558\\uc9c0\\ub9cc\",\n          \"24\\ub144 \\ud3ec\\ud2b8\\ud3f4\\ub9ac\\uc624 \\ub2e4\\uac01\\ud654 \\uc2dc\\uc791\",\n          \"\\ub192\\uc544\\uc9c4 \\ud68c\\ubcf5 \\uae30\\ub300\\uac10\"\n        ],\n        \"semantic_type\": \"\",\n        \"description\": \"\"\n      }\n    },\n    {\n      \"column\": \"report_content\",\n      \"properties\": {\n        \"dtype\": \"string\",\n        \"num_unique_values\": 10,\n        \"samples\": [\n          \"\\ubaa9\\ud45c\\uc8fc\\uac00 57,000\\uc6d0, \\ud22c\\uc790\\uc758\\uacac \\ub9e4\\uc218 \\uc720\\uc9c0\\n\\ub450\\uc0b0\\ubc25\\ucea3 \\ubaa9\\ud45c\\uc8fc\\uac00\\ub97c 57,000\\uc6d0\\uacfc \\ud22c\\uc790\\uc758\\uacac \\ub9e4\\uc218\\ub97c \\uc720\\uc9c0\\ud55c\\ub2e4. 4\\ubd84\\uae30 \\uc2e4\\uc801\\uc740 \\uc2dc\\uc7a5 \\ucee8\\uc13c\\uc11c\\uc2a4\\ub97c \\uc0c1\\ud68c\\ud588\\ub2e4. 4\\ubd84\\uae30\\uc5d0\\ub3c4 \\uac15\\ub3c4 \\ub192\\uc740 \\uc7ac\\uace0\\uc870\\uc815\\uc774 \\uc804\\ub9dd\\ub418\\uc5c8\\uc9c0\\ub9cc \\uc608\\uc0c1\\ubcf4\\ub2e4 \\uc644\\ud654\\ub41c \\uac83\\uc5d0 \\uae30\\uc778\\ud55c\\ub2e4. \\ub2e4\\ub9cc \\uc18c\\ube44\\uc790\\ub4e4\\uc758 \\ucd5c\\uc885 \\uc218\\uc694\\ub294 \\uc5ec\\uc804\\ud788 \\ubd80\\uc9c4\\ud55c \\uac83\\uc73c\\ub85c \\ud30c\\uc545\\ub418\\uba70 \\uc774\\uc5d0 \\ub530\\ub77c \\uc804\\ub144\\ub300\\ube44 \\uc5ed\\uc131\\uc7a5\\uc744 \\uc9c0\\uc18d\\ud588\\ub2e4. \\ud55c\\ud3b8 2025\\ub144 \\uc5f0\\uac04 \\ub9e4\\ucd9c\\uc561\\uacfc \\uc601\\uc5c5\\uc774\\uc775 \\uac00\\uc774\\ub358\\uc2a4\\ub294 \\uac01\\uac01 \\uc804\\ub144\\ub300\\ube44 1.4% \\uc99d\\uac00, 2.7% \\uac10\\uc18c\\ud55c 8.5\\uc870\\uc6d0, 0.8\\uc870\\uc6d0\\uc73c\\ub85c \\uc81c\\uc2dc\\ub418\\uc5c8\\ub2e4. 2025\\ub144\\uc5d0\\ub3c4 \\ubd81\\ubbf8\\uc9c0\\uc5ed \\uac74\\uc124\\uc7a5\\ube44 \\uc218\\uc694 \\ub454\\ud654\\uac00 \\uc608\\uc0c1\\ub418\\ub294 \\uc0c1\\ud669\\uc774\\uc9c0\\ub9cc \\ubaa8\\ud2b8\\ub864 \\uc778\\uc218\\ud6a8\\uacfc, \\uae30\\uc874 \\ucef4\\ud329\\ud2b8 \\uc81c\\ud488 \\uc704\\uc8fc\\uc5d0\\uc11c \\uc911\\ud615 \\uc81c\\ud488\\uc73c\\ub85c \\uad50\\ucc28\\ud310\\ub9e4 \\ud655\\ub300 \\ub4f1\\uc744 \\uac10\\uc548\\ud558\\uba74 \\ub2ec\\uc131 \\uac00\\ub2a5\\uc131\\uc774 \\uc788\\ub2e4. 2025\\ub144 \\uae30\\uc900 PER 8.3\\ubc30, PBR 0.7\\ubc30\\ub2e4.\",\n          \"\\uc54c\\ub8e8\\ubbf8\\ub284 \\ub2e4\\uc774\\uce90\\uc2a4\\ud305 \\uc804\\ubb38 \\uc5c5\\uccb4\\n\\uc54c\\ub8e8\\ubbf8\\ub284\\uc744 \\uace0\\uc5f4\\uc5d0\\uc11c \\ub179\\uc5ec \\ud2b9\\uc815\\ud55c \\ubaa8\\uc591\\uc758 \\uc81c\\ud488\\uc744 \\uc0dd\\uc0b0\\ud558\\ub294 \\uc54c\\ub8e8\\ubbf8\\ub284\\r\\n\\ub2e4\\uc774\\uce90\\uc2a4\\ud305 \\uc804\\ubb38 \\uc5c5\\uccb4\\ub2e4. 2023\\ub144 3\\ubd84\\uae30 \\ub204\\uc801\\uae30\\uc900 \\ub9e4\\ucd9c \\ube44\\uc911\\uc740 \\uc804\\uc790 \\ubd80\\r\\n\\ubb38 54.5%, \\uc790\\ub3d9\\ucc28 \\ubd80\\ubb38 42.9%\\ub2e4. \\uc804\\uc790 \\ubd80\\ubb38\\uc740 TV(\\uac70\\uce58\\ub300 \\ubc0f \\ube0c\\ub77c\\ucf13\\r\\n\\ub4f1) \\ubc0f \\ub85c\\ubd07\\ud5a5(\\ud504\\ub808\\uc784 \\ub4f1) \\ubd80\\ud488\\uc744 \\uc8fc\\ub825\\uc73c\\ub85c \\uc0dd\\uc0b0\\ud558\\uace0 \\uc788\\ub2e4. TV\\ud5a5 \\ubd80\\ud488\\r\\n\\uc740 \\uae00\\ub85c\\ubc8c \\uc0c1\\uc704 TV \\uc5c5\\uccb4\\ub85c \\uacf5\\uae09 \\uc911\\uc774\\ub2e4. \\uc790\\ub3d9\\ucc28 \\ubd80\\ubb38\\uc740 End Plate, \\r\\nDC Case \\ub4f1 \\ucc28\\ub7c9\\uc6a9 \\ubd80\\ud488\\uc744 \\uc0dd\\uc0b0\\ud558\\uace0 \\uc788\\ub2e4. \\uc804\\uc790 \\ubd80\\ubb38\\uc758 \\uacbd\\uc6b0 \\ub85c\\ubd07 \\ubc0f\\r\\n\\ub514\\uc2a4\\ud50c\\ub808\\uc774 \\ubd80\\ud488\\uc73c\\ub85c, \\uc790\\ub3d9\\ucc28 \\ubd80\\ubb38\\uc758 \\uacbd\\uc6b0 \\uc804\\uae30\\ucc28 \\ubc0f \\uc218\\uc18c\\ucc28\\uc5d0 \\ub4e4\\uc5b4\\uac00\\r\\n\\ub294 \\uc81c\\ud488\\uc73c\\ub85c \\ud3ec\\ud2b8\\ud3f4\\ub9ac\\uc624\\ub97c \\ud655\\uc7a5 \\uc911\\uc5d0 \\uc788\\ub2e4.\",\n          \"\\uc6b0\\ub824\\uac00 \\ubc18\\uc601\\ub41c 1\\ubd84\\uae30 \\ucee8\\uc13c\\uc11c\\uc2a4, 2\\ubd84\\uae30\\ubd80\\ud130 \\ud68c\\ubcf5 \\uad6c\\uac04 \\uc9c4\\uc785\\n\\uacc4\\uc808\\uc801 \\ube44\\uc218\\uae30, \\ud30c\\uc6b4\\ub4dc\\ub9ac \\uac00\\ub3d9\\ub960 \\ubd80\\uc9c4, HBM \\uc8fc\\ubb38 \\uacf5\\ubc31, \\ub514\\uc2a4\\ud50c\\ub808\\uc774(SDC), TV/\\uac00\\uc804(VD/DA) \\uacbd\\uc7c1 \\uc2ec\\ud654 \\ub4f1 \\uc774\\ubbf8 \\uc54c\\ub824\\uc9c4 \\uc545\\uc7ac\\ub4e4\\uc740 \\ucee8\\uc13c\\uc11c\\uc2a4\\uc640 \\uc8fc\\uac00\\uc5d0 \\uae30\\ubc18\\uc601. \\uae30\\uc874 \\uc2e4\\uc801 \\ucd94\\uc815\\uce58\\uc640 \\uc720\\uc0ac\\ud55c 1\\ubd84\\uae30 \\uc2e4\\uc801\\uc744 \\uc608\\uc0c1. \\uba54\\ubaa8\\ub9ac \\uac00\\uaca9 \\ubc18\\ub4f1, \\ud558\\ubc18\\uae30 HBM \\ube44\\uc911 \\ud655\\ub300 \\uae30\\ub300\\uac10 \\ubc18\\uc601\\ud574 \\uc5f0\\uac04 \\uc2e4\\uc801 \\ucd94\\uc815\\uce58 \\uc77c\\ubd80 \\uc870\\uc815 \\u2192 \\ubaa9\\ud45c\\uc8fc\\uac00 \\uc0c1\\ud5a5. 1\\ubd84\\uae30 \\uc2e4\\uc801 \\ubc14\\ub2e5 \\ud655\\uc778 \\ud6c4 \\uc5f0\\ub0b4 \\ud68c\\ubcf5\\uc138 \\uc9c0\\uc18d \\uae30\\ub300\"\n        ],\n        \"semantic_type\": \"\",\n        \"description\": \"\"\n      }\n    },\n    {\n      \"column\": \"impact_score\",\n      \"properties\": {\n        \"dtype\": \"number\",\n        \"std\": 9.355480924748514,\n        \"min\": 10.13,\n        \"max\": 40.41,\n        \"num_unique_values\": 10,\n        \"samples\": [\n          17.99,\n          22.9,\n          10.13\n        ],\n        \"semantic_type\": \"\",\n        \"description\": \"\"\n      }\n    },\n    {\n      \"column\": \"sim\",\n      \"properties\": {\n        \"dtype\": \"float32\",\n        \"num_unique_values\": 10,\n        \"samples\": [\n          0.7356796264648438,\n          0.7182114124298096,\n          0.7714012265205383\n        ],\n        \"semantic_type\": \"\",\n        \"description\": \"\"\n      }\n    },\n    {\n      \"column\": \"date_diff_days\",\n      \"properties\": {\n        \"dtype\": \"number\",\n        \"std\": 293,\n        \"min\": -345,\n        \"max\": 592,\n        \"num_unique_values\": 10,\n        \"samples\": [\n          -284,\n          252,\n          -345\n        ],\n        \"semantic_type\": \"\",\n        \"description\": \"\"\n      }\n    },\n    {\n      \"column\": \"sim_bin_05\",\n      \"properties\": {\n        \"dtype\": \"category\",\n        \"num_unique_values\": 2,\n        \"samples\": [\n          \"0.75~0.8\",\n          \"0.7~0.75\"\n        ],\n        \"semantic_type\": \"\",\n        \"description\": \"\"\n      }\n    }\n  ]\n}",
              "type": "dataframe"
            },
            "text/html": [
              "\n",
              "  <div id=\"df-31b0c566-1b9b-4ed2-8fe8-f941ef27aadb\" class=\"colab-df-container\">\n",
              "    <div>\n",
              "<style scoped>\n",
              "    .dataframe tbody tr th:only-of-type {\n",
              "        vertical-align: middle;\n",
              "    }\n",
              "\n",
              "    .dataframe tbody tr th {\n",
              "        vertical-align: top;\n",
              "    }\n",
              "\n",
              "    .dataframe thead th {\n",
              "        text-align: right;\n",
              "    }\n",
              "</style>\n",
              "<table border=\"1\" class=\"dataframe\">\n",
              "  <thead>\n",
              "    <tr style=\"text-align: right;\">\n",
              "      <th></th>\n",
              "      <th>news_id</th>\n",
              "      <th>wdate</th>\n",
              "      <th>stock_name</th>\n",
              "      <th>news_title</th>\n",
              "      <th>news_content</th>\n",
              "      <th>report_id</th>\n",
              "      <th>작성일</th>\n",
              "      <th>종목명</th>\n",
              "      <th>report_title</th>\n",
              "      <th>report_content</th>\n",
              "      <th>impact_score</th>\n",
              "      <th>sim</th>\n",
              "      <th>date_diff_days</th>\n",
              "      <th>sim_bin_05</th>\n",
              "    </tr>\n",
              "  </thead>\n",
              "  <tbody>\n",
              "    <tr>\n",
              "      <th>175270</th>\n",
              "      <td>20250113_0107</td>\n",
              "      <td>2025-01-13 09:19:00</td>\n",
              "      <td>LG화학</td>\n",
              "      <td>IBK證 \"LG화학 4분기 실적 대규모 영업손실 기록할 듯…목표가↓\"</td>\n",
              "      <td>목표주가 46만원→37만원\\n\"2389억원 영업손실 낼듯\"\\n사진 제공=LG화학\\n...</td>\n",
              "      <td>20240201_0029</td>\n",
              "      <td>2024-02-01</td>\n",
              "      <td>LG생활건강</td>\n",
              "      <td>4Q23 Review: 낮아진 눈높이 상회</td>\n",
              "      <td>4Q23 Review: 낮아진 눈높이 상회\\nLG생활건강의 4분기 실적은 연결 매출...</td>\n",
              "      <td>20.12</td>\n",
              "      <td>0.717347</td>\n",
              "      <td>347</td>\n",
              "      <td>0.7~0.75</td>\n",
              "    </tr>\n",
              "    <tr>\n",
              "      <th>359268</th>\n",
              "      <td>20240823_0041</td>\n",
              "      <td>2024-08-23 14:45:00</td>\n",
              "      <td>삼성전자</td>\n",
              "      <td>미래산업, 독일 인피니언 및 중국 창신메모리와 74억원 장비 공급계약</td>\n",
              "      <td>반도체 후 공정 장비회사인 미래산업은 차량용 반도체 세계 1위인 독일의 인피니언(I...</td>\n",
              "      <td>20231215_0002</td>\n",
              "      <td>2023-12-15</td>\n",
              "      <td>세아메카닉스</td>\n",
              "      <td>24년 포트폴리오 다각화 시작</td>\n",
              "      <td>알루미늄 다이캐스팅 전문 업체\\n알루미늄을 고열에서 녹여 특정한 모양의 제품을 생산...</td>\n",
              "      <td>22.90</td>\n",
              "      <td>0.718211</td>\n",
              "      <td>252</td>\n",
              "      <td>0.7~0.75</td>\n",
              "    </tr>\n",
              "    <tr>\n",
              "      <th>307458</th>\n",
              "      <td>20241008_0239</td>\n",
              "      <td>2024-10-08 08:29:00</td>\n",
              "      <td>엘앤에프</td>\n",
              "      <td>KB증권 \"엘앤에프, 내년부터 흑자 전환…목표가↑\"</td>\n",
              "      <td>엘앤에프 CI\\n[엘앤에프 제공]\\n(서울=연합뉴스) 이민영 기자 = KB증권은 8...</td>\n",
              "      <td>20231031_0029</td>\n",
              "      <td>2023-10-31</td>\n",
              "      <td>LG화학</td>\n",
              "      <td>양극재 경쟁사 대비 선방 vs. 둔화되는 EV 업..</td>\n",
              "      <td>3Q23 영업이익 컨센 12% 상회. 양극재는 경쟁사 대비 선방\\n3Q23 영업이익...</td>\n",
              "      <td>27.13</td>\n",
              "      <td>0.759115</td>\n",
              "      <td>343</td>\n",
              "      <td>0.75~0.8</td>\n",
              "    </tr>\n",
              "    <tr>\n",
              "      <th>503747</th>\n",
              "      <td>20240517_0188</td>\n",
              "      <td>2024-05-17 08:39:00</td>\n",
              "      <td>메타랩스</td>\n",
              "      <td>메타랩스, 1분기 매출액 85억원…전년比 115%↑</td>\n",
              "      <td>메타랩스는 1분기 매출 85억원, 영업손실 5억원, 상각 전 영업이익(EBITDA)...</td>\n",
              "      <td>20231023_0018</td>\n",
              "      <td>2023-10-23</td>\n",
              "      <td>코스메카코리아</td>\n",
              "      <td>전 법인 이익 개선 전망</td>\n",
              "      <td>3Q: 국내/중국/미국, 전 법인 실적 개선 기대\\n코스메카코리아의 3분기 연결 매...</td>\n",
              "      <td>15.35</td>\n",
              "      <td>0.711248</td>\n",
              "      <td>207</td>\n",
              "      <td>0.7~0.75</td>\n",
              "    </tr>\n",
              "    <tr>\n",
              "      <th>543219</th>\n",
              "      <td>20240419_0147</td>\n",
              "      <td>2024-04-19 09:35:00</td>\n",
              "      <td>금호타이어</td>\n",
              "      <td>금호타이어, 베트남 공장 증설 완료...수익 향상 기대-KB증권</td>\n",
              "      <td>금호타이어 CI\\n[파이낸셜뉴스] KB증권은 19일 금호타이어에 대해 관세 인하 효...</td>\n",
              "      <td>20240618_0011</td>\n",
              "      <td>2024-06-18</td>\n",
              "      <td>효성첨단소재</td>\n",
              "      <td>견고한 펀더멘탈 대비 주가 약세 지속</td>\n",
              "      <td>상반기는 타이어보강재, 하반기는 탄소섬유 정상화까지\\n이미 시작된 타이어보강재 턴어...</td>\n",
              "      <td>40.41</td>\n",
              "      <td>0.754850</td>\n",
              "      <td>-60</td>\n",
              "      <td>0.75~0.8</td>\n",
              "    </tr>\n",
              "    <tr>\n",
              "      <th>541933</th>\n",
              "      <td>20240422_0335</td>\n",
              "      <td>2024-04-22 07:51:00</td>\n",
              "      <td>HD현대인프라코어</td>\n",
              "      <td>[클릭 e종목]\"HD현대인프라코어, 업황 부진에도 견조한 실적\"</td>\n",
              "      <td>1분기 매출, 영업익 각각 10%, 39% 감소\\n2분기에도 부진 가능성↑\\n\"선진...</td>\n",
              "      <td>20250402_0026</td>\n",
              "      <td>2025-04-02</td>\n",
              "      <td>삼성전자</td>\n",
              "      <td>높아진 회복 기대감</td>\n",
              "      <td>우려가 반영된 1분기 컨센서스, 2분기부터 회복 구간 진입\\n계절적 비수기, 파운드...</td>\n",
              "      <td>10.13</td>\n",
              "      <td>0.771401</td>\n",
              "      <td>-345</td>\n",
              "      <td>0.75~0.8</td>\n",
              "    </tr>\n",
              "    <tr>\n",
              "      <th>203263</th>\n",
              "      <td>20241219_0287</td>\n",
              "      <td>2024-12-19 07:49:00</td>\n",
              "      <td>키움증권</td>\n",
              "      <td>LG전자, 비수기 활용해 비중 확대-키움</td>\n",
              "      <td>[이데일리 원다연 기자] 키움증권은 19일 LG전자(066570)에 대해 비수기를 ...</td>\n",
              "      <td>20241024_0004</td>\n",
              "      <td>2024-10-24</td>\n",
              "      <td>LG이노텍</td>\n",
              "      <td>인내가 필요해</td>\n",
              "      <td>3Q24 Review: 실적 쇼크\\nLG이노텍의 24년 3분기 매출액은 5조 6,8...</td>\n",
              "      <td>13.42</td>\n",
              "      <td>0.750525</td>\n",
              "      <td>56</td>\n",
              "      <td>0.75~0.8</td>\n",
              "    </tr>\n",
              "    <tr>\n",
              "      <th>149120</th>\n",
              "      <td>20250204_0043</td>\n",
              "      <td>2025-02-04 15:18:00</td>\n",
              "      <td>미래에셋증권</td>\n",
              "      <td>세빌스 “지난해 서울 오피스 11.6조 거래…우량 자산에 관심 지속될 것”</td>\n",
              "      <td>오피스 전경 사진[사진 출처=세빌스코리아]\\n지난해 서울 오피스 시장이 활황을 띠었...</td>\n",
              "      <td>20230623_0014</td>\n",
              "      <td>2023-06-23</td>\n",
              "      <td>아이티아이즈</td>\n",
              "      <td>2023 턴어라운드의 원년</td>\n",
              "      <td>금융업 기반 IT 서비스 강자\\n2012년 설립된 IT 서비스 전문 기업이다. 국내...</td>\n",
              "      <td>12.06</td>\n",
              "      <td>0.722885</td>\n",
              "      <td>592</td>\n",
              "      <td>0.7~0.75</td>\n",
              "    </tr>\n",
              "    <tr>\n",
              "      <th>523656</th>\n",
              "      <td>20240503_0235</td>\n",
              "      <td>2024-05-03 07:40:00</td>\n",
              "      <td>하이브</td>\n",
              "      <td>하이브, 단기 주가 약세 불가피…중장기 성장성 여전-유안타</td>\n",
              "      <td>[이데일리 김인경 기자] 유안타증권은 3일 하이브(352820)가 1분기 시장기대치...</td>\n",
              "      <td>20250211_0023</td>\n",
              "      <td>2025-02-11</td>\n",
              "      <td>두산밥캣</td>\n",
              "      <td>구체적인 회복 시점은 아직 불확실하지만</td>\n",
              "      <td>목표주가 57,000원, 투자의견 매수 유지\\n두산밥캣 목표주가를 57,000원과 ...</td>\n",
              "      <td>17.99</td>\n",
              "      <td>0.735680</td>\n",
              "      <td>-284</td>\n",
              "      <td>0.7~0.75</td>\n",
              "    </tr>\n",
              "    <tr>\n",
              "      <th>79081</th>\n",
              "      <td>20250326_0167</td>\n",
              "      <td>2025-03-26 07:57:00</td>\n",
              "      <td>에이피알</td>\n",
              "      <td>[클릭 e종목]\"에이피알, 화장품 내 대표 해외 성장주…목표가↑\"</td>\n",
              "      <td>목표주가 기존 대비 29% 상향 조정\\n한화투자증권은 26일 에이피알에 대해 화장품...</td>\n",
              "      <td>20250227_0015</td>\n",
              "      <td>2025-02-27</td>\n",
              "      <td>한올바이오파마</td>\n",
              "      <td>한올에게 가장 중요할 1분기</td>\n",
              "      <td>목표주가 54,000원으로 상향, 투자의견 매수 유지\\n한올바이오파마의 목표주가는 ...</td>\n",
              "      <td>29.52</td>\n",
              "      <td>0.778464</td>\n",
              "      <td>27</td>\n",
              "      <td>0.75~0.8</td>\n",
              "    </tr>\n",
              "  </tbody>\n",
              "</table>\n",
              "</div>\n",
              "    <div class=\"colab-df-buttons\">\n",
              "\n",
              "  <div class=\"colab-df-container\">\n",
              "    <button class=\"colab-df-convert\" onclick=\"convertToInteractive('df-31b0c566-1b9b-4ed2-8fe8-f941ef27aadb')\"\n",
              "            title=\"Convert this dataframe to an interactive table.\"\n",
              "            style=\"display:none;\">\n",
              "\n",
              "  <svg xmlns=\"http://www.w3.org/2000/svg\" height=\"24px\" viewBox=\"0 -960 960 960\">\n",
              "    <path d=\"M120-120v-720h720v720H120Zm60-500h600v-160H180v160Zm220 220h160v-160H400v160Zm0 220h160v-160H400v160ZM180-400h160v-160H180v160Zm440 0h160v-160H620v160ZM180-180h160v-160H180v160Zm440 0h160v-160H620v160Z\"/>\n",
              "  </svg>\n",
              "    </button>\n",
              "\n",
              "  <style>\n",
              "    .colab-df-container {\n",
              "      display:flex;\n",
              "      gap: 12px;\n",
              "    }\n",
              "\n",
              "    .colab-df-convert {\n",
              "      background-color: #E8F0FE;\n",
              "      border: none;\n",
              "      border-radius: 50%;\n",
              "      cursor: pointer;\n",
              "      display: none;\n",
              "      fill: #1967D2;\n",
              "      height: 32px;\n",
              "      padding: 0 0 0 0;\n",
              "      width: 32px;\n",
              "    }\n",
              "\n",
              "    .colab-df-convert:hover {\n",
              "      background-color: #E2EBFA;\n",
              "      box-shadow: 0px 1px 2px rgba(60, 64, 67, 0.3), 0px 1px 3px 1px rgba(60, 64, 67, 0.15);\n",
              "      fill: #174EA6;\n",
              "    }\n",
              "\n",
              "    .colab-df-buttons div {\n",
              "      margin-bottom: 4px;\n",
              "    }\n",
              "\n",
              "    [theme=dark] .colab-df-convert {\n",
              "      background-color: #3B4455;\n",
              "      fill: #D2E3FC;\n",
              "    }\n",
              "\n",
              "    [theme=dark] .colab-df-convert:hover {\n",
              "      background-color: #434B5C;\n",
              "      box-shadow: 0px 1px 3px 1px rgba(0, 0, 0, 0.15);\n",
              "      filter: drop-shadow(0px 1px 2px rgba(0, 0, 0, 0.3));\n",
              "      fill: #FFFFFF;\n",
              "    }\n",
              "  </style>\n",
              "\n",
              "    <script>\n",
              "      const buttonEl =\n",
              "        document.querySelector('#df-31b0c566-1b9b-4ed2-8fe8-f941ef27aadb button.colab-df-convert');\n",
              "      buttonEl.style.display =\n",
              "        google.colab.kernel.accessAllowed ? 'block' : 'none';\n",
              "\n",
              "      async function convertToInteractive(key) {\n",
              "        const element = document.querySelector('#df-31b0c566-1b9b-4ed2-8fe8-f941ef27aadb');\n",
              "        const dataTable =\n",
              "          await google.colab.kernel.invokeFunction('convertToInteractive',\n",
              "                                                    [key], {});\n",
              "        if (!dataTable) return;\n",
              "\n",
              "        const docLinkHtml = 'Like what you see? Visit the ' +\n",
              "          '<a target=\"_blank\" href=https://colab.research.google.com/notebooks/data_table.ipynb>data table notebook</a>'\n",
              "          + ' to learn more about interactive tables.';\n",
              "        element.innerHTML = '';\n",
              "        dataTable['output_type'] = 'display_data';\n",
              "        await google.colab.output.renderOutput(dataTable, element);\n",
              "        const docLink = document.createElement('div');\n",
              "        docLink.innerHTML = docLinkHtml;\n",
              "        element.appendChild(docLink);\n",
              "      }\n",
              "    </script>\n",
              "  </div>\n",
              "\n",
              "\n",
              "    <div id=\"df-758ced37-4538-472b-8e32-e4e05139b11c\">\n",
              "      <button class=\"colab-df-quickchart\" onclick=\"quickchart('df-758ced37-4538-472b-8e32-e4e05139b11c')\"\n",
              "                title=\"Suggest charts\"\n",
              "                style=\"display:none;\">\n",
              "\n",
              "<svg xmlns=\"http://www.w3.org/2000/svg\" height=\"24px\"viewBox=\"0 0 24 24\"\n",
              "     width=\"24px\">\n",
              "    <g>\n",
              "        <path d=\"M19 3H5c-1.1 0-2 .9-2 2v14c0 1.1.9 2 2 2h14c1.1 0 2-.9 2-2V5c0-1.1-.9-2-2-2zM9 17H7v-7h2v7zm4 0h-2V7h2v10zm4 0h-2v-4h2v4z\"/>\n",
              "    </g>\n",
              "</svg>\n",
              "      </button>\n",
              "\n",
              "<style>\n",
              "  .colab-df-quickchart {\n",
              "      --bg-color: #E8F0FE;\n",
              "      --fill-color: #1967D2;\n",
              "      --hover-bg-color: #E2EBFA;\n",
              "      --hover-fill-color: #174EA6;\n",
              "      --disabled-fill-color: #AAA;\n",
              "      --disabled-bg-color: #DDD;\n",
              "  }\n",
              "\n",
              "  [theme=dark] .colab-df-quickchart {\n",
              "      --bg-color: #3B4455;\n",
              "      --fill-color: #D2E3FC;\n",
              "      --hover-bg-color: #434B5C;\n",
              "      --hover-fill-color: #FFFFFF;\n",
              "      --disabled-bg-color: #3B4455;\n",
              "      --disabled-fill-color: #666;\n",
              "  }\n",
              "\n",
              "  .colab-df-quickchart {\n",
              "    background-color: var(--bg-color);\n",
              "    border: none;\n",
              "    border-radius: 50%;\n",
              "    cursor: pointer;\n",
              "    display: none;\n",
              "    fill: var(--fill-color);\n",
              "    height: 32px;\n",
              "    padding: 0;\n",
              "    width: 32px;\n",
              "  }\n",
              "\n",
              "  .colab-df-quickchart:hover {\n",
              "    background-color: var(--hover-bg-color);\n",
              "    box-shadow: 0 1px 2px rgba(60, 64, 67, 0.3), 0 1px 3px 1px rgba(60, 64, 67, 0.15);\n",
              "    fill: var(--button-hover-fill-color);\n",
              "  }\n",
              "\n",
              "  .colab-df-quickchart-complete:disabled,\n",
              "  .colab-df-quickchart-complete:disabled:hover {\n",
              "    background-color: var(--disabled-bg-color);\n",
              "    fill: var(--disabled-fill-color);\n",
              "    box-shadow: none;\n",
              "  }\n",
              "\n",
              "  .colab-df-spinner {\n",
              "    border: 2px solid var(--fill-color);\n",
              "    border-color: transparent;\n",
              "    border-bottom-color: var(--fill-color);\n",
              "    animation:\n",
              "      spin 1s steps(1) infinite;\n",
              "  }\n",
              "\n",
              "  @keyframes spin {\n",
              "    0% {\n",
              "      border-color: transparent;\n",
              "      border-bottom-color: var(--fill-color);\n",
              "      border-left-color: var(--fill-color);\n",
              "    }\n",
              "    20% {\n",
              "      border-color: transparent;\n",
              "      border-left-color: var(--fill-color);\n",
              "      border-top-color: var(--fill-color);\n",
              "    }\n",
              "    30% {\n",
              "      border-color: transparent;\n",
              "      border-left-color: var(--fill-color);\n",
              "      border-top-color: var(--fill-color);\n",
              "      border-right-color: var(--fill-color);\n",
              "    }\n",
              "    40% {\n",
              "      border-color: transparent;\n",
              "      border-right-color: var(--fill-color);\n",
              "      border-top-color: var(--fill-color);\n",
              "    }\n",
              "    60% {\n",
              "      border-color: transparent;\n",
              "      border-right-color: var(--fill-color);\n",
              "    }\n",
              "    80% {\n",
              "      border-color: transparent;\n",
              "      border-right-color: var(--fill-color);\n",
              "      border-bottom-color: var(--fill-color);\n",
              "    }\n",
              "    90% {\n",
              "      border-color: transparent;\n",
              "      border-bottom-color: var(--fill-color);\n",
              "    }\n",
              "  }\n",
              "</style>\n",
              "\n",
              "      <script>\n",
              "        async function quickchart(key) {\n",
              "          const quickchartButtonEl =\n",
              "            document.querySelector('#' + key + ' button');\n",
              "          quickchartButtonEl.disabled = true;  // To prevent multiple clicks.\n",
              "          quickchartButtonEl.classList.add('colab-df-spinner');\n",
              "          try {\n",
              "            const charts = await google.colab.kernel.invokeFunction(\n",
              "                'suggestCharts', [key], {});\n",
              "          } catch (error) {\n",
              "            console.error('Error during call to suggestCharts:', error);\n",
              "          }\n",
              "          quickchartButtonEl.classList.remove('colab-df-spinner');\n",
              "          quickchartButtonEl.classList.add('colab-df-quickchart-complete');\n",
              "        }\n",
              "        (() => {\n",
              "          let quickchartButtonEl =\n",
              "            document.querySelector('#df-758ced37-4538-472b-8e32-e4e05139b11c button');\n",
              "          quickchartButtonEl.style.display =\n",
              "            google.colab.kernel.accessAllowed ? 'block' : 'none';\n",
              "        })();\n",
              "      </script>\n",
              "    </div>\n",
              "\n",
              "    </div>\n",
              "  </div>\n"
            ],
            "text/plain": [
              "              news_id               wdate stock_name  \\\n",
              "175270  20250113_0107 2025-01-13 09:19:00       LG화학   \n",
              "359268  20240823_0041 2024-08-23 14:45:00       삼성전자   \n",
              "307458  20241008_0239 2024-10-08 08:29:00       엘앤에프   \n",
              "503747  20240517_0188 2024-05-17 08:39:00       메타랩스   \n",
              "543219  20240419_0147 2024-04-19 09:35:00      금호타이어   \n",
              "541933  20240422_0335 2024-04-22 07:51:00  HD현대인프라코어   \n",
              "203263  20241219_0287 2024-12-19 07:49:00       키움증권   \n",
              "149120  20250204_0043 2025-02-04 15:18:00     미래에셋증권   \n",
              "523656  20240503_0235 2024-05-03 07:40:00        하이브   \n",
              "79081   20250326_0167 2025-03-26 07:57:00       에이피알   \n",
              "\n",
              "                                       news_title  \\\n",
              "175270     IBK證 \"LG화학 4분기 실적 대규모 영업손실 기록할 듯…목표가↓\"   \n",
              "359268     미래산업, 독일 인피니언 및 중국 창신메모리와 74억원 장비 공급계약   \n",
              "307458               KB증권 \"엘앤에프, 내년부터 흑자 전환…목표가↑\"   \n",
              "503747               메타랩스, 1분기 매출액 85억원…전년比 115%↑   \n",
              "543219        금호타이어, 베트남 공장 증설 완료...수익 향상 기대-KB증권   \n",
              "541933        [클릭 e종목]\"HD현대인프라코어, 업황 부진에도 견조한 실적\"   \n",
              "203263                     LG전자, 비수기 활용해 비중 확대-키움   \n",
              "149120  세빌스 “지난해 서울 오피스 11.6조 거래…우량 자산에 관심 지속될 것”   \n",
              "523656           하이브, 단기 주가 약세 불가피…중장기 성장성 여전-유안타   \n",
              "79081        [클릭 e종목]\"에이피알, 화장품 내 대표 해외 성장주…목표가↑\"   \n",
              "\n",
              "                                             news_content      report_id  \\\n",
              "175270  목표주가 46만원→37만원\\n\"2389억원 영업손실 낼듯\"\\n사진 제공=LG화학\\n...  20240201_0029   \n",
              "359268  반도체 후 공정 장비회사인 미래산업은 차량용 반도체 세계 1위인 독일의 인피니언(I...  20231215_0002   \n",
              "307458  엘앤에프 CI\\n[엘앤에프 제공]\\n(서울=연합뉴스) 이민영 기자 = KB증권은 8...  20231031_0029   \n",
              "503747  메타랩스는 1분기 매출 85억원, 영업손실 5억원, 상각 전 영업이익(EBITDA)...  20231023_0018   \n",
              "543219  금호타이어 CI\\n[파이낸셜뉴스] KB증권은 19일 금호타이어에 대해 관세 인하 효...  20240618_0011   \n",
              "541933  1분기 매출, 영업익 각각 10%, 39% 감소\\n2분기에도 부진 가능성↑\\n\"선진...  20250402_0026   \n",
              "203263  [이데일리 원다연 기자] 키움증권은 19일 LG전자(066570)에 대해 비수기를 ...  20241024_0004   \n",
              "149120  오피스 전경 사진[사진 출처=세빌스코리아]\\n지난해 서울 오피스 시장이 활황을 띠었...  20230623_0014   \n",
              "523656  [이데일리 김인경 기자] 유안타증권은 3일 하이브(352820)가 1분기 시장기대치...  20250211_0023   \n",
              "79081   목표주가 기존 대비 29% 상향 조정\\n한화투자증권은 26일 에이피알에 대해 화장품...  20250227_0015   \n",
              "\n",
              "              작성일      종목명                   report_title  \\\n",
              "175270 2024-02-01   LG생활건강        4Q23 Review: 낮아진 눈높이 상회   \n",
              "359268 2023-12-15   세아메카닉스               24년 포트폴리오 다각화 시작   \n",
              "307458 2023-10-31     LG화학  양극재 경쟁사 대비 선방 vs. 둔화되는 EV 업..   \n",
              "503747 2023-10-23  코스메카코리아                  전 법인 이익 개선 전망   \n",
              "543219 2024-06-18   효성첨단소재           견고한 펀더멘탈 대비 주가 약세 지속   \n",
              "541933 2025-04-02     삼성전자                     높아진 회복 기대감   \n",
              "203263 2024-10-24    LG이노텍                        인내가 필요해   \n",
              "149120 2023-06-23   아이티아이즈                 2023 턴어라운드의 원년   \n",
              "523656 2025-02-11     두산밥캣          구체적인 회복 시점은 아직 불확실하지만   \n",
              "79081  2025-02-27  한올바이오파마                한올에게 가장 중요할 1분기   \n",
              "\n",
              "                                           report_content  impact_score  \\\n",
              "175270  4Q23 Review: 낮아진 눈높이 상회\\nLG생활건강의 4분기 실적은 연결 매출...         20.12   \n",
              "359268  알루미늄 다이캐스팅 전문 업체\\n알루미늄을 고열에서 녹여 특정한 모양의 제품을 생산...         22.90   \n",
              "307458  3Q23 영업이익 컨센 12% 상회. 양극재는 경쟁사 대비 선방\\n3Q23 영업이익...         27.13   \n",
              "503747  3Q: 국내/중국/미국, 전 법인 실적 개선 기대\\n코스메카코리아의 3분기 연결 매...         15.35   \n",
              "543219  상반기는 타이어보강재, 하반기는 탄소섬유 정상화까지\\n이미 시작된 타이어보강재 턴어...         40.41   \n",
              "541933  우려가 반영된 1분기 컨센서스, 2분기부터 회복 구간 진입\\n계절적 비수기, 파운드...         10.13   \n",
              "203263  3Q24 Review: 실적 쇼크\\nLG이노텍의 24년 3분기 매출액은 5조 6,8...         13.42   \n",
              "149120  금융업 기반 IT 서비스 강자\\n2012년 설립된 IT 서비스 전문 기업이다. 국내...         12.06   \n",
              "523656  목표주가 57,000원, 투자의견 매수 유지\\n두산밥캣 목표주가를 57,000원과 ...         17.99   \n",
              "79081   목표주가 54,000원으로 상향, 투자의견 매수 유지\\n한올바이오파마의 목표주가는 ...         29.52   \n",
              "\n",
              "             sim  date_diff_days sim_bin_05  \n",
              "175270  0.717347             347   0.7~0.75  \n",
              "359268  0.718211             252   0.7~0.75  \n",
              "307458  0.759115             343   0.75~0.8  \n",
              "503747  0.711248             207   0.7~0.75  \n",
              "543219  0.754850             -60   0.75~0.8  \n",
              "541933  0.771401            -345   0.75~0.8  \n",
              "203263  0.750525              56   0.75~0.8  \n",
              "149120  0.722885             592   0.7~0.75  \n",
              "523656  0.735680            -284   0.7~0.75  \n",
              "79081   0.778464              27   0.75~0.8  "
            ]
          },
          "execution_count": 14,
          "metadata": {},
          "output_type": "execute_result"
        }
      ],
      "source": [
        "sim_07_08_df = result_df[(result_df['sim'] >= 0.7) & (result_df['sim'] < 0.8)]\n",
        "sim_07_08_df.sample(10)"
      ]
    },
    {
      "cell_type": "markdown",
      "metadata": {
        "id": "slcBmy_LzJkw"
      },
      "source": [
        "**stock_name 과 종목명 컬럼 일치하는 것의 개수**"
      ]
    },
    {
      "cell_type": "code",
      "execution_count": 15,
      "metadata": {
        "colab": {
          "base_uri": "https://localhost:8080/"
        },
        "id": "URmk_O4IzhKc",
        "outputId": "92ff12b9-8ecd-4ab9-cbc7-c7cb407288c2"
      },
      "outputs": [
        {
          "data": {
            "text/plain": [
              "703960"
            ]
          },
          "execution_count": 15,
          "metadata": {},
          "output_type": "execute_result"
        }
      ],
      "source": [
        "len(result_df)"
      ]
    },
    {
      "cell_type": "code",
      "execution_count": 16,
      "metadata": {
        "colab": {
          "base_uri": "https://localhost:8080/"
        },
        "id": "y4e7EsnsyS-R",
        "outputId": "500dc61f-5978-4979-c011-4a90dd6d35e3"
      },
      "outputs": [
        {
          "name": "stdout",
          "output_type": "stream",
          "text": [
            "유사도 구간별 종목명 일치 개수:\n",
            " sim_bin_05\n",
            "0.0~0.05        0\n",
            "0.05~0.1        0\n",
            "0.1~0.15        0\n",
            "0.15~0.2        0\n",
            "0.2~0.25        0\n",
            "0.25~0.3        0\n",
            "0.3~0.35        0\n",
            "0.35~0.4        2\n",
            "0.4~0.45        7\n",
            "0.45~0.5       71\n",
            "0.5~0.55      681\n",
            "0.55~0.6     2464\n",
            "0.6~0.65     5382\n",
            "0.65~0.7     8754\n",
            "0.7~0.75    14397\n",
            "0.75~0.8    13152\n",
            "0.8~0.85     2257\n",
            "0.85~0.9      227\n",
            "0.9~0.95       17\n",
            "0.95~1.0        0\n",
            "Name: is_same_stock, dtype: int64\n",
            "\n",
            "유사도 구간별 전체 개수:\n",
            " sim_bin_05\n",
            "0.0~0.05         0\n",
            "0.05~0.1         0\n",
            "0.1~0.15         0\n",
            "0.15~0.2         0\n",
            "0.2~0.25         0\n",
            "0.25~0.3         0\n",
            "0.3~0.35         0\n",
            "0.35~0.4        37\n",
            "0.4~0.45       480\n",
            "0.45~0.5      4063\n",
            "0.5~0.55     24112\n",
            "0.55~0.6     81968\n",
            "0.6~0.65    148126\n",
            "0.65~0.7    158560\n",
            "0.7~0.75    168572\n",
            "0.75~0.8    108708\n",
            "0.8~0.85      8885\n",
            "0.85~0.9       417\n",
            "0.9~0.95        32\n",
            "0.95~1.0         0\n",
            "Name: count, dtype: int64\n",
            "\n",
            "유사도 구간별 종목명 일치 비율(%):\n",
            " sim_bin_05\n",
            "0.0~0.05      NaN\n",
            "0.05~0.1      NaN\n",
            "0.1~0.15      NaN\n",
            "0.15~0.2      NaN\n",
            "0.2~0.25      NaN\n",
            "0.25~0.3      NaN\n",
            "0.3~0.35      NaN\n",
            "0.35~0.4     5.41\n",
            "0.4~0.45     1.46\n",
            "0.45~0.5     1.75\n",
            "0.5~0.55     2.82\n",
            "0.55~0.6     3.01\n",
            "0.6~0.65     3.63\n",
            "0.65~0.7     5.52\n",
            "0.7~0.75     8.54\n",
            "0.75~0.8    12.10\n",
            "0.8~0.85    25.40\n",
            "0.85~0.9    54.44\n",
            "0.9~0.95    53.12\n",
            "0.95~1.0      NaN\n",
            "dtype: float64\n"
          ]
        },
        {
          "name": "stderr",
          "output_type": "stream",
          "text": [
            "<ipython-input-16-6b49acd9a051>:5: FutureWarning: The default of observed=False is deprecated and will be changed to True in a future version of pandas. Pass observed=False to retain current behavior or observed=True to adopt the future default and silence this warning.\n",
            "  stock_match_counts = result_df.groupby('sim_bin_05')['is_same_stock'].sum()\n"
          ]
        }
      ],
      "source": [
        "# 먼저 일치 여부 컬럼 생성\n",
        "result_df['is_same_stock'] = result_df['stock_name'] == result_df['종목명']\n",
        "\n",
        "# 구간별 일치 개수 집계\n",
        "stock_match_counts = result_df.groupby('sim_bin_05')['is_same_stock'].sum()\n",
        "total_counts = result_df['sim_bin_05'].value_counts().sort_index()\n",
        "\n",
        "print(\"유사도 구간별 종목명 일치 개수:\\n\", stock_match_counts)\n",
        "print(\"\\n유사도 구간별 전체 개수:\\n\", total_counts)\n",
        "\n",
        "match_ratio = (stock_match_counts / total_counts) * 100\n",
        "print(\"\\n유사도 구간별 종목명 일치 비율(%):\\n\", match_ratio.round(2))"
      ]
    },
    {
      "cell_type": "code",
      "execution_count": 17,
      "metadata": {
        "colab": {
          "base_uri": "https://localhost:8080/"
        },
        "id": "weTTdPPt28yj",
        "outputId": "b13ac421-5547-4f0c-b2a2-c3dbaa1fe410"
      },
      "outputs": [
        {
          "name": "stdout",
          "output_type": "stream",
          "text": [
            "전체에서 종목명 일치 개수: 47411\n"
          ]
        }
      ],
      "source": [
        "total_same_stock_count = result_df['is_same_stock'].sum()\n",
        "print(f\"전체에서 종목명 일치 개수: {total_same_stock_count}\")"
      ]
    },
    {
      "cell_type": "code",
      "execution_count": 18,
      "metadata": {
        "colab": {
          "base_uri": "https://localhost:8080/",
          "height": 407
        },
        "id": "vW2Dm5XGytmU",
        "outputId": "59e5cde0-95cc-4efe-9c78-4e543920fdaf"
      },
      "outputs": [
        {
          "data": {
            "image/png": "[encoded data removed]",
            "text/plain": [
              "<Figure size 1500x400 with 1 Axes>"
            ]
          },
          "metadata": {},
          "output_type": "display_data"
        }
      ],
      "source": [
        "import matplotlib.pyplot as plt\n",
        "\n",
        "plt.figure(figsize=(15,4))\n",
        "match_ratio.plot(kind='bar', color='green')\n",
        "plt.xlabel('유사도 0.05 구간')\n",
        "plt.ylabel('종목명 일치 비율(%)')\n",
        "plt.title('유사도 구간별 종목명 일치율(%)')\n",
        "plt.tight_layout()\n",
        "plt.show()"
      ]
    },
    {
      "cell_type": "markdown",
      "metadata": {
        "id": "olYH5nRp1cpf"
      },
      "source": [
        "## 날짜 차이 분포 확인"
      ]
    },
    {
      "cell_type": "code",
      "execution_count": 19,
      "metadata": {
        "colab": {
          "base_uri": "https://localhost:8080/",
          "height": 507
        },
        "id": "rDLcdFqk1q7t",
        "outputId": "eb7c7789-16c2-499f-b793-f1adb4f9a286"
      },
      "outputs": [
        {
          "data": {
            "image/png": "[encoded data removed]",
            "text/plain": [
              "<Figure size 1000x500 with 1 Axes>"
            ]
          },
          "metadata": {},
          "output_type": "display_data"
        }
      ],
      "source": [
        "import matplotlib.pyplot as plt\n",
        "\n",
        "plt.rc('font', family='NanumGothic')\n",
        "plt.rcParams['axes.unicode_minus'] = False\n",
        "\n",
        "plt.figure(figsize=(10,5))\n",
        "plt.hist(result_df['date_diff_days'], bins=60, alpha=0.7)\n",
        "plt.xlabel('날짜 차이 (일)')\n",
        "plt.ylabel('빈도수')\n",
        "plt.title('뉴스-리포트 날짜 차이 분포(일 단위)')\n",
        "plt.tight_layout()\n",
        "plt.show()"
      ]
    },
    {
      "cell_type": "code",
      "execution_count": 20,
      "metadata": {
        "colab": {
          "base_uri": "https://localhost:8080/"
        },
        "id": "K9fwG46r1s3w",
        "outputId": "34e227f4-103c-4e10-b939-2b8ff3c0873e"
      },
      "outputs": [
        {
          "name": "stdout",
          "output_type": "stream",
          "text": [
            "count    703960.000000\n",
            "mean         90.450358\n",
            "std         254.636398\n",
            "min        -507.000000\n",
            "25%         -91.000000\n",
            "50%          80.000000\n",
            "75%         275.000000\n",
            "max         730.000000\n",
            "Name: date_diff_days, dtype: float64\n"
          ]
        }
      ],
      "source": [
        "print(result_df['date_diff_days'].describe())"
      ]
    },
    {
      "cell_type": "code",
      "execution_count": 21,
      "metadata": {
        "colab": {
          "base_uri": "https://localhost:8080/"
        },
        "id": "mM9thw2A1vj3",
        "outputId": "2f54e445-d1a2-46b5-b057-5370a49f4f9f"
      },
      "outputs": [
        {
          "name": "stdout",
          "output_type": "stream",
          "text": [
            "±90일 이내 일치 개수: 16196\n",
            "±90일 이내 전체 개수: 185765\n",
            "±90일 이내 일치 비율: 8.72%\n"
          ]
        }
      ],
      "source": [
        "within_90_df = result_df[result_df['date_diff_days'].abs() <= 90]\n",
        "\n",
        "# 일치 개수\n",
        "same_stock_count = (within_90_df['stock_name'] == within_90_df['종목명']).sum()\n",
        "# 전체 개수\n",
        "total_count = len(within_90_df)\n",
        "# 비율(%)\n",
        "same_stock_ratio = same_stock_count / total_count * 100\n",
        "\n",
        "print(f\"±90일 이내 일치 개수: {same_stock_count}\")\n",
        "print(f\"±90일 이내 전체 개수: {total_count}\")\n",
        "print(f\"±90일 이내 일치 비율: {same_stock_ratio:.2f}%\")"
      ]
    },
    {
      "cell_type": "code",
      "execution_count": 22,
      "metadata": {
        "colab": {
          "base_uri": "https://localhost:8080/"
        },
        "id": "X-W1OFxz3SPl",
        "outputId": "d5d5e3bc-87ab-4e47-a17c-faa2b4a0997f"
      },
      "outputs": [
        {
          "data": {
            "text/plain": [
              "34.161569289179496"
            ]
          },
          "execution_count": 22,
          "metadata": {},
          "output_type": "execute_result"
        }
      ],
      "source": [
        "# 전체 중 90일 이내 일치 비율\n",
        "16196/47410 * 100"
      ]
    },
    {
      "cell_type": "code",
      "execution_count": 24,
      "metadata": {
        "colab": {
          "base_uri": "https://localhost:8080/"
        },
        "id": "Ii4vGEOO2T8M",
        "outputId": "35a2af95-1fef-4feb-caab-fb1932fcaa42"
      },
      "outputs": [
        {
          "name": "stdout",
          "output_type": "stream",
          "text": [
            "count    16196.000000\n",
            "mean        17.982644\n",
            "std         11.133827\n",
            "min          1.560000\n",
            "25%         10.730000\n",
            "50%         15.430000\n",
            "75%         22.250000\n",
            "max        141.860000\n",
            "Name: impact_score, dtype: float64\n"
          ]
        }
      ],
      "source": [
        "# stock_name = 종목명 일치 케이스들의 중요도\n",
        "matched_df = within_90_df[within_90_df['stock_name'] == within_90_df['종목명']]\n",
        "print(matched_df['impact_score'].describe())"
      ]
    },
    {
      "cell_type": "code",
      "execution_count": 25,
      "metadata": {
        "colab": {
          "base_uri": "https://localhost:8080/",
          "height": 407
        },
        "id": "IGll5Jhg2YrJ",
        "outputId": "2205b520-d69b-4c65-bfae-5f4db7c4c0aa"
      },
      "outputs": [
        {
          "data": {
            "image/png": "[encoded data removed]",
            "text/plain": [
              "<Figure size 1000x400 with 1 Axes>"
            ]
          },
          "metadata": {},
          "output_type": "display_data"
        }
      ],
      "source": [
        "import matplotlib.pyplot as plt\n",
        "\n",
        "plt.figure(figsize=(10,4))\n",
        "plt.hist(matched_df['impact_score'], bins=30, alpha=0.7)\n",
        "plt.xlabel('impact_score')\n",
        "plt.ylabel('빈도수')\n",
        "plt.title('±90일 이내 & 종목명 일치 케이스의 중요도 분포')\n",
        "plt.tight_layout()\n",
        "plt.show()"
      ]
    },
    {
      "cell_type": "code",
      "execution_count": 26,
      "metadata": {
        "id": "9KD42KlI2i-8"
      },
      "outputs": [],
      "source": [
        "within_30_df = result_df[result_df['date_diff_days'].abs() <= 30]"
      ]
    },
    {
      "cell_type": "code",
      "execution_count": 27,
      "metadata": {
        "colab": {
          "base_uri": "https://localhost:8080/"
        },
        "id": "pPEIEyIw4x6B",
        "outputId": "e163f749-37c0-471c-ca4e-dfb36eee6e0c"
      },
      "outputs": [
        {
          "name": "stdout",
          "output_type": "stream",
          "text": [
            "±30일 이내 일치 개수: 8174\n",
            "±30일 이내 전체 개수: 73973\n",
            "±30일 이내 일치 비율: 11.05%\n"
          ]
        }
      ],
      "source": [
        "# 일치 개수\n",
        "same_stock_count_30 = (within_30_df['stock_name'] == within_30_df['종목명']).sum()\n",
        "# 전체 개수\n",
        "total_count_30 = len(within_30_df)\n",
        "# 일치 비율(%)\n",
        "same_stock_ratio_30 = same_stock_count_30 / total_count_30 * 100\n",
        "\n",
        "print(f\"±30일 이내 일치 개수: {same_stock_count_30}\")\n",
        "print(f\"±30일 이내 전체 개수: {total_count_30}\")\n",
        "print(f\"±30일 이내 일치 비율: {same_stock_ratio_30:.2f}%\")"
      ]
    },
    {
      "cell_type": "code",
      "execution_count": 28,
      "metadata": {
        "colab": {
          "base_uri": "https://localhost:8080/"
        },
        "id": "2VcB2FAJ45G2",
        "outputId": "7f4d8dcd-d8d7-4922-e434-938c2e93415f"
      },
      "outputs": [
        {
          "data": {
            "text/plain": [
              "17.238979118329468"
            ]
          },
          "execution_count": 28,
          "metadata": {},
          "output_type": "execute_result"
        }
      ],
      "source": [
        "8173/47410 *100"
      ]
    },
    {
      "cell_type": "code",
      "execution_count": 29,
      "metadata": {
        "colab": {
          "base_uri": "https://localhost:8080/"
        },
        "id": "WbZi8TLV49sU",
        "outputId": "c761181a-d055-48d7-d976-851ce0c46fa8"
      },
      "outputs": [
        {
          "name": "stdout",
          "output_type": "stream",
          "text": [
            "전체 종목명 일치 개수: 47411\n",
            "±30일 이내 종목명 일치 개수: 8174\n",
            "전체 일치 개수 중 ±30일 이내 비율: 17.24%\n"
          ]
        }
      ],
      "source": [
        "# 전체 일치 개수\n",
        "total_same_stock_count = (result_df['stock_name'] == result_df['종목명']).sum()\n",
        "\n",
        "# 30일 이내 + 종목명 일치 개수\n",
        "same_stock_count_30 = ((result_df['date_diff_days'].abs() <= 30) & (result_df['stock_name'] == result_df['종목명'])).sum()\n",
        "\n",
        "# 비율 계산\n",
        "same_stock_30_ratio_of_total = same_stock_count_30 / total_same_stock_count * 100\n",
        "\n",
        "print(f\"전체 종목명 일치 개수: {total_same_stock_count}\")\n",
        "print(f\"±30일 이내 종목명 일치 개수: {same_stock_count_30}\")\n",
        "print(f\"전체 일치 개수 중 ±30일 이내 비율: {same_stock_30_ratio_of_total:.2f}%\")"
      ]
    },
    {
      "cell_type": "code",
      "execution_count": 30,
      "metadata": {
        "id": "EZvfN8RI5Fzl"
      },
      "outputs": [],
      "source": [
        "within_30_same_df = result_df[\n",
        "    (result_df['date_diff_days'].abs() <= 30) &\n",
        "    (result_df['stock_name'] == result_df['종목명'])\n",
        "]"
      ]
    },
    {
      "cell_type": "code",
      "execution_count": 31,
      "metadata": {
        "colab": {
          "base_uri": "https://localhost:8080/"
        },
        "id": "8n1mCgHK5vcC",
        "outputId": "32bb803f-07b8-4f5e-a796-b9e89541bd2c"
      },
      "outputs": [
        {
          "name": "stdout",
          "output_type": "stream",
          "text": [
            "count    8174.000000\n",
            "mean        0.729874\n",
            "std         0.068445\n",
            "min         0.434755\n",
            "25%         0.688549\n",
            "50%         0.741289\n",
            "75%         0.775312\n",
            "max         0.945880\n",
            "Name: sim, dtype: float64\n"
          ]
        }
      ],
      "source": [
        "print(within_30_same_df['sim'].describe())"
      ]
    },
    {
      "cell_type": "code",
      "execution_count": 32,
      "metadata": {
        "colab": {
          "base_uri": "https://localhost:8080/",
          "height": 507
        },
        "id": "m9BpjI-j5TJa",
        "outputId": "81ccc0d8-4442-4640-9d4b-95eba50ddbf9"
      },
      "outputs": [
        {
          "data": {
            "image/png": "[encoded data removed]",
            "text/plain": [
              "<Figure size 1000x500 with 1 Axes>"
            ]
          },
          "metadata": {},
          "output_type": "display_data"
        }
      ],
      "source": [
        "import matplotlib.pyplot as plt\n",
        "\n",
        "plt.figure(figsize=(10,5))\n",
        "plt.hist(within_30_same_df['sim'], bins=20, alpha=0.7, color='orange')\n",
        "plt.xlabel('유사도(sim)')\n",
        "plt.ylabel('빈도수')\n",
        "plt.title('30일 이내 & 종목명 일치 케이스의 유사도 분포')\n",
        "plt.tight_layout()\n",
        "plt.show()"
      ]
    },
    {
      "cell_type": "code",
      "execution_count": 33,
      "metadata": {
        "id": "xBlmvfc_5V0H"
      },
      "outputs": [],
      "source": [
        "within_30_same_past_df = result_df[\n",
        "    (result_df['date_diff_days'].abs() <= 30) &\n",
        "    (result_df['stock_name'] == result_df['종목명']) &\n",
        "    (result_df['date_diff_days'] <= 0)\n",
        "]"
      ]
    },
    {
      "cell_type": "code",
      "execution_count": 34,
      "metadata": {
        "colab": {
          "base_uri": "https://localhost:8080/"
        },
        "id": "e-hfEJ8x5xio",
        "outputId": "d3543c83-b01e-444b-8ece-88700ee56ef4"
      },
      "outputs": [
        {
          "name": "stdout",
          "output_type": "stream",
          "text": [
            "count    5714.000000\n",
            "mean        0.737757\n",
            "std         0.068012\n",
            "min         0.434755\n",
            "25%         0.699941\n",
            "50%         0.747675\n",
            "75%         0.781685\n",
            "max         0.945880\n",
            "Name: sim, dtype: float64\n"
          ]
        }
      ],
      "source": [
        "print(within_30_same_past_df['sim'].describe())"
      ]
    },
    {
      "cell_type": "code",
      "execution_count": 35,
      "metadata": {
        "colab": {
          "base_uri": "https://localhost:8080/",
          "height": 507
        },
        "id": "SSA4FnAz5ovr",
        "outputId": "f4b80b8b-917b-4d60-a051-58faf0b2828e"
      },
      "outputs": [
        {
          "data": {
            "image/png": "[encoded data removed]",
            "text/plain": [
              "<Figure size 1000x500 with 1 Axes>"
            ]
          },
          "metadata": {},
          "output_type": "display_data"
        }
      ],
      "source": [
        "import matplotlib.pyplot as plt\n",
        "\n",
        "plt.figure(figsize=(10,5))\n",
        "plt.hist(within_30_same_past_df['sim'], bins=20, alpha=0.7, color='teal')\n",
        "plt.xlabel('유사도(sim)')\n",
        "plt.ylabel('빈도수')\n",
        "plt.title('30일 이내 & 종목명 일치 & 뉴스가 더 이전인 경우 유사도 분포')\n",
        "plt.tight_layout()\n",
        "plt.show()"
      ]
    },
    {
      "cell_type": "code",
      "execution_count": 36,
      "metadata": {
        "colab": {
          "base_uri": "https://localhost:8080/"
        },
        "id": "6lookDr-5qkr",
        "outputId": "f23fe1ce-a30f-4fac-ae49-36e923a63440"
      },
      "outputs": [
        {
          "name": "stdout",
          "output_type": "stream",
          "text": [
            "30일 이내 & 종목명 일치 & 날짜 차이 ≤ 0(뉴스가 더 과거): 5714개\n",
            "30일 이내 & 종목명 일치 & 날짜 차이 >= 0(뉴스가 더 미래): 4976개\n",
            "30일 이내 & 종목명 일치 & 날짜 차이 = 0 : 2516개\n"
          ]
        }
      ],
      "source": [
        "# 날짜 차이 0 이하 (뉴스가 리포트보다 과거)\n",
        "n_past = (within_30_same_df['date_diff_days'] <= 0).sum()\n",
        "\n",
        "# 날짜 차이 0 초과 (뉴스가 리포트보다 이후)\n",
        "n_future = (within_30_same_df['date_diff_days'] >= 0).sum()\n",
        "\n",
        "n_0 = (within_30_same_df['date_diff_days'] == 0).sum()\n",
        "\n",
        "print(f\"30일 이내 & 종목명 일치 & 날짜 차이 ≤ 0(뉴스가 더 과거): {n_past}개\")\n",
        "print(f\"30일 이내 & 종목명 일치 & 날짜 차이 >= 0(뉴스가 더 미래): {n_future}개\")\n",
        "print(f\"30일 이내 & 종목명 일치 & 날짜 차이 = 0 : {n_0}개\")"
      ]
    },
    {
      "cell_type": "code",
      "execution_count": 37,
      "metadata": {
        "colab": {
          "base_uri": "https://localhost:8080/"
        },
        "id": "FTZKw6QC6GxP",
        "outputId": "d21c19b2-551e-4514-c03a-04791d7cde72"
      },
      "outputs": [
        {
          "data": {
            "text/plain": [
              "69.90089318487703"
            ]
          },
          "execution_count": 37,
          "metadata": {},
          "output_type": "execute_result"
        }
      ],
      "source": [
        "5713/8173*100"
      ]
    },
    {
      "cell_type": "markdown",
      "metadata": {
        "id": "iI9HXDEU6QNY"
      },
      "source": [
        "## 뉴스별로 유사도 top3 리포트 추출\n",
        "- 그 3개 중에 종목명 일치 리포트가 하나라도 있으면 “성공”\n",
        "- 뉴스 전체에 대해 “성공률(Top-3 Recall)” 측정"
      ]
    },
    {
      "cell_type": "code",
      "execution_count": 38,
      "metadata": {
        "colab": {
          "base_uri": "https://localhost:8080/"
        },
        "id": "WiXVSkrGZ5HD",
        "outputId": "efcf3062-cdf9-4c1a-c394-9e9f7a6daee9"
      },
      "outputs": [
        {
          "name": "stdout",
          "output_type": "stream",
          "text": [
            "뉴스별 Top3 중 종목명 일치율: 19.60%\n",
            "뉴스 전체 개수: 35198\n",
            "Top3에 종목명 일치 리포트가 있는 뉴스 개수: 6898\n"
          ]
        },
        {
          "name": "stderr",
          "output_type": "stream",
          "text": [
            "<ipython-input-38-e875df7bd7e3>:9: DeprecationWarning: DataFrameGroupBy.apply operated on the grouping columns. This behavior is deprecated, and in a future version of pandas the grouping columns will be excluded from the operation. Either pass `include_groups=False` to exclude the groupings or explicitly select the grouping columns after groupby to silence this warning.\n",
            "  success_news = top3_group.apply(lambda x: (x['stock_name'] == x['종목명']).any())\n"
          ]
        }
      ],
      "source": [
        "import pandas as pd\n",
        "\n",
        "# 뉴스별로 유사도 내림차순 정렬 후, 각 뉴스에 대해 상위 3개만 추출\n",
        "result_df['sim_rank'] = result_df.groupby('news_id')['sim'].rank(method='first', ascending=False)\n",
        "top3_df = result_df[result_df['sim_rank'] <= 3]\n",
        "\n",
        "# 각 뉴스별로 \"종목명 일치\"가 하나라도 있는지 체크\n",
        "top3_group = top3_df.groupby('news_id')\n",
        "success_news = top3_group.apply(lambda x: (x['stock_name'] == x['종목명']).any())\n",
        "\n",
        "# Top3 내 종목명 일치 성공률\n",
        "top3_success_rate = success_news.mean() * 100\n",
        "print(f\"뉴스별 Top3 중 종목명 일치율: {top3_success_rate:.2f}%\")\n",
        "print(f\"뉴스 전체 개수: {len(success_news)}\")\n",
        "print(f\"Top3에 종목명 일치 리포트가 있는 뉴스 개수: {success_news.sum()}\")"
      ]
    },
    {
      "cell_type": "markdown",
      "metadata": {
        "id": "ezfZjt0qZ7CD"
      },
      "source": [
        "### 뉴스별 top3 종목명 정답(일치) 개수 분포"
      ]
    },
    {
      "cell_type": "code",
      "execution_count": 39,
      "metadata": {
        "colab": {
          "base_uri": "https://localhost:8080/"
        },
        "id": "VP07VNBIb15s",
        "outputId": "c0ef2f20-36f8-46be-c6ac-fc31b7e47226"
      },
      "outputs": [
        {
          "name": "stdout",
          "output_type": "stream",
          "text": [
            "0    28300\n",
            "1     3654\n",
            "2     1878\n",
            "3     1366\n",
            "Name: count, dtype: int64\n"
          ]
        },
        {
          "name": "stderr",
          "output_type": "stream",
          "text": [
            "<ipython-input-39-1f6d07820910>:7: DeprecationWarning: DataFrameGroupBy.apply operated on the grouping columns. This behavior is deprecated, and in a future version of pandas the grouping columns will be excluded from the operation. Either pass `include_groups=False` to exclude the groupings or explicitly select the grouping columns after groupby to silence this warning.\n",
            "  top3_match_count = top3_group.apply(lambda x: (x['stock_name'] == x['종목명']).sum())\n"
          ]
        }
      ],
      "source": [
        "# Top3만 추출 (sim_rank 필요)\n",
        "result_df['sim_rank'] = result_df.groupby('news_id')['sim'].rank(method='first', ascending=False)\n",
        "top3_df = result_df[result_df['sim_rank'] <= 3]\n",
        "\n",
        "# 뉴스별 Top3 내 정답(종목명 일치) 개수 카운트\n",
        "top3_group = top3_df.groupby('news_id')\n",
        "top3_match_count = top3_group.apply(lambda x: (x['stock_name'] == x['종목명']).sum())\n",
        "print(top3_match_count.value_counts().sort_index())"
      ]
    },
    {
      "cell_type": "code",
      "execution_count": 40,
      "metadata": {
        "colab": {
          "base_uri": "https://localhost:8080/"
        },
        "id": "z6zgIr7_b22p",
        "outputId": "836aa09b-569d-4b9d-8d00-6b3926af3baf"
      },
      "outputs": [
        {
          "data": {
            "text/plain": [
              "35198"
            ]
          },
          "execution_count": 40,
          "metadata": {},
          "output_type": "execute_result"
        }
      ],
      "source": [
        "28300+3654+1878+1366"
      ]
    },
    {
      "cell_type": "markdown",
      "metadata": {
        "id": "2-gaeQJwcIBK"
      },
      "source": [
        "### Top3 내 리포트의 유사도/날짜차이/impact_score 분포"
      ]
    },
    {
      "cell_type": "code",
      "execution_count": 47,
      "metadata": {
        "colab": {
          "base_uri": "https://localhost:8080/",
          "height": 407
        },
        "id": "qqOVxxo4cLoI",
        "outputId": "9a8cad8a-543c-412d-b588-ffbf9bd1b39b"
      },
      "outputs": [
        {
          "data": {
            "image/png": "[encoded data removed]",
            "text/plain": [
              "<Figure size 1400x400 with 3 Axes>"
            ]
          },
          "metadata": {},
          "output_type": "display_data"
        }
      ],
      "source": [
        "import matplotlib.pyplot as plt\n",
        "\n",
        "plt.figure(figsize=(14, 4))\n",
        "plt.subplot(1, 3, 1)\n",
        "plt.hist(top3_df['sim'], bins=30, color='orange', alpha=0.7)\n",
        "plt.xlabel('유사도(sim)')\n",
        "plt.title('Top3 유사도 분포')\n",
        "\n",
        "plt.subplot(1, 3, 2)\n",
        "plt.hist(top3_df['date_diff_days'], bins=30, color='skyblue', alpha=0.7)\n",
        "plt.xlabel('날짜 차이(일)')\n",
        "plt.title('Top3 날짜 차이 분포')\n",
        "\n",
        "plt.subplot(1, 3, 3)\n",
        "plt.hist(top3_df['impact_score'], bins=30, color='limegreen', alpha=0.7)\n",
        "plt.xlabel('impact_score')\n",
        "plt.title('Top3 impact_score 분포')\n",
        "plt.tight_layout()\n",
        "plt.show()"
      ]
    },
    {
      "cell_type": "markdown",
      "metadata": {
        "id": "WkWCiNgSdoGB"
      },
      "source": [
        "### Top3에 정답(일치) 2개 이상 들어가는 뉴스 개수/비율"
      ]
    },
    {
      "cell_type": "code",
      "execution_count": 43,
      "metadata": {
        "colab": {
          "base_uri": "https://localhost:8080/"
        },
        "id": "WjuGAd7secdf",
        "outputId": "d8c8d9e4-3553-4059-fbf6-d83867e6276e"
      },
      "outputs": [
        {
          "name": "stdout",
          "output_type": "stream",
          "text": [
            "Top3에 정답 2개 이상인 뉴스 개수: 3244 / 35198\n",
            "비율: 9.22%\n"
          ]
        }
      ],
      "source": [
        "n_two_or_more = (top3_match_count >= 2).sum()\n",
        "n_total_news = top3_match_count.shape[0]\n",
        "print(f\"Top3에 정답 2개 이상인 뉴스 개수: {n_two_or_more} / {n_total_news}\")\n",
        "print(f\"비율: {n_two_or_more / n_total_news * 100:.2f}%\")"
      ]
    },
    {
      "cell_type": "markdown",
      "metadata": {
        "id": "t6ZUhZjOed6z"
      },
      "source": [
        "### Precision@K, Hit@K(Recall@K) 직접 계산\n",
        "- Precision@K : Top3의 정답 비율 (K=3 기준, 전체 평균)\n",
        "- Hit@K/Recall@K: 뉴스별 Top3 중에 정답이 하나라도 포함된 뉴스 비율(=Hit Rate)"
      ]
    },
    {
      "cell_type": "code",
      "execution_count": 44,
      "metadata": {
        "colab": {
          "base_uri": "https://localhost:8080/"
        },
        "id": "o6ejdcKaeiZ2",
        "outputId": "2a026700-c970-48a8-9dc1-12f4c236d7ca"
      },
      "outputs": [
        {
          "name": "stdout",
          "output_type": "stream",
          "text": [
            "Precision@3: 10.90%\n",
            "Hit@3 (Recall@3): 19.60%\n"
          ]
        }
      ],
      "source": [
        "K = 3\n",
        "\n",
        "# Precision@3: 뉴스별 Top3에서 정답 개수 평균\n",
        "precision_at_k = top3_match_count.mean() / K * 100\n",
        "print(f\"Precision@{K}: {precision_at_k:.2f}%\")\n",
        "\n",
        "# Hit@3(Recall@3): 뉴스별 Top3에 정답 1개 이상 포함된 뉴스 비율\n",
        "hit_at_k = (top3_match_count > 0).mean() * 100\n",
        "print(f\"Hit@{K} (Recall@{K}): {hit_at_k:.2f}%\")"
      ]
    },
    {
      "cell_type": "markdown",
      "metadata": {
        "id": "yoO69qXiekwp"
      },
      "source": [
        "### 구간별 Precision@3, Hit@3(Recall@3) 측정\n",
        "- Precision@3이 높을수록: 사용자에게 “추천된 리포트가 종목 일치일 확률이 높아짐(신뢰도↑)\"\n",
        "- Hit@3(Recall@3)이 높을수록: “뉴스 하나당 Top3에서 정답을 건질 확률”이 높아짐(서비스 효용↑)\""
      ]
    },
    {
      "cell_type": "code",
      "execution_count": 48,
      "metadata": {
        "colab": {
          "base_uri": "https://localhost:8080/"
        },
        "id": "jfT7I94QezcG",
        "outputId": "f9b4f39f-4305-4c2c-e7cb-d2f45bafcc1d"
      },
      "outputs": [
        {
          "name": "stderr",
          "output_type": "stream",
          "text": [
            "<ipython-input-48-2ca8e21d4048>:5: DeprecationWarning: DataFrameGroupBy.apply operated on the grouping columns. This behavior is deprecated, and in a future version of pandas the grouping columns will be excluded from the operation. Either pass `include_groups=False` to exclude the groupings or explicitly select the grouping columns after groupby to silence this warning.\n",
            "  match_count = grouped.apply(lambda x: (x['stock_name'] == x['종목명']).sum())\n"
          ]
        },
        {
          "name": "stdout",
          "output_type": "stream",
          "text": [
            "유사도 0.75 이상 - Precision@3: 16.50%, Hit@3(Recall@3): 29.26%\n",
            "유사도 0.8 이상 - Precision@3: 17.96%, Hit@3(Recall@3): 36.73%\n",
            "유사도 0.85 이상 - Precision@3: 20.23%, Hit@3(Recall@3): 52.77%\n",
            "유사도 0.9 이상 - Precision@3: 17.71%, Hit@3(Recall@3): 53.12%\n"
          ]
        },
        {
          "name": "stderr",
          "output_type": "stream",
          "text": [
            "<ipython-input-48-2ca8e21d4048>:5: DeprecationWarning: DataFrameGroupBy.apply operated on the grouping columns. This behavior is deprecated, and in a future version of pandas the grouping columns will be excluded from the operation. Either pass `include_groups=False` to exclude the groupings or explicitly select the grouping columns after groupby to silence this warning.\n",
            "  match_count = grouped.apply(lambda x: (x['stock_name'] == x['종목명']).sum())\n",
            "<ipython-input-48-2ca8e21d4048>:5: DeprecationWarning: DataFrameGroupBy.apply operated on the grouping columns. This behavior is deprecated, and in a future version of pandas the grouping columns will be excluded from the operation. Either pass `include_groups=False` to exclude the groupings or explicitly select the grouping columns after groupby to silence this warning.\n",
            "  match_count = grouped.apply(lambda x: (x['stock_name'] == x['종목명']).sum())\n",
            "<ipython-input-48-2ca8e21d4048>:5: DeprecationWarning: DataFrameGroupBy.apply operated on the grouping columns. This behavior is deprecated, and in a future version of pandas the grouping columns will be excluded from the operation. Either pass `include_groups=False` to exclude the groupings or explicitly select the grouping columns after groupby to silence this warning.\n",
            "  match_count = grouped.apply(lambda x: (x['stock_name'] == x['종목명']).sum())\n"
          ]
        }
      ],
      "source": [
        "thresholds = [0.75, 0.8, 0.85, 0.9]\n",
        "for th in thresholds:\n",
        "    filtered = top3_df[top3_df['sim'] >= th]\n",
        "    grouped = filtered.groupby('news_id')\n",
        "    match_count = grouped.apply(lambda x: (x['stock_name'] == x['종목명']).sum())\n",
        "    precision_at_3 = match_count.mean() / 3 * 100\n",
        "    hit_at_3 = (match_count > 0).mean() * 100\n",
        "    print(f\"유사도 {th} 이상 - Precision@3: {precision_at_3:.2f}%, Hit@3(Recall@3): {hit_at_3:.2f}%\")"
      ]
    },
    {
      "cell_type": "markdown",
      "metadata": {
        "id": "pofzV4rhj3_9"
      },
      "source": [
        "0.85 : Top3 중 최소 1개가 종목 일치인 뉴스가 절반 이상이니까 실무에서도 많이 쓰는 커트라인"
      ]
    },
    {
      "cell_type": "markdown",
      "metadata": {
        "id": "nw92fUeLg3ku"
      },
      "source": [
        "## 결론"
      ]
    },
    {
      "cell_type": "code",
      "execution_count": 53,
      "metadata": {
        "colab": {
          "base_uri": "https://localhost:8080/",
          "height": 1000
        },
        "id": "yO0H59xchM_l",
        "outputId": "c79f924e-59c0-49fc-886c-ebab2c8cd3b8"
      },
      "outputs": [
        {
          "name": "stdout",
          "output_type": "stream",
          "text": [
            "필터링 후 데이터 개수: 353\n"
          ]
        },
        {
          "data": {
            "application/vnd.google.colaboratory.intrinsic+json": {
              "summary": "{\n  \"name\": \"filtered_date_sim_df\",\n  \"rows\": 353,\n  \"fields\": [\n    {\n      \"column\": \"news_id\",\n      \"properties\": {\n        \"dtype\": \"string\",\n        \"num_unique_values\": 338,\n        \"samples\": [\n          \"20241128_0291\",\n          \"20240110_0315\",\n          \"20240823_0191\"\n        ],\n        \"semantic_type\": \"\",\n        \"description\": \"\"\n      }\n    },\n    {\n      \"column\": \"wdate\",\n      \"properties\": {\n        \"dtype\": \"date\",\n        \"min\": \"2024-01-04 08:11:00\",\n        \"max\": \"2025-05-23 08:40:00\",\n        \"num_unique_values\": 337,\n        \"samples\": [\n          \"2025-03-18 07:54:00\",\n          \"2024-09-11 09:05:00\",\n          \"2025-03-04 08:05:00\"\n        ],\n        \"semantic_type\": \"\",\n        \"description\": \"\"\n      }\n    },\n    {\n      \"column\": \"stock_name\",\n      \"properties\": {\n        \"dtype\": \"category\",\n        \"num_unique_values\": 113,\n        \"samples\": [\n          \"\\ud55c\\uad6d\\ucf5c\\ub9c8\",\n          \"\\ubbf8\\ub798\\uc5d0\\uc14b\\uc99d\\uad8c\",\n          \"\\ud558\\uc774\\ube0c\"\n        ],\n        \"semantic_type\": \"\",\n        \"description\": \"\"\n      }\n    },\n    {\n      \"column\": \"news_title\",\n      \"properties\": {\n        \"dtype\": \"string\",\n        \"num_unique_values\": 338,\n        \"samples\": [\n          \"\\\"SK\\ud558\\uc774\\ub2c9\\uc2a4, \\ubc30\\ub2f9\\uae08 \\uc0c1\\ud5a5\\u2026\\uc548\\uc815\\uc801 \\uc0ac\\uc5c5\\uc870\\uc131 \\uc704\\ud55c \\ubc11\\uc791\\uc5c5\\\"-NH\",\n          \"GS\\ub9ac\\ud14c\\uc77c, \\uc9c0\\ub09c\\ud574 4\\ubd84\\uae30 \\uc77c\\uc2dc\\uc801 \\ubd80\\uc9c4\\uc5d0\\ub3c4 \\uc62c\\ud574 \\uc131\\uc7a5\\uc138 \\uc804\\ub9dd-IBK\",\n          \"[\\ud074\\ub9ad e\\uc885\\ubaa9]\\\"\\uc8fc\\ud0dd\\uc2dc\\uc7a5\\u00b7\\uc2e4\\uc801 \\uc804\\ud658 \\uae30\\ub300, HDC\\ud604\\uc0b0 \\ubaa9\\ud45c\\uac00 \\uc0c1\\ud5a5\\\"\"\n        ],\n        \"semantic_type\": \"\",\n        \"description\": \"\"\n      }\n    },\n    {\n      \"column\": \"news_content\",\n      \"properties\": {\n        \"dtype\": \"string\",\n        \"num_unique_values\": 338,\n        \"samples\": [\n          \"\\uc0ac\\uc9c4=\\uc5f0\\ud569\\ub274\\uc2a4\\nNH\\ud22c\\uc790\\uc99d\\uad8c\\uc740 28\\uc77c SK\\ud558\\uc774\\ub2c9\\uc2a4\\uc758 \\uc2e0\\uaddc \\uc8fc\\uc8fc\\ud658\\uc6d0 \\ubc1c\\ud45c\\uc640 \\uad00\\ub828\\ud574 \\\"\\uc774\\ubc88 \\uc815\\ucc45\\uc740 \\ub2e8\\uc21c\\ud55c \\uc8fc\\uc8fc\\ud658\\uc6d0\\uc774 \\uc544\\ub2cc \\ud5a5\\ud6c4 \\uc548\\uc815\\uc801\\uc778 \\uc0ac\\uc5c5 \\uc870\\uc131 \\ud658\\uacbd\\uc744 \\uc704\\ud55c \\ubc11\\uc791\\uc5c5\\\"\\uc774\\ub77c\\uace0 \\ud3c9\\uac00\\ud588\\ub2e4.\\n\\uc774 \\uc99d\\uad8c\\uc0ac \\ub958\\uc601\\ud638 \\uc5f0\\uad6c\\uc6d0\\uc740 \\\"\\uc774\\ubc88 \\uc815\\ucc45\\uc758 \\uacbd\\uc6b0 \\ub0b4\\ub144\\ubd80\\ud130 2027\\ub144\\uae4c\\uc9c0 \\uace0\\uc815\\ubc30\\ub2f9\\uae08\\uc740 \\uae30\\uc874 \\ub300\\ube44 25% \\uc0c1\\ud5a5\\ud55c 1500\\uc6d0\\uc73c\\ub85c \\uc870\\uc815\\ud558\\uace0, \\uadf8\\ub3d9\\uc548 \\uc9c0\\uae09\\ud558\\ub358 \\ub204\\uc801\\uc789\\uc5ec\\ud604\\uae08\\ud750\\ub984(FCF)\\uc758 5%\\ub97c \\uc7ac\\ubb34\\uac74\\uc804\\uc131 \\uac15\\ud654\\ub97c \\uc704\\ud574 \\ud65c\\uc6a9\\ud558\\uae30\\ub85c \\ud588\\ub2e4\\\"\\uba70 \\\"FCF 50% \\ubc94\\uc704 \\ub0b4 \\ucd94\\uac00 \\ud658\\uc6d0 \\uc815\\ucc45\\uc740 \\uc720\\uc9c0\\ud558\\ub418 \\uacfc\\uac70\\uc640 \\ub2ec\\ub9ac \\uc124\\uc815\\ub41c \\ubaa9\\ud45c \\ub2ec\\uc131 \\uc5ec\\ubd80\\uc5d0 \\ub530\\ub77c \\uc9c0\\uae09\\ud558\\uae30\\ub85c \\ud588\\ub2e4\\\"\\uace0 \\uc124\\uba85\\ud588\\ub2e4.\\n\\uc774\\uc5b4 \\\"\\uc21c\\ud604\\uae08\\uacfc \\uc801\\uc815 \\uc218\\uc900\\uc758 \\ud604\\uae08 \\ud655\\ubcf4 \\ubaa9\\ud45c\\ub97c \\ub2ec\\uc131\\ud55c\\ub2e4\\uba74 \\uc7ac\\ubb34 \\uac74\\uc804\\uc131\\uc744 \\uc720\\uc9c0\\ud558\\ub294 \\ubc94\\uc704 \\ub0b4\\uc5d0\\uc11c \\ucd94\\uac00 \\ud658\\uc6d0\\uc744 \\uc9c4\\ud589\\ud560 \\uc608\\uc815\\\"\\uc774\\ub77c\\uba70 \\\"\\uc774\\ubc88 \\uc815\\ucc45\\uc740 \\ub2e8\\uc21c\\ud55c \\uc8fc\\uc8fc\\ud658\\uc6d0\\uc774 \\uc544\\ub2cc \\ud5a5\\ud6c4 \\uc548\\uc815\\uc801\\uc778 \\uc0ac\\uc5c5 \\uc870\\uc131 \\ud658\\uacbd\\uc744 \\uc704\\ud55c \\ubc11\\uc791\\uc5c5\\uc774\\uace0 \\uadf8\\ub3d9\\uc548 \\uc57d\\uc810\\uc73c\\ub85c \\uc9c0\\uc801 \\ubc1b\\ub358 \\uc7ac\\ubb34\\uad6c\\uc870 \\uac1c\\uc120\\ub3c4 \\uae30\\ub300\\ub41c\\ub2e4\\\"\\uace0 \\ub9d0\\ud588\\ub2e4.\\n\\uc55e\\uc11c SK\\ud558\\uc774\\ub2c9\\uc2a4\\ub294 2025~2027\\ub144 \\uc8fc\\uc8fc\\ud658\\uc6d0 \\uc815\\ucc45\\uc73c\\ub85c \\uace0\\uc815 \\ubc30\\ub2f9\\uae08\\uc744 25% \\uc0c1\\ud5a5\\ud55c\\ub2e4\\uace0 \\uc804\\ub0a0 \\uacf5\\uc2dc\\ud588\\ub2e4. \\uc5f0\\uac04 \\ud604\\uae08 \\ubc30\\ub2f9\\uae08\\uc740 \\uace0\\uc815 \\ubc30\\ub2f9\\uae08\\ub9cc \\uc9c0\\uae09\\ud55c\\ub2e4. \\uae30\\uc874\\uc5d0 \\uc9c0\\uae09\\ud558\\ub358 \\uc5f0\\uac04 \\uc789\\uc5ec\\ud604\\uae08\\ud750\\ub984\\uc758 5%\\ub294 \\uc7ac\\ubb34 \\uac74\\uc804\\uc131 \\uac15\\ud654\\uc5d0 \\uc6b0\\uc120 \\ud65c\\uc6a9\\ud55c\\ub2e4.\\n\\ub958 \\uc5f0\\uad6c\\uc6d0\\uc740 \\\"\\uc124\\ube44\\ud22c\\uc790(CAPEX) \\uacc4\\ud68d\\uc740 3\\uac1c\\ub144 \\ub9e4\\ucd9c\\uc561 \\ub300\\ube44 \\uc774\\ub3d9 \\ud3c9\\uade0\\uc758 30% \\uc911\\ubc18 \\uc218\\uc900\\uc73c\\ub85c \\uad6c\\uccb4\\ud654\\ud574 \\uacfc\\uac70 \\uc5c5\\ud669\\uacfc \\uc0c1\\ud669\\uc5d0 \\ub530\\ub77c \\ud22c\\uc790 \\uaddc\\ubaa8\\uc758 \\ubcc0\\ub3d9\\uc131\\uc774 \\ucef8\\ub358 \\uc0c1\\ud669\\uacfc \\ub300\\ube44\\ub418\\ub294 \\ubd80\\ubd84\\\"\\uc774\\ub77c\\uba70 \\\"\\uc774\\ub294 \\uae30\\uc874 \\uc0ac\\uc774\\ud074\\uc5d0\\uc11c \\ubc1c\\uc0dd\\ub410\\ub358 \\uacfc\\uc789\\ud22c\\uc790\\uc5d0 \\ub300\\ud55c \\ub9ac\\uc2a4\\ud06c\\ub97c \\ub0ae\\ucd94\\uace0 \\uc218\\uc775\\uc131 \\uc704\\uc8fc\\uc758 \\uc801\\uc815\\ud55c \\ud22c\\uc790\\uc5d0 \\ud6a8\\uacfc\\uc801\\uc774\\ub77c \\ud310\\ub2e8\\ud55c\\ub2e4\\\"\\uace0 \\ud588\\ub2e4.\\n\\ub2e4\\ub9cc \\\"\\ub2e8\\uc704\\ub2f9 \\ud22c\\uc790 \\uae08\\uc561\\uc774 \\ube60\\ub974\\uac8c \\uc99d\\uac00\\ud558\\uace0 \\uc788\\uace0 \\ud604\\uc7ac \\uc55e\\uc11c\\uace0 \\uc788\\ub294 \\uae30\\uc220 \\uacbd\\uc7c1\\ub825\\uc744 \\ub354\\uc6b1 \\ud655\\uace0\\ud558\\uac8c \\ud558\\uae30 \\uc704\\ud574\\uc11c\\ub294 \\uc77c\\ubd80 \\ucd94\\uac00\\uc801\\uc778 \\ud22c\\uc790\\ub3c4 \\uc120\\ud589\\uc801\\uc73c\\ub85c \\ud544\\uc694\\ud55c \\uc2dc\\uae30\\uac00 \\uc788\\uc744 \\uac83\\uc73c\\ub85c \\ud310\\ub2e8\\ud55c\\ub2e4\\\"\\uace0 \\ub367\\ubd99\\uc600\\ub2e4.\",\n          \"IBK\\ud22c\\uc790\\uc99d\\uad8c\\uc774 10\\uc77c GS\\ub9ac\\ud14c\\uc77c\\uc5d0 \\ub300\\ud574 \\ud22c\\uc790\\uc758\\uacac \\ub9e4\\uc218\\uc640 \\ubaa9\\ud45c\\uc8fc\\uac00 3\\ub9cc3000\\uc6d0\\uc744 \\uc720\\uc9c0\\ud588\\ub2e4. 4\\ubd84\\uae30\\uc5d0 \\uc77c\\uc2dc\\uc801 \\ubd80\\ub2f4\\uc774 \\uc788\\uc9c0\\ub9cc \\uc62c\\ud574 \\uc218\\uc775\\uc131 \\uac1c\\uc120\\uc744 \\ud1b5\\ud574 \\uc131\\uc7a5\\ud560 \\uc218 \\uc788\\ub2e4\\uace0 \\ubd24\\ub2e4.\\n\\ub0a8\\uc131\\ud604 IBK\\ud22c\\uc790\\uc99d\\uad8c \\uc5f0\\uad6c\\uc6d0\\uc740 \\\"GS\\ub9ac\\ud14c\\uc77c 4\\ubd84\\uae30 \\uc2e4\\uc801\\uc740 \\uc2dc\\uc7a5 \\ubc0f IBK\\ud22c\\uc790\\uc99d\\uad8c \\ucd94\\uc815\\uce58\\ub97c \\ud558\\ud68c\\ud560 \\uac83\\uc73c\\ub85c \\uc804\\ub9dd\\ud55c\\ub2e4\\\"\\uba70 \\\"\\uc218\\uc775\\uc131 \\uac1c\\uc120\\uc744 \\uc704\\ud55c \\ud504\\ub808\\uc2dc\\ubab0(\\uc774\\ucee4\\uba38\\uc2a4) \\uc0ac\\uc5c5 \\uc885\\ub8cc\\uc5d0 \\ub530\\ub978 \\ud6a8\\uacfc\\uac00 \\ub354\\uc6b1 \\ud074 \\uac83\\uc73c\\ub85c \\uae30\\ub300\\ud588\\uc9c0\\ub9cc, \\uc9c0\\ub09c\\ud574 \\uc77c\\uc2dc\\uc801 \\ube44\\uc6a9\\uacfc \\ube44\\ud3b8\\uc758\\uc810 \\uc131\\uc7a5\\uc138\\uac00 \\uc815\\uccb4\\ub418\\uba74\\uc11c \\uc774\\uc775 \\uc99d\\uac00\\ub97c \\uae30\\ub300\\ud558\\uae30\\ub294 \\uc5b4\\ub824\\uc6b8 \\uac83\\\"\\uc774\\ub77c\\uace0 \\uc804\\ub9dd\\ud588\\ub2e4.\\n\\uc774\\uc5b4 \\\"4\\ubd84\\uae30 \\uc5f0\\uacb0\\uae30\\uc900 \\ub9e4\\ucd9c\\uc561\\uc740 \\uc804\\ub144 \\ub3d9\\uae30 \\ub300\\ube44 4.1% \\uc99d\\uac00\\ud55c 3\\uc87071\\uc5b5\\uc6d0, \\uc601\\uc5c5\\uc774\\uc775\\uc740 1.2% \\ub298\\uc5b4\\ub09c 865\\uc5b5\\uc6d0\\uc744 \\ub2ec\\uc131\\ud560 \\uac83\\uc73c\\ub85c \\ucd94\\uc815\\ud55c\\ub2e4\\\"\\uba70 \\\"\\uc2dc\\uc7a5 \\uae30\\ub300\\uce58\\uc778 970\\uc5b5\\uc6d0\\uc744 \\uc57d 10% \\ud558\\ud68c\\ud560 \\uac00\\ub2a5\\uc131\\uc774 \\ub192\\ub2e4\\ub294 \\uc758\\uacac\\\"\\uc774\\ub77c\\uace0 \\ud588\\ub2e4.\\n\\uadf8\\ub7ec\\uba74\\uc11c \\\"\\uae30\\uc874 \\ucd94\\uc815\\uce58 \\ub300\\ube44 \\ubd80\\uc815\\uc801\\uc73c\\ub85c \\uc804\\ub9dd\\ud558\\ub294 \\uadfc\\uac70\\ub294 \\u25b3\\uc774\\ucee4\\uba38\\uc2a4 \\uc804\\ub7b5 \\uc218\\uc815\\uc5d0 \\ub530\\ub978 \\uc218\\uc775\\uc131 \\uac1c\\uc120\\uc5d0\\ub3c4 \\uc77c\\uc2dc\\uc801\\uc73c\\ub85c \\ube44\\uc6a9 \\uc9d1\\ud589\\uc774 \\uc608\\uc0c1\\ub418\\uace0 \\u25b32022\\ub144 4\\ubd84\\uae30 \\ud648\\uc1fc\\ud551 \\uacbd\\uc815\\uccad\\uad6c \\ud658\\uae09\\uc5d0 \\ub530\\ub978 1\\ud68c\\uc131 \\ube44\\uc6a9 \\ubc0f \\uc5c5\\ud669 \\ubd80\\uc9c4 \\u25b3\\ud638\\ud154 \\uc0ac\\uc5c5\\ubd80 \\ubca0\\uc774\\uc2a4 \\ubd80\\ub2f4\\uc5d0 \\ub530\\ub978 \\uc131\\uc7a5 \\uc815\\uccb4 \\u25b3\\uc18c\\ube44\\uacbd\\uae30 \\uc545\\ud654\\ub85c \\uc778\\ud55c SSM \\uc9d1\\uac1d\\ub825 \\uac10\\uc18c\\uac00 \\uc608\\uc0c1\\ub418\\uae30 \\ub54c\\ubb38\\\"\\uc774\\ub77c\\uace0 \\uc124\\uba85\\ud588\\ub2e4.\\n\\uadf8\\ub294 \\\"4\\ubd84\\uae30\\ub294 \\uc77c\\uc2dc\\uc801\\uc73c\\ub85c \\ubd80\\uc9c4\\ud558\\uc9c0\\ub9cc, 2024\\ub144 \\uc131\\uc7a5\\uc138\\ub294 \\uc720\\uc9c0\\ub420 \\uc804\\ub9dd\\\"\\uc774\\ub77c\\uba70 \\\"\\uc774\\uc720\\ub294 \\u25b3\\uc774\\ucee4\\uba38\\uc2a4 \\uc0ac\\uc5c5\\ubd80 \\ucca0\\uc218\\uc5d0 \\ub530\\ub978 \\uc218\\uc775\\uc131 \\uac1c\\uc120\\uacfc \\u25b3\\uc9c0\\ub09c\\ud574 \\uae30\\uc800\\uc640 \\uace0\\uc815\\ube44 \\uc99d\\uac00\\uac00 \\uc81c\\ud55c\\ub428\\uc5d0 \\ub530\\ub77c \\ud3b8\\uc758\\uc810 \\uc0ac\\uc5c5\\ubd80 \\uc131\\uc7a5\\uc774 \\uae30\\ub300\\ub418\\uae30 \\ub54c\\ubb38\\\"\\uc774\\ub77c\\uace0 \\ubd84\\uc11d\\ud588\\ub2e4.\\n\\uc774\\uc5b4 \\\"\\uc0c1\\ubc18\\uae30\\uae4c\\uc9c0 \\uc601\\uc5c5 \\ud658\\uacbd\\uc740 \\ub179\\ub85d\\uce58 \\uc54a\\uc744 \\uac00\\ub2a5\\uc131\\uc774 \\ub192\\ub2e4\\\"\\uba74\\uc11c\\ub3c4 \\\"GS\\ub9ac\\ud14c\\uc77c\\uc758 \\uacbd\\uc6b0 \\uc628\\ub77c\\uc778 \\uc0ac\\uc5c5\\ubd80 \\ucd95\\uc18c\\ub97c \\ud1b5\\ud574 \\ub9c8\\uc9c4\\uc728 \\uac1c\\uc120\\uc5d0 \\uc9d1\\uc911\\ud558\\uace0 \\uc788\\uace0, \\ud3b8\\uc758\\uc810 \\uc131\\uc7a5\\uc138\\uac00 \\uc720\\uc9c0\\ub428\\uc5d0 \\ub530\\ub77c \\uc601\\uc5c5\\uc2e4\\uc801 \\uac1c\\uc120\\uc740 \\ubb34\\ub9ac\\uac00 \\uc5c6\\uc744 \\uac83\\\"\\uc774\\ub77c\\uace0 \\uc804\\ub9dd\\ud588\\ub2e4.\\n\\ub2e4\\ub9cc \\\"\\uc18c\\ube44\\uacbd\\uae30 \\uc545\\ud654\\ub97c \\uace0\\ub824\\ud574 2024\\ub144 \\uc601\\uc5c5\\uc774\\uc775\\uc744 \\uc804\\ub144 \\ub300\\ube44 15.2% \\ub298\\uc5b4\\ub09c 4088\\uc5b5\\uc6d0\\uc73c\\ub85c \\uc81c\\uc2dc\\ud55c\\ub2e4\\\"\\uba70 \\\"\\uc2dc\\uc7a5 \\ucee8\\uc13c\\uc11c\\uc2a4(\\uc804\\ub9dd\\uce58 \\ud3c9\\uade0) \\ub300\\ube44 \\uc57d 10% \\ub0ae\\uc740 \\uc218\\uc900\\\"\\uc774\\ub77c\\uace0 \\ud588\\ub2e4.\",\n          \"\\uc2e0\\ud55c\\ud22c\\uc790\\uc99d\\uad8c\\uc740 23\\uc77c HDC\\ud604\\ub300\\uc0b0\\uc5c5\\uac1c\\ubc1c\\uc5d0 \\ub300\\ud574 \\\"\\uc790\\uccb4 \\uc0ac\\uc5c5 \\uc911\\uc2ec \\uc5c5\\uccb4\\ub85c\\uc11c \\uc2e4\\uc801 \\uc804\\ud658 \\uc911\\uc774\\ub2e4. \\uac74\\uc124\\uc5c5\\uc885 \\ucd5c\\uc120\\ud638 \\uc8fc\\\"\\ub77c\\uba70 \\ud22c\\uc790\\uc758\\uacac \\ub9e4\\uc218\\ub97c \\uc720\\uc9c0\\ud558\\uace0 \\ubaa9\\ud45c\\uc8fc\\uac00\\ub97c \\uae30\\uc874 2\\ub9cc8000\\uc6d0\\uc5d0\\uc11c 3\\ub9cc3000\\uc6d0\\uc73c\\ub85c \\uc0c1\\ud5a5 \\uc870\\uc815\\ud588\\ub2e4.\\n\\uc774\\ub0a0 \\uae40\\uc120\\ubbf8 \\uc2e0\\ud55c\\ud22c\\uc790\\uc99d\\uad8c \\uc5f0\\uad6c\\uc6d0\\uc740 \\\"\\uc5f0\\ucd08 \\uc774\\ub798 \\uc8fc\\uac00\\uac00 65% \\uc0c1\\uc2b9\\ud588\\ub2e4. \\ub2e8\\uae30 \\uc8fc\\uac00 \\uae09\\ub4f1\\uc774 \\ubd80\\ub2f4\\uc2a4\\ub7ec\\uc6b8 \\uc218 \\uc788\\uc9c0\\ub9cc, \\uc5c5\\ud669 \\ud68c\\ubcf5\\uacfc \\ud568\\uaed8 \\ub192\\uc544\\uc9c0\\ub294 \\uc790\\uc0b0\\uac00\\uce58, \\uc801\\uadf9\\uc801\\uc778 \\uc6a9\\uc9c0 \\ud22c\\uc790 \\ud1b5\\ud55c \\ucc28\\ubcc4\\uc801\\uc778 \\uc131\\uc7a5\\uc131, \\uc81c\\ud55c\\uc801\\uc778 \\ud22c\\uc790 \\ub300\\uc548 \\ub4f1\\uc744 \\uace0\\ub824 \\uc2dc \\uc5ec\\uc804\\ud788 \\ud22c\\uc790 \\ub9e4\\ub825 \\uc788\\ub2e4\\\"\\uace0 \\ub9d0\\ud588\\ub2e4.\\n\\uadf8\\ub294 \\\"\\uc601\\uc5c5\\uc774\\uc775\\uc740 \\uc9c0\\ub09c\\ud574 1953\\uc5b5\\uc6d0\\uc744 \\uae30\\ub85d\\ud588\\uace0, \\uc62c\\ud574 2354\\uc5b5\\uc6d0, \\ub0b4\\ub144 3067\\uc774 \\uc804\\ub9dd\\ub41c\\ub2e4\\\"\\uba70 \\\"\\ucd5c\\uadfc\\uc758 \\ubd84\\uc591\\uac00 \\uc0c1\\uc2b9\\uc740 \\ubd84\\uc591\\uac00 \\uc0c1\\uc2b9\\uc774 \\uc2dc\\ud589\\uc774\\uc775\\uc73c\\ub85c \\uc774\\uc5b4\\uc9c0\\ub294 \\uc790\\uccb4 \\uc0ac\\uc5c5 \\uc601\\uc704 \\uc5c5\\uccb4\\uc5d0 \\uc720\\ub9ac\\ud558\\ub2e4\\\"\\uace0 \\ud588\\ub2e4.\\n\\ub610\\ud55c \\\"\\uad11\\uc6b4\\ub300 \\uc5ed\\uc138\\uad8c \\uac1c\\ubc1c\\uc0ac\\uc5c5\\uc774 \\uc624\\ub294 11\\uc6d4 \\ucc29\\uacf5\\ud574 \\ubd84\\uc591 \\uc608\\uc815\\uc774\\ub2e4. \\ubcf8\\uaca9\\uc801\\uc778 \\uc2e4\\uc801 \\uae30\\uc5ec\\ub294 2026\\ub144\\uc774\\uaca0\\uc9c0\\ub9cc, \\ub0b4\\ub144 \\uc778\\ub3c4 \\uae30\\uc900 \\uc790\\uccb4 \\uc0ac\\uc5c5 \\ub9e4\\ucd9c\\uc774 \\uc57d 4000\\uc5b5\\uc6d0 \\ubc18\\uc601\\ub418\\uba70 \\uc2e4\\uc801 \\uc131\\uc7a5\\uc744 \\uacac\\uc778\\ud560 \\uac83\\\"\\uc774\\ub77c\\uace0 \\uc9da\\uc5c8\\ub2e4.\\n\\ud604\\uc7ac \\ubcf4\\uc720 \\uc911\\uc778 \\uc6a9\\uc9c0\\ub294 1\\uc8703000\\uc5b5\\uc6d0, \\uc218\\uc8fc\\uc794\\uace0 \\ubc18\\uc601\\ubd84\\uc740 9\\uc8705000\\uc5b5\\uc6d0(\\uad11\\uc6b4\\ub300 \\uac01\\uac01 6000\\uc5b5\\uc6d0, 3\\uc8707000\\uc5b5\\uc6d0)\\uc774\\ub2e4. \\uae40 \\uc5f0\\uad6c\\uc6d0\\uc740 \\\"\\uad11\\uc6b4\\ub300 \\uc5ed\\uc138\\uad8c \\uc0ac\\uc5c5\\uacfc \\uac19\\uc740 \\ub300\\uaddc\\ubaa8 \\uc0ac\\uc5c5\\uc740 \\uc5c6\\uc73c\\ub098, \\ud1a0\\uc9c0\\ub300 \\ub300\\ube44 \\ud070 \\uc0ac\\uc5c5 \\uaddc\\ubaa8, NPL(\\ubd80\\uc2e4\\ucc44\\uad8c) \\ud22c\\uc790\\uacc4\\ud68d, \\ub2e4\\uc218\\uc758 \\ub300\\uaddc\\ubaa8 \\uc900\\uc790\\uccb4 \\uc0ac\\uc5c5 \\ub4f1\\uc744 \\uace0\\ub824 \\uc2dc \\uc790\\uccb4 \\uc0ac\\uc5c5 \\uc2e4\\uc801\\uc774 \\uacac\\uace0\\ud558\\ub2e4\\\"\\uace0 \\ubd84\\uc11d\\ud588\\ub2e4.\\n\\uc544\\uc6b8\\ub7ec \\\"2\\uac74\\uc758 \\uacf5\\uc0ac \\uc0ac\\uace0\\ub85c \\ud589\\uc815 \\uc81c\\uc7ac \\uc18c\\uc1a1\\uc774 \\uc9c4\\ud589 \\uc911\\uc774\\uc9c0\\ub9cc, \\ud558\\ub3c4\\uae09\\uc5c5\\uccb4 \\uacfc\\uc2e4 \\ube44\\uc911\\uc774 \\ub192\\uc544 \\uac15\\ub825\\ud55c \\uc81c\\uc7ac \\ud310\\uacb0 \\uac00\\ub2a5\\uc131\\uc774 \\uc81c\\ud55c\\uc801\\uc774\\ub514. \\ud310\\uacb0 \\ud655\\uc815\\uae4c\\uc9c0 \\uc2dc\\uac04\\uc774 \\uac78\\ub9b4 \\uac83\\\"\\uc774\\ub77c\\uace0 \\ub367\\ubd99\\uc600\\ub2e4.\"\n        ],\n        \"semantic_type\": \"\",\n        \"description\": \"\"\n      }\n    },\n    {\n      \"column\": \"report_id\",\n      \"properties\": {\n        \"dtype\": \"string\",\n        \"num_unique_values\": 290,\n        \"samples\": [\n          \"20241220_0018\",\n          \"20240227_0027\",\n          \"20250310_0004\"\n        ],\n        \"semantic_type\": \"\",\n        \"description\": \"\"\n      }\n    },\n    {\n      \"column\": \"\\uc791\\uc131\\uc77c\",\n      \"properties\": {\n        \"dtype\": \"date\",\n        \"min\": \"2024-01-04 00:00:00\",\n        \"max\": \"2025-05-23 00:00:00\",\n        \"num_unique_values\": 190,\n        \"samples\": [\n          \"2024-02-14 00:00:00\",\n          \"2024-01-26 00:00:00\",\n          \"2024-07-18 00:00:00\"\n        ],\n        \"semantic_type\": \"\",\n        \"description\": \"\"\n      }\n    },\n    {\n      \"column\": \"\\uc885\\ubaa9\\uba85\",\n      \"properties\": {\n        \"dtype\": \"category\",\n        \"num_unique_values\": 163,\n        \"samples\": [\n          \"\\ucf54\\uc624\\ub871ENP\",\n          \"\\ud604\\ub300\\uadf8\\ub9b0\\ud478\\ub4dc\",\n          \"\\ud654\\uc2b9\\uc54c\\uc564\\uc5d0\\uc774\"\n        ],\n        \"semantic_type\": \"\",\n        \"description\": \"\"\n      }\n    },\n    {\n      \"column\": \"report_title\",\n      \"properties\": {\n        \"dtype\": \"string\",\n        \"num_unique_values\": 289,\n        \"samples\": [\n          \"\\uc99d\\uad8c\\uc5c5 \\ucc28\\uc120\\ud638\\uc8fc \\uc81c\\uc2dc\",\n          \"\\uc5ec\\uc804\\ud788 \\ub9e4\\ub825\\uc801\\uc778 \\uc774\\uc720\",\n          \"\\uc881\\ud600\\uc9c0\\uc9c0 \\uc54a\\ub294 \\ud3c9\\ud589\\uc120\"\n        ],\n        \"semantic_type\": \"\",\n        \"description\": \"\"\n      }\n    },\n    {\n      \"column\": \"report_content\",\n      \"properties\": {\n        \"dtype\": \"string\",\n        \"num_unique_values\": 289,\n        \"samples\": [\n          \"\\ud22c\\uc790\\uc758\\uacac \\ub9e4\\uc218 \\uc720\\uc9c0, \\ubaa9\\ud45c\\uc8fc\\uac00 160,000\\uc6d0\\uc73c\\ub85c \\uc0c1\\ud5a5\\n\\ud0a4\\uc6c0\\uc99d\\uad8c\\uc5d0 \\ub300\\ud55c \\ud22c\\uc790\\uc758\\uacac \\ub9e4\\uc218 \\uc720\\uc9c0, \\ubaa9\\ud45c\\uc8fc\\uac00\\ub294 \\uae30\\uc874 150,000\\uc6d0\\uc5d0\\uc11c 160,000\\uc6d0\\uc73c\\ub85c \\uc0c1\\ud5a5. \\ub3d9\\uc0ac\\ub294 \\uc21c\\uc601\\uc5c5\\uc218\\uc775 \\ub0b4 \\uad6d\\ub0b4 \\uc8fc\\uc2dd \\uc704\\ud0c1\\ub9e4\\ub9e4 \\uc218\\uc218\\ub8cc\\uc218\\uc775\\uc758 \\ube44\\uc911\\uc774 \\ucee4\\ubc84\\ub9ac\\uc9c0 \\uc911 \\uac00\\uc7a5 \\ub192\\uc740\\ub9cc\\ud07c, \\ub125\\uc2a4\\ud2b8\\ub808\\uc774\\ub4dc \\ucd9c\\ubc94\\uc5d0 \\ub530\\ub978 \\uac70\\ub798\\ub300\\uae08 \\uc99d\\uac00 \\uc218\\ud61c\\ub97c \\uac00\\uc7a5 \\ud06c\\uac8c \\ubc1b\\uc744 \\uac83\\uc73c\\ub85c \\uc608\\uc0c1\\ud558\\uae30 \\ub54c\\ubb38. \\ub354\\uc6b1\\uc774 \\ub3d9\\uc0ac\\ub294 \\ub125\\uc2a4\\ud2b8\\ub808\\uc774\\ub4dc\\uc758 \\ubaa8\\ub4e0 \\uc2dc\\uc7a5 \\ucc38\\uc5ec \\uc99d\\uad8c\\uc0ac 14\\uacf3 \\uc911 \\ud55c \\uacf3\\uc774\\uae30 \\ub54c\\ubb38\\uc5d0 \\uac70\\ub798\\ub300\\uae08 \\ud655\\ub300 \\uc218\\ud61c\\ub97c \\uc628\\uc804\\ud788 \\ubc1b\\uc744 \\uc218 \\uc788\\uc744 \\uc804\\ub9dd. \\ubb3c\\ub860 6\\uac1c\\uc6d4 \\ud3c9\\uade0 \\uac70\\ub798\\ub300\\uae08\\uc774 \\uac70\\ub798\\uc18c\\uc758 15%\\ub97c \\uc0c1\\ud68c\\ud560 \\uacbd\\uc6b0 \\uac70\\ub798\\uac00 \\uc81c\\ud55c\\ub418\\ub294 \\uaddc\\uc81c\\uac00 \\uc788\\uc9c0\\ub9cc, 1) \\ubc18\\ub300\\ub85c \\uc624\\ub294 3\\ubd84\\uae30\\uae4c\\uc9c0\\ub294 \\uc81c\\ud55c\\uc774 \\uc5c6\\ub2e4\\ub294 \\uc758\\ubbf8\\uc774\\uace0 2) \\uaddc\\uc81c\\ub3c4 \\uc2e4\\uc81c \\uac70\\ub798\\ub300\\uae08\\uc744 \\ubc18\\uc601\\ud574 \\uc644\\ud654\\ub420 \\uac83\\uc73c\\ub85c \\uc608\\uc0c1. \\uc774\\uc5d0 \\ub530\\ub77c 2025\\ub144 \\uc774\\uc775 \\ucd94\\uc815\\uce58\\ub97c 6.5% \\uc0c1\\ud5a5\\ud588\\uc73c\\uba70, \\ubaa9\\ud45c\\uc8fc\\uac00\\ub3c4 6.7% \\uc0c1\\ud5a5. \\ucd5c\\uadfc \\ub3d9\\uc0ac \\uc8fc\\uac00\\ub294 \\uad6d\\ub0b4 \\uc99d\\uc2dc \\ud638\\uc870\\uc5d0\\ub3c4 \\ubd88\\uad6c\\ud558\\uace0 \\ud574\\uc678 \\uc8fc\\uc2dd \\uac70\\ub798\\ub300\\uae08 \\uac10\\uc18c\\uc5d0 \\ub300\\ud55c \\uc6b0\\ub824\\ub85c \\ubd80\\uc9c4\\ud55c \\ubaa8\\uc2b5\\uc744 \\ubcf4\\uc600\\uc73c\\ub098, 1) \\uad6d\\ub0b4 \\uc99d\\uc2dc \\ud638\\uc870\\ub294 \\uc2e0\\uc6a9\\uacf5\\uc5ec \\uc794\\uace0 \\uc99d\\uac00\\ub85c \\uc774\\uc5b4\\uc9c0\\ub294\\ub9cc\\ud07c \\uc804\\uccb4\\uc801\\uc778 \\ube0c\\ub85c\\ucee4\\ub9ac\\uc9c0 \\uc218\\uc775\\uc758 \\uad00\\uc810\\uc5d0\\uc11c\\ub294 \\ub354 \\ud638\\uc7ac\\ub77c\\uace0 \\ubcfc \\uc218 \\uc788\\uace0 2) \\ud2b8\\ub808\\uc774\\ub529 \\ubc0f \\uc0c1\\ud488\\uc190\\uc775\\uc758 \\uba74\\uc5d0\\uc11c\\ub3c4 \\uad6d\\ub0b4 \\uc99d\\uc2dc \\ud638\\uc870\\uac00 \\uc720\\ub9ac\\ud558\\uae30 \\ub54c\\ubb38\\uc5d0 \\ub9c8\\ub0e5 \\uc6b0\\ub824\\ud560 \\ud544\\uc694\\ub294 \\uc5c6\\ub2e4\\uace0 \\ud310\\ub2e8. \\uc2e4\\uc81c\\ub85c \\uad6d\\ub0b4 \\uc99d\\uc2dc \\uc790\\uae08 \\uc774\\ud0c8\\uacfc \\ud574\\uc678 \\uc99d\\uc2dc\\ub85c\\uc758 \\uc3e0\\ub9bc\\uc774 \\ub098\\ud0c0\\ub0ac\\ub358 \\uc9c0\\ub09c \\ud558\\ubc18\\uae30, \\ub3d9\\uc0ac\\uc758 \\uc704\\ud0c1\\ub9e4\\ub9e4 \\uc218\\uc218\\ub8cc\\uc218\\uc775\\uc740 \\uc99d\\uac00\\ud588\\uc73c\\ub098 \\ub300\\ucd9c\\ucc44\\uad8c \\uc774\\uc790\\uc218\\uc775\\uacfc \\ud2b8\\ub808\\uc774\\ub529 \\ubc0f \\uc0c1\\ud488\\uc190\\uc775, \\uadf8\\ub9ac\\uace0 \\uc9c0\\ubc30\\uc8fc\\uc8fc\\uc21c\\uc774\\uc775\\uc740 \\ubaa8\\ub450 \\uc0c1\\ubc18\\uae30 \\ub300\\ube44 \\uac10\\uc18c\\ud55c \\ubc14 \\uc788\\uc74c. \\ub530\\ub77c\\uc11c \\ud604\\uc7ac \\uc2dc\\uc810\\uc5d0\\uc11c\\ub294 \\ub3d9\\uc0ac\\uc758 \\ub9e4\\ub825\\uc774 \\uadf9\\ub300\\ud654\\ub420 \\uc218 \\uc788\\uc744 \\uac83\\uc73c\\ub85c \\ud310\\ub2e8. 1) \\uad6d\\ub0b4 \\uc99d\\uc2dc\\uc758 \\ubc18\\ub4f1\\uc740 \\uc810\\uc9c4\\uc801\\uc778 \\uc720\\ub3d9\\uc131 \\ud655\\ub300\\uc640 \\uc6d0/\\ub2ec\\ub7ec \\ud658\\uc728 \\ud558\\ub77d\\uc5d0 \\ud798\\uc785\\uc5b4 \\uc9c0\\uc18d\\ub420 \\uc218 \\uc788\\uc744 \\uc804\\ub9dd\\uc778 \\uac00\\uc6b4\\ub370 2) \\ub125\\uc2a4\\ud2b8\\ub808\\uc774\\ub4dc \\ucd9c\\ubc94\\uc5d0 \\ub530\\ub978 \\uac70\\ub798\\ub300\\uae08 \\uc99d\\uac00 \\uc218\\ud61c\\ub3c4 \\uac00\\uc7a5 \\ud06c\\uac8c \\ubc1b\\uc744 \\uac83\\uc73c\\ub85c \\uc608\\uc0c1\\ud558\\uae30 \\ub54c\\ubb38.\",\n          \"\\uc5c5\\ud669 \\ud68c\\ubcf5\\uacfc \\ud568\\uaed8 \\ub192\\uc544\\uc9c0\\ub294 \\uae30\\uc5c5\\uac00\\uce58\\n\\uc8fc\\ud0dd\\uc2dc\\uc7a5 \\ud68c\\ubcf5 \\ubc0f \\uc2e4\\uc801 \\ud134\\uc5b4\\ub77c\\uc6b4\\ub4dc \\uae30\\ub300\\uac10 \\uae30\\ubc18 \\uc5f0\\ucd08 \\uc774\\ub798 \\uc8fc\\uac00 65% \\uc0c1\\uc2b9. \\ub2e8\\uae30 \\uc8fc\\uac00 \\uae09\\ub4f1 \\ubd80\\ub2f4\\uc2a4\\ub7ec\\uc6b8 \\uc218 \\uc788\\uc73c\\ub098, 1) \\uc5c5\\ud669 \\ud68c\\ubcf5\\uacfc \\ud568\\uaed8 \\ub192\\uc544\\uc9c0\\ub294 \\uc790\\uc0b0\\uac00\\uce58, 2) \\uc801\\uadf9\\uc801\\uc778 \\uc6a9\\uc9c0 \\ud22c\\uc790 \\ud1b5\\ud55c \\ucc28\\ubcc4\\uc801\\uc778 \\uc131\\uc7a5\\uc131, 3) \\uc81c\\ud55c\\uc801\\uc778 \\ud22c\\uc790 \\ub300\\uc548 \\ub4f1\\uc744 \\uace0\\ub824 \\uc2dc \\uc5ec\\uc804\\ud788 \\ud22c\\uc790\\ub9e4\\ub825 \\uc788\\ub2e4\\uace0 \\ud310\\ub2e8. \\ubaa9\\ud45c\\uc8fc\\uac00 \\uc0c1\\ud5a5\\ud558\\uba70 \\uac74\\uc124 \\uc5c5\\uc885 \\ucd5c\\uc120\\ud638\\uc8fc \\uc758\\uacac \\uc720\\uc9c0\",\n          \"\\ub3d9\\uc0ac \\ubaa9\\ud45c\\uc8fc\\uac00 24\\ub9cc\\uc6d0\\uc73c\\ub85c \\ud558\\ud5a5\\n\\ub3d9\\uc0ac \\ubaa9\\ud45c\\uc8fc\\uac00\\ub97c \\uae30\\uc874 34\\ub9cc\\uc6d0\\uc5d0\\uc11c 24\\ub9cc\\uc6d0\\uc73c\\ub85c \\ud558\\ud5a5 \\uc870\\uc815\\ud55c\\ub2e4. \\uc2e0\\uaddc \\ubaa9\\ud45c\\uc8fc\\uac00\\r\\n\\uc0b0\\uc815\\uc740 24E \\uc9c0\\ubc30\\uc8fc\\uc8fc\\uc9c0\\ubd84 2,335\\uc5b5\\uc6d0\\uc5d0 \\ubaa9\\ud45c PER 22.5\\ubc30\\ub97c \\uc801\\uc6a9\\ud55c \\uacb0\\uacfc\\uce58\\ub2e4.\\r\\n\\ub3d9\\uc0ac\\ub294 \\ucd5c\\uadfc TL \\uad6d\\ub0b4 \\uc131\\uacfc\\uac00 \\ubd80\\uc9c4\\ud558\\uba74\\uc11c \\uc62c\\ud574 \\uc2e0\\uc791\\uc5d0 \\ub300\\ud55c \\uae30\\ub300\\ub294 \\ubaa8\\ubc14\\uc77c 3\\uc885\\r\\n\\uc218\\uc900\\uc5d0 \\uba38\\ubb3c\\uba74\\uc11c \\uc774\\uc5d0 \\ub530\\ub978 \\uc7ac\\ubb34\\uc801 \\uc131\\uacfc\\uac00 \\uae30\\uc874 \\ub300\\ube44 \\uc81c\\ud55c\\uc801\\uc73c\\ub85c \\uc791\\uc6a9\\ud560 \\uc810\\uc744\\r\\n\\uac10\\uc548\\ud560 \\ub54c \\ud0c0\\uac9f \\uba40\\ud2f0\\ud50c\\uc740 \\uc911\\ub9bd \\uc774\\uc0c1 \\uc218\\uc900\\uc744 \\uc801\\uc6a9\\ud588\\ub2e4\\uace0 \\uc815\\uc758\\ud560 \\uc218 \\uc788\\ub2e4.\"\n        ],\n        \"semantic_type\": \"\",\n        \"description\": \"\"\n      }\n    },\n    {\n      \"column\": \"impact_score\",\n      \"properties\": {\n        \"dtype\": \"number\",\n        \"std\": 10.86500858321462,\n        \"min\": 1.6800000000000002,\n        \"max\": 92.05,\n        \"num_unique_values\": 276,\n        \"samples\": [\n          18.92,\n          14.59,\n          37.03\n        ],\n        \"semantic_type\": \"\",\n        \"description\": \"\"\n      }\n    },\n    {\n      \"column\": \"sim\",\n      \"properties\": {\n        \"dtype\": \"float32\",\n        \"num_unique_values\": 352,\n        \"samples\": [\n          0.8605355620384216,\n          0.8781136870384216,\n          0.8500280380249023\n        ],\n        \"semantic_type\": \"\",\n        \"description\": \"\"\n      }\n    },\n    {\n      \"column\": \"date_diff_days\",\n      \"properties\": {\n        \"dtype\": \"number\",\n        \"std\": 11,\n        \"min\": -90,\n        \"max\": 0,\n        \"num_unique_values\": 19,\n        \"samples\": [\n          0,\n          -28,\n          -46\n        ],\n        \"semantic_type\": \"\",\n        \"description\": \"\"\n      }\n    },\n    {\n      \"column\": \"sim_bin_05\",\n      \"properties\": {\n        \"dtype\": \"category\",\n        \"num_unique_values\": 2,\n        \"samples\": [\n          \"0.85~0.9\",\n          \"0.9~0.95\"\n        ],\n        \"semantic_type\": \"\",\n        \"description\": \"\"\n      }\n    },\n    {\n      \"column\": \"is_same_stock\",\n      \"properties\": {\n        \"dtype\": \"boolean\",\n        \"num_unique_values\": 2,\n        \"samples\": [\n          true,\n          false\n        ],\n        \"semantic_type\": \"\",\n        \"description\": \"\"\n      }\n    },\n    {\n      \"column\": \"sim_rank\",\n      \"properties\": {\n        \"dtype\": \"number\",\n        \"std\": 0.32392674270298655,\n        \"min\": 1.0,\n        \"max\": 3.0,\n        \"num_unique_values\": 3,\n        \"samples\": [\n          1.0,\n          2.0\n        ],\n        \"semantic_type\": \"\",\n        \"description\": \"\"\n      }\n    },\n    {\n      \"column\": \"sim_bin\",\n      \"properties\": {\n        \"dtype\": \"category\",\n        \"num_unique_values\": 2,\n        \"samples\": [\n          \"0.85~0.9\",\n          \"0.9~0.95\"\n        ],\n        \"semantic_type\": \"\",\n        \"description\": \"\"\n      }\n    }\n  ]\n}",
              "type": "dataframe",
              "variable_name": "filtered_date_sim_df"
            },
            "text/html": [
              "\n",
              "  <div id=\"df-aa915a10-75ae-4478-b81b-0d1a7a387acf\" class=\"colab-df-container\">\n",
              "    <div>\n",
              "<style scoped>\n",
              "    .dataframe tbody tr th:only-of-type {\n",
              "        vertical-align: middle;\n",
              "    }\n",
              "\n",
              "    .dataframe tbody tr th {\n",
              "        vertical-align: top;\n",
              "    }\n",
              "\n",
              "    .dataframe thead th {\n",
              "        text-align: right;\n",
              "    }\n",
              "</style>\n",
              "<table border=\"1\" class=\"dataframe\">\n",
              "  <thead>\n",
              "    <tr style=\"text-align: right;\">\n",
              "      <th></th>\n",
              "      <th>news_id</th>\n",
              "      <th>wdate</th>\n",
              "      <th>stock_name</th>\n",
              "      <th>news_title</th>\n",
              "      <th>news_content</th>\n",
              "      <th>report_id</th>\n",
              "      <th>작성일</th>\n",
              "      <th>종목명</th>\n",
              "      <th>report_title</th>\n",
              "      <th>report_content</th>\n",
              "      <th>impact_score</th>\n",
              "      <th>sim</th>\n",
              "      <th>date_diff_days</th>\n",
              "      <th>sim_bin_05</th>\n",
              "      <th>is_same_stock</th>\n",
              "      <th>sim_rank</th>\n",
              "      <th>sim_bin</th>\n",
              "    </tr>\n",
              "  </thead>\n",
              "  <tbody>\n",
              "    <tr>\n",
              "      <th>840</th>\n",
              "      <td>20250523_0078</td>\n",
              "      <td>2025-05-23 08:40:00</td>\n",
              "      <td>삼성바이오로직스</td>\n",
              "      <td>삼성물산, 삼바 인적분할로 바이오 사업가치 높아질 것-유진</td>\n",
              "      <td>삼성바이오로직스 인적분할 후 지배구조. /자료=유진투자증권\\n삼성물산이 자회사인 삼...</td>\n",
              "      <td>20250523_0029</td>\n",
              "      <td>2025-05-23</td>\n",
              "      <td>삼성물산</td>\n",
              "      <td>바이오 사업 가치의 재발견</td>\n",
              "      <td>삼성바이오에피스 분할 후의 그림이 중요\\n삼성바이오로직스는 삼성바이오에피스를 인적 ...</td>\n",
              "      <td>9.65</td>\n",
              "      <td>0.910080</td>\n",
              "      <td>0</td>\n",
              "      <td>0.9~0.95</td>\n",
              "      <td>False</td>\n",
              "      <td>1.0</td>\n",
              "      <td>0.9~0.95</td>\n",
              "    </tr>\n",
              "    <tr>\n",
              "      <th>3040</th>\n",
              "      <td>20250522_0152</td>\n",
              "      <td>2025-05-22 08:06:00</td>\n",
              "      <td>SK</td>\n",
              "      <td>한국금융지주, 레버리지 기반 실적 개선 기대…밸류 매력 높아-SK</td>\n",
              "      <td>[이데일리 신하연 기자] SK증권은 한국금융지주(071050)에 대해 적극적인 레버...</td>\n",
              "      <td>20250522_0010</td>\n",
              "      <td>2025-05-22</td>\n",
              "      <td>한국금융지주</td>\n",
              "      <td>높은 레버리지에 기반한 실적 개선 기대감</td>\n",
              "      <td>적극적인 레버리지 활용에 기반한 이익 체력 기대감\\n한국금융지주의 핵심 자회사인 한...</td>\n",
              "      <td>20.13</td>\n",
              "      <td>0.864946</td>\n",
              "      <td>0</td>\n",
              "      <td>0.85~0.9</td>\n",
              "      <td>False</td>\n",
              "      <td>1.0</td>\n",
              "      <td>0.85~0.9</td>\n",
              "    </tr>\n",
              "    <tr>\n",
              "      <th>3160</th>\n",
              "      <td>20250522_0165</td>\n",
              "      <td>2025-05-22 07:41:00</td>\n",
              "      <td>현대글로비스</td>\n",
              "      <td>[클릭 e종목]\"현대글로비스, 관세·입항세 우려는 시간문제\"</td>\n",
              "      <td>대신증권이 22일 현대글로비스에 대해 관세와 미국 무역대표부(USTR) 규제에 따른...</td>\n",
              "      <td>20250522_0004</td>\n",
              "      <td>2025-05-22</td>\n",
              "      <td>현대글로비스</td>\n",
              "      <td>우려에는 동감. 그래도 사자</td>\n",
              "      <td>투자의견 매수, 목표주가 170,000원 유지\\n현대글로비스는 2025년 1분기 사...</td>\n",
              "      <td>6.47</td>\n",
              "      <td>0.869759</td>\n",
              "      <td>0</td>\n",
              "      <td>0.85~0.9</td>\n",
              "      <td>True</td>\n",
              "      <td>1.0</td>\n",
              "      <td>0.85~0.9</td>\n",
              "    </tr>\n",
              "    <tr>\n",
              "      <th>4380</th>\n",
              "      <td>20250521_0126</td>\n",
              "      <td>2025-05-21 08:27:00</td>\n",
              "      <td>삼성전자</td>\n",
              "      <td>“삼성전자, 하반기 체질 개선 가능성에 무게”…목표가↑</td>\n",
              "      <td>[사진출처 = 연합뉴스]\\n대신증권은 21일 삼성전자에 대해 올해 하반기로 갈수록 ...</td>\n",
              "      <td>20250521_0008</td>\n",
              "      <td>2025-05-21</td>\n",
              "      <td>삼성전자</td>\n",
              "      <td>변화를 위한 거인의 발걸음</td>\n",
              "      <td>투자의견 매수, 목표주가 74,000원\\nValuation 부담도, 더 이상 표출될...</td>\n",
              "      <td>5.74</td>\n",
              "      <td>0.868969</td>\n",
              "      <td>0</td>\n",
              "      <td>0.85~0.9</td>\n",
              "      <td>True</td>\n",
              "      <td>1.0</td>\n",
              "      <td>0.85~0.9</td>\n",
              "    </tr>\n",
              "    <tr>\n",
              "      <th>8320</th>\n",
              "      <td>20250519_0122</td>\n",
              "      <td>2025-05-19 09:01:00</td>\n",
              "      <td>미래에셋증권</td>\n",
              "      <td>미래에셋증권, 1분기 실적 기대치 상회…목표주가↑-유안타</td>\n",
              "      <td>미래에셋증권 CI /사진=미래에셋증권\\n유안타증권이 미래에셋증권의 목표주가를 기존 ...</td>\n",
              "      <td>20250519_0027</td>\n",
              "      <td>2025-05-19</td>\n",
              "      <td>미래에셋증권</td>\n",
              "      <td>해외수수료, WM, 해외법인 삼박자</td>\n",
              "      <td>1Q25 순이익 컨센서스 상회\\n미래에셋증권의 1Q25 지배주주순이익은 2,587억...</td>\n",
              "      <td>33.41</td>\n",
              "      <td>0.867944</td>\n",
              "      <td>0</td>\n",
              "      <td>0.85~0.9</td>\n",
              "      <td>True</td>\n",
              "      <td>1.0</td>\n",
              "      <td>0.85~0.9</td>\n",
              "    </tr>\n",
              "    <tr>\n",
              "      <th>15760</th>\n",
              "      <td>20250514_0173</td>\n",
              "      <td>2025-05-14 07:45:00</td>\n",
              "      <td>유진투자증권</td>\n",
              "      <td>[클릭 e종목]\"신테카바이오, AI 의료 매출 본격화…데이터센터 서비스도 가시화\"</td>\n",
              "      <td>유진투자증권은 14일 신테카바이오에 대해 인공지능(AI) 의료 매출이 본격화되고 데...</td>\n",
              "      <td>20250514_0045</td>\n",
              "      <td>2025-05-14</td>\n",
              "      <td>신테카바이오</td>\n",
              "      <td>1Q25 Review: AI의료 매출 발생 본격화</td>\n",
              "      <td>I. 1Q25 Review &amp; 투자전략\\n전일(05/13) 발표한 1분기 실적(연결...</td>\n",
              "      <td>23.62</td>\n",
              "      <td>0.873106</td>\n",
              "      <td>0</td>\n",
              "      <td>0.85~0.9</td>\n",
              "      <td>False</td>\n",
              "      <td>1.0</td>\n",
              "      <td>0.85~0.9</td>\n",
              "    </tr>\n",
              "    <tr>\n",
              "      <th>19480</th>\n",
              "      <td>20250512_0163</td>\n",
              "      <td>2025-05-12 07:51:00</td>\n",
              "      <td>대신증권</td>\n",
              "      <td>[클릭 e종목]\"씨앤씨인터내셔널, 신제품 폭풍 성장 가능…주가 저평가\"</td>\n",
              "      <td>대신증권은 12일 씨앤씨인터내셔널에 대해 올 2분기부터 실적이 회복되기 시작해 상저...</td>\n",
              "      <td>20250512_0019</td>\n",
              "      <td>2025-05-12</td>\n",
              "      <td>씨앤씨인터내셔널</td>\n",
              "      <td>회복ing...</td>\n",
              "      <td>투자의견 BUY 유지하나 목표주가 40,000원(-7%)으로 하향 조정\\n높은 기저...</td>\n",
              "      <td>23.44</td>\n",
              "      <td>0.861320</td>\n",
              "      <td>0</td>\n",
              "      <td>0.85~0.9</td>\n",
              "      <td>False</td>\n",
              "      <td>1.0</td>\n",
              "      <td>0.85~0.9</td>\n",
              "    </tr>\n",
              "    <tr>\n",
              "      <th>23980</th>\n",
              "      <td>20250508_0175</td>\n",
              "      <td>2025-05-08 07:46:00</td>\n",
              "      <td>롯데칠성</td>\n",
              "      <td>롯데칠성, 실적 회복 제한적이지만 저가 매수 유효-대신</td>\n",
              "      <td>[이데일리 신하연 기자] 대신증권은 롯데칠성(005300)에 대해 고환율로 원가 부...</td>\n",
              "      <td>20250508_0020</td>\n",
              "      <td>2025-05-08</td>\n",
              "      <td>롯데칠성</td>\n",
              "      <td>내수 부진의 그늘</td>\n",
              "      <td>투자의견 BUY 유지하나, 목표주가 140,000원(-7%)으로 하향\\n국내 소비가...</td>\n",
              "      <td>7.05</td>\n",
              "      <td>0.860992</td>\n",
              "      <td>0</td>\n",
              "      <td>0.85~0.9</td>\n",
              "      <td>True</td>\n",
              "      <td>1.0</td>\n",
              "      <td>0.85~0.9</td>\n",
              "    </tr>\n",
              "    <tr>\n",
              "      <th>28360</th>\n",
              "      <td>20250502_0087</td>\n",
              "      <td>2025-05-02 08:18:00</td>\n",
              "      <td>삼성전자</td>\n",
              "      <td>삼성전자, \"HBM 기대감 낮지만 편안한 구간…매수 유지\"-하나</td>\n",
              "      <td>하나증권은 삼성전자가 올해 1분기 실적이 예상에 부합했다고 2일 밝혔다. 투자의견 ...</td>\n",
              "      <td>20250502_0048</td>\n",
              "      <td>2025-05-02</td>\n",
              "      <td>삼성전자</td>\n",
              "      <td>메모리 우상향에 집중한 투자 전략 필요</td>\n",
              "      <td>1Q25 Review: MX 부문의 견조한 이익\\n삼성전자의 25년 1분기 세부 실...</td>\n",
              "      <td>8.29</td>\n",
              "      <td>0.889883</td>\n",
              "      <td>0</td>\n",
              "      <td>0.85~0.9</td>\n",
              "      <td>True</td>\n",
              "      <td>1.0</td>\n",
              "      <td>0.85~0.9</td>\n",
              "    </tr>\n",
              "    <tr>\n",
              "      <th>28600</th>\n",
              "      <td>20250502_0100</td>\n",
              "      <td>2025-05-02 07:53:00</td>\n",
              "      <td>SK</td>\n",
              "      <td>SK이노베이션, 석유·화학 적자 지속 불가피…목표가 24%↓-iM</td>\n",
              "      <td>[이데일리 신하연 기자] iM증권은 SK이노베이션(096770)에 대해 유가 하락으...</td>\n",
              "      <td>20250502_0072</td>\n",
              "      <td>2025-05-02</td>\n",
              "      <td>SK이노베이션</td>\n",
              "      <td>E&amp;S 합병효과가 무색했던 실적</td>\n",
              "      <td>목표주가 13만원 하향, 투자의견 매수 유지\\n동사에 대한 목표주가를 13만원으로 ...</td>\n",
              "      <td>23.54</td>\n",
              "      <td>0.894336</td>\n",
              "      <td>0</td>\n",
              "      <td>0.85~0.9</td>\n",
              "      <td>False</td>\n",
              "      <td>1.0</td>\n",
              "      <td>0.85~0.9</td>\n",
              "    </tr>\n",
              "  </tbody>\n",
              "</table>\n",
              "</div>\n",
              "    <div class=\"colab-df-buttons\">\n",
              "\n",
              "  <div class=\"colab-df-container\">\n",
              "    <button class=\"colab-df-convert\" onclick=\"convertToInteractive('df-aa915a10-75ae-4478-b81b-0d1a7a387acf')\"\n",
              "            title=\"Convert this dataframe to an interactive table.\"\n",
              "            style=\"display:none;\">\n",
              "\n",
              "  <svg xmlns=\"http://www.w3.org/2000/svg\" height=\"24px\" viewBox=\"0 -960 960 960\">\n",
              "    <path d=\"M120-120v-720h720v720H120Zm60-500h600v-160H180v160Zm220 220h160v-160H400v160Zm0 220h160v-160H400v160ZM180-400h160v-160H180v160Zm440 0h160v-160H620v160ZM180-180h160v-160H180v160Zm440 0h160v-160H620v160Z\"/>\n",
              "  </svg>\n",
              "    </button>\n",
              "\n",
              "  <style>\n",
              "    .colab-df-container {\n",
              "      display:flex;\n",
              "      gap: 12px;\n",
              "    }\n",
              "\n",
              "    .colab-df-convert {\n",
              "      background-color: #E8F0FE;\n",
              "      border: none;\n",
              "      border-radius: 50%;\n",
              "      cursor: pointer;\n",
              "      display: none;\n",
              "      fill: #1967D2;\n",
              "      height: 32px;\n",
              "      padding: 0 0 0 0;\n",
              "      width: 32px;\n",
              "    }\n",
              "\n",
              "    .colab-df-convert:hover {\n",
              "      background-color: #E2EBFA;\n",
              "      box-shadow: 0px 1px 2px rgba(60, 64, 67, 0.3), 0px 1px 3px 1px rgba(60, 64, 67, 0.15);\n",
              "      fill: #174EA6;\n",
              "    }\n",
              "\n",
              "    .colab-df-buttons div {\n",
              "      margin-bottom: 4px;\n",
              "    }\n",
              "\n",
              "    [theme=dark] .colab-df-convert {\n",
              "      background-color: #3B4455;\n",
              "      fill: #D2E3FC;\n",
              "    }\n",
              "\n",
              "    [theme=dark] .colab-df-convert:hover {\n",
              "      background-color: #434B5C;\n",
              "      box-shadow: 0px 1px 3px 1px rgba(0, 0, 0, 0.15);\n",
              "      filter: drop-shadow(0px 1px 2px rgba(0, 0, 0, 0.3));\n",
              "      fill: #FFFFFF;\n",
              "    }\n",
              "  </style>\n",
              "\n",
              "    <script>\n",
              "      const buttonEl =\n",
              "        document.querySelector('#df-aa915a10-75ae-4478-b81b-0d1a7a387acf button.colab-df-convert');\n",
              "      buttonEl.style.display =\n",
              "        google.colab.kernel.accessAllowed ? 'block' : 'none';\n",
              "\n",
              "      async function convertToInteractive(key) {\n",
              "        const element = document.querySelector('#df-aa915a10-75ae-4478-b81b-0d1a7a387acf');\n",
              "        const dataTable =\n",
              "          await google.colab.kernel.invokeFunction('convertToInteractive',\n",
              "                                                    [key], {});\n",
              "        if (!dataTable) return;\n",
              "\n",
              "        const docLinkHtml = 'Like what you see? Visit the ' +\n",
              "          '<a target=\"_blank\" href=https://colab.research.google.com/notebooks/data_table.ipynb>data table notebook</a>'\n",
              "          + ' to learn more about interactive tables.';\n",
              "        element.innerHTML = '';\n",
              "        dataTable['output_type'] = 'display_data';\n",
              "        await google.colab.output.renderOutput(dataTable, element);\n",
              "        const docLink = document.createElement('div');\n",
              "        docLink.innerHTML = docLinkHtml;\n",
              "        element.appendChild(docLink);\n",
              "      }\n",
              "    </script>\n",
              "  </div>\n",
              "\n",
              "\n",
              "    <div id=\"df-c6d634e5-3374-4451-9db5-fbaa1ab73f7d\">\n",
              "      <button class=\"colab-df-quickchart\" onclick=\"quickchart('df-c6d634e5-3374-4451-9db5-fbaa1ab73f7d')\"\n",
              "                title=\"Suggest charts\"\n",
              "                style=\"display:none;\">\n",
              "\n",
              "<svg xmlns=\"http://www.w3.org/2000/svg\" height=\"24px\"viewBox=\"0 0 24 24\"\n",
              "     width=\"24px\">\n",
              "    <g>\n",
              "        <path d=\"M19 3H5c-1.1 0-2 .9-2 2v14c0 1.1.9 2 2 2h14c1.1 0 2-.9 2-2V5c0-1.1-.9-2-2-2zM9 17H7v-7h2v7zm4 0h-2V7h2v10zm4 0h-2v-4h2v4z\"/>\n",
              "    </g>\n",
              "</svg>\n",
              "      </button>\n",
              "\n",
              "<style>\n",
              "  .colab-df-quickchart {\n",
              "      --bg-color: #E8F0FE;\n",
              "      --fill-color: #1967D2;\n",
              "      --hover-bg-color: #E2EBFA;\n",
              "      --hover-fill-color: #174EA6;\n",
              "      --disabled-fill-color: #AAA;\n",
              "      --disabled-bg-color: #DDD;\n",
              "  }\n",
              "\n",
              "  [theme=dark] .colab-df-quickchart {\n",
              "      --bg-color: #3B4455;\n",
              "      --fill-color: #D2E3FC;\n",
              "      --hover-bg-color: #434B5C;\n",
              "      --hover-fill-color: #FFFFFF;\n",
              "      --disabled-bg-color: #3B4455;\n",
              "      --disabled-fill-color: #666;\n",
              "  }\n",
              "\n",
              "  .colab-df-quickchart {\n",
              "    background-color: var(--bg-color);\n",
              "    border: none;\n",
              "    border-radius: 50%;\n",
              "    cursor: pointer;\n",
              "    display: none;\n",
              "    fill: var(--fill-color);\n",
              "    height: 32px;\n",
              "    padding: 0;\n",
              "    width: 32px;\n",
              "  }\n",
              "\n",
              "  .colab-df-quickchart:hover {\n",
              "    background-color: var(--hover-bg-color);\n",
              "    box-shadow: 0 1px 2px rgba(60, 64, 67, 0.3), 0 1px 3px 1px rgba(60, 64, 67, 0.15);\n",
              "    fill: var(--button-hover-fill-color);\n",
              "  }\n",
              "\n",
              "  .colab-df-quickchart-complete:disabled,\n",
              "  .colab-df-quickchart-complete:disabled:hover {\n",
              "    background-color: var(--disabled-bg-color);\n",
              "    fill: var(--disabled-fill-color);\n",
              "    box-shadow: none;\n",
              "  }\n",
              "\n",
              "  .colab-df-spinner {\n",
              "    border: 2px solid var(--fill-color);\n",
              "    border-color: transparent;\n",
              "    border-bottom-color: var(--fill-color);\n",
              "    animation:\n",
              "      spin 1s steps(1) infinite;\n",
              "  }\n",
              "\n",
              "  @keyframes spin {\n",
              "    0% {\n",
              "      border-color: transparent;\n",
              "      border-bottom-color: var(--fill-color);\n",
              "      border-left-color: var(--fill-color);\n",
              "    }\n",
              "    20% {\n",
              "      border-color: transparent;\n",
              "      border-left-color: var(--fill-color);\n",
              "      border-top-color: var(--fill-color);\n",
              "    }\n",
              "    30% {\n",
              "      border-color: transparent;\n",
              "      border-left-color: var(--fill-color);\n",
              "      border-top-color: var(--fill-color);\n",
              "      border-right-color: var(--fill-color);\n",
              "    }\n",
              "    40% {\n",
              "      border-color: transparent;\n",
              "      border-right-color: var(--fill-color);\n",
              "      border-top-color: var(--fill-color);\n",
              "    }\n",
              "    60% {\n",
              "      border-color: transparent;\n",
              "      border-right-color: var(--fill-color);\n",
              "    }\n",
              "    80% {\n",
              "      border-color: transparent;\n",
              "      border-right-color: var(--fill-color);\n",
              "      border-bottom-color: var(--fill-color);\n",
              "    }\n",
              "    90% {\n",
              "      border-color: transparent;\n",
              "      border-bottom-color: var(--fill-color);\n",
              "    }\n",
              "  }\n",
              "</style>\n",
              "\n",
              "      <script>\n",
              "        async function quickchart(key) {\n",
              "          const quickchartButtonEl =\n",
              "            document.querySelector('#' + key + ' button');\n",
              "          quickchartButtonEl.disabled = true;  // To prevent multiple clicks.\n",
              "          quickchartButtonEl.classList.add('colab-df-spinner');\n",
              "          try {\n",
              "            const charts = await google.colab.kernel.invokeFunction(\n",
              "                'suggestCharts', [key], {});\n",
              "          } catch (error) {\n",
              "            console.error('Error during call to suggestCharts:', error);\n",
              "          }\n",
              "          quickchartButtonEl.classList.remove('colab-df-spinner');\n",
              "          quickchartButtonEl.classList.add('colab-df-quickchart-complete');\n",
              "        }\n",
              "        (() => {\n",
              "          let quickchartButtonEl =\n",
              "            document.querySelector('#df-c6d634e5-3374-4451-9db5-fbaa1ab73f7d button');\n",
              "          quickchartButtonEl.style.display =\n",
              "            google.colab.kernel.accessAllowed ? 'block' : 'none';\n",
              "        })();\n",
              "      </script>\n",
              "    </div>\n",
              "\n",
              "    </div>\n",
              "  </div>\n"
            ],
            "text/plain": [
              "             news_id               wdate stock_name  \\\n",
              "840    20250523_0078 2025-05-23 08:40:00   삼성바이오로직스   \n",
              "3040   20250522_0152 2025-05-22 08:06:00         SK   \n",
              "3160   20250522_0165 2025-05-22 07:41:00     현대글로비스   \n",
              "4380   20250521_0126 2025-05-21 08:27:00       삼성전자   \n",
              "8320   20250519_0122 2025-05-19 09:01:00     미래에셋증권   \n",
              "15760  20250514_0173 2025-05-14 07:45:00     유진투자증권   \n",
              "19480  20250512_0163 2025-05-12 07:51:00       대신증권   \n",
              "23980  20250508_0175 2025-05-08 07:46:00       롯데칠성   \n",
              "28360  20250502_0087 2025-05-02 08:18:00       삼성전자   \n",
              "28600  20250502_0100 2025-05-02 07:53:00         SK   \n",
              "\n",
              "                                          news_title  \\\n",
              "840                 삼성물산, 삼바 인적분할로 바이오 사업가치 높아질 것-유진   \n",
              "3040            한국금융지주, 레버리지 기반 실적 개선 기대…밸류 매력 높아-SK   \n",
              "3160               [클릭 e종목]\"현대글로비스, 관세·입항세 우려는 시간문제\"   \n",
              "4380                  “삼성전자, 하반기 체질 개선 가능성에 무게”…목표가↑   \n",
              "8320                 미래에셋증권, 1분기 실적 기대치 상회…목표주가↑-유안타   \n",
              "15760  [클릭 e종목]\"신테카바이오, AI 의료 매출 본격화…데이터센터 서비스도 가시화\"   \n",
              "19480        [클릭 e종목]\"씨앤씨인터내셔널, 신제품 폭풍 성장 가능…주가 저평가\"   \n",
              "23980                 롯데칠성, 실적 회복 제한적이지만 저가 매수 유효-대신   \n",
              "28360            삼성전자, \"HBM 기대감 낮지만 편안한 구간…매수 유지\"-하나   \n",
              "28600           SK이노베이션, 석유·화학 적자 지속 불가피…목표가 24%↓-iM   \n",
              "\n",
              "                                            news_content      report_id  \\\n",
              "840    삼성바이오로직스 인적분할 후 지배구조. /자료=유진투자증권\\n삼성물산이 자회사인 삼...  20250523_0029   \n",
              "3040   [이데일리 신하연 기자] SK증권은 한국금융지주(071050)에 대해 적극적인 레버...  20250522_0010   \n",
              "3160   대신증권이 22일 현대글로비스에 대해 관세와 미국 무역대표부(USTR) 규제에 따른...  20250522_0004   \n",
              "4380   [사진출처 = 연합뉴스]\\n대신증권은 21일 삼성전자에 대해 올해 하반기로 갈수록 ...  20250521_0008   \n",
              "8320   미래에셋증권 CI /사진=미래에셋증권\\n유안타증권이 미래에셋증권의 목표주가를 기존 ...  20250519_0027   \n",
              "15760  유진투자증권은 14일 신테카바이오에 대해 인공지능(AI) 의료 매출이 본격화되고 데...  20250514_0045   \n",
              "19480  대신증권은 12일 씨앤씨인터내셔널에 대해 올 2분기부터 실적이 회복되기 시작해 상저...  20250512_0019   \n",
              "23980  [이데일리 신하연 기자] 대신증권은 롯데칠성(005300)에 대해 고환율로 원가 부...  20250508_0020   \n",
              "28360  하나증권은 삼성전자가 올해 1분기 실적이 예상에 부합했다고 2일 밝혔다. 투자의견 ...  20250502_0048   \n",
              "28600  [이데일리 신하연 기자] iM증권은 SK이노베이션(096770)에 대해 유가 하락으...  20250502_0072   \n",
              "\n",
              "             작성일       종목명                 report_title  \\\n",
              "840   2025-05-23      삼성물산               바이오 사업 가치의 재발견   \n",
              "3040  2025-05-22    한국금융지주       높은 레버리지에 기반한 실적 개선 기대감   \n",
              "3160  2025-05-22    현대글로비스              우려에는 동감. 그래도 사자   \n",
              "4380  2025-05-21      삼성전자               변화를 위한 거인의 발걸음   \n",
              "8320  2025-05-19    미래에셋증권          해외수수료, WM, 해외법인 삼박자   \n",
              "15760 2025-05-14    신테카바이오  1Q25 Review: AI의료 매출 발생 본격화   \n",
              "19480 2025-05-12  씨앤씨인터내셔널                     회복ing...   \n",
              "23980 2025-05-08      롯데칠성                    내수 부진의 그늘   \n",
              "28360 2025-05-02      삼성전자        메모리 우상향에 집중한 투자 전략 필요   \n",
              "28600 2025-05-02   SK이노베이션            E&S 합병효과가 무색했던 실적   \n",
              "\n",
              "                                          report_content  impact_score  \\\n",
              "840    삼성바이오에피스 분할 후의 그림이 중요\\n삼성바이오로직스는 삼성바이오에피스를 인적 ...          9.65   \n",
              "3040   적극적인 레버리지 활용에 기반한 이익 체력 기대감\\n한국금융지주의 핵심 자회사인 한...         20.13   \n",
              "3160   투자의견 매수, 목표주가 170,000원 유지\\n현대글로비스는 2025년 1분기 사...          6.47   \n",
              "4380   투자의견 매수, 목표주가 74,000원\\nValuation 부담도, 더 이상 표출될...          5.74   \n",
              "8320   1Q25 순이익 컨센서스 상회\\n미래에셋증권의 1Q25 지배주주순이익은 2,587억...         33.41   \n",
              "15760  I. 1Q25 Review & 투자전략\\n전일(05/13) 발표한 1분기 실적(연결...         23.62   \n",
              "19480  투자의견 BUY 유지하나 목표주가 40,000원(-7%)으로 하향 조정\\n높은 기저...         23.44   \n",
              "23980  투자의견 BUY 유지하나, 목표주가 140,000원(-7%)으로 하향\\n국내 소비가...          7.05   \n",
              "28360  1Q25 Review: MX 부문의 견조한 이익\\n삼성전자의 25년 1분기 세부 실...          8.29   \n",
              "28600  목표주가 13만원 하향, 투자의견 매수 유지\\n동사에 대한 목표주가를 13만원으로 ...         23.54   \n",
              "\n",
              "            sim  date_diff_days sim_bin_05  is_same_stock  sim_rank   sim_bin  \n",
              "840    0.910080               0   0.9~0.95          False       1.0  0.9~0.95  \n",
              "3040   0.864946               0   0.85~0.9          False       1.0  0.85~0.9  \n",
              "3160   0.869759               0   0.85~0.9           True       1.0  0.85~0.9  \n",
              "4380   0.868969               0   0.85~0.9           True       1.0  0.85~0.9  \n",
              "8320   0.867944               0   0.85~0.9           True       1.0  0.85~0.9  \n",
              "15760  0.873106               0   0.85~0.9          False       1.0  0.85~0.9  \n",
              "19480  0.861320               0   0.85~0.9          False       1.0  0.85~0.9  \n",
              "23980  0.860992               0   0.85~0.9           True       1.0  0.85~0.9  \n",
              "28360  0.889883               0   0.85~0.9           True       1.0  0.85~0.9  \n",
              "28600  0.894336               0   0.85~0.9          False       1.0  0.85~0.9  "
            ]
          },
          "execution_count": 53,
          "metadata": {},
          "output_type": "execute_result"
        }
      ],
      "source": [
        "filtered_date_sim_df = top3_df[\n",
        "    (top3_df['sim'] >= 0.85) &\n",
        "    (top3_df['date_diff_days'] >= -90) &  # 날짜 차이: -90 이상\n",
        "    (top3_df['date_diff_days'] <= 0)      # 날짜 차이: 0 이하\n",
        "]\n",
        "\n",
        "print(f\"필터링 후 데이터 개수: {len(filtered_date_sim_df)}\")\n",
        "filtered_date_sim_df.head(10)"
      ]
    },
    {
      "cell_type": "code",
      "execution_count": 54,
      "metadata": {
        "colab": {
          "base_uri": "https://localhost:8080/"
        },
        "id": "ONKMDpFQhO1f",
        "outputId": "dfd80b3f-2daf-4394-a8d5-b6c74e058270"
      },
      "outputs": [
        {
          "name": "stdout",
          "output_type": "stream",
          "text": [
            "result_df 전체 rows: 703960\n",
            "Top3만 남긴 상태인가? 105594\n"
          ]
        }
      ],
      "source": [
        "print(\"result_df 전체 rows:\", len(result_df))\n",
        "if 'sim_rank' in result_df.columns:\n",
        "    print(\"Top3만 남긴 상태인가?\", (result_df['sim_rank'] <= 3).sum())\n",
        "\n",
        "# 필터링 전에, 혹시 Top3만 남겨둔 df를 또 조건필터하고 있진 않은지?"
      ]
    },
    {
      "cell_type": "code",
      "execution_count": 55,
      "metadata": {
        "colab": {
          "base_uri": "https://localhost:8080/"
        },
        "id": "wYJEOlU1oHg7",
        "outputId": "170b606b-2fc8-41ec-b24e-b4432a295754"
      },
      "outputs": [
        {
          "name": "stdout",
          "output_type": "stream",
          "text": [
            "조건 필터링 결과: 355\n",
            "필터 후 Top3: 355\n"
          ]
        },
        {
          "name": "stderr",
          "output_type": "stream",
          "text": [
            "<ipython-input-55-08bf6fce48c0>:10: SettingWithCopyWarning: \n",
            "A value is trying to be set on a copy of a slice from a DataFrame.\n",
            "Try using .loc[row_indexer,col_indexer] = value instead\n",
            "\n",
            "See the caveats in the documentation: https://pandas.pydata.org/pandas-docs/stable/user_guide/indexing.html#returning-a-view-versus-a-copy\n",
            "  filtered_df['sim_rank'] = filtered_df.groupby('news_id')['sim'].rank(method='first', ascending=False)\n"
          ]
        }
      ],
      "source": [
        "# 1. 전체 매칭에서 바로 조건 필터\n",
        "filtered_df = result_df[\n",
        "    (result_df['sim'] >= 0.85) &\n",
        "    (result_df['date_diff_days'] >= -90) &\n",
        "    (result_df['date_diff_days'] <= 0)\n",
        "]\n",
        "print(\"조건 필터링 결과:\", len(filtered_df))\n",
        "\n",
        "# 2. 뉴스별 Top3만 남기려면 그 이후 rank로 필터\n",
        "filtered_df['sim_rank'] = filtered_df.groupby('news_id')['sim'].rank(method='first', ascending=False)\n",
        "top3_filtered_df = filtered_df[filtered_df['sim_rank'] <= 3]\n",
        "print(\"필터 후 Top3:\", len(top3_filtered_df))"
      ]
    },
    {
      "cell_type": "code",
      "execution_count": null,
      "metadata": {
        "id": "kh6sclBSoK3G"
      },
      "outputs": [],
      "source": []
    }
  ],
  "metadata": {
    "accelerator": "GPU",
    "colab": {
      "gpuType": "T4",
      "provenance": []
    },
    "kernelspec": {
      "display_name": "Python 3",
      "name": "python3"
    },
    "language_info": {
      "name": "python"
    },
    "widgets": {
      "application/vnd.jupyter.widget-state+json": {
        "0222c154120046ea80ea13de1ca5b8c5": {
          "model_module": "@jupyter-widgets/controls",
          "model_module_version": "1.5.0",
          "model_name": "FloatProgressModel",
          "state": {
            "_dom_classes": [],
            "_model_module": "@jupyter-widgets/controls",
            "_model_module_version": "1.5.0",
            "_model_name": "FloatProgressModel",
            "_view_count": null,
            "_view_module": "@jupyter-widgets/controls",
            "_view_module_version": "1.5.0",
            "_view_name": "ProgressView",
            "bar_style": "success",
            "description": "",
            "description_tooltip": null,
            "layout": "IPY_MODEL_aab4acd3ae9c45c78c8c3328380b76e7",
            "max": 271,
            "min": 0,
            "orientation": "horizontal",
            "style": "IPY_MODEL_19d8ba7276d04fb489d0eb9b4ca83f68",
            "value": 271
          }
        },
        "05b34f7fbd414465acf224c4383875b0": {
          "model_module": "@jupyter-widgets/controls",
          "model_module_version": "1.5.0",
          "model_name": "ProgressStyleModel",
          "state": {
            "_model_module": "@jupyter-widgets/controls",
            "_model_module_version": "1.5.0",
            "_model_name": "ProgressStyleModel",
            "_view_count": null,
            "_view_module": "@jupyter-widgets/base",
            "_view_module_version": "1.2.0",
            "_view_name": "StyleView",
            "bar_color": null,
            "description_width": ""
          }
        },
        "07c633db9f5644feada9545ca00688a3": {
          "model_module": "@jupyter-widgets/controls",
          "model_module_version": "1.5.0",
          "model_name": "DescriptionStyleModel",
          "state": {
            "_model_module": "@jupyter-widgets/controls",
            "_model_module_version": "1.5.0",
            "_model_name": "DescriptionStyleModel",
            "_view_count": null,
            "_view_module": "@jupyter-widgets/base",
            "_view_module_version": "1.2.0",
            "_view_name": "StyleView",
            "description_width": ""
          }
        },
        "0ad849e1855c4e1fb4032de331bc4f3e": {
          "model_module": "@jupyter-widgets/base",
          "model_module_version": "1.2.0",
          "model_name": "LayoutModel",
          "state": {
            "_model_module": "@jupyter-widgets/base",
            "_model_module_version": "1.2.0",
            "_model_name": "LayoutModel",
            "_view_count": null,
            "_view_module": "@jupyter-widgets/base",
            "_view_module_version": "1.2.0",
            "_view_name": "LayoutView",
            "align_content": null,
            "align_items": null,
            "align_self": null,
            "border": null,
            "bottom": null,
            "display": null,
            "flex": null,
            "flex_flow": null,
            "grid_area": null,
            "grid_auto_columns": null,
            "grid_auto_flow": null,
            "grid_auto_rows": null,
            "grid_column": null,
            "grid_gap": null,
            "grid_row": null,
            "grid_template_areas": null,
            "grid_template_columns": null,
            "grid_template_rows": null,
            "height": null,
            "justify_content": null,
            "justify_items": null,
            "left": null,
            "margin": null,
            "max_height": null,
            "max_width": null,
            "min_height": null,
            "min_width": null,
            "object_fit": null,
            "object_position": null,
            "order": null,
            "overflow": null,
            "overflow_x": null,
            "overflow_y": null,
            "padding": null,
            "right": null,
            "top": null,
            "visibility": null,
            "width": null
          }
        },
        "18047ae3f2124ddaa947b0180cb87cc5": {
          "model_module": "@jupyter-widgets/base",
          "model_module_version": "1.2.0",
          "model_name": "LayoutModel",
          "state": {
            "_model_module": "@jupyter-widgets/base",
            "_model_module_version": "1.2.0",
            "_model_name": "LayoutModel",
            "_view_count": null,
            "_view_module": "@jupyter-widgets/base",
            "_view_module_version": "1.2.0",
            "_view_name": "LayoutView",
            "align_content": null,
            "align_items": null,
            "align_self": null,
            "border": null,
            "bottom": null,
            "display": null,
            "flex": null,
            "flex_flow": null,
            "grid_area": null,
            "grid_auto_columns": null,
            "grid_auto_flow": null,
            "grid_auto_rows": null,
            "grid_column": null,
            "grid_gap": null,
            "grid_row": null,
            "grid_template_areas": null,
            "grid_template_columns": null,
            "grid_template_rows": null,
            "height": null,
            "justify_content": null,
            "justify_items": null,
            "left": null,
            "margin": null,
            "max_height": null,
            "max_width": null,
            "min_height": null,
            "min_width": null,
            "object_fit": null,
            "object_position": null,
            "order": null,
            "overflow": null,
            "overflow_x": null,
            "overflow_y": null,
            "padding": null,
            "right": null,
            "top": null,
            "visibility": null,
            "width": null
          }
        },
        "19d8ba7276d04fb489d0eb9b4ca83f68": {
          "model_module": "@jupyter-widgets/controls",
          "model_module_version": "1.5.0",
          "model_name": "ProgressStyleModel",
          "state": {
            "_model_module": "@jupyter-widgets/controls",
            "_model_module_version": "1.5.0",
            "_model_name": "ProgressStyleModel",
            "_view_count": null,
            "_view_module": "@jupyter-widgets/base",
            "_view_module_version": "1.2.0",
            "_view_name": "StyleView",
            "bar_color": null,
            "description_width": ""
          }
        },
        "33a3bfffc3f545bdbcd80397cc35ae10": {
          "model_module": "@jupyter-widgets/base",
          "model_module_version": "1.2.0",
          "model_name": "LayoutModel",
          "state": {
            "_model_module": "@jupyter-widgets/base",
            "_model_module_version": "1.2.0",
            "_model_name": "LayoutModel",
            "_view_count": null,
            "_view_module": "@jupyter-widgets/base",
            "_view_module_version": "1.2.0",
            "_view_name": "LayoutView",
            "align_content": null,
            "align_items": null,
            "align_self": null,
            "border": null,
            "bottom": null,
            "display": null,
            "flex": null,
            "flex_flow": null,
            "grid_area": null,
            "grid_auto_columns": null,
            "grid_auto_flow": null,
            "grid_auto_rows": null,
            "grid_column": null,
            "grid_gap": null,
            "grid_row": null,
            "grid_template_areas": null,
            "grid_template_columns": null,
            "grid_template_rows": null,
            "height": null,
            "justify_content": null,
            "justify_items": null,
            "left": null,
            "margin": null,
            "max_height": null,
            "max_width": null,
            "min_height": null,
            "min_width": null,
            "object_fit": null,
            "object_position": null,
            "order": null,
            "overflow": null,
            "overflow_x": null,
            "overflow_y": null,
            "padding": null,
            "right": null,
            "top": null,
            "visibility": null,
            "width": null
          }
        },
        "3cfa227853374ce08930f15dbbdbec9b": {
          "model_module": "@jupyter-widgets/base",
          "model_module_version": "1.2.0",
          "model_name": "LayoutModel",
          "state": {
            "_model_module": "@jupyter-widgets/base",
            "_model_module_version": "1.2.0",
            "_model_name": "LayoutModel",
            "_view_count": null,
            "_view_module": "@jupyter-widgets/base",
            "_view_module_version": "1.2.0",
            "_view_name": "LayoutView",
            "align_content": null,
            "align_items": null,
            "align_self": null,
            "border": null,
            "bottom": null,
            "display": null,
            "flex": null,
            "flex_flow": null,
            "grid_area": null,
            "grid_auto_columns": null,
            "grid_auto_flow": null,
            "grid_auto_rows": null,
            "grid_column": null,
            "grid_gap": null,
            "grid_row": null,
            "grid_template_areas": null,
            "grid_template_columns": null,
            "grid_template_rows": null,
            "height": null,
            "justify_content": null,
            "justify_items": null,
            "left": null,
            "margin": null,
            "max_height": null,
            "max_width": null,
            "min_height": null,
            "min_width": null,
            "object_fit": null,
            "object_position": null,
            "order": null,
            "overflow": null,
            "overflow_x": null,
            "overflow_y": null,
            "padding": null,
            "right": null,
            "top": null,
            "visibility": null,
            "width": null
          }
        },
        "4084e861bd1844a9b44848c5f4eecbe6": {
          "model_module": "@jupyter-widgets/controls",
          "model_module_version": "1.5.0",
          "model_name": "DescriptionStyleModel",
          "state": {
            "_model_module": "@jupyter-widgets/controls",
            "_model_module_version": "1.5.0",
            "_model_name": "DescriptionStyleModel",
            "_view_count": null,
            "_view_module": "@jupyter-widgets/base",
            "_view_module_version": "1.2.0",
            "_view_name": "StyleView",
            "description_width": ""
          }
        },
        "5d44492950384f55ac7bc9c5bf075491": {
          "model_module": "@jupyter-widgets/controls",
          "model_module_version": "1.5.0",
          "model_name": "HTMLModel",
          "state": {
            "_dom_classes": [],
            "_model_module": "@jupyter-widgets/controls",
            "_model_module_version": "1.5.0",
            "_model_name": "HTMLModel",
            "_view_count": null,
            "_view_module": "@jupyter-widgets/controls",
            "_view_module_version": "1.5.0",
            "_view_name": "HTMLView",
            "description": "",
            "description_tooltip": null,
            "layout": "IPY_MODEL_0ad849e1855c4e1fb4032de331bc4f3e",
            "placeholder": "​",
            "style": "IPY_MODEL_c29912e1cbf6490daa5d3162f9031a90",
            "value": "Batches: 100%"
          }
        },
        "66d4c30b6b84416fb5ab1a5f619875e9": {
          "model_module": "@jupyter-widgets/controls",
          "model_module_version": "1.5.0",
          "model_name": "HBoxModel",
          "state": {
            "_dom_classes": [],
            "_model_module": "@jupyter-widgets/controls",
            "_model_module_version": "1.5.0",
            "_model_name": "HBoxModel",
            "_view_count": null,
            "_view_module": "@jupyter-widgets/controls",
            "_view_module_version": "1.5.0",
            "_view_name": "HBoxView",
            "box_style": "",
            "children": [
              "IPY_MODEL_5d44492950384f55ac7bc9c5bf075491",
              "IPY_MODEL_894d966b09904deb848776075be5461e",
              "IPY_MODEL_9220369d361e4c31b241cc1a22eb0aa2"
            ],
            "layout": "IPY_MODEL_e271d704f3c84044a6bfab920143ef5b"
          }
        },
        "894d966b09904deb848776075be5461e": {
          "model_module": "@jupyter-widgets/controls",
          "model_module_version": "1.5.0",
          "model_name": "FloatProgressModel",
          "state": {
            "_dom_classes": [],
            "_model_module": "@jupyter-widgets/controls",
            "_model_module_version": "1.5.0",
            "_model_name": "FloatProgressModel",
            "_view_count": null,
            "_view_module": "@jupyter-widgets/controls",
            "_view_module_version": "1.5.0",
            "_view_name": "ProgressView",
            "bar_style": "success",
            "description": "",
            "description_tooltip": null,
            "layout": "IPY_MODEL_954526f8c0b04986915dfd172c801d89",
            "max": 550,
            "min": 0,
            "orientation": "horizontal",
            "style": "IPY_MODEL_05b34f7fbd414465acf224c4383875b0",
            "value": 550
          }
        },
        "9220369d361e4c31b241cc1a22eb0aa2": {
          "model_module": "@jupyter-widgets/controls",
          "model_module_version": "1.5.0",
          "model_name": "HTMLModel",
          "state": {
            "_dom_classes": [],
            "_model_module": "@jupyter-widgets/controls",
            "_model_module_version": "1.5.0",
            "_model_name": "HTMLModel",
            "_view_count": null,
            "_view_module": "@jupyter-widgets/controls",
            "_view_module_version": "1.5.0",
            "_view_name": "HTMLView",
            "description": "",
            "description_tooltip": null,
            "layout": "IPY_MODEL_a128d5d5d9324a4ab29962aeccca527a",
            "placeholder": "​",
            "style": "IPY_MODEL_4084e861bd1844a9b44848c5f4eecbe6",
            "value": " 550/550 [04:17&lt;00:00,  3.20it/s]"
          }
        },
        "954526f8c0b04986915dfd172c801d89": {
          "model_module": "@jupyter-widgets/base",
          "model_module_version": "1.2.0",
          "model_name": "LayoutModel",
          "state": {
            "_model_module": "@jupyter-widgets/base",
            "_model_module_version": "1.2.0",
            "_model_name": "LayoutModel",
            "_view_count": null,
            "_view_module": "@jupyter-widgets/base",
            "_view_module_version": "1.2.0",
            "_view_name": "LayoutView",
            "align_content": null,
            "align_items": null,
            "align_self": null,
            "border": null,
            "bottom": null,
            "display": null,
            "flex": null,
            "flex_flow": null,
            "grid_area": null,
            "grid_auto_columns": null,
            "grid_auto_flow": null,
            "grid_auto_rows": null,
            "grid_column": null,
            "grid_gap": null,
            "grid_row": null,
            "grid_template_areas": null,
            "grid_template_columns": null,
            "grid_template_rows": null,
            "height": null,
            "justify_content": null,
            "justify_items": null,
            "left": null,
            "margin": null,
            "max_height": null,
            "max_width": null,
            "min_height": null,
            "min_width": null,
            "object_fit": null,
            "object_position": null,
            "order": null,
            "overflow": null,
            "overflow_x": null,
            "overflow_y": null,
            "padding": null,
            "right": null,
            "top": null,
            "visibility": null,
            "width": null
          }
        },
        "a128d5d5d9324a4ab29962aeccca527a": {
          "model_module": "@jupyter-widgets/base",
          "model_module_version": "1.2.0",
          "model_name": "LayoutModel",
          "state": {
            "_model_module": "@jupyter-widgets/base",
            "_model_module_version": "1.2.0",
            "_model_name": "LayoutModel",
            "_view_count": null,
            "_view_module": "@jupyter-widgets/base",
            "_view_module_version": "1.2.0",
            "_view_name": "LayoutView",
            "align_content": null,
            "align_items": null,
            "align_self": null,
            "border": null,
            "bottom": null,
            "display": null,
            "flex": null,
            "flex_flow": null,
            "grid_area": null,
            "grid_auto_columns": null,
            "grid_auto_flow": null,
            "grid_auto_rows": null,
            "grid_column": null,
            "grid_gap": null,
            "grid_row": null,
            "grid_template_areas": null,
            "grid_template_columns": null,
            "grid_template_rows": null,
            "height": null,
            "justify_content": null,
            "justify_items": null,
            "left": null,
            "margin": null,
            "max_height": null,
            "max_width": null,
            "min_height": null,
            "min_width": null,
            "object_fit": null,
            "object_position": null,
            "order": null,
            "overflow": null,
            "overflow_x": null,
            "overflow_y": null,
            "padding": null,
            "right": null,
            "top": null,
            "visibility": null,
            "width": null
          }
        },
        "a929d0d1c0d5419dbd62f702da5b0324": {
          "model_module": "@jupyter-widgets/controls",
          "model_module_version": "1.5.0",
          "model_name": "HTMLModel",
          "state": {
            "_dom_classes": [],
            "_model_module": "@jupyter-widgets/controls",
            "_model_module_version": "1.5.0",
            "_model_name": "HTMLModel",
            "_view_count": null,
            "_view_module": "@jupyter-widgets/controls",
            "_view_module_version": "1.5.0",
            "_view_name": "HTMLView",
            "description": "",
            "description_tooltip": null,
            "layout": "IPY_MODEL_18047ae3f2124ddaa947b0180cb87cc5",
            "placeholder": "​",
            "style": "IPY_MODEL_07c633db9f5644feada9545ca00688a3",
            "value": " 271/271 [01:51&lt;00:00,  5.91it/s]"
          }
        },
        "aab4acd3ae9c45c78c8c3328380b76e7": {
          "model_module": "@jupyter-widgets/base",
          "model_module_version": "1.2.0",
          "model_name": "LayoutModel",
          "state": {
            "_model_module": "@jupyter-widgets/base",
            "_model_module_version": "1.2.0",
            "_model_name": "LayoutModel",
            "_view_count": null,
            "_view_module": "@jupyter-widgets/base",
            "_view_module_version": "1.2.0",
            "_view_name": "LayoutView",
            "align_content": null,
            "align_items": null,
            "align_self": null,
            "border": null,
            "bottom": null,
            "display": null,
            "flex": null,
            "flex_flow": null,
            "grid_area": null,
            "grid_auto_columns": null,
            "grid_auto_flow": null,
            "grid_auto_rows": null,
            "grid_column": null,
            "grid_gap": null,
            "grid_row": null,
            "grid_template_areas": null,
            "grid_template_columns": null,
            "grid_template_rows": null,
            "height": null,
            "justify_content": null,
            "justify_items": null,
            "left": null,
            "margin": null,
            "max_height": null,
            "max_width": null,
            "min_height": null,
            "min_width": null,
            "object_fit": null,
            "object_position": null,
            "order": null,
            "overflow": null,
            "overflow_x": null,
            "overflow_y": null,
            "padding": null,
            "right": null,
            "top": null,
            "visibility": null,
            "width": null
          }
        },
        "c29912e1cbf6490daa5d3162f9031a90": {
          "model_module": "@jupyter-widgets/controls",
          "model_module_version": "1.5.0",
          "model_name": "DescriptionStyleModel",
          "state": {
            "_model_module": "@jupyter-widgets/controls",
            "_model_module_version": "1.5.0",
            "_model_name": "DescriptionStyleModel",
            "_view_count": null,
            "_view_module": "@jupyter-widgets/base",
            "_view_module_version": "1.2.0",
            "_view_name": "StyleView",
            "description_width": ""
          }
        },
        "e172425d386a4fa0a885c6c392202eb7": {
          "model_module": "@jupyter-widgets/controls",
          "model_module_version": "1.5.0",
          "model_name": "DescriptionStyleModel",
          "state": {
            "_model_module": "@jupyter-widgets/controls",
            "_model_module_version": "1.5.0",
            "_model_name": "DescriptionStyleModel",
            "_view_count": null,
            "_view_module": "@jupyter-widgets/base",
            "_view_module_version": "1.2.0",
            "_view_name": "StyleView",
            "description_width": ""
          }
        },
        "e271d704f3c84044a6bfab920143ef5b": {
          "model_module": "@jupyter-widgets/base",
          "model_module_version": "1.2.0",
          "model_name": "LayoutModel",
          "state": {
            "_model_module": "@jupyter-widgets/base",
            "_model_module_version": "1.2.0",
            "_model_name": "LayoutModel",
            "_view_count": null,
            "_view_module": "@jupyter-widgets/base",
            "_view_module_version": "1.2.0",
            "_view_name": "LayoutView",
            "align_content": null,
            "align_items": null,
            "align_self": null,
            "border": null,
            "bottom": null,
            "display": null,
            "flex": null,
            "flex_flow": null,
            "grid_area": null,
            "grid_auto_columns": null,
            "grid_auto_flow": null,
            "grid_auto_rows": null,
            "grid_column": null,
            "grid_gap": null,
            "grid_row": null,
            "grid_template_areas": null,
            "grid_template_columns": null,
            "grid_template_rows": null,
            "height": null,
            "justify_content": null,
            "justify_items": null,
            "left": null,
            "margin": null,
            "max_height": null,
            "max_width": null,
            "min_height": null,
            "min_width": null,
            "object_fit": null,
            "object_position": null,
            "order": null,
            "overflow": null,
            "overflow_x": null,
            "overflow_y": null,
            "padding": null,
            "right": null,
            "top": null,
            "visibility": null,
            "width": null
          }
        },
        "f092842401ef4f99859fae968df3c7ff": {
          "model_module": "@jupyter-widgets/controls",
          "model_module_version": "1.5.0",
          "model_name": "HTMLModel",
          "state": {
            "_dom_classes": [],
            "_model_module": "@jupyter-widgets/controls",
            "_model_module_version": "1.5.0",
            "_model_name": "HTMLModel",
            "_view_count": null,
            "_view_module": "@jupyter-widgets/controls",
            "_view_module_version": "1.5.0",
            "_view_name": "HTMLView",
            "description": "",
            "description_tooltip": null,
            "layout": "IPY_MODEL_33a3bfffc3f545bdbcd80397cc35ae10",
            "placeholder": "​",
            "style": "IPY_MODEL_e172425d386a4fa0a885c6c392202eb7",
            "value": "Batches: 100%"
          }
        },
        "f4dcc9b6aff0478c97d682265a39713d": {
          "model_module": "@jupyter-widgets/controls",
          "model_module_version": "1.5.0",
          "model_name": "HBoxModel",
          "state": {
            "_dom_classes": [],
            "_model_module": "@jupyter-widgets/controls",
            "_model_module_version": "1.5.0",
            "_model_name": "HBoxModel",
            "_view_count": null,
            "_view_module": "@jupyter-widgets/controls",
            "_view_module_version": "1.5.0",
            "_view_name": "HBoxView",
            "box_style": "",
            "children": [
              "IPY_MODEL_f092842401ef4f99859fae968df3c7ff",
              "IPY_MODEL_0222c154120046ea80ea13de1ca5b8c5",
              "IPY_MODEL_a929d0d1c0d5419dbd62f702da5b0324"
            ],
            "layout": "IPY_MODEL_3cfa227853374ce08930f15dbbdbec9b"
          }
        }
      }
    }
  },
  "nbformat": 4,
  "nbformat_minor": 0
}
