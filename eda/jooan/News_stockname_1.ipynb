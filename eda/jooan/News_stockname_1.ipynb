{
 "cells": [
  {
   "cell_type": "markdown",
   "id": "2444c519",
   "metadata": {},
   "source": [
    "1. 원본 기사에 NER\n",
    "- (가능하면) 제목 + 본문 전체로 NER\n",
    "- 추출된 엔터티가 종목명 사전에 있으면 → 매칭 완료\n",
    "\n",
    "2. 요약 후 텍스트에 NER\n",
    "- 본문이 길거나, 종목 언급이 흩어져 있으면 NER이 놓칠 수 있음\n",
    "- 간단 요약(문장 2~3개) 후 다시 NER\n",
    "- 요약 모델은 Kanghoon/KoBART-summarization (뉴스요약 SOTA) or digit82/kobart-summarizer 등\n",
    "- 요약본에서 종목명이 새로 잡히면 → 매칭\n",
    "\n",
    "3. 둘 다 실패(종목명 없음) → BERT 분류\n",
    "- 종목명 추출이 안된 기사만 따로 뽑아서\n",
    "- 멀티라벨 BERT/DeBERTa 분류모델로 (예: snunlp/KR-FinBERT or kaist-ai/KF-Deberta-v1-base)\n",
    "- 임베딩 유사도 기반 매칭 or 직접 멀티라벨 파인튜닝 모델"
   ]
  },
  {
   "cell_type": "markdown",
   "id": "441d2f48",
   "metadata": {},
   "source": [
    "# 1. 기사 본문에서 NER"
   ]
  },
  {
   "cell_type": "code",
   "execution_count": 11,
   "id": "4a2275c8",
   "metadata": {},
   "outputs": [],
   "source": [
    "# 데이터, 종목명 사전 불러오기\n",
    "import pandas as pd\n",
    "\n",
    "news_df = pd.read_csv('/Users/JooAnLee/final_project/db/news_2023_2025.csv')\n",
    "kospi_df = pd.read_csv('/Users/JooAnLee/final_project/db/KRX_KOSPI.csv', encoding='cp949')"
   ]
  },
  {
   "cell_type": "code",
   "execution_count": 12,
   "id": "9c447ba5",
   "metadata": {},
   "outputs": [
    {
     "name": "stdout",
     "output_type": "stream",
     "text": [
      "<class 'pandas.core.frame.DataFrame'>\n",
      "RangeIndex: 58405 entries, 0 to 58404\n",
      "Data columns (total 7 columns):\n",
      " #   Column   Non-Null Count  Dtype \n",
      "---  ------   --------------  ----- \n",
      " 0   news_id  58405 non-null  object\n",
      " 1   wdate    58405 non-null  object\n",
      " 2   title    58405 non-null  object\n",
      " 3   article  58405 non-null  object\n",
      " 4   press    58405 non-null  object\n",
      " 5   url      58405 non-null  object\n",
      " 6   image    58405 non-null  object\n",
      "dtypes: object(7)\n",
      "memory usage: 3.1+ MB\n",
      "-----------------------------------------------------\n",
      "<class 'pandas.core.frame.DataFrame'>\n",
      "RangeIndex: 845 entries, 0 to 844\n",
      "Data columns (total 6 columns):\n",
      " #   Column  Non-Null Count  Dtype  \n",
      "---  ------  --------------  -----  \n",
      " 0   종목코드    845 non-null    int64  \n",
      " 1   종목명     845 non-null    object \n",
      " 2   종가      845 non-null    int64  \n",
      " 3   대비      845 non-null    int64  \n",
      " 4   등락률     845 non-null    float64\n",
      " 5   상장시가총액  845 non-null    float64\n",
      "dtypes: float64(2), int64(3), object(1)\n",
      "memory usage: 39.7+ KB\n"
     ]
    }
   ],
   "source": [
    "news_df.info()\n",
    "print('-----------------------------------------------------')\n",
    "kospi_df.info()"
   ]
  },
  {
   "cell_type": "code",
   "execution_count": 7,
   "id": "ea756331",
   "metadata": {},
   "outputs": [
    {
     "name": "stderr",
     "output_type": "stream",
     "text": [
      "/opt/anaconda3/envs/final_jn/lib/python3.9/site-packages/tqdm/auto.py:21: TqdmWarning: IProgress not found. Please update jupyter and ipywidgets. See https://ipywidgets.readthedocs.io/en/stable/user_install.html\n",
      "  from .autonotebook import tqdm as notebook_tqdm\n",
      "Device set to use mps:0\n"
     ]
    }
   ],
   "source": [
    "from transformers import pipeline\n",
    "from tqdm import tqdm\n",
    "\n",
    "# 모델명\n",
    "model_name = \"mepi/KR-FinBert-finetuned-ner\"\n",
    "\n",
    "# 파이프라인 생성\n",
    "ner_pipe = pipeline(\n",
    "    task=\"ner\",\n",
    "    model=model_name,\n",
    "    tokenizer=model_name,\n",
    "    aggregation_strategy=\"simple\"  # 엔터티 병합 옵션 (예: \"ORG\", \"PER\" 등 전체 단어 단위로 묶어줌)\n",
    ")"
   ]
  },
  {
   "cell_type": "code",
   "execution_count": 8,
   "id": "37f9d7a1",
   "metadata": {},
   "outputs": [],
   "source": [
    "# 종목명만 set으로 (사전에 NaN 제거)\n",
    "company_names = set(kospi_df['종목명'].dropna().unique())"
   ]
  },
  {
   "cell_type": "code",
   "execution_count": 13,
   "id": "06078cbb",
   "metadata": {},
   "outputs": [],
   "source": [
    "# 제목 + 본문 결합\n",
    "news_df['text_combined'] = news_df['title'].fillna('') + ' ' + news_df['article'].fillna('')\n",
    "news_df['text_combined'] = news_df['text_combined'].str.replace(r'\\s+', ' ', regex=True).str.strip()"
   ]
  },
  {
   "cell_type": "code",
   "execution_count": 22,
   "id": "52612006",
   "metadata": {},
   "outputs": [],
   "source": [
    "# KLUE NER 라벨 매핑 (정확한 라벨)\n",
    "id2label = {\n",
    "    0: 'B-DT', 1: 'I-DT',\n",
    "    2: 'B-LC', 3: 'I-LC',\n",
    "    4: 'B-OG', 5: 'I-OG',  # 조직명 라벨\n",
    "    6: 'B-PS', 7: 'I-PS',\n",
    "    8: 'B-QT', 9: 'I-QT',\n",
    "    10: 'B-TI', 11: 'I-TI',\n",
    "    12: 'O'\n",
    "}"
   ]
  },
  {
   "cell_type": "code",
   "execution_count": 23,
   "id": "f0dc9856",
   "metadata": {},
   "outputs": [],
   "source": [
    "# 텍스트 분할 함수\n",
    "def split_text(text, max_len):\n",
    "    return [text[i:i+max_len] for i in range(0, len(text), max_len)]\n",
    "\n",
    "# 수정된 종목명 추출 함수\n",
    "def extract_stock_entities_with_label(text, id2label, max_length=600):\n",
    "    chunks = split_text(text, max_length)\n",
    "    matched_names = set()\n",
    "    \n",
    "    for chunk in chunks:\n",
    "        entities = ner_pipe(chunk)\n",
    "        merged_entities = []\n",
    "        current_word = \"\"\n",
    "        current_label = \"\"\n",
    "        \n",
    "        for ent in entities:\n",
    "            word = ent[\"word\"]\n",
    "            entity_group = ent[\"entity_group\"]\n",
    "            \n",
    "            # 'LABEL_4' → 4로 변환\n",
    "            label_num = int(entity_group.split(\"_\")[1])\n",
    "            label_name = id2label[label_num]\n",
    "            \n",
    "            # B-xxx/I-xxx 병합\n",
    "            if label_name.startswith(\"B-\"):\n",
    "                if current_word:\n",
    "                    merged_entities.append((current_word, current_label))\n",
    "                current_word = word\n",
    "                current_label = label_name[2:]  # B-OG → OG\n",
    "            elif label_name.startswith(\"I-\"):\n",
    "                current_word += word.replace(\"##\", \"\")\n",
    "            else:\n",
    "                if current_word:\n",
    "                    merged_entities.append((current_word, current_label))\n",
    "                    current_word = \"\"\n",
    "                    current_label = \"\"\n",
    "        \n",
    "        if current_word:\n",
    "            merged_entities.append((current_word, current_label))\n",
    "        \n",
    "        # OG 라벨만 추출 (조직명)\n",
    "        for word, label in merged_entities:\n",
    "            if label == \"OG\":  # 수정된 부분\n",
    "                if word in company_names:\n",
    "                    matched_names.add(word)\n",
    "    \n",
    "    return list(matched_names)"
   ]
  },
  {
   "cell_type": "code",
   "execution_count": 24,
   "id": "44ae5d7e",
   "metadata": {},
   "outputs": [
    {
     "name": "stderr",
     "output_type": "stream",
     "text": [
      "100%|██████████| 500/500 [01:09<00:00,  7.22it/s]"
     ]
    },
    {
     "name": "stdout",
     "output_type": "stream",
     "text": [
      "종목명이 추출된 기사 수: 178\n",
      "추출된 종목명 예시:\n",
      "기사 24743: ['삼성화재', '한화']\n",
      "기사 12522: ['LG유플러스']\n",
      "기사 44072: ['롯데칠성']\n",
      "기사 8581: ['고려아연']\n",
      "기사 26610: ['셀트리온']\n"
     ]
    },
    {
     "name": "stderr",
     "output_type": "stream",
     "text": [
      "\n"
     ]
    }
   ],
   "source": [
    "# 500개 샘플 추출\n",
    "sample_df = news_df.sample(500, random_state=42).copy()\n",
    "\n",
    "# 종목명 추출 실행\n",
    "tqdm.pandas()\n",
    "sample_df[\"ner_stocks\"] = sample_df[\"text_combined\"].progress_apply(\n",
    "    lambda x: extract_stock_entities_with_label(x, id2label)\n",
    ")\n",
    "\n",
    "# 결과 확인\n",
    "print(\"종목명이 추출된 기사 수:\", sample_df[sample_df[\"ner_stocks\"].str.len() > 0].shape[0])\n",
    "print(\"추출된 종목명 예시:\")\n",
    "for idx, stocks in sample_df[sample_df[\"ner_stocks\"].str.len() > 0][\"ner_stocks\"].head().items():\n",
    "    print(f\"기사 {idx}: {stocks}\")"
   ]
  },
  {
   "cell_type": "code",
   "execution_count": 25,
   "id": "9e0e2b6a",
   "metadata": {},
   "outputs": [
    {
     "name": "stdout",
     "output_type": "stream",
     "text": [
      "전체 기사 수: 500개\n",
      "종목명이 추출된 기사 수: 178개\n",
      "추출 비율: 35.6%\n",
      "총 추출된 종목명 개수: 240개\n",
      "\n",
      "가장 많이 언급된 종목 TOP 5:\n",
      "  셀트리온: 13회\n",
      "  한화: 9회\n",
      "  SK: 9회\n",
      "  고려아연: 6회\n",
      "  현대로템: 6회\n"
     ]
    }
   ],
   "source": [
    "# 종목명이 추출된 기사 수와 비율 계산\n",
    "num_articles_with_stocks = sample_df[sample_df['ner_stocks'].map(len) > 0].shape[0]\n",
    "total_articles = sample_df.shape[0]\n",
    "ratio = (num_articles_with_stocks / total_articles) * 100\n",
    "\n",
    "print(f\"전체 기사 수: {total_articles}개\")\n",
    "print(f\"종목명이 추출된 기사 수: {num_articles_with_stocks}개\")\n",
    "print(f\"추출 비율: {ratio:.1f}%\")\n",
    "\n",
    "# 추가로 추출된 종목명 통계도 확인\n",
    "total_stocks_extracted = sum(len(stocks) for stocks in sample_df['ner_stocks'])\n",
    "print(f\"총 추출된 종목명 개수: {total_stocks_extracted}개\")\n",
    "\n",
    "# 가장 많이 언급된 종목 확인\n",
    "from collections import Counter\n",
    "all_stocks = [stock for stocks in sample_df['ner_stocks'] for stock in stocks]\n",
    "stock_counts = Counter(all_stocks)\n",
    "print(f\"\\n가장 많이 언급된 종목 TOP 5:\")\n",
    "for stock, count in stock_counts.most_common(5):\n",
    "    print(f\"  {stock}: {count}회\")"
   ]
  },
  {
   "cell_type": "markdown",
   "id": "e6e6e1a0",
   "metadata": {},
   "source": [
    "# 2, 코스피 텍스트 매칭 후 NER"
   ]
  },
  {
   "cell_type": "code",
   "execution_count": 28,
   "id": "150ed05c",
   "metadata": {},
   "outputs": [
    {
     "name": "stdout",
     "output_type": "stream",
     "text": [
      "종목명 1개 이상 매칭된 기사 수: 398/500 (79.6%)\n"
     ]
    }
   ],
   "source": [
    "# 2단계: 텍스트매칭\n",
    "sample_df[\"matched_stocks\"] = sample_df[\"text_combined\"].apply(lambda x: keyword_match_stocks(x, company_names))\n",
    "\n",
    "# 3단계: 매칭 통계 계산\n",
    "matched_count = (sample_df[\"matched_stocks\"].apply(lambda x: len(x) > 0)).sum()\n",
    "total_count = len(sample_df)\n",
    "matched_percent = matched_count / total_count * 100\n",
    "\n",
    "print(f\"종목명 1개 이상 매칭된 기사 수: {matched_count}/{total_count} ({matched_percent:.1f}%)\")"
   ]
  },
  {
   "cell_type": "code",
   "execution_count": 30,
   "id": "1f83d18a",
   "metadata": {},
   "outputs": [
    {
     "name": "stdout",
     "output_type": "stream",
     "text": [
      "매칭된 종목명 예시 (기사 제목, 본문 일부 포함):\n",
      "\n",
      "[기사 24743]\n",
      "제목: “올 3분기 국내 오피스 4조원 거래…낮은 공실률 당분간 지속”\n",
      "본문(일부): 프라임 오피스 거래 규모\n",
      "올 3분기 국내 오피스 투자시장의 거래가 활발하게 진행된 것으로 나타났다.\n",
      "23일 글로벌 부동산 솔루션 업체인 세빌스코리아에 따르면 올 3분기 오피스 투자 ...\n",
      "매칭된 종목명: ['한화리츠', '삼성생명', '한화', 'TP', '삼성화재']\n",
      "\n",
      "[기사 34686]\n",
      "제목: 비투엔, IDC건립 위한 화성 일대 토지 매입…\"신성장 동력 마련\"\n",
      "본문(일부): 빅데이터·인공지능(AI) 전문기업 비투엔이 신성장동력 확보에 본격 시동을 건다.\n",
      "비투엔은 관계사 아이오케이컴퍼니와 손잡고 특수목적법인(SPC) 에이아이링크를 통해 경기도 화성 일대 ...\n",
      "매칭된 종목명: ['한화']\n",
      "\n",
      "[기사 12522]\n",
      "제목: LG유플러스, 올해 전략적 변화 시작…실적 회복 전망-NH\n",
      "본문(일부): [이데일리 이용성 기자] NH투자증권은 7일 LG유플러스(032640)에 대해 지난해 실적이 부진했으나 올해 전략적 변화가 시작되며 실적 회복도 이뤄질 것이라고 밝혔다. 투자의견은 ...\n",
      "매칭된 종목명: ['LG', 'NH투자증권', 'LG헬로비전', 'LG유플러스']\n",
      "\n",
      "[기사 44072]\n",
      "제목: 하이투자증권 \"롯데칠성, 비수기 끝 성수기 기대\"\n",
      "본문(일부): [롯데칠성음료 유튜브 캡처. 재판매 및 DB 금지]\n",
      "(서울=연합뉴스) 조성흠 기자 = 하이투자증권은 3일 롯데칠성에 대해 올해 1분기 실적이 시장 기대치에 못 미쳤으나 2, 3분기 ...\n",
      "매칭된 종목명: ['롯데칠성', 'DB']\n",
      "\n",
      "[기사 35322]\n",
      "제목: K팝에 이어 K푸드, 10년 사이 60% 성장\n",
      "본문(일부): [파이낸셜뉴스] 한국 경제의 위상이 높아지고 K-콘텐츠 파급력이 커지면서 K-푸드(Food) 시장이 급성장하고 있다. K-푸드 인기 품목이 만두, 라면, 김밥 등으로 확장되고, 국 ...\n",
      "매칭된 종목명: ['선진', '대상']\n"
     ]
    }
   ],
   "source": [
    "print(\"매칭된 종목명 예시 (기사 제목, 본문 일부 포함):\")\n",
    "for idx, row in sample_df[sample_df[\"matched_stocks\"].str.len() > 0].head().iterrows():\n",
    "    print(f\"\\n[기사 {idx}]\")\n",
    "    print(\"제목:\", row['title'])\n",
    "    print(\"본문(일부):\", row['article'][:100], \"...\")\n",
    "    print(\"매칭된 종목명:\", row['matched_stocks'])"
   ]
  },
  {
   "cell_type": "code",
   "execution_count": null,
   "id": "ee93efaf",
   "metadata": {},
   "outputs": [],
   "source": []
  }
 ],
 "metadata": {
  "kernelspec": {
   "display_name": "final_jn",
   "language": "python",
   "name": "python3"
  },
  "language_info": {
   "codemirror_mode": {
    "name": "ipython",
    "version": 3
   },
   "file_extension": ".py",
   "mimetype": "text/x-python",
   "name": "python",
   "nbconvert_exporter": "python",
   "pygments_lexer": "ipython3",
   "version": "3.9.18"
  }
 },
 "nbformat": 4,
 "nbformat_minor": 5
}
