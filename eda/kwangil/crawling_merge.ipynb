{
 "cells": [
  {
   "cell_type": "code",
   "execution_count": 2,
   "id": "420b79b1",
   "metadata": {},
   "outputs": [],
   "source": [
    "import pandas as pd\n",
    "import os\n",
    "import glob"
   ]
  },
  {
   "cell_type": "code",
   "execution_count": 2,
   "id": "e8102e86",
   "metadata": {},
   "outputs": [],
   "source": [
    "# 전체 열 보기\n",
    "pd.set_option(\"display.max_columns\", None)\n",
    "\n",
    "# 텍스트 컬럼만 길이 제한 (예: 100자)\n",
    "pd.set_option(\"display.max_colwidth\", 100)\n",
    "\n",
    "# 선택적으로 행 수 제한\n",
    "pd.set_option(\"display.max_rows\", 100)"
   ]
  },
  {
   "cell_type": "code",
   "execution_count": 3,
   "id": "c42bc7b1",
   "metadata": {},
   "outputs": [],
   "source": [
    "def load_all_csvs_recursively(base_folder):\n",
    "    # 모든 하위 폴더의 CSV 파일 포함\n",
    "    csv_files = glob.glob(os.path.join(base_folder, \"**\", \"*.csv\"), recursive=True)\n",
    "\n",
    "    print(f\"🔍 발견된 CSV 파일 수: {len(csv_files)}\")\n",
    "\n",
    "    df_list = [pd.read_csv(file) for file in csv_files]\n",
    "    combined_df = pd.concat(df_list, ignore_index=True)\n",
    "\n",
    "    return combined_df"
   ]
  },
  {
   "cell_type": "markdown",
   "id": "29bc0097",
   "metadata": {},
   "source": [
    "# 리포트 데이터 정제 및 저장"
   ]
  },
  {
   "cell_type": "code",
   "execution_count": 24,
   "id": "c14f93d1",
   "metadata": {},
   "outputs": [
    {
     "name": "stdout",
     "output_type": "stream",
     "text": [
      "🔍 발견된 CSV 파일 수: 122\n",
      "불러온 row 개수: 37053개\n"
     ]
    }
   ],
   "source": [
    "folder_path = \"./report_data\"  # 상대 경로 또는 절대 경로 가능\n",
    "df_all = load_all_csvs_recursively(folder_path)\n",
    "\n",
    "print(f\"불러온 row 개수: {len(df_all)}개\")"
   ]
  },
  {
   "cell_type": "code",
   "execution_count": 17,
   "id": "735b7ded",
   "metadata": {},
   "outputs": [
    {
     "data": {
      "text/html": [
       "<div>\n",
       "<style scoped>\n",
       "    .dataframe tbody tr th:only-of-type {\n",
       "        vertical-align: middle;\n",
       "    }\n",
       "\n",
       "    .dataframe tbody tr th {\n",
       "        vertical-align: top;\n",
       "    }\n",
       "\n",
       "    .dataframe thead th {\n",
       "        text-align: right;\n",
       "    }\n",
       "</style>\n",
       "<table border=\"1\" class=\"dataframe\">\n",
       "  <thead>\n",
       "    <tr style=\"text-align: right;\">\n",
       "      <th></th>\n",
       "      <th>종목명</th>\n",
       "      <th>제목</th>\n",
       "      <th>증권사</th>\n",
       "      <th>작성일</th>\n",
       "      <th>조회수</th>\n",
       "      <th>URL</th>\n",
       "      <th>본문</th>\n",
       "      <th>목표가</th>\n",
       "      <th>투자의견</th>\n",
       "    </tr>\n",
       "  </thead>\n",
       "  <tbody>\n",
       "    <tr>\n",
       "      <th>0</th>\n",
       "      <td>크래프톤</td>\n",
       "      <td>주요 투자포인트의 현실화</td>\n",
       "      <td>키움증권</td>\n",
       "      <td>2023-05-22</td>\n",
       "      <td>2985</td>\n",
       "      <td>https://finance.naver.com/research/company_rea...</td>\n",
       "      <td>동사 목표주가 25만원 유지\\n동사 목표주가를 25만원으로 유지하고 게임 대형주 T...</td>\n",
       "      <td>250,000</td>\n",
       "      <td>Buy</td>\n",
       "    </tr>\n",
       "    <tr>\n",
       "      <th>1</th>\n",
       "      <td>코윈테크</td>\n",
       "      <td>올해 수주도 실적도 Good</td>\n",
       "      <td>하이투자증권</td>\n",
       "      <td>2023-05-22</td>\n",
       "      <td>6112</td>\n",
       "      <td>https://finance.naver.com/research/company_rea...</td>\n",
       "      <td>이차전지 전(前)공정과 후(後)공정을 아우르는 공정 자동화시스템 전문 제조업체\\n동...</td>\n",
       "      <td>NaN</td>\n",
       "      <td>없음</td>\n",
       "    </tr>\n",
       "    <tr>\n",
       "      <th>2</th>\n",
       "      <td>삼성생명</td>\n",
       "      <td>순조로운 시작</td>\n",
       "      <td>대신증권</td>\n",
       "      <td>2023-05-22</td>\n",
       "      <td>2085</td>\n",
       "      <td>https://finance.naver.com/research/company_rea...</td>\n",
       "      <td>투자의견 매수, 목표주가 80,000원 유지\\n일회성 제외하고 사측이 연간으로 목표...</td>\n",
       "      <td>80,000</td>\n",
       "      <td>Buy</td>\n",
       "    </tr>\n",
       "    <tr>\n",
       "      <th>3</th>\n",
       "      <td>하이록코리아</td>\n",
       "      <td>해양플랜트는 계속된다</td>\n",
       "      <td>대신증권</td>\n",
       "      <td>2023-05-22</td>\n",
       "      <td>3274</td>\n",
       "      <td>https://finance.naver.com/research/company_rea...</td>\n",
       "      <td>투자의견 매수, 목표주가 35,000 원 유지\\n23F 매출액: 2,180억원, 영...</td>\n",
       "      <td>35,000</td>\n",
       "      <td>Buy</td>\n",
       "    </tr>\n",
       "    <tr>\n",
       "      <th>4</th>\n",
       "      <td>아스플로</td>\n",
       "      <td>국산화는 진행 중</td>\n",
       "      <td>대신증권</td>\n",
       "      <td>2023-05-22</td>\n",
       "      <td>4889</td>\n",
       "      <td>https://finance.naver.com/research/company_rea...</td>\n",
       "      <td>투자의견 Market Perform, 목표주가 14,500원 유지\\n23E 매출액:...</td>\n",
       "      <td>14,500</td>\n",
       "      <td>MarketPerform</td>\n",
       "    </tr>\n",
       "  </tbody>\n",
       "</table>\n",
       "</div>"
      ],
      "text/plain": [
       "      종목명               제목     증권사         작성일   조회수  \\\n",
       "0    크래프톤    주요 투자포인트의 현실화    키움증권  2023-05-22  2985   \n",
       "1    코윈테크  올해 수주도 실적도 Good  하이투자증권  2023-05-22  6112   \n",
       "2    삼성생명          순조로운 시작    대신증권  2023-05-22  2085   \n",
       "3  하이록코리아      해양플랜트는 계속된다    대신증권  2023-05-22  3274   \n",
       "4    아스플로        국산화는 진행 중    대신증권  2023-05-22  4889   \n",
       "\n",
       "                                                 URL  \\\n",
       "0  https://finance.naver.com/research/company_rea...   \n",
       "1  https://finance.naver.com/research/company_rea...   \n",
       "2  https://finance.naver.com/research/company_rea...   \n",
       "3  https://finance.naver.com/research/company_rea...   \n",
       "4  https://finance.naver.com/research/company_rea...   \n",
       "\n",
       "                                                  본문      목표가           투자의견  \n",
       "0  동사 목표주가 25만원 유지\\n동사 목표주가를 25만원으로 유지하고 게임 대형주 T...  250,000            Buy  \n",
       "1  이차전지 전(前)공정과 후(後)공정을 아우르는 공정 자동화시스템 전문 제조업체\\n동...      NaN             없음  \n",
       "2  투자의견 매수, 목표주가 80,000원 유지\\n일회성 제외하고 사측이 연간으로 목표...   80,000            Buy  \n",
       "3  투자의견 매수, 목표주가 35,000 원 유지\\n23F 매출액: 2,180억원, 영...   35,000            Buy  \n",
       "4  투자의견 Market Perform, 목표주가 14,500원 유지\\n23E 매출액:...   14,500  MarketPerform  "
      ]
     },
     "execution_count": 17,
     "metadata": {},
     "output_type": "execute_result"
    }
   ],
   "source": [
    "df = df_all.sort_values(by='작성일', ascending=False).reset_index(drop=True)\n",
    "df.head()"
   ]
  },
  {
   "cell_type": "code",
   "execution_count": 18,
   "id": "23bea504",
   "metadata": {},
   "outputs": [],
   "source": [
    "df.to_csv('../../db/report_2013_2023.csv', index=False)"
   ]
  },
  {
   "cell_type": "markdown",
   "id": "c34ce9fa",
   "metadata": {},
   "source": [
    "# 뉴스 데이터 정제 및 저장"
   ]
  },
  {
   "cell_type": "code",
   "execution_count": 13,
   "id": "26d27b9e",
   "metadata": {},
   "outputs": [
    {
     "name": "stdout",
     "output_type": "stream",
     "text": [
      "🔍 발견된 CSV 파일 수: 730\n",
      "불러온 row 개수: 188520개\n"
     ]
    }
   ],
   "source": [
    "folder_path = \"./news_data_2017_2019\"  # 상대 경로 또는 절대 경로 가능\n",
    "df_all = load_all_csvs_recursively(folder_path)\n",
    "\n",
    "print(f\"불러온 row 개수: {len(df_all)}개\")"
   ]
  },
  {
   "cell_type": "code",
   "execution_count": 14,
   "id": "56f51e95",
   "metadata": {},
   "outputs": [
    {
     "data": {
      "text/html": [
       "<div>\n",
       "<style scoped>\n",
       "    .dataframe tbody tr th:only-of-type {\n",
       "        vertical-align: middle;\n",
       "    }\n",
       "\n",
       "    .dataframe tbody tr th {\n",
       "        vertical-align: top;\n",
       "    }\n",
       "\n",
       "    .dataframe thead th {\n",
       "        text-align: right;\n",
       "    }\n",
       "</style>\n",
       "<table border=\"1\" class=\"dataframe\">\n",
       "  <thead>\n",
       "    <tr style=\"text-align: right;\">\n",
       "      <th></th>\n",
       "      <th>wdate</th>\n",
       "      <th>title</th>\n",
       "      <th>article</th>\n",
       "      <th>press</th>\n",
       "      <th>url</th>\n",
       "      <th>image</th>\n",
       "    </tr>\n",
       "  </thead>\n",
       "  <tbody>\n",
       "    <tr>\n",
       "      <th>0</th>\n",
       "      <td>2017-05-23 22:05</td>\n",
       "      <td>대우건설 지분 5.77% 블록딜 추진</td>\n",
       "      <td>IBK투자證.케이스톤PEF 1800억 유동성 확보할 듯\\nIBK투자증권과 케이스톤 ...</td>\n",
       "      <td>파이낸셜뉴스</td>\n",
       "      <td>https://n.news.naver.com/mnews/article/014/000...</td>\n",
       "      <td>https://ssl.pstatic.net/static.news/image/news...</td>\n",
       "    </tr>\n",
       "    <tr>\n",
       "      <th>1</th>\n",
       "      <td>2017-05-23 20:05</td>\n",
       "      <td>\"금융에 대해 배우고 진로도 상담해요\"</td>\n",
       "      <td>미래에셋박현주재단 청소년 금융진로캠프\\n원본보기\\n지난 22일 강원 홍천에 위치한 ...</td>\n",
       "      <td>파이낸셜뉴스</td>\n",
       "      <td>https://n.news.naver.com/mnews/article/014/000...</td>\n",
       "      <td>https://imgnews.pstatic.net/image/014/2017/05/...</td>\n",
       "    </tr>\n",
       "    <tr>\n",
       "      <th>2</th>\n",
       "      <td>2017-05-23 19:41</td>\n",
       "      <td>SGA임베디드, 코넥스 상장.. 국내 사물인터넷 시장 공략</td>\n",
       "      <td>23일 서울 여의도 한국거래소에서 열린 SGA임베디드 코넥스 상장식에서 임직원들이 ...</td>\n",
       "      <td>파이낸셜뉴스</td>\n",
       "      <td>https://n.news.naver.com/mnews/article/014/000...</td>\n",
       "      <td>https://imgnews.pstatic.net/image/014/2017/05/...</td>\n",
       "    </tr>\n",
       "    <tr>\n",
       "      <th>3</th>\n",
       "      <td>2017-05-23 19:25</td>\n",
       "      <td>우정사업본부 '공격적' 차익거래 매도.. 외국인 비차익거래 매수세 이어가</td>\n",
       "      <td>코스피 상승세 지속 전망에 외국인 매매유인 크게 증가\\n지난달말 우정사업본부의 차익...</td>\n",
       "      <td>파이낸셜뉴스</td>\n",
       "      <td>https://n.news.naver.com/mnews/article/014/000...</td>\n",
       "      <td>https://imgnews.pstatic.net/image/014/2017/05/...</td>\n",
       "    </tr>\n",
       "    <tr>\n",
       "      <th>4</th>\n",
       "      <td>2017-05-23 19:24</td>\n",
       "      <td>[알쏭달쏭 채권투자] 하이일드펀드, 비우량 채권에 투자하는 펀드… 목표수익률 年5~...</td>\n",
       "      <td>하이일드펀드(High Yield Fund)는 금리는 높지만 신용등급이 낮은 비우량채...</td>\n",
       "      <td>파이낸셜뉴스</td>\n",
       "      <td>https://n.news.naver.com/mnews/article/014/000...</td>\n",
       "      <td>https://ssl.pstatic.net/static.news/image/news...</td>\n",
       "    </tr>\n",
       "  </tbody>\n",
       "</table>\n",
       "</div>"
      ],
      "text/plain": [
       "              wdate                                              title  \\\n",
       "0  2017-05-23 22:05                               대우건설 지분 5.77% 블록딜 추진   \n",
       "1  2017-05-23 20:05                              \"금융에 대해 배우고 진로도 상담해요\"   \n",
       "2  2017-05-23 19:41                   SGA임베디드, 코넥스 상장.. 국내 사물인터넷 시장 공략   \n",
       "3  2017-05-23 19:25           우정사업본부 '공격적' 차익거래 매도.. 외국인 비차익거래 매수세 이어가   \n",
       "4  2017-05-23 19:24  [알쏭달쏭 채권투자] 하이일드펀드, 비우량 채권에 투자하는 펀드… 목표수익률 年5~...   \n",
       "\n",
       "                                             article   press  \\\n",
       "0  IBK투자證.케이스톤PEF 1800억 유동성 확보할 듯\\nIBK투자증권과 케이스톤 ...  파이낸셜뉴스   \n",
       "1  미래에셋박현주재단 청소년 금융진로캠프\\n원본보기\\n지난 22일 강원 홍천에 위치한 ...  파이낸셜뉴스   \n",
       "2  23일 서울 여의도 한국거래소에서 열린 SGA임베디드 코넥스 상장식에서 임직원들이 ...  파이낸셜뉴스   \n",
       "3  코스피 상승세 지속 전망에 외국인 매매유인 크게 증가\\n지난달말 우정사업본부의 차익...  파이낸셜뉴스   \n",
       "4  하이일드펀드(High Yield Fund)는 금리는 높지만 신용등급이 낮은 비우량채...  파이낸셜뉴스   \n",
       "\n",
       "                                                 url  \\\n",
       "0  https://n.news.naver.com/mnews/article/014/000...   \n",
       "1  https://n.news.naver.com/mnews/article/014/000...   \n",
       "2  https://n.news.naver.com/mnews/article/014/000...   \n",
       "3  https://n.news.naver.com/mnews/article/014/000...   \n",
       "4  https://n.news.naver.com/mnews/article/014/000...   \n",
       "\n",
       "                                               image  \n",
       "0  https://ssl.pstatic.net/static.news/image/news...  \n",
       "1  https://imgnews.pstatic.net/image/014/2017/05/...  \n",
       "2  https://imgnews.pstatic.net/image/014/2017/05/...  \n",
       "3  https://imgnews.pstatic.net/image/014/2017/05/...  \n",
       "4  https://ssl.pstatic.net/static.news/image/news...  "
      ]
     },
     "execution_count": 14,
     "metadata": {},
     "output_type": "execute_result"
    }
   ],
   "source": [
    "df_all.head()"
   ]
  },
  {
   "cell_type": "code",
   "execution_count": 15,
   "id": "7ce5d5ca",
   "metadata": {},
   "outputs": [
    {
     "name": "stdout",
     "output_type": "stream",
     "text": [
      "중복 title 개수: 5469\n"
     ]
    }
   ],
   "source": [
    "num_duplicates = df_all.duplicated(subset=\"title\").sum()\n",
    "print(f\"중복 title 개수: {num_duplicates}\")"
   ]
  },
  {
   "cell_type": "code",
   "execution_count": 16,
   "id": "28a11afc",
   "metadata": {},
   "outputs": [
    {
     "name": "stdout",
     "output_type": "stream",
     "text": [
      "불필요 title 개수: 631\n"
     ]
    }
   ],
   "source": [
    "num_non_required = df_all[\n",
    "    df_all[\"title\"].str.contains(\"오늘의\", na=False)\n",
    "]\n",
    "print(f\"불필요 title 개수: {len(num_non_required)}\")"
   ]
  },
  {
   "cell_type": "code",
   "execution_count": 17,
   "id": "b4bc5827",
   "metadata": {},
   "outputs": [
    {
     "data": {
      "text/html": [
       "<div>\n",
       "<style scoped>\n",
       "    .dataframe tbody tr th:only-of-type {\n",
       "        vertical-align: middle;\n",
       "    }\n",
       "\n",
       "    .dataframe tbody tr th {\n",
       "        vertical-align: top;\n",
       "    }\n",
       "\n",
       "    .dataframe thead th {\n",
       "        text-align: right;\n",
       "    }\n",
       "</style>\n",
       "<table border=\"1\" class=\"dataframe\">\n",
       "  <thead>\n",
       "    <tr style=\"text-align: right;\">\n",
       "      <th></th>\n",
       "      <th>wdate</th>\n",
       "      <th>title</th>\n",
       "      <th>article</th>\n",
       "      <th>press</th>\n",
       "      <th>url</th>\n",
       "      <th>image</th>\n",
       "    </tr>\n",
       "  </thead>\n",
       "  <tbody>\n",
       "    <tr>\n",
       "      <th>59</th>\n",
       "      <td>2017-05-23 15:38</td>\n",
       "      <td>[fnRASSI]오늘의 상한가, 진흥기업우B 30% ↑</td>\n",
       "      <td>23일 진흥기업우B(002785), 이엘케이(094190), 대호피앤씨우(02104...</td>\n",
       "      <td>파이낸셜뉴스</td>\n",
       "      <td>https://n.news.naver.com/mnews/article/014/000...</td>\n",
       "      <td>https://imgnews.pstatic.net/image/014/2017/05/...</td>\n",
       "    </tr>\n",
       "    <tr>\n",
       "      <th>153</th>\n",
       "      <td>2017-05-23 11:30</td>\n",
       "      <td>[오늘의포인트]코스피 2300, 시총 변화는</td>\n",
       "      <td>[머니투데이 송선옥 기자] [LG전자·KB금융·NAVER 등 오르고 한국전력·SKT...</td>\n",
       "      <td>머니투데이</td>\n",
       "      <td>https://n.news.naver.com/mnews/article/008/000...</td>\n",
       "      <td>https://ssl.pstatic.net/static.news/image/news...</td>\n",
       "    </tr>\n",
       "  </tbody>\n",
       "</table>\n",
       "</div>"
      ],
      "text/plain": [
       "                wdate                           title  \\\n",
       "59   2017-05-23 15:38  [fnRASSI]오늘의 상한가, 진흥기업우B 30% ↑   \n",
       "153  2017-05-23 11:30       [오늘의포인트]코스피 2300, 시총 변화는    \n",
       "\n",
       "                                               article   press  \\\n",
       "59   23일 진흥기업우B(002785), 이엘케이(094190), 대호피앤씨우(02104...  파이낸셜뉴스   \n",
       "153  [머니투데이 송선옥 기자] [LG전자·KB금융·NAVER 등 오르고 한국전력·SKT...   머니투데이   \n",
       "\n",
       "                                                   url  \\\n",
       "59   https://n.news.naver.com/mnews/article/014/000...   \n",
       "153  https://n.news.naver.com/mnews/article/008/000...   \n",
       "\n",
       "                                                 image  \n",
       "59   https://imgnews.pstatic.net/image/014/2017/05/...  \n",
       "153  https://ssl.pstatic.net/static.news/image/news...  "
      ]
     },
     "execution_count": 17,
     "metadata": {},
     "output_type": "execute_result"
    }
   ],
   "source": [
    "num_non_required.head(2)"
   ]
  },
  {
   "cell_type": "code",
   "execution_count": 18,
   "id": "445db881",
   "metadata": {},
   "outputs": [
    {
     "name": "stderr",
     "output_type": "stream",
     "text": [
      "C:\\Users\\user\\AppData\\Local\\Temp\\ipykernel_16728\\634594700.py:7: SettingWithCopyWarning: \n",
      "A value is trying to be set on a copy of a slice from a DataFrame.\n",
      "Try using .loc[row_indexer,col_indexer] = value instead\n",
      "\n",
      "See the caveats in the documentation: https://pandas.pydata.org/pandas-docs/stable/user_guide/indexing.html#returning-a-view-versus-a-copy\n",
      "  filtered_df[\"wdate\"] = pd.to_datetime(filtered_df[\"wdate\"], errors=\"coerce\")\n"
     ]
    }
   ],
   "source": [
    "# 중복 제거 전 필터링부터 수행\n",
    "filtered_df = df_all[\n",
    "    df_all[\"title\"].notnull() & ~df_all[\"title\"].str.contains(\"오늘의\", na=False)\n",
    "]\n",
    "\n",
    "# 날짜 타입 변환\n",
    "filtered_df[\"wdate\"] = pd.to_datetime(filtered_df[\"wdate\"], errors=\"coerce\")\n",
    "\n",
    "# 날짜 내림차순 정렬 후 중복 제거\n",
    "filtered_df = (\n",
    "    filtered_df.sort_values(by=\"wdate\", ascending=False)\n",
    "    .drop_duplicates(subset=\"title\", keep=\"first\")  # 제목 기준 중복 제거\n",
    "    .reset_index(drop=True)\n",
    ")"
   ]
  },
  {
   "cell_type": "code",
   "execution_count": 19,
   "id": "62106036",
   "metadata": {},
   "outputs": [
    {
     "data": {
      "text/html": [
       "<div>\n",
       "<style scoped>\n",
       "    .dataframe tbody tr th:only-of-type {\n",
       "        vertical-align: middle;\n",
       "    }\n",
       "\n",
       "    .dataframe tbody tr th {\n",
       "        vertical-align: top;\n",
       "    }\n",
       "\n",
       "    .dataframe thead th {\n",
       "        text-align: right;\n",
       "    }\n",
       "</style>\n",
       "<table border=\"1\" class=\"dataframe\">\n",
       "  <thead>\n",
       "    <tr style=\"text-align: right;\">\n",
       "      <th></th>\n",
       "      <th>wdate</th>\n",
       "      <th>title</th>\n",
       "      <th>article</th>\n",
       "      <th>press</th>\n",
       "      <th>url</th>\n",
       "      <th>image</th>\n",
       "    </tr>\n",
       "  </thead>\n",
       "  <tbody>\n",
       "    <tr>\n",
       "      <th>0</th>\n",
       "      <td>2019-05-22 19:51:00</td>\n",
       "      <td>증선위, 한국투자증권 과징금 38.6억·과태료 1.2억 부과 의결(상보)</td>\n",
       "      <td>증권선물워원회는 22일 한국투자증권에 대한 종합검사 관련 계열회사 신용공여 제한 위...</td>\n",
       "      <td>파이낸셜뉴스</td>\n",
       "      <td>https://n.news.naver.com/mnews/article/014/000...</td>\n",
       "      <td>https://imgnews.pstatic.net/image/014/2019/05/...</td>\n",
       "    </tr>\n",
       "    <tr>\n",
       "      <th>1</th>\n",
       "      <td>2019-05-22 19:33:00</td>\n",
       "      <td>증선위, 한투 종합검사 과징금 38.6억·과태료 1.2억 부과 의결(1보)</td>\n",
       "      <td>증권선물워원회는 22일 한국투자증권에 대한 종합검사 관련 계열회사 신용공여 제한 위...</td>\n",
       "      <td>파이낸셜뉴스</td>\n",
       "      <td>https://n.news.naver.com/mnews/article/014/000...</td>\n",
       "      <td>https://ssl.pstatic.net/static.news/image/news...</td>\n",
       "    </tr>\n",
       "    <tr>\n",
       "      <th>2</th>\n",
       "      <td>2019-05-22 18:27:00</td>\n",
       "      <td>한양증권, 극지 마라토너 초청 ‘브라운백 미팅’</td>\n",
       "      <td>22일 서울 여의도 한양증권 본사에서 열린 브라운백 미팅에서 임재택 한양증권 대표(...</td>\n",
       "      <td>파이낸셜뉴스</td>\n",
       "      <td>https://n.news.naver.com/mnews/article/014/000...</td>\n",
       "      <td>https://imgnews.pstatic.net/image/014/2019/05/...</td>\n",
       "    </tr>\n",
       "    <tr>\n",
       "      <th>3</th>\n",
       "      <td>2019-05-22 18:15:00</td>\n",
       "      <td>거래소, \"에스제이케이 매매 거래 정지 해제\"</td>\n",
       "      <td>[머니투데이 유승목 기자] 한국거래소 코스닥시장본부는 에스제이케이의 파산신청 사유가...</td>\n",
       "      <td>머니투데이</td>\n",
       "      <td>https://n.news.naver.com/mnews/article/008/000...</td>\n",
       "      <td>https://ssl.pstatic.net/static.news/image/news...</td>\n",
       "    </tr>\n",
       "    <tr>\n",
       "      <th>4</th>\n",
       "      <td>2019-05-22 18:11:00</td>\n",
       "      <td>연기금, 코스닥 구원투수로.. 이달만 1000억 이상 사들여</td>\n",
       "      <td>연기금이 약세장에 들어선 코스닥시장에서 순매수를 이어가고 있다. 기관과 외국인이 '...</td>\n",
       "      <td>파이낸셜뉴스</td>\n",
       "      <td>https://n.news.naver.com/mnews/article/014/000...</td>\n",
       "      <td>https://imgnews.pstatic.net/image/014/2019/05/...</td>\n",
       "    </tr>\n",
       "  </tbody>\n",
       "</table>\n",
       "</div>"
      ],
      "text/plain": [
       "                wdate                                      title  \\\n",
       "0 2019-05-22 19:51:00   증선위, 한국투자증권 과징금 38.6억·과태료 1.2억 부과 의결(상보)   \n",
       "1 2019-05-22 19:33:00  증선위, 한투 종합검사 과징금 38.6억·과태료 1.2억 부과 의결(1보)   \n",
       "2 2019-05-22 18:27:00                 한양증권, 극지 마라토너 초청 ‘브라운백 미팅’   \n",
       "3 2019-05-22 18:15:00                  거래소, \"에스제이케이 매매 거래 정지 해제\"   \n",
       "4 2019-05-22 18:11:00          연기금, 코스닥 구원투수로.. 이달만 1000억 이상 사들여   \n",
       "\n",
       "                                             article   press  \\\n",
       "0  증권선물워원회는 22일 한국투자증권에 대한 종합검사 관련 계열회사 신용공여 제한 위...  파이낸셜뉴스   \n",
       "1  증권선물워원회는 22일 한국투자증권에 대한 종합검사 관련 계열회사 신용공여 제한 위...  파이낸셜뉴스   \n",
       "2  22일 서울 여의도 한양증권 본사에서 열린 브라운백 미팅에서 임재택 한양증권 대표(...  파이낸셜뉴스   \n",
       "3  [머니투데이 유승목 기자] 한국거래소 코스닥시장본부는 에스제이케이의 파산신청 사유가...   머니투데이   \n",
       "4  연기금이 약세장에 들어선 코스닥시장에서 순매수를 이어가고 있다. 기관과 외국인이 '...  파이낸셜뉴스   \n",
       "\n",
       "                                                 url  \\\n",
       "0  https://n.news.naver.com/mnews/article/014/000...   \n",
       "1  https://n.news.naver.com/mnews/article/014/000...   \n",
       "2  https://n.news.naver.com/mnews/article/014/000...   \n",
       "3  https://n.news.naver.com/mnews/article/008/000...   \n",
       "4  https://n.news.naver.com/mnews/article/014/000...   \n",
       "\n",
       "                                               image  \n",
       "0  https://imgnews.pstatic.net/image/014/2019/05/...  \n",
       "1  https://ssl.pstatic.net/static.news/image/news...  \n",
       "2  https://imgnews.pstatic.net/image/014/2019/05/...  \n",
       "3  https://ssl.pstatic.net/static.news/image/news...  \n",
       "4  https://imgnews.pstatic.net/image/014/2019/05/...  "
      ]
     },
     "execution_count": 19,
     "metadata": {},
     "output_type": "execute_result"
    }
   ],
   "source": [
    "# 결과 확인 (예: 상위 10개)\n",
    "filtered_df.head(5)"
   ]
  },
  {
   "cell_type": "code",
   "execution_count": 20,
   "id": "6f9d6a57",
   "metadata": {},
   "outputs": [
    {
     "name": "stdout",
     "output_type": "stream",
     "text": [
      "<class 'pandas.core.frame.DataFrame'>\n",
      "RangeIndex: 182429 entries, 0 to 182428\n",
      "Data columns (total 6 columns):\n",
      " #   Column   Non-Null Count   Dtype         \n",
      "---  ------   --------------   -----         \n",
      " 0   wdate    182429 non-null  datetime64[ns]\n",
      " 1   title    182429 non-null  object        \n",
      " 2   article  182416 non-null  object        \n",
      " 3   press    182429 non-null  object        \n",
      " 4   url      182429 non-null  object        \n",
      " 5   image    182419 non-null  object        \n",
      "dtypes: datetime64[ns](1), object(5)\n",
      "memory usage: 8.4+ MB\n"
     ]
    }
   ],
   "source": [
    "filtered_df.info()"
   ]
  },
  {
   "cell_type": "code",
   "execution_count": 21,
   "id": "3ad4f30e",
   "metadata": {},
   "outputs": [],
   "source": [
    "filtered_df.to_csv('../../db/news_2017_2019.csv', index=False)"
   ]
  }
 ],
 "metadata": {
  "kernelspec": {
   "display_name": "test-0521-1",
   "language": "python",
   "name": "python3"
  },
  "language_info": {
   "codemirror_mode": {
    "name": "ipython",
    "version": 3
   },
   "file_extension": ".py",
   "mimetype": "text/x-python",
   "name": "python",
   "nbconvert_exporter": "python",
   "pygments_lexer": "ipython3",
   "version": "3.9.21"
  }
 },
 "nbformat": 4,
 "nbformat_minor": 5
}
