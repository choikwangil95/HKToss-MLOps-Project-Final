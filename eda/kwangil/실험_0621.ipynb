{
 "cells": [
  {
   "cell_type": "code",
   "execution_count": null,
   "id": "20554372-bf92-4232-8c05-2d0278ae0f5c",
   "metadata": {},
   "outputs": [],
   "source": [
    "!pip uninstall -y torch torchvision torchaudio transformers sentence-transformers\n",
    "!pip install torch==2.6.0 torchvision==0.17.0 torchaudio --index-url https://download.pytorch.org/whl/cu124\n",
    "!pip install transformers==4.41.2 sentence-transformers==2.6.1"
   ]
  },
  {
   "cell_type": "code",
   "execution_count": null,
   "id": "bb398040-0541-411a-be01-05ac00aa3f8d",
   "metadata": {},
   "outputs": [],
   "source": [
    "!pip install scikit-learn==1.7.0"
   ]
  },
  {
   "cell_type": "code",
   "execution_count": null,
   "id": "a2b460fd-2bdd-4970-b4a9-7bcb5d21ac0a",
   "metadata": {},
   "outputs": [],
   "source": [
    "!pip show scikit-learn"
   ]
  },
  {
   "cell_type": "code",
   "execution_count": 2,
   "id": "059c79a6-53e7-4250-8f16-11931bbfe06d",
   "metadata": {},
   "outputs": [
    {
     "name": "stdout",
     "output_type": "stream",
     "text": [
      "Collecting pandas\n",
      "  Downloading pandas-2.3.0-cp310-cp310-manylinux_2_17_x86_64.manylinux2014_x86_64.whl.metadata (91 kB)\n",
      "\u001b[2K     \u001b[90m━━━━━━━━━━━━━━━━━━━━━━━━━━━━━━━━━━━━━━━━\u001b[0m \u001b[32m91.2/91.2 kB\u001b[0m \u001b[31m1.1 MB/s\u001b[0m eta \u001b[36m0:00:00\u001b[0mta \u001b[36m0:00:01\u001b[0m\n",
      "\u001b[?25hRequirement already satisfied: numpy>=1.22.4 in /usr/local/lib/python3.10/dist-packages (from pandas) (1.24.1)\n",
      "Requirement already satisfied: python-dateutil>=2.8.2 in /usr/local/lib/python3.10/dist-packages (from pandas) (2.8.2)\n",
      "Collecting pytz>=2020.1 (from pandas)\n",
      "  Downloading pytz-2025.2-py2.py3-none-any.whl.metadata (22 kB)\n",
      "Collecting tzdata>=2022.7 (from pandas)\n",
      "  Downloading tzdata-2025.2-py2.py3-none-any.whl.metadata (1.4 kB)\n",
      "Requirement already satisfied: six>=1.5 in /usr/lib/python3/dist-packages (from python-dateutil>=2.8.2->pandas) (1.16.0)\n",
      "Downloading pandas-2.3.0-cp310-cp310-manylinux_2_17_x86_64.manylinux2014_x86_64.whl (12.3 MB)\n",
      "\u001b[2K   \u001b[90m━━━━━━━━━━━━━━━━━━━━━━━━━━━━━━━━━━━━━━━━\u001b[0m \u001b[32m12.3/12.3 MB\u001b[0m \u001b[31m41.4 MB/s\u001b[0m eta \u001b[36m0:00:00\u001b[0ma \u001b[36m0:00:01\u001b[0m\n",
      "\u001b[?25hDownloading pytz-2025.2-py2.py3-none-any.whl (509 kB)\n",
      "\u001b[2K   \u001b[90m━━━━━━━━━━━━━━━━━━━━━━━━━━━━━━━━━━━━━━━━\u001b[0m \u001b[32m509.2/509.2 kB\u001b[0m \u001b[31m59.5 MB/s\u001b[0m eta \u001b[36m0:00:00\u001b[0m\n",
      "\u001b[?25hDownloading tzdata-2025.2-py2.py3-none-any.whl (347 kB)\n",
      "\u001b[2K   \u001b[90m━━━━━━━━━━━━━━━━━━━━━━━━━━━━━━━━━━━━━━━━\u001b[0m \u001b[32m347.8/347.8 kB\u001b[0m \u001b[31m51.3 MB/s\u001b[0m eta \u001b[36m0:00:00\u001b[0m\n",
      "\u001b[?25hInstalling collected packages: pytz, tzdata, pandas\n",
      "Successfully installed pandas-2.3.0 pytz-2025.2 tzdata-2025.2\n",
      "\u001b[33mWARNING: Running pip as the 'root' user can result in broken permissions and conflicting behaviour with the system package manager. It is recommended to use a virtual environment instead: https://pip.pypa.io/warnings/venv\u001b[0m\u001b[33m\n",
      "\u001b[0m\n",
      "\u001b[1m[\u001b[0m\u001b[34;49mnotice\u001b[0m\u001b[1;39;49m]\u001b[0m\u001b[39;49m A new release of pip is available: \u001b[0m\u001b[31;49m23.3.1\u001b[0m\u001b[39;49m -> \u001b[0m\u001b[32;49m25.1.1\u001b[0m\n",
      "\u001b[1m[\u001b[0m\u001b[34;49mnotice\u001b[0m\u001b[1;39;49m]\u001b[0m\u001b[39;49m To update, run: \u001b[0m\u001b[32;49mpython -m pip install --upgrade pip\u001b[0m\n"
     ]
    }
   ],
   "source": [
    "!pip install pandas"
   ]
  },
  {
   "cell_type": "code",
   "execution_count": 20,
   "id": "957b0e1c-e0bf-4f4b-8435-51e5bc553827",
   "metadata": {},
   "outputs": [],
   "source": [
    "import ast\n",
    "import torch\n",
    "import torch.nn as nn\n",
    "import torch.nn.functional as F\n",
    "from torch.utils.data import DataLoader, Dataset, TensorDataset\n",
    "from sentence_transformers import SentenceTransformer\n",
    "import numpy as np\n",
    "import pandas as pd\n",
    "import random\n",
    "import time\n",
    "from sklearn.model_selection import train_test_split\n",
    "from sklearn.preprocessing import StandardScaler, MinMaxScaler, RobustScaler\n",
    "from sklearn.metrics import mean_squared_error, r2_score\n",
    "from tqdm.notebook import tqdm"
   ]
  },
  {
   "cell_type": "code",
   "execution_count": 4,
   "id": "a363cad4-58bc-40df-81fa-15103d1d0d81",
   "metadata": {},
   "outputs": [],
   "source": [
    "# 1. Seed 고정\n",
    "seed = 42\n",
    "torch.manual_seed(seed)\n",
    "np.random.seed(seed)\n",
    "random.seed(seed)\n",
    "torch.backends.cudnn.deterministic = True\n",
    "torch.backends.cudnn.benchmark = False"
   ]
  },
  {
   "cell_type": "code",
   "execution_count": 11,
   "id": "cdcbb811-3035-49fb-b567-27062f3d814b",
   "metadata": {},
   "outputs": [],
   "source": [
    "# 2. 데이터 로드\n",
    "df = pd.read_csv('dataset_2023_2025.csv')"
   ]
  },
  {
   "cell_type": "code",
   "execution_count": 12,
   "id": "a69c8914-9257-4073-82fc-55b73dbaf295",
   "metadata": {},
   "outputs": [
    {
     "name": "stdout",
     "output_type": "stream",
     "text": [
      "ext_a / ext_b 그룹별 성격별 스케일링 + tensor 변환까지 최종 완료\n"
     ]
    }
   ],
   "source": [
    "# 3. 스케일링\n",
    "header_str = \"\"\"\n",
    "news_id,summary,d_minus_5_date_close,d_minus_5_date_volume,d_minus_5_date_foreign,d_minus_5_date_institution,d_minus_5_date_individual,d_minus_4_date_close,d_minus_4_date_volume,d_minus_4_date_foreign,d_minus_4_date_institution,d_minus_4_date_individual,d_minus_3_date_close,d_minus_3_date_volume,d_minus_3_date_foreign,d_minus_3_date_institution,d_minus_3_date_individual,d_minus_2_date_close,d_minus_2_date_volume,d_minus_2_date_foreign,d_minus_2_date_institution,d_minus_2_date_individual,d_minus_1_date_close,d_minus_1_date_volume,d_minus_1_date_foreign,d_minus_1_date_institution,d_minus_1_date_individual,d_plus_1_date_close,d_plus_2_date_close,d_plus_3_date_close,d_plus_4_date_close,d_plus_5_date_close,fx,bond10y,base_rate,토픽 1,토픽 2,토픽 3,토픽 4,토픽 5,토픽 6,토픽 7,토픽 8,토픽 9,similar_news_id,similar_summary,similar_d_minus_5_date_close,similar_d_minus_5_date_volume,similar_d_minus_5_date_foreign,similar_d_minus_5_date_institution,similar_d_minus_5_date_individual,similar_d_minus_4_date_close,similar_d_minus_4_date_volume,similar_d_minus_4_date_foreign,similar_d_minus_4_date_institution,similar_d_minus_4_date_individual,similar_d_minus_3_date_close,similar_d_minus_3_date_volume,similar_d_minus_3_date_foreign,similar_d_minus_3_date_institution,similar_d_minus_3_date_individual,similar_d_minus_2_date_close,similar_d_minus_2_date_volume,similar_d_minus_2_date_foreign,similar_d_minus_2_date_institution,similar_d_minus_2_date_individual,similar_d_minus_1_date_close,similar_d_minus_1_date_volume,similar_d_minus_1_date_foreign,similar_d_minus_1_date_institution,similar_d_minus_1_date_individual,similar_d_plus_1_date_close,similar_d_plus_2_date_close,similar_d_plus_3_date_close,similar_d_plus_4_date_close,similar_d_plus_5_date_close,similar_fx,similar_bond10y,similar_base_rate,similar_토픽 1,similar_토픽 2,similar_토픽 3,similar_토픽 4,similar_토픽 5,similar_토픽 6,similar_토픽 7,similar_토픽 8,similar_토픽 9,target\n",
    "\"\"\"\n",
    "\n",
    "header_cols = [col.strip() for col in header_str.strip().split(',')]\n",
    "\n",
    "ext_a = [col for col in header_cols if col.startswith('d_minus_') or col.startswith('d_plus_') or col.startswith('D_day_') or col in ['fx', 'bond10y', 'base_rate'] or col.startswith('토픽 ')]\n",
    "ext_b = [col for col in header_cols if col.startswith('similar_d_minus_') or col.startswith('similar_d_plus_') or col.startswith('similar_D_day_') or col in ['similar_fx', 'similar_bond10y', 'similar_base_rate'] or col.startswith('similar_토픽 ')]\n",
    "\n",
    "group_ext_price_close = [c for c in ext_a if 'date_close' in c]\n",
    "group_ext_volume = [c for c in ext_a if 'date_volume' in c]\n",
    "group_ext_foreign = [c for c in ext_a if 'date_foreign' in c]\n",
    "group_ext_institution = [c for c in ext_a if 'date_institution' in c]\n",
    "group_ext_individual = [c for c in ext_a if 'date_individual' in c]\n",
    "group_ext_macro = ['fx', 'bond10y', 'base_rate']\n",
    "group_ext_topic = [f'토픽 {i}' for i in range(1, 10) if f'토픽 {i}' in ext_a]\n",
    "\n",
    "group_ext_similar_price_close = [c for c in ext_b if 'date_close' in c]\n",
    "group_ext_similar_volume = [c for c in ext_b if 'date_volume' in c]\n",
    "group_ext_similar_foreign = [c for c in ext_b if 'date_foreign' in c]\n",
    "group_ext_similar_institution = [c for c in ext_b if 'date_institution' in c]\n",
    "group_ext_similar_individual = [c for c in ext_b if 'date_individual' in c]\n",
    "group_ext_similar_macro = ['similar_fx', 'similar_bond10y', 'similar_base_rate']\n",
    "group_ext_similar_topic = [f'similar_토픽 {i}' for i in range(1, 10) if f'similar_토픽 {i}' in ext_b]\n",
    "\n",
    "ext_a_groups = [\n",
    "    group_ext_price_close, group_ext_volume, group_ext_foreign,\n",
    "    group_ext_institution, group_ext_individual,\n",
    "    group_ext_macro, group_ext_topic\n",
    "]\n",
    "\n",
    "ext_b_groups = [\n",
    "    group_ext_similar_price_close, group_ext_similar_volume, group_ext_similar_foreign,\n",
    "    group_ext_similar_institution, group_ext_similar_individual,\n",
    "    group_ext_similar_macro, group_ext_similar_topic\n",
    "]\n",
    "\n",
    "scaler_choices_a = [\n",
    "    StandardScaler(), RobustScaler(), MinMaxScaler(),\n",
    "    MinMaxScaler(), MinMaxScaler(), StandardScaler(), MinMaxScaler()\n",
    "]\n",
    "\n",
    "scaler_choices_b = [\n",
    "    StandardScaler(), RobustScaler(), MinMaxScaler(),\n",
    "    MinMaxScaler(), MinMaxScaler(), StandardScaler(), MinMaxScaler()\n",
    "]\n",
    "\n",
    "scaler_dict_a = {}\n",
    "scaler_dict_b = {}\n",
    "\n",
    "train_idx, val_idx = train_test_split(np.arange(len(df)), test_size=0.2, random_state=42)\n",
    "\n",
    "extA_scaled_parts = []\n",
    "for group, scaler in zip(ext_a_groups, scaler_choices_a):\n",
    "    X_train = df.loc[train_idx, group].replace([np.inf, -np.inf], np.nan).fillna(df[group].mean())\n",
    "    scaler.fit(X_train)\n",
    "    X_all = df[group].replace([np.inf, -np.inf], np.nan).fillna(df[group].mean())\n",
    "    X_scaled = scaler.transform(X_all)\n",
    "    extA_scaled_parts.append(X_scaled)\n",
    "    scaler_dict_a[group[0]] = scaler\n",
    "\n",
    "extB_scaled_parts = []\n",
    "for group, scaler in zip(ext_b_groups, scaler_choices_b):\n",
    "    X_train = df.loc[train_idx, group].replace([np.inf, -np.inf], np.nan).fillna(df[group].mean())\n",
    "    scaler.fit(X_train)\n",
    "    X_all = df[group].replace([np.inf, -np.inf], np.nan).fillna(df[group].mean())\n",
    "    X_scaled = scaler.transform(X_all)\n",
    "    extB_scaled_parts.append(X_scaled)\n",
    "    scaler_dict_b[group[0]] = scaler\n",
    "\n",
    "extA_scaled = np.concatenate(extA_scaled_parts, axis=1)\n",
    "extB_scaled = np.concatenate(extB_scaled_parts, axis=1)\n",
    "\n",
    "extA_tensor = torch.tensor(extA_scaled, dtype=torch.float32)\n",
    "extB_tensor = torch.tensor(extB_scaled, dtype=torch.float32)\n",
    "y_tensor = torch.tensor(df['target'].values, dtype=torch.float32).unsqueeze(1)\n",
    "\n",
    "print(\"ext_a / ext_b 그룹별 성격별 스케일링 + tensor 변환까지 최종 완료\")"
   ]
  },
  {
   "cell_type": "code",
   "execution_count": 13,
   "id": "335776fb-dbe4-4fae-b52c-6f8b70118949",
   "metadata": {},
   "outputs": [
    {
     "data": {
      "application/vnd.jupyter.widget-view+json": {
       "model_id": "27ad07d853ae4f169da8baefbac25fa4",
       "version_major": 2,
       "version_minor": 0
      },
      "text/plain": [
       "modules.json:   0%|          | 0.00/229 [00:00<?, ?B/s]"
      ]
     },
     "metadata": {},
     "output_type": "display_data"
    },
    {
     "data": {
      "application/vnd.jupyter.widget-view+json": {
       "model_id": "c95520c1ebc44f009ef2486e38dfc73b",
       "version_major": 2,
       "version_minor": 0
      },
      "text/plain": [
       "config_sentence_transformers.json:   0%|          | 0.00/124 [00:00<?, ?B/s]"
      ]
     },
     "metadata": {},
     "output_type": "display_data"
    },
    {
     "data": {
      "application/vnd.jupyter.widget-view+json": {
       "model_id": "59cfb5aff3e84ef290360e3c9e1bee42",
       "version_major": 2,
       "version_minor": 0
      },
      "text/plain": [
       "README.md:   0%|          | 0.00/4.02k [00:00<?, ?B/s]"
      ]
     },
     "metadata": {},
     "output_type": "display_data"
    },
    {
     "data": {
      "application/vnd.jupyter.widget-view+json": {
       "model_id": "0e3c9ca4f6164bf9a7839aa7cc6805df",
       "version_major": 2,
       "version_minor": 0
      },
      "text/plain": [
       "sentence_bert_config.json:   0%|          | 0.00/53.0 [00:00<?, ?B/s]"
      ]
     },
     "metadata": {},
     "output_type": "display_data"
    },
    {
     "name": "stderr",
     "output_type": "stream",
     "text": [
      "/usr/local/lib/python3.10/dist-packages/huggingface_hub/file_download.py:943: FutureWarning: `resume_download` is deprecated and will be removed in version 1.0.0. Downloads always resume when possible. If you want to force a new download, use `force_download=True`.\n",
      "  warnings.warn(\n"
     ]
    },
    {
     "data": {
      "application/vnd.jupyter.widget-view+json": {
       "model_id": "042e44aef68642bfa01c5c0d88a3ff1a",
       "version_major": 2,
       "version_minor": 0
      },
      "text/plain": [
       "config.json:   0%|          | 0.00/707 [00:00<?, ?B/s]"
      ]
     },
     "metadata": {},
     "output_type": "display_data"
    },
    {
     "data": {
      "application/vnd.jupyter.widget-view+json": {
       "model_id": "a92aa5510fe14845b3a661765e53ff24",
       "version_major": 2,
       "version_minor": 0
      },
      "text/plain": [
       "pytorch_model.bin:   0%|          | 0.00/467M [00:00<?, ?B/s]"
      ]
     },
     "metadata": {},
     "output_type": "display_data"
    },
    {
     "data": {
      "application/vnd.jupyter.widget-view+json": {
       "model_id": "02f2aad33a3d450f9e383e1f2a2b8d3f",
       "version_major": 2,
       "version_minor": 0
      },
      "text/plain": [
       "tokenizer_config.json:   0%|          | 0.00/394 [00:00<?, ?B/s]"
      ]
     },
     "metadata": {},
     "output_type": "display_data"
    },
    {
     "data": {
      "application/vnd.jupyter.widget-view+json": {
       "model_id": "2eabd1a8fa24437694913eef274839a0",
       "version_major": 2,
       "version_minor": 0
      },
      "text/plain": [
       "vocab.txt:   0%|          | 0.00/336k [00:00<?, ?B/s]"
      ]
     },
     "metadata": {},
     "output_type": "display_data"
    },
    {
     "data": {
      "application/vnd.jupyter.widget-view+json": {
       "model_id": "e4ac50842abb4618b36aa3e46c62ef9c",
       "version_major": 2,
       "version_minor": 0
      },
      "text/plain": [
       "tokenizer.json:   0%|          | 0.00/967k [00:00<?, ?B/s]"
      ]
     },
     "metadata": {},
     "output_type": "display_data"
    },
    {
     "data": {
      "application/vnd.jupyter.widget-view+json": {
       "model_id": "b8b554e3968340efbb702bd41fe56998",
       "version_major": 2,
       "version_minor": 0
      },
      "text/plain": [
       "special_tokens_map.json:   0%|          | 0.00/112 [00:00<?, ?B/s]"
      ]
     },
     "metadata": {},
     "output_type": "display_data"
    },
    {
     "data": {
      "application/vnd.jupyter.widget-view+json": {
       "model_id": "2c2b60fe50614b1db5641ef68da77267",
       "version_major": 2,
       "version_minor": 0
      },
      "text/plain": [
       "config.json:   0%|          | 0.00/190 [00:00<?, ?B/s]"
      ]
     },
     "metadata": {},
     "output_type": "display_data"
    },
    {
     "name": "stdout",
     "output_type": "stream",
     "text": [
      "[임베딩 중] summary/유사 summary 임베딩 생성 중...\n"
     ]
    },
    {
     "data": {
      "application/vnd.jupyter.widget-view+json": {
       "model_id": "f10dc35211b14688b963768d11cefc29",
       "version_major": 2,
       "version_minor": 0
      },
      "text/plain": [
       "Batches:   0%|          | 0/1344 [00:00<?, ?it/s]"
      ]
     },
     "metadata": {},
     "output_type": "display_data"
    },
    {
     "data": {
      "application/vnd.jupyter.widget-view+json": {
       "model_id": "82483cce5fca48ecbe37f8fc08f378da",
       "version_major": 2,
       "version_minor": 0
      },
      "text/plain": [
       "Batches:   0%|          | 0/1344 [00:00<?, ?it/s]"
      ]
     },
     "metadata": {},
     "output_type": "display_data"
    }
   ],
   "source": [
    "# 4. 임베딩 생성\n",
    "model_name = \"snunlp/KR-SBERT-V40K-klueNLI-augSTS\"\n",
    "model_emb = SentenceTransformer(model_name)\n",
    "if torch.cuda.is_available():\n",
    "    model_emb = model_emb.to(\"cuda\")\n",
    "\n",
    "print(\"[임베딩 중] summary/유사 summary 임베딩 생성 중...\")\n",
    "df['embedding'] = model_emb.encode(df['summary'].tolist(), show_progress_bar=True).tolist()\n",
    "df['similar_embedding'] = model_emb.encode(df['similar_summary'].tolist(), show_progress_bar=True).tolist()"
   ]
  },
  {
   "cell_type": "code",
   "execution_count": 15,
   "id": "61ed16b1-ff1d-4ba8-a7b1-6a6da78a172b",
   "metadata": {},
   "outputs": [],
   "source": [
    "tokenizer = model_emb.tokenizer"
   ]
  },
  {
   "cell_type": "code",
   "execution_count": 16,
   "id": "add848bd-25f6-4f28-9723-1582b77c983c",
   "metadata": {},
   "outputs": [
    {
     "name": "stdout",
     "output_type": "stream",
     "text": [
      "[AE 학습 중]...\n",
      "AE Epoch 1/30, Loss: 0.110500\n",
      "AE Epoch 2/30, Loss: 0.057536\n",
      "AE Epoch 3/30, Loss: 0.051610\n",
      "AE Epoch 4/30, Loss: 0.049034\n",
      "AE Epoch 5/30, Loss: 0.047281\n",
      "AE Epoch 6/30, Loss: 0.046127\n",
      "AE Epoch 7/30, Loss: 0.045263\n",
      "AE Epoch 8/30, Loss: 0.044702\n",
      "AE Epoch 9/30, Loss: 0.044229\n",
      "AE Epoch 10/30, Loss: 0.043861\n",
      "AE Epoch 11/30, Loss: 0.043490\n",
      "AE Epoch 12/30, Loss: 0.043235\n",
      "AE Epoch 13/30, Loss: 0.042994\n",
      "AE Epoch 14/30, Loss: 0.042732\n",
      "AE Epoch 15/30, Loss: 0.042476\n",
      "AE Epoch 16/30, Loss: 0.042403\n",
      "AE Epoch 17/30, Loss: 0.042271\n",
      "AE Epoch 18/30, Loss: 0.042166\n",
      "AE Epoch 19/30, Loss: 0.041942\n",
      "AE Epoch 20/30, Loss: 0.041889\n",
      "AE Epoch 21/30, Loss: 0.041819\n",
      "AE Epoch 22/30, Loss: 0.041746\n",
      "AE Epoch 23/30, Loss: 0.041583\n",
      "AE Epoch 24/30, Loss: 0.041511\n",
      "AE Epoch 25/30, Loss: 0.041481\n",
      "AE Epoch 26/30, Loss: 0.040425\n",
      "AE Epoch 27/30, Loss: 0.040388\n",
      "AE Epoch 28/30, Loss: 0.040389\n",
      "AE Epoch 29/30, Loss: 0.040297\n",
      "AE Epoch 30/30, Loss: 0.040308\n"
     ]
    }
   ],
   "source": [
    "# 5. 오토인코더 정의 (latent_dim=256)\n",
    "class EmbeddingAutoencoder(nn.Module):\n",
    "    def __init__(self, input_dim=768, hidden_dim=256):\n",
    "        super().__init__()\n",
    "        self.encoder = nn.Sequential(\n",
    "            nn.Linear(input_dim, 512), nn.GELU(), nn.BatchNorm1d(512), nn.Dropout(0.1),\n",
    "            nn.Linear(512, 384), nn.GELU(), nn.BatchNorm1d(384), nn.Dropout(0.1),\n",
    "            nn.Linear(384, hidden_dim)\n",
    "        )\n",
    "        self.decoder = nn.Sequential(\n",
    "            nn.Linear(hidden_dim, 384), nn.GELU(), nn.BatchNorm1d(384), nn.Dropout(0.1),\n",
    "            nn.Linear(384, 512), nn.GELU(), nn.BatchNorm1d(512), nn.Dropout(0.1),\n",
    "            nn.Linear(512, input_dim)\n",
    "        )\n",
    "\n",
    "    def forward(self, x):\n",
    "        z = self.encoder(x)\n",
    "        x_hat = self.decoder(z)\n",
    "        return x_hat, z\n",
    "\n",
    "# AE 학습\n",
    "print(\"[AE 학습 중]...\")\n",
    "text_emb = df['embedding'].apply(lambda x: np.array(ast.literal_eval(x)) if isinstance(x, str) else x)\n",
    "X = torch.stack([torch.tensor(e, dtype=torch.float32) for e in text_emb.tolist()])\n",
    "loader = DataLoader(TensorDataset(X), batch_size=64, shuffle=True)\n",
    "\n",
    "ae_model = EmbeddingAutoencoder(hidden_dim=256)\n",
    "optimizer = torch.optim.Adam(ae_model.parameters(), lr=1e-3)\n",
    "scheduler = torch.optim.lr_scheduler.StepLR(optimizer, step_size=25, gamma=0.5)\n",
    "criterion = nn.MSELoss()\n",
    "\n",
    "for epoch in range(1, 31):\n",
    "    ae_model.train()\n",
    "    epoch_loss = 0\n",
    "    for batch in loader:\n",
    "        x_batch = batch[0]\n",
    "        x_hat, z = ae_model(x_batch)\n",
    "        loss = criterion(x_hat, x_batch)\n",
    "        loss.backward()\n",
    "        optimizer.step()\n",
    "        optimizer.zero_grad()\n",
    "        epoch_loss += loss.item() * x_batch.size(0)\n",
    "    scheduler.step()\n",
    "    print(f\"AE Epoch {epoch}/30, Loss: {epoch_loss / len(X):.6f}\")"
   ]
  },
  {
   "cell_type": "code",
   "execution_count": null,
   "id": "2feab2e9-67ba-48e8-b5a9-5527b63f7aae",
   "metadata": {},
   "outputs": [],
   "source": [
    "# 6. 벡터 유사도 모델 정의 (외부 변수에 α=2.0 가중치 적용)\n",
    "class SimilarityRankerWithText(nn.Module):\n",
    "    def __init__(self, embedding_model, autoencoder_encoder, tokenizer, ext_dim=42, latent_dim=256, alpha=2.0, rank_weight=0.3, rank_margin=0.05):\n",
    "        super().__init__()\n",
    "        self.embedding_model = embedding_model\n",
    "        self.tokenizer = tokenizer\n",
    "        self.encoder = autoencoder_encoder\n",
    "        self.ext_dim = ext_dim\n",
    "        self.latent_dim = latent_dim\n",
    "        self.input_dim = latent_dim + ext_dim\n",
    "        self.alpha = alpha\n",
    "        self.rank_weight = rank_weight\n",
    "        self.rank_margin = rank_margin\n",
    "\n",
    "        self.news_fc = nn.Sequential(\n",
    "            nn.Linear(self.input_dim, 256), nn.BatchNorm1d(256), nn.ReLU(), nn.Dropout(0.2),\n",
    "            nn.Linear(256, 128), nn.BatchNorm1d(128), nn.ReLU(), nn.Dropout(0.2)\n",
    "        )\n",
    "\n",
    "    def encode_text(self, text_list):\n",
    "        with torch.no_grad():\n",
    "            emb = self.embedding_model.encode(text_list, convert_to_tensor=True)\n",
    "            emb = emb.to(next(self.encoder.parameters()).device).float()\n",
    "            reduced = self.encoder(emb)\n",
    "            return reduced\n",
    "\n",
    "    def forward(self, summary_list, similar_summary_list, extA, extB):\n",
    "        zA = self.encode_text(summary_list)\n",
    "        zB = self.encode_text(similar_summary_list)\n",
    "\n",
    "        extA = self.alpha * extA.to(zA.device)\n",
    "        extB = self.alpha * extB.to(zB.device)\n",
    "\n",
    "        inputA = torch.cat([zA, extA], dim=1)\n",
    "        inputB = torch.cat([zB, extB], dim=1)\n",
    "\n",
    "        hA = self.news_fc(inputA)\n",
    "        hB = self.news_fc(inputB)\n",
    "\n",
    "        # FC 벡터 간 cosine similarity 반환\n",
    "        return F.cosine_similarity(hA, hB, dim=1)\n",
    "\n",
    "    def compute_loss(self, pred, target):\n",
    "        # ranking loss 기준\n",
    "        rank = self.ranking_loss(pred, target)\n",
    "        return self.rank_weight * rank\n",
    "\n",
    "    def ranking_loss(self, pred, target):\n",
    "        loss = 0.0\n",
    "        count = 0\n",
    "        for i in range(len(pred)):\n",
    "            for j in range(i + 1, len(pred)):\n",
    "                if target[i] == target[j]:\n",
    "                    continue\n",
    "\n",
    "                label = 1.0 if target[i] > target[j] else -1.0\n",
    "\n",
    "                diff = pred[i] - pred[j]\n",
    "\n",
    "                loss += torch.clamp(self.rank_margin - label * diff, min=0.0)\n",
    "                \n",
    "                count += 1\n",
    "        return loss / (count + 1e-6)"
   ]
  },
  {
   "cell_type": "code",
   "execution_count": 18,
   "id": "d600840d-d374-4f38-aec4-86d029965e4e",
   "metadata": {},
   "outputs": [],
   "source": [
    "# 7. Dataset 및 DataLoader 정의\n",
    "class NewsSimilarityDataset(Dataset):\n",
    "    def __init__(self, df, extA_tensor, extB_tensor, y_tensor, indices):\n",
    "        self.summary = df[\"summary\"].iloc[indices].tolist()\n",
    "        self.similar_summary = df[\"similar_summary\"].iloc[indices].tolist()\n",
    "        self.extA = extA_tensor[indices]\n",
    "        self.extB = extB_tensor[indices]\n",
    "        self.y = y_tensor[indices]\n",
    "\n",
    "    def __len__(self):\n",
    "        return len(self.y)\n",
    "\n",
    "    def __getitem__(self, idx):\n",
    "        return (\n",
    "            self.summary[idx],\n",
    "            self.similar_summary[idx],\n",
    "            self.extA[idx],\n",
    "            self.extB[idx],\n",
    "            self.y[idx]\n",
    "        )\n",
    "\n",
    "train_dataset = NewsSimilarityDataset(df, extA_tensor, extB_tensor, y_tensor, train_idx)\n",
    "val_dataset = NewsSimilarityDataset(df, extA_tensor, extB_tensor, y_tensor, val_idx)\n",
    "train_loader = DataLoader(train_dataset, batch_size=32, shuffle=True)\n",
    "val_loader = DataLoader(val_dataset, batch_size=32)"
   ]
  },
  {
   "cell_type": "code",
   "execution_count": 21,
   "id": "2090c096-e3dc-455b-92f2-c8de8620330a",
   "metadata": {},
   "outputs": [
    {
     "name": "stdout",
     "output_type": "stream",
     "text": [
      "\n",
      "Epoch 1/50 (Patience: 5 left)\n"
     ]
    },
    {
     "data": {
      "application/vnd.jupyter.widget-view+json": {
       "model_id": "",
       "version_major": 2,
       "version_minor": 0
      },
      "text/plain": [
       "🧪 Training Epoch 1:   0%|          | 0/1075 [00:00<?, ?it/s]"
      ]
     },
     "metadata": {},
     "output_type": "display_data"
    },
    {
     "data": {
      "application/vnd.jupyter.widget-view+json": {
       "model_id": "",
       "version_major": 2,
       "version_minor": 0
      },
      "text/plain": [
       "🔎 Validating Epoch 1:   0%|          | 0/269 [00:00<?, ?it/s]"
      ]
     },
     "metadata": {},
     "output_type": "display_data"
    },
    {
     "name": "stdout",
     "output_type": "stream",
     "text": [
      "Epoch 1 Summary | Train Loss: 0.0205 | Val Loss: 0.0179 | ⏱️ Time: 300.66s\n",
      "Validation loss improved. Resetting patience.\n",
      "\n",
      "Epoch 2/50 (Patience: 5 left)\n"
     ]
    },
    {
     "data": {
      "application/vnd.jupyter.widget-view+json": {
       "model_id": "",
       "version_major": 2,
       "version_minor": 0
      },
      "text/plain": [
       "🧪 Training Epoch 2:   0%|          | 0/1075 [00:00<?, ?it/s]"
      ]
     },
     "metadata": {},
     "output_type": "display_data"
    },
    {
     "data": {
      "application/vnd.jupyter.widget-view+json": {
       "model_id": "",
       "version_major": 2,
       "version_minor": 0
      },
      "text/plain": [
       "🔎 Validating Epoch 2:   0%|          | 0/269 [00:00<?, ?it/s]"
      ]
     },
     "metadata": {},
     "output_type": "display_data"
    },
    {
     "name": "stdout",
     "output_type": "stream",
     "text": [
      "Epoch 2 Summary | Train Loss: 0.0189 | Val Loss: 0.0166 | ⏱️ Time: 299.27s\n",
      "Validation loss improved. Resetting patience.\n",
      "\n",
      "Epoch 3/50 (Patience: 5 left)\n"
     ]
    },
    {
     "data": {
      "application/vnd.jupyter.widget-view+json": {
       "model_id": "",
       "version_major": 2,
       "version_minor": 0
      },
      "text/plain": [
       "🧪 Training Epoch 3:   0%|          | 0/1075 [00:00<?, ?it/s]"
      ]
     },
     "metadata": {},
     "output_type": "display_data"
    },
    {
     "data": {
      "application/vnd.jupyter.widget-view+json": {
       "model_id": "",
       "version_major": 2,
       "version_minor": 0
      },
      "text/plain": [
       "🔎 Validating Epoch 3:   0%|          | 0/269 [00:00<?, ?it/s]"
      ]
     },
     "metadata": {},
     "output_type": "display_data"
    },
    {
     "name": "stdout",
     "output_type": "stream",
     "text": [
      "Epoch 3 Summary | Train Loss: 0.0179 | Val Loss: 0.0160 | ⏱️ Time: 300.63s\n",
      "Validation loss improved. Resetting patience.\n",
      "\n",
      "Epoch 4/50 (Patience: 5 left)\n"
     ]
    },
    {
     "data": {
      "application/vnd.jupyter.widget-view+json": {
       "model_id": "",
       "version_major": 2,
       "version_minor": 0
      },
      "text/plain": [
       "🧪 Training Epoch 4:   0%|          | 0/1075 [00:00<?, ?it/s]"
      ]
     },
     "metadata": {},
     "output_type": "display_data"
    },
    {
     "data": {
      "application/vnd.jupyter.widget-view+json": {
       "model_id": "",
       "version_major": 2,
       "version_minor": 0
      },
      "text/plain": [
       "🔎 Validating Epoch 4:   0%|          | 0/269 [00:00<?, ?it/s]"
      ]
     },
     "metadata": {},
     "output_type": "display_data"
    },
    {
     "name": "stdout",
     "output_type": "stream",
     "text": [
      "Epoch 4 Summary | Train Loss: 0.0173 | Val Loss: 0.0153 | ⏱️ Time: 299.93s\n",
      "Validation loss improved. Resetting patience.\n",
      "\n",
      "Epoch 5/50 (Patience: 5 left)\n"
     ]
    },
    {
     "data": {
      "application/vnd.jupyter.widget-view+json": {
       "model_id": "",
       "version_major": 2,
       "version_minor": 0
      },
      "text/plain": [
       "🧪 Training Epoch 5:   0%|          | 0/1075 [00:00<?, ?it/s]"
      ]
     },
     "metadata": {},
     "output_type": "display_data"
    },
    {
     "data": {
      "application/vnd.jupyter.widget-view+json": {
       "model_id": "",
       "version_major": 2,
       "version_minor": 0
      },
      "text/plain": [
       "🔎 Validating Epoch 5:   0%|          | 0/269 [00:00<?, ?it/s]"
      ]
     },
     "metadata": {},
     "output_type": "display_data"
    },
    {
     "name": "stdout",
     "output_type": "stream",
     "text": [
      "Epoch 5 Summary | Train Loss: 0.0169 | Val Loss: 0.0147 | ⏱️ Time: 300.52s\n",
      "Validation loss improved. Resetting patience.\n",
      "\n",
      "Epoch 6/50 (Patience: 5 left)\n"
     ]
    },
    {
     "data": {
      "application/vnd.jupyter.widget-view+json": {
       "model_id": "",
       "version_major": 2,
       "version_minor": 0
      },
      "text/plain": [
       "🧪 Training Epoch 6:   0%|          | 0/1075 [00:00<?, ?it/s]"
      ]
     },
     "metadata": {},
     "output_type": "display_data"
    },
    {
     "data": {
      "application/vnd.jupyter.widget-view+json": {
       "model_id": "",
       "version_major": 2,
       "version_minor": 0
      },
      "text/plain": [
       "🔎 Validating Epoch 6:   0%|          | 0/269 [00:00<?, ?it/s]"
      ]
     },
     "metadata": {},
     "output_type": "display_data"
    },
    {
     "name": "stdout",
     "output_type": "stream",
     "text": [
      "Epoch 6 Summary | Train Loss: 0.0163 | Val Loss: 0.0144 | ⏱️ Time: 300.45s\n",
      "Validation loss improved. Resetting patience.\n",
      "\n",
      "Epoch 7/50 (Patience: 5 left)\n"
     ]
    },
    {
     "data": {
      "application/vnd.jupyter.widget-view+json": {
       "model_id": "",
       "version_major": 2,
       "version_minor": 0
      },
      "text/plain": [
       "🧪 Training Epoch 7:   0%|          | 0/1075 [00:00<?, ?it/s]"
      ]
     },
     "metadata": {},
     "output_type": "display_data"
    },
    {
     "data": {
      "application/vnd.jupyter.widget-view+json": {
       "model_id": "",
       "version_major": 2,
       "version_minor": 0
      },
      "text/plain": [
       "🔎 Validating Epoch 7:   0%|          | 0/269 [00:00<?, ?it/s]"
      ]
     },
     "metadata": {},
     "output_type": "display_data"
    },
    {
     "name": "stdout",
     "output_type": "stream",
     "text": [
      "Epoch 7 Summary | Train Loss: 0.0160 | Val Loss: 0.0141 | ⏱️ Time: 300.17s\n",
      "Validation loss improved. Resetting patience.\n",
      "\n",
      "Epoch 8/50 (Patience: 5 left)\n"
     ]
    },
    {
     "data": {
      "application/vnd.jupyter.widget-view+json": {
       "model_id": "",
       "version_major": 2,
       "version_minor": 0
      },
      "text/plain": [
       "🧪 Training Epoch 8:   0%|          | 0/1075 [00:00<?, ?it/s]"
      ]
     },
     "metadata": {},
     "output_type": "display_data"
    },
    {
     "data": {
      "application/vnd.jupyter.widget-view+json": {
       "model_id": "",
       "version_major": 2,
       "version_minor": 0
      },
      "text/plain": [
       "🔎 Validating Epoch 8:   0%|          | 0/269 [00:00<?, ?it/s]"
      ]
     },
     "metadata": {},
     "output_type": "display_data"
    },
    {
     "name": "stdout",
     "output_type": "stream",
     "text": [
      "Epoch 8 Summary | Train Loss: 0.0156 | Val Loss: 0.0139 | ⏱️ Time: 301.01s\n",
      "Validation loss improved. Resetting patience.\n",
      "\n",
      "Epoch 9/50 (Patience: 5 left)\n"
     ]
    },
    {
     "data": {
      "application/vnd.jupyter.widget-view+json": {
       "model_id": "",
       "version_major": 2,
       "version_minor": 0
      },
      "text/plain": [
       "🧪 Training Epoch 9:   0%|          | 0/1075 [00:00<?, ?it/s]"
      ]
     },
     "metadata": {},
     "output_type": "display_data"
    },
    {
     "data": {
      "application/vnd.jupyter.widget-view+json": {
       "model_id": "",
       "version_major": 2,
       "version_minor": 0
      },
      "text/plain": [
       "🔎 Validating Epoch 9:   0%|          | 0/269 [00:00<?, ?it/s]"
      ]
     },
     "metadata": {},
     "output_type": "display_data"
    },
    {
     "name": "stdout",
     "output_type": "stream",
     "text": [
      "Epoch 9 Summary | Train Loss: 0.0154 | Val Loss: 0.0137 | ⏱️ Time: 300.71s\n",
      "Validation loss improved. Resetting patience.\n",
      "\n",
      "Epoch 10/50 (Patience: 5 left)\n"
     ]
    },
    {
     "data": {
      "application/vnd.jupyter.widget-view+json": {
       "model_id": "",
       "version_major": 2,
       "version_minor": 0
      },
      "text/plain": [
       "🧪 Training Epoch 10:   0%|          | 0/1075 [00:00<?, ?it/s]"
      ]
     },
     "metadata": {},
     "output_type": "display_data"
    },
    {
     "data": {
      "application/vnd.jupyter.widget-view+json": {
       "model_id": "",
       "version_major": 2,
       "version_minor": 0
      },
      "text/plain": [
       "🔎 Validating Epoch 10:   0%|          | 0/269 [00:00<?, ?it/s]"
      ]
     },
     "metadata": {},
     "output_type": "display_data"
    },
    {
     "name": "stdout",
     "output_type": "stream",
     "text": [
      "Epoch 10 Summary | Train Loss: 0.0152 | Val Loss: 0.0135 | ⏱️ Time: 299.36s\n",
      "Validation loss improved. Resetting patience.\n",
      "\n",
      "Epoch 11/50 (Patience: 5 left)\n"
     ]
    },
    {
     "data": {
      "application/vnd.jupyter.widget-view+json": {
       "model_id": "",
       "version_major": 2,
       "version_minor": 0
      },
      "text/plain": [
       "🧪 Training Epoch 11:   0%|          | 0/1075 [00:00<?, ?it/s]"
      ]
     },
     "metadata": {},
     "output_type": "display_data"
    },
    {
     "data": {
      "application/vnd.jupyter.widget-view+json": {
       "model_id": "",
       "version_major": 2,
       "version_minor": 0
      },
      "text/plain": [
       "🔎 Validating Epoch 11:   0%|          | 0/269 [00:00<?, ?it/s]"
      ]
     },
     "metadata": {},
     "output_type": "display_data"
    },
    {
     "name": "stdout",
     "output_type": "stream",
     "text": [
      "Epoch 11 Summary | Train Loss: 0.0150 | Val Loss: 0.0132 | ⏱️ Time: 299.68s\n",
      "Validation loss improved. Resetting patience.\n",
      "\n",
      "Epoch 12/50 (Patience: 5 left)\n"
     ]
    },
    {
     "data": {
      "application/vnd.jupyter.widget-view+json": {
       "model_id": "",
       "version_major": 2,
       "version_minor": 0
      },
      "text/plain": [
       "🧪 Training Epoch 12:   0%|          | 0/1075 [00:00<?, ?it/s]"
      ]
     },
     "metadata": {},
     "output_type": "display_data"
    },
    {
     "data": {
      "application/vnd.jupyter.widget-view+json": {
       "model_id": "",
       "version_major": 2,
       "version_minor": 0
      },
      "text/plain": [
       "🔎 Validating Epoch 12:   0%|          | 0/269 [00:00<?, ?it/s]"
      ]
     },
     "metadata": {},
     "output_type": "display_data"
    },
    {
     "name": "stdout",
     "output_type": "stream",
     "text": [
      "Epoch 12 Summary | Train Loss: 0.0147 | Val Loss: 0.0131 | ⏱️ Time: 300.12s\n",
      "Validation loss improved. Resetting patience.\n",
      "\n",
      "Epoch 13/50 (Patience: 5 left)\n"
     ]
    },
    {
     "data": {
      "application/vnd.jupyter.widget-view+json": {
       "model_id": "",
       "version_major": 2,
       "version_minor": 0
      },
      "text/plain": [
       "🧪 Training Epoch 13:   0%|          | 0/1075 [00:00<?, ?it/s]"
      ]
     },
     "metadata": {},
     "output_type": "display_data"
    },
    {
     "data": {
      "application/vnd.jupyter.widget-view+json": {
       "model_id": "",
       "version_major": 2,
       "version_minor": 0
      },
      "text/plain": [
       "🔎 Validating Epoch 13:   0%|          | 0/269 [00:00<?, ?it/s]"
      ]
     },
     "metadata": {},
     "output_type": "display_data"
    },
    {
     "name": "stdout",
     "output_type": "stream",
     "text": [
      "Epoch 13 Summary | Train Loss: 0.0145 | Val Loss: 0.0129 | ⏱️ Time: 300.19s\n",
      "Validation loss improved. Resetting patience.\n",
      "\n",
      "Epoch 14/50 (Patience: 5 left)\n"
     ]
    },
    {
     "data": {
      "application/vnd.jupyter.widget-view+json": {
       "model_id": "",
       "version_major": 2,
       "version_minor": 0
      },
      "text/plain": [
       "🧪 Training Epoch 14:   0%|          | 0/1075 [00:00<?, ?it/s]"
      ]
     },
     "metadata": {},
     "output_type": "display_data"
    },
    {
     "data": {
      "application/vnd.jupyter.widget-view+json": {
       "model_id": "",
       "version_major": 2,
       "version_minor": 0
      },
      "text/plain": [
       "🔎 Validating Epoch 14:   0%|          | 0/269 [00:00<?, ?it/s]"
      ]
     },
     "metadata": {},
     "output_type": "display_data"
    },
    {
     "name": "stdout",
     "output_type": "stream",
     "text": [
      "Epoch 14 Summary | Train Loss: 0.0146 | Val Loss: 0.0127 | ⏱️ Time: 301.23s\n",
      "Validation loss improved. Resetting patience.\n",
      "\n",
      "Epoch 15/50 (Patience: 5 left)\n"
     ]
    },
    {
     "data": {
      "application/vnd.jupyter.widget-view+json": {
       "model_id": "",
       "version_major": 2,
       "version_minor": 0
      },
      "text/plain": [
       "🧪 Training Epoch 15:   0%|          | 0/1075 [00:00<?, ?it/s]"
      ]
     },
     "metadata": {},
     "output_type": "display_data"
    },
    {
     "data": {
      "application/vnd.jupyter.widget-view+json": {
       "model_id": "",
       "version_major": 2,
       "version_minor": 0
      },
      "text/plain": [
       "🔎 Validating Epoch 15:   0%|          | 0/269 [00:00<?, ?it/s]"
      ]
     },
     "metadata": {},
     "output_type": "display_data"
    },
    {
     "name": "stdout",
     "output_type": "stream",
     "text": [
      "Epoch 15 Summary | Train Loss: 0.0143 | Val Loss: 0.0124 | ⏱️ Time: 299.64s\n",
      "Validation loss improved. Resetting patience.\n",
      "\n",
      "Epoch 16/50 (Patience: 5 left)\n"
     ]
    },
    {
     "data": {
      "application/vnd.jupyter.widget-view+json": {
       "model_id": "",
       "version_major": 2,
       "version_minor": 0
      },
      "text/plain": [
       "🧪 Training Epoch 16:   0%|          | 0/1075 [00:00<?, ?it/s]"
      ]
     },
     "metadata": {},
     "output_type": "display_data"
    },
    {
     "data": {
      "application/vnd.jupyter.widget-view+json": {
       "model_id": "",
       "version_major": 2,
       "version_minor": 0
      },
      "text/plain": [
       "🔎 Validating Epoch 16:   0%|          | 0/269 [00:00<?, ?it/s]"
      ]
     },
     "metadata": {},
     "output_type": "display_data"
    },
    {
     "name": "stdout",
     "output_type": "stream",
     "text": [
      "Epoch 16 Summary | Train Loss: 0.0142 | Val Loss: 0.0127 | ⏱️ Time: 300.49s\n",
      "No improvement. Patience counter: 1/5\n",
      "\n",
      "Epoch 17/50 (Patience: 4 left)\n"
     ]
    },
    {
     "data": {
      "application/vnd.jupyter.widget-view+json": {
       "model_id": "",
       "version_major": 2,
       "version_minor": 0
      },
      "text/plain": [
       "🧪 Training Epoch 17:   0%|          | 0/1075 [00:00<?, ?it/s]"
      ]
     },
     "metadata": {},
     "output_type": "display_data"
    },
    {
     "data": {
      "application/vnd.jupyter.widget-view+json": {
       "model_id": "355aa462c577491095e07dbebddedf20",
       "version_major": 2,
       "version_minor": 0
      },
      "text/plain": [
       "🔎 Validating Epoch 17:   0%|          | 0/269 [00:00<?, ?it/s]"
      ]
     },
     "metadata": {},
     "output_type": "display_data"
    },
    {
     "name": "stdout",
     "output_type": "stream",
     "text": [
      "Epoch 17 Summary | Train Loss: 0.0141 | Val Loss: 0.0123 | ⏱️ Time: 298.64s\n",
      "Validation loss improved. Resetting patience.\n",
      "\n",
      "Epoch 18/50 (Patience: 5 left)\n"
     ]
    },
    {
     "data": {
      "application/vnd.jupyter.widget-view+json": {
       "model_id": "",
       "version_major": 2,
       "version_minor": 0
      },
      "text/plain": [
       "🧪 Training Epoch 18:   0%|          | 0/1075 [00:00<?, ?it/s]"
      ]
     },
     "metadata": {},
     "output_type": "display_data"
    },
    {
     "data": {
      "application/vnd.jupyter.widget-view+json": {
       "model_id": "",
       "version_major": 2,
       "version_minor": 0
      },
      "text/plain": [
       "🔎 Validating Epoch 18:   0%|          | 0/269 [00:00<?, ?it/s]"
      ]
     },
     "metadata": {},
     "output_type": "display_data"
    },
    {
     "name": "stdout",
     "output_type": "stream",
     "text": [
      "Epoch 18 Summary | Train Loss: 0.0139 | Val Loss: 0.0120 | ⏱️ Time: 298.98s\n",
      "Validation loss improved. Resetting patience.\n",
      "\n",
      "Epoch 19/50 (Patience: 5 left)\n"
     ]
    },
    {
     "data": {
      "application/vnd.jupyter.widget-view+json": {
       "model_id": "",
       "version_major": 2,
       "version_minor": 0
      },
      "text/plain": [
       "🧪 Training Epoch 19:   0%|          | 0/1075 [00:00<?, ?it/s]"
      ]
     },
     "metadata": {},
     "output_type": "display_data"
    },
    {
     "data": {
      "application/vnd.jupyter.widget-view+json": {
       "model_id": "",
       "version_major": 2,
       "version_minor": 0
      },
      "text/plain": [
       "🔎 Validating Epoch 19:   0%|          | 0/269 [00:00<?, ?it/s]"
      ]
     },
     "metadata": {},
     "output_type": "display_data"
    },
    {
     "name": "stdout",
     "output_type": "stream",
     "text": [
      "Epoch 19 Summary | Train Loss: 0.0137 | Val Loss: 0.0121 | ⏱️ Time: 299.77s\n",
      "No improvement. Patience counter: 1/5\n",
      "\n",
      "Epoch 20/50 (Patience: 4 left)\n"
     ]
    },
    {
     "data": {
      "application/vnd.jupyter.widget-view+json": {
       "model_id": "",
       "version_major": 2,
       "version_minor": 0
      },
      "text/plain": [
       "🧪 Training Epoch 20:   0%|          | 0/1075 [00:00<?, ?it/s]"
      ]
     },
     "metadata": {},
     "output_type": "display_data"
    },
    {
     "data": {
      "application/vnd.jupyter.widget-view+json": {
       "model_id": "",
       "version_major": 2,
       "version_minor": 0
      },
      "text/plain": [
       "🔎 Validating Epoch 20:   0%|          | 0/269 [00:00<?, ?it/s]"
      ]
     },
     "metadata": {},
     "output_type": "display_data"
    },
    {
     "name": "stdout",
     "output_type": "stream",
     "text": [
      "Epoch 20 Summary | Train Loss: 0.0137 | Val Loss: 0.0119 | ⏱️ Time: 300.08s\n",
      "Validation loss improved. Resetting patience.\n",
      "\n",
      "Epoch 21/50 (Patience: 5 left)\n"
     ]
    },
    {
     "data": {
      "application/vnd.jupyter.widget-view+json": {
       "model_id": "",
       "version_major": 2,
       "version_minor": 0
      },
      "text/plain": [
       "🧪 Training Epoch 21:   0%|          | 0/1075 [00:00<?, ?it/s]"
      ]
     },
     "metadata": {},
     "output_type": "display_data"
    },
    {
     "data": {
      "application/vnd.jupyter.widget-view+json": {
       "model_id": "",
       "version_major": 2,
       "version_minor": 0
      },
      "text/plain": [
       "🔎 Validating Epoch 21:   0%|          | 0/269 [00:00<?, ?it/s]"
      ]
     },
     "metadata": {},
     "output_type": "display_data"
    },
    {
     "name": "stdout",
     "output_type": "stream",
     "text": [
      "Epoch 21 Summary | Train Loss: 0.0137 | Val Loss: 0.0118 | ⏱️ Time: 298.51s\n",
      "Validation loss improved. Resetting patience.\n",
      "\n",
      "Epoch 22/50 (Patience: 5 left)\n"
     ]
    },
    {
     "data": {
      "application/vnd.jupyter.widget-view+json": {
       "model_id": "",
       "version_major": 2,
       "version_minor": 0
      },
      "text/plain": [
       "🧪 Training Epoch 22:   0%|          | 0/1075 [00:00<?, ?it/s]"
      ]
     },
     "metadata": {},
     "output_type": "display_data"
    },
    {
     "data": {
      "application/vnd.jupyter.widget-view+json": {
       "model_id": "",
       "version_major": 2,
       "version_minor": 0
      },
      "text/plain": [
       "🔎 Validating Epoch 22:   0%|          | 0/269 [00:00<?, ?it/s]"
      ]
     },
     "metadata": {},
     "output_type": "display_data"
    },
    {
     "name": "stdout",
     "output_type": "stream",
     "text": [
      "Epoch 22 Summary | Train Loss: 0.0135 | Val Loss: 0.0117 | ⏱️ Time: 298.81s\n",
      "Validation loss improved. Resetting patience.\n",
      "\n",
      "Epoch 23/50 (Patience: 5 left)\n"
     ]
    },
    {
     "data": {
      "application/vnd.jupyter.widget-view+json": {
       "model_id": "",
       "version_major": 2,
       "version_minor": 0
      },
      "text/plain": [
       "🧪 Training Epoch 23:   0%|          | 0/1075 [00:00<?, ?it/s]"
      ]
     },
     "metadata": {},
     "output_type": "display_data"
    },
    {
     "data": {
      "application/vnd.jupyter.widget-view+json": {
       "model_id": "",
       "version_major": 2,
       "version_minor": 0
      },
      "text/plain": [
       "🔎 Validating Epoch 23:   0%|          | 0/269 [00:00<?, ?it/s]"
      ]
     },
     "metadata": {},
     "output_type": "display_data"
    },
    {
     "name": "stdout",
     "output_type": "stream",
     "text": [
      "Epoch 23 Summary | Train Loss: 0.0134 | Val Loss: 0.0115 | ⏱️ Time: 298.93s\n",
      "Validation loss improved. Resetting patience.\n",
      "\n",
      "Epoch 24/50 (Patience: 5 left)\n"
     ]
    },
    {
     "data": {
      "application/vnd.jupyter.widget-view+json": {
       "model_id": "",
       "version_major": 2,
       "version_minor": 0
      },
      "text/plain": [
       "🧪 Training Epoch 24:   0%|          | 0/1075 [00:00<?, ?it/s]"
      ]
     },
     "metadata": {},
     "output_type": "display_data"
    },
    {
     "data": {
      "application/vnd.jupyter.widget-view+json": {
       "model_id": "",
       "version_major": 2,
       "version_minor": 0
      },
      "text/plain": [
       "🔎 Validating Epoch 24:   0%|          | 0/269 [00:00<?, ?it/s]"
      ]
     },
     "metadata": {},
     "output_type": "display_data"
    },
    {
     "name": "stdout",
     "output_type": "stream",
     "text": [
      "Epoch 24 Summary | Train Loss: 0.0133 | Val Loss: 0.0115 | ⏱️ Time: 301.49s\n",
      "Validation loss improved. Resetting patience.\n",
      "\n",
      "Epoch 25/50 (Patience: 5 left)\n"
     ]
    },
    {
     "data": {
      "application/vnd.jupyter.widget-view+json": {
       "model_id": "",
       "version_major": 2,
       "version_minor": 0
      },
      "text/plain": [
       "🧪 Training Epoch 25:   0%|          | 0/1075 [00:00<?, ?it/s]"
      ]
     },
     "metadata": {},
     "output_type": "display_data"
    },
    {
     "data": {
      "application/vnd.jupyter.widget-view+json": {
       "model_id": "",
       "version_major": 2,
       "version_minor": 0
      },
      "text/plain": [
       "🔎 Validating Epoch 25:   0%|          | 0/269 [00:00<?, ?it/s]"
      ]
     },
     "metadata": {},
     "output_type": "display_data"
    },
    {
     "name": "stdout",
     "output_type": "stream",
     "text": [
      "Epoch 25 Summary | Train Loss: 0.0133 | Val Loss: 0.0115 | ⏱️ Time: 299.85s\n",
      "Validation loss improved. Resetting patience.\n",
      "\n",
      "Epoch 26/50 (Patience: 5 left)\n"
     ]
    },
    {
     "data": {
      "application/vnd.jupyter.widget-view+json": {
       "model_id": "",
       "version_major": 2,
       "version_minor": 0
      },
      "text/plain": [
       "🧪 Training Epoch 26:   0%|          | 0/1075 [00:00<?, ?it/s]"
      ]
     },
     "metadata": {},
     "output_type": "display_data"
    },
    {
     "data": {
      "application/vnd.jupyter.widget-view+json": {
       "model_id": "",
       "version_major": 2,
       "version_minor": 0
      },
      "text/plain": [
       "🔎 Validating Epoch 26:   0%|          | 0/269 [00:00<?, ?it/s]"
      ]
     },
     "metadata": {},
     "output_type": "display_data"
    },
    {
     "name": "stdout",
     "output_type": "stream",
     "text": [
      "Epoch 26 Summary | Train Loss: 0.0131 | Val Loss: 0.0115 | ⏱️ Time: 298.58s\n",
      "Validation loss improved. Resetting patience.\n",
      "\n",
      "Epoch 27/50 (Patience: 5 left)\n"
     ]
    },
    {
     "data": {
      "application/vnd.jupyter.widget-view+json": {
       "model_id": "",
       "version_major": 2,
       "version_minor": 0
      },
      "text/plain": [
       "🧪 Training Epoch 27:   0%|          | 0/1075 [00:00<?, ?it/s]"
      ]
     },
     "metadata": {},
     "output_type": "display_data"
    },
    {
     "data": {
      "application/vnd.jupyter.widget-view+json": {
       "model_id": "",
       "version_major": 2,
       "version_minor": 0
      },
      "text/plain": [
       "🔎 Validating Epoch 27:   0%|          | 0/269 [00:00<?, ?it/s]"
      ]
     },
     "metadata": {},
     "output_type": "display_data"
    },
    {
     "name": "stdout",
     "output_type": "stream",
     "text": [
      "Epoch 27 Summary | Train Loss: 0.0130 | Val Loss: 0.0113 | ⏱️ Time: 299.70s\n",
      "Validation loss improved. Resetting patience.\n",
      "\n",
      "Epoch 28/50 (Patience: 5 left)\n"
     ]
    },
    {
     "data": {
      "application/vnd.jupyter.widget-view+json": {
       "model_id": "",
       "version_major": 2,
       "version_minor": 0
      },
      "text/plain": [
       "🧪 Training Epoch 28:   0%|          | 0/1075 [00:00<?, ?it/s]"
      ]
     },
     "metadata": {},
     "output_type": "display_data"
    },
    {
     "data": {
      "application/vnd.jupyter.widget-view+json": {
       "model_id": "",
       "version_major": 2,
       "version_minor": 0
      },
      "text/plain": [
       "🔎 Validating Epoch 28:   0%|          | 0/269 [00:00<?, ?it/s]"
      ]
     },
     "metadata": {},
     "output_type": "display_data"
    },
    {
     "name": "stdout",
     "output_type": "stream",
     "text": [
      "Epoch 28 Summary | Train Loss: 0.0130 | Val Loss: 0.0113 | ⏱️ Time: 299.73s\n",
      "Validation loss improved. Resetting patience.\n",
      "\n",
      "Epoch 29/50 (Patience: 5 left)\n"
     ]
    },
    {
     "data": {
      "application/vnd.jupyter.widget-view+json": {
       "model_id": "",
       "version_major": 2,
       "version_minor": 0
      },
      "text/plain": [
       "🧪 Training Epoch 29:   0%|          | 0/1075 [00:00<?, ?it/s]"
      ]
     },
     "metadata": {},
     "output_type": "display_data"
    },
    {
     "data": {
      "application/vnd.jupyter.widget-view+json": {
       "model_id": "",
       "version_major": 2,
       "version_minor": 0
      },
      "text/plain": [
       "🔎 Validating Epoch 29:   0%|          | 0/269 [00:00<?, ?it/s]"
      ]
     },
     "metadata": {},
     "output_type": "display_data"
    },
    {
     "name": "stdout",
     "output_type": "stream",
     "text": [
      "Epoch 29 Summary | Train Loss: 0.0129 | Val Loss: 0.0112 | ⏱️ Time: 300.23s\n",
      "Validation loss improved. Resetting patience.\n",
      "\n",
      "Epoch 30/50 (Patience: 5 left)\n"
     ]
    },
    {
     "data": {
      "application/vnd.jupyter.widget-view+json": {
       "model_id": "",
       "version_major": 2,
       "version_minor": 0
      },
      "text/plain": [
       "🧪 Training Epoch 30:   0%|          | 0/1075 [00:00<?, ?it/s]"
      ]
     },
     "metadata": {},
     "output_type": "display_data"
    },
    {
     "data": {
      "application/vnd.jupyter.widget-view+json": {
       "model_id": "",
       "version_major": 2,
       "version_minor": 0
      },
      "text/plain": [
       "🔎 Validating Epoch 30:   0%|          | 0/269 [00:00<?, ?it/s]"
      ]
     },
     "metadata": {},
     "output_type": "display_data"
    },
    {
     "name": "stdout",
     "output_type": "stream",
     "text": [
      "Epoch 30 Summary | Train Loss: 0.0128 | Val Loss: 0.0111 | ⏱️ Time: 301.32s\n",
      "Validation loss improved. Resetting patience.\n",
      "\n",
      "Epoch 31/50 (Patience: 5 left)\n"
     ]
    },
    {
     "data": {
      "application/vnd.jupyter.widget-view+json": {
       "model_id": "",
       "version_major": 2,
       "version_minor": 0
      },
      "text/plain": [
       "🧪 Training Epoch 31:   0%|          | 0/1075 [00:00<?, ?it/s]"
      ]
     },
     "metadata": {},
     "output_type": "display_data"
    },
    {
     "data": {
      "application/vnd.jupyter.widget-view+json": {
       "model_id": "",
       "version_major": 2,
       "version_minor": 0
      },
      "text/plain": [
       "🔎 Validating Epoch 31:   0%|          | 0/269 [00:00<?, ?it/s]"
      ]
     },
     "metadata": {},
     "output_type": "display_data"
    },
    {
     "name": "stdout",
     "output_type": "stream",
     "text": [
      "Epoch 31 Summary | Train Loss: 0.0128 | Val Loss: 0.0112 | ⏱️ Time: 299.51s\n",
      "No improvement. Patience counter: 1/5\n",
      "\n",
      "Epoch 32/50 (Patience: 4 left)\n"
     ]
    },
    {
     "data": {
      "application/vnd.jupyter.widget-view+json": {
       "model_id": "",
       "version_major": 2,
       "version_minor": 0
      },
      "text/plain": [
       "🧪 Training Epoch 32:   0%|          | 0/1075 [00:00<?, ?it/s]"
      ]
     },
     "metadata": {},
     "output_type": "display_data"
    },
    {
     "data": {
      "application/vnd.jupyter.widget-view+json": {
       "model_id": "",
       "version_major": 2,
       "version_minor": 0
      },
      "text/plain": [
       "🔎 Validating Epoch 32:   0%|          | 0/269 [00:00<?, ?it/s]"
      ]
     },
     "metadata": {},
     "output_type": "display_data"
    },
    {
     "name": "stdout",
     "output_type": "stream",
     "text": [
      "Epoch 32 Summary | Train Loss: 0.0128 | Val Loss: 0.0111 | ⏱️ Time: 298.71s\n",
      "Validation loss improved. Resetting patience.\n",
      "\n",
      "Epoch 33/50 (Patience: 5 left)\n"
     ]
    },
    {
     "data": {
      "application/vnd.jupyter.widget-view+json": {
       "model_id": "",
       "version_major": 2,
       "version_minor": 0
      },
      "text/plain": [
       "🧪 Training Epoch 33:   0%|          | 0/1075 [00:00<?, ?it/s]"
      ]
     },
     "metadata": {},
     "output_type": "display_data"
    },
    {
     "data": {
      "application/vnd.jupyter.widget-view+json": {
       "model_id": "",
       "version_major": 2,
       "version_minor": 0
      },
      "text/plain": [
       "🔎 Validating Epoch 33:   0%|          | 0/269 [00:00<?, ?it/s]"
      ]
     },
     "metadata": {},
     "output_type": "display_data"
    },
    {
     "name": "stdout",
     "output_type": "stream",
     "text": [
      "Epoch 33 Summary | Train Loss: 0.0127 | Val Loss: 0.0109 | ⏱️ Time: 300.20s\n",
      "Validation loss improved. Resetting patience.\n",
      "\n",
      "Epoch 34/50 (Patience: 5 left)\n"
     ]
    },
    {
     "data": {
      "application/vnd.jupyter.widget-view+json": {
       "model_id": "",
       "version_major": 2,
       "version_minor": 0
      },
      "text/plain": [
       "🧪 Training Epoch 34:   0%|          | 0/1075 [00:00<?, ?it/s]"
      ]
     },
     "metadata": {},
     "output_type": "display_data"
    },
    {
     "data": {
      "application/vnd.jupyter.widget-view+json": {
       "model_id": "",
       "version_major": 2,
       "version_minor": 0
      },
      "text/plain": [
       "🔎 Validating Epoch 34:   0%|          | 0/269 [00:00<?, ?it/s]"
      ]
     },
     "metadata": {},
     "output_type": "display_data"
    },
    {
     "name": "stdout",
     "output_type": "stream",
     "text": [
      "Epoch 34 Summary | Train Loss: 0.0125 | Val Loss: 0.0111 | ⏱️ Time: 300.59s\n",
      "No improvement. Patience counter: 1/5\n",
      "\n",
      "Epoch 35/50 (Patience: 4 left)\n"
     ]
    },
    {
     "data": {
      "application/vnd.jupyter.widget-view+json": {
       "model_id": "",
       "version_major": 2,
       "version_minor": 0
      },
      "text/plain": [
       "🧪 Training Epoch 35:   0%|          | 0/1075 [00:00<?, ?it/s]"
      ]
     },
     "metadata": {},
     "output_type": "display_data"
    },
    {
     "data": {
      "application/vnd.jupyter.widget-view+json": {
       "model_id": "",
       "version_major": 2,
       "version_minor": 0
      },
      "text/plain": [
       "🔎 Validating Epoch 35:   0%|          | 0/269 [00:00<?, ?it/s]"
      ]
     },
     "metadata": {},
     "output_type": "display_data"
    },
    {
     "name": "stdout",
     "output_type": "stream",
     "text": [
      "Epoch 35 Summary | Train Loss: 0.0126 | Val Loss: 0.0109 | ⏱️ Time: 299.79s\n",
      "No improvement. Patience counter: 2/5\n",
      "\n",
      "Epoch 36/50 (Patience: 3 left)\n"
     ]
    },
    {
     "data": {
      "application/vnd.jupyter.widget-view+json": {
       "model_id": "",
       "version_major": 2,
       "version_minor": 0
      },
      "text/plain": [
       "🧪 Training Epoch 36:   0%|          | 0/1075 [00:00<?, ?it/s]"
      ]
     },
     "metadata": {},
     "output_type": "display_data"
    },
    {
     "data": {
      "application/vnd.jupyter.widget-view+json": {
       "model_id": "",
       "version_major": 2,
       "version_minor": 0
      },
      "text/plain": [
       "🔎 Validating Epoch 36:   0%|          | 0/269 [00:00<?, ?it/s]"
      ]
     },
     "metadata": {},
     "output_type": "display_data"
    },
    {
     "name": "stdout",
     "output_type": "stream",
     "text": [
      "Epoch 36 Summary | Train Loss: 0.0125 | Val Loss: 0.0109 | ⏱️ Time: 299.13s\n",
      "Validation loss improved. Resetting patience.\n",
      "\n",
      "Epoch 37/50 (Patience: 5 left)\n"
     ]
    },
    {
     "data": {
      "application/vnd.jupyter.widget-view+json": {
       "model_id": "",
       "version_major": 2,
       "version_minor": 0
      },
      "text/plain": [
       "🧪 Training Epoch 37:   0%|          | 0/1075 [00:00<?, ?it/s]"
      ]
     },
     "metadata": {},
     "output_type": "display_data"
    },
    {
     "data": {
      "application/vnd.jupyter.widget-view+json": {
       "model_id": "",
       "version_major": 2,
       "version_minor": 0
      },
      "text/plain": [
       "🔎 Validating Epoch 37:   0%|          | 0/269 [00:00<?, ?it/s]"
      ]
     },
     "metadata": {},
     "output_type": "display_data"
    },
    {
     "name": "stdout",
     "output_type": "stream",
     "text": [
      "Epoch 37 Summary | Train Loss: 0.0124 | Val Loss: 0.0109 | ⏱️ Time: 299.47s\n",
      "No improvement. Patience counter: 1/5\n",
      "\n",
      "Epoch 38/50 (Patience: 4 left)\n"
     ]
    },
    {
     "data": {
      "application/vnd.jupyter.widget-view+json": {
       "model_id": "",
       "version_major": 2,
       "version_minor": 0
      },
      "text/plain": [
       "🧪 Training Epoch 38:   0%|          | 0/1075 [00:00<?, ?it/s]"
      ]
     },
     "metadata": {},
     "output_type": "display_data"
    },
    {
     "data": {
      "application/vnd.jupyter.widget-view+json": {
       "model_id": "",
       "version_major": 2,
       "version_minor": 0
      },
      "text/plain": [
       "🔎 Validating Epoch 38:   0%|          | 0/269 [00:00<?, ?it/s]"
      ]
     },
     "metadata": {},
     "output_type": "display_data"
    },
    {
     "name": "stdout",
     "output_type": "stream",
     "text": [
      "Epoch 38 Summary | Train Loss: 0.0124 | Val Loss: 0.0108 | ⏱️ Time: 299.79s\n",
      "Validation loss improved. Resetting patience.\n",
      "\n",
      "Epoch 39/50 (Patience: 5 left)\n"
     ]
    },
    {
     "data": {
      "application/vnd.jupyter.widget-view+json": {
       "model_id": "",
       "version_major": 2,
       "version_minor": 0
      },
      "text/plain": [
       "🧪 Training Epoch 39:   0%|          | 0/1075 [00:00<?, ?it/s]"
      ]
     },
     "metadata": {},
     "output_type": "display_data"
    },
    {
     "data": {
      "application/vnd.jupyter.widget-view+json": {
       "model_id": "",
       "version_major": 2,
       "version_minor": 0
      },
      "text/plain": [
       "🔎 Validating Epoch 39:   0%|          | 0/269 [00:00<?, ?it/s]"
      ]
     },
     "metadata": {},
     "output_type": "display_data"
    },
    {
     "name": "stdout",
     "output_type": "stream",
     "text": [
      "Epoch 39 Summary | Train Loss: 0.0126 | Val Loss: 0.0108 | ⏱️ Time: 299.90s\n",
      "No improvement. Patience counter: 1/5\n",
      "\n",
      "Epoch 40/50 (Patience: 4 left)\n"
     ]
    },
    {
     "data": {
      "application/vnd.jupyter.widget-view+json": {
       "model_id": "",
       "version_major": 2,
       "version_minor": 0
      },
      "text/plain": [
       "🧪 Training Epoch 40:   0%|          | 0/1075 [00:00<?, ?it/s]"
      ]
     },
     "metadata": {},
     "output_type": "display_data"
    },
    {
     "data": {
      "application/vnd.jupyter.widget-view+json": {
       "model_id": "",
       "version_major": 2,
       "version_minor": 0
      },
      "text/plain": [
       "🔎 Validating Epoch 40:   0%|          | 0/269 [00:00<?, ?it/s]"
      ]
     },
     "metadata": {},
     "output_type": "display_data"
    },
    {
     "name": "stdout",
     "output_type": "stream",
     "text": [
      "Epoch 40 Summary | Train Loss: 0.0123 | Val Loss: 0.0109 | ⏱️ Time: 299.84s\n",
      "No improvement. Patience counter: 2/5\n",
      "\n",
      "Epoch 41/50 (Patience: 3 left)\n"
     ]
    },
    {
     "data": {
      "application/vnd.jupyter.widget-view+json": {
       "model_id": "",
       "version_major": 2,
       "version_minor": 0
      },
      "text/plain": [
       "🧪 Training Epoch 41:   0%|          | 0/1075 [00:00<?, ?it/s]"
      ]
     },
     "metadata": {},
     "output_type": "display_data"
    },
    {
     "data": {
      "application/vnd.jupyter.widget-view+json": {
       "model_id": "",
       "version_major": 2,
       "version_minor": 0
      },
      "text/plain": [
       "🔎 Validating Epoch 41:   0%|          | 0/269 [00:00<?, ?it/s]"
      ]
     },
     "metadata": {},
     "output_type": "display_data"
    },
    {
     "name": "stdout",
     "output_type": "stream",
     "text": [
      "Epoch 41 Summary | Train Loss: 0.0123 | Val Loss: 0.0107 | ⏱️ Time: 300.87s\n",
      "Validation loss improved. Resetting patience.\n",
      "\n",
      "Epoch 42/50 (Patience: 5 left)\n"
     ]
    },
    {
     "data": {
      "application/vnd.jupyter.widget-view+json": {
       "model_id": "",
       "version_major": 2,
       "version_minor": 0
      },
      "text/plain": [
       "🧪 Training Epoch 42:   0%|          | 0/1075 [00:00<?, ?it/s]"
      ]
     },
     "metadata": {},
     "output_type": "display_data"
    },
    {
     "data": {
      "application/vnd.jupyter.widget-view+json": {
       "model_id": "",
       "version_major": 2,
       "version_minor": 0
      },
      "text/plain": [
       "🔎 Validating Epoch 42:   0%|          | 0/269 [00:00<?, ?it/s]"
      ]
     },
     "metadata": {},
     "output_type": "display_data"
    },
    {
     "name": "stdout",
     "output_type": "stream",
     "text": [
      "Epoch 42 Summary | Train Loss: 0.0123 | Val Loss: 0.0107 | ⏱️ Time: 300.38s\n",
      "Validation loss improved. Resetting patience.\n",
      "\n",
      "Epoch 43/50 (Patience: 5 left)\n"
     ]
    },
    {
     "data": {
      "application/vnd.jupyter.widget-view+json": {
       "model_id": "",
       "version_major": 2,
       "version_minor": 0
      },
      "text/plain": [
       "🧪 Training Epoch 43:   0%|          | 0/1075 [00:00<?, ?it/s]"
      ]
     },
     "metadata": {},
     "output_type": "display_data"
    },
    {
     "data": {
      "application/vnd.jupyter.widget-view+json": {
       "model_id": "",
       "version_major": 2,
       "version_minor": 0
      },
      "text/plain": [
       "🔎 Validating Epoch 43:   0%|          | 0/269 [00:00<?, ?it/s]"
      ]
     },
     "metadata": {},
     "output_type": "display_data"
    },
    {
     "name": "stdout",
     "output_type": "stream",
     "text": [
      "Epoch 43 Summary | Train Loss: 0.0123 | Val Loss: 0.0108 | ⏱️ Time: 297.93s\n",
      "No improvement. Patience counter: 1/5\n",
      "\n",
      "Epoch 44/50 (Patience: 4 left)\n"
     ]
    },
    {
     "data": {
      "application/vnd.jupyter.widget-view+json": {
       "model_id": "",
       "version_major": 2,
       "version_minor": 0
      },
      "text/plain": [
       "🧪 Training Epoch 44:   0%|          | 0/1075 [00:00<?, ?it/s]"
      ]
     },
     "metadata": {},
     "output_type": "display_data"
    },
    {
     "data": {
      "application/vnd.jupyter.widget-view+json": {
       "model_id": "",
       "version_major": 2,
       "version_minor": 0
      },
      "text/plain": [
       "🔎 Validating Epoch 44:   0%|          | 0/269 [00:00<?, ?it/s]"
      ]
     },
     "metadata": {},
     "output_type": "display_data"
    },
    {
     "name": "stdout",
     "output_type": "stream",
     "text": [
      "Epoch 44 Summary | Train Loss: 0.0122 | Val Loss: 0.0106 | ⏱️ Time: 299.64s\n",
      "Validation loss improved. Resetting patience.\n",
      "\n",
      "Epoch 45/50 (Patience: 5 left)\n"
     ]
    },
    {
     "data": {
      "application/vnd.jupyter.widget-view+json": {
       "model_id": "",
       "version_major": 2,
       "version_minor": 0
      },
      "text/plain": [
       "🧪 Training Epoch 45:   0%|          | 0/1075 [00:00<?, ?it/s]"
      ]
     },
     "metadata": {},
     "output_type": "display_data"
    },
    {
     "data": {
      "application/vnd.jupyter.widget-view+json": {
       "model_id": "",
       "version_major": 2,
       "version_minor": 0
      },
      "text/plain": [
       "🔎 Validating Epoch 45:   0%|          | 0/269 [00:00<?, ?it/s]"
      ]
     },
     "metadata": {},
     "output_type": "display_data"
    },
    {
     "name": "stdout",
     "output_type": "stream",
     "text": [
      "Epoch 45 Summary | Train Loss: 0.0120 | Val Loss: 0.0105 | ⏱️ Time: 302.05s\n",
      "Validation loss improved. Resetting patience.\n",
      "\n",
      "Epoch 46/50 (Patience: 5 left)\n"
     ]
    },
    {
     "data": {
      "application/vnd.jupyter.widget-view+json": {
       "model_id": "",
       "version_major": 2,
       "version_minor": 0
      },
      "text/plain": [
       "🧪 Training Epoch 46:   0%|          | 0/1075 [00:00<?, ?it/s]"
      ]
     },
     "metadata": {},
     "output_type": "display_data"
    },
    {
     "data": {
      "application/vnd.jupyter.widget-view+json": {
       "model_id": "",
       "version_major": 2,
       "version_minor": 0
      },
      "text/plain": [
       "🔎 Validating Epoch 46:   0%|          | 0/269 [00:00<?, ?it/s]"
      ]
     },
     "metadata": {},
     "output_type": "display_data"
    },
    {
     "name": "stdout",
     "output_type": "stream",
     "text": [
      "Epoch 46 Summary | Train Loss: 0.0119 | Val Loss: 0.0107 | ⏱️ Time: 298.92s\n",
      "No improvement. Patience counter: 1/5\n",
      "\n",
      "Epoch 47/50 (Patience: 4 left)\n"
     ]
    },
    {
     "data": {
      "application/vnd.jupyter.widget-view+json": {
       "model_id": "",
       "version_major": 2,
       "version_minor": 0
      },
      "text/plain": [
       "🧪 Training Epoch 47:   0%|          | 0/1075 [00:00<?, ?it/s]"
      ]
     },
     "metadata": {},
     "output_type": "display_data"
    },
    {
     "data": {
      "application/vnd.jupyter.widget-view+json": {
       "model_id": "",
       "version_major": 2,
       "version_minor": 0
      },
      "text/plain": [
       "🔎 Validating Epoch 47:   0%|          | 0/269 [00:00<?, ?it/s]"
      ]
     },
     "metadata": {},
     "output_type": "display_data"
    },
    {
     "name": "stdout",
     "output_type": "stream",
     "text": [
      "Epoch 47 Summary | Train Loss: 0.0120 | Val Loss: 0.0107 | ⏱️ Time: 302.19s\n",
      "No improvement. Patience counter: 2/5\n",
      "\n",
      "Epoch 48/50 (Patience: 3 left)\n"
     ]
    },
    {
     "data": {
      "application/vnd.jupyter.widget-view+json": {
       "model_id": "",
       "version_major": 2,
       "version_minor": 0
      },
      "text/plain": [
       "🧪 Training Epoch 48:   0%|          | 0/1075 [00:00<?, ?it/s]"
      ]
     },
     "metadata": {},
     "output_type": "display_data"
    },
    {
     "data": {
      "application/vnd.jupyter.widget-view+json": {
       "model_id": "",
       "version_major": 2,
       "version_minor": 0
      },
      "text/plain": [
       "🔎 Validating Epoch 48:   0%|          | 0/269 [00:00<?, ?it/s]"
      ]
     },
     "metadata": {},
     "output_type": "display_data"
    },
    {
     "name": "stdout",
     "output_type": "stream",
     "text": [
      "Epoch 48 Summary | Train Loss: 0.0121 | Val Loss: 0.0105 | ⏱️ Time: 303.64s\n",
      "Validation loss improved. Resetting patience.\n",
      "\n",
      "Epoch 49/50 (Patience: 5 left)\n"
     ]
    },
    {
     "data": {
      "application/vnd.jupyter.widget-view+json": {
       "model_id": "",
       "version_major": 2,
       "version_minor": 0
      },
      "text/plain": [
       "🧪 Training Epoch 49:   0%|          | 0/1075 [00:00<?, ?it/s]"
      ]
     },
     "metadata": {},
     "output_type": "display_data"
    },
    {
     "data": {
      "application/vnd.jupyter.widget-view+json": {
       "model_id": "",
       "version_major": 2,
       "version_minor": 0
      },
      "text/plain": [
       "🔎 Validating Epoch 49:   0%|          | 0/269 [00:00<?, ?it/s]"
      ]
     },
     "metadata": {},
     "output_type": "display_data"
    },
    {
     "name": "stdout",
     "output_type": "stream",
     "text": [
      "Epoch 49 Summary | Train Loss: 0.0120 | Val Loss: 0.0105 | ⏱️ Time: 303.36s\n",
      "Validation loss improved. Resetting patience.\n",
      "\n",
      "Epoch 50/50 (Patience: 5 left)\n"
     ]
    },
    {
     "data": {
      "application/vnd.jupyter.widget-view+json": {
       "model_id": "",
       "version_major": 2,
       "version_minor": 0
      },
      "text/plain": [
       "🧪 Training Epoch 50:   0%|          | 0/1075 [00:00<?, ?it/s]"
      ]
     },
     "metadata": {},
     "output_type": "display_data"
    },
    {
     "data": {
      "application/vnd.jupyter.widget-view+json": {
       "model_id": "",
       "version_major": 2,
       "version_minor": 0
      },
      "text/plain": [
       "🔎 Validating Epoch 50:   0%|          | 0/269 [00:00<?, ?it/s]"
      ]
     },
     "metadata": {},
     "output_type": "display_data"
    },
    {
     "name": "stdout",
     "output_type": "stream",
     "text": [
      "Epoch 50 Summary | Train Loss: 0.0119 | Val Loss: 0.0104 | ⏱️ Time: 304.10s\n",
      "Validation loss improved. Resetting patience.\n"
     ]
    }
   ],
   "source": [
    "# 8. 학습 loop (Early Stopping 적용)\n",
    "model = SimilarityRankerWithText(\n",
    "    embedding_model=model_emb,\n",
    "    autoencoder_encoder=ae_model.encoder,\n",
    "    tokenizer=tokenizer,\n",
    "    ext_dim=extA_tensor.shape[1],\n",
    "    latent_dim=256,\n",
    "    alpha=2.0\n",
    ").to(torch.device('cuda' if torch.cuda.is_available() else 'cpu'))\n",
    "\n",
    "# 옵티마이저 설정\n",
    "optimizer = torch.optim.Adam(model.parameters(), lr=1e-4)\n",
    "\n",
    "# Early Stopping 설정\n",
    "best_val_loss = float('inf')\n",
    "patience, trigger = 5, 0\n",
    "\n",
    "# 에폭 루프 시작\n",
    "for epoch in range(1, 51):\n",
    "    start_time = time.time()  # 시간 측정 시작\n",
    "    model.train()\n",
    "    train_losses = []\n",
    "\n",
    "    print(f'\\nEpoch {epoch}/50 (Patience: {patience - trigger} left)')\n",
    "\n",
    "    # 학습 루프\n",
    "    for summary, similar_summary, extA, extB, y in tqdm(train_loader, desc=f\"Training Epoch {epoch}\", leave=False):\n",
    "        # 디바이스로 이동\n",
    "        device = model.encoder[0].weight.device\n",
    "        extA, extB, y = extA.to(device), extB.to(device), y.to(device)\n",
    "\n",
    "        # forward + loss 계산\n",
    "        pred = model(summary, similar_summary, extA, extB)\n",
    "        loss = model.compute_loss(pred, y)\n",
    "\n",
    "        # backward\n",
    "        optimizer.zero_grad()\n",
    "        loss.backward()\n",
    "        optimizer.step()\n",
    "\n",
    "        train_losses.append(loss.item())\n",
    "\n",
    "    # 검증 루프\n",
    "    model.eval()\n",
    "    val_losses = []\n",
    "\n",
    "    with torch.no_grad():\n",
    "        for summary, similar_summary, extA, extB, y in tqdm(val_loader, desc=f\"🔎 Validating Epoch {epoch}\", leave=False):\n",
    "            device = model.encoder[0].weight.device\n",
    "            extA, extB, y = extA.to(device), extB.to(device), y.to(device)\n",
    "\n",
    "            pred = model(summary, similar_summary, extA, extB)\n",
    "            val_loss = model.compute_loss(pred, y)\n",
    "            val_losses.append(val_loss.item())\n",
    "\n",
    "    avg_train_loss = np.mean(train_losses)\n",
    "    avg_val_loss = np.mean(val_losses)\n",
    "    elapsed_time = time.time() - start_time\n",
    "\n",
    "    print(f\"Epoch {epoch} Summary | Train Loss: {avg_train_loss:.4f} | Val Loss: {avg_val_loss:.4f} | ⏱️ Time: {elapsed_time:.2f}s\")\n",
    "\n",
    "    # Early Stopping 로직\n",
    "    if avg_val_loss < best_val_loss:\n",
    "        best_val_loss = avg_val_loss\n",
    "        trigger = 0\n",
    "        print(\"Validation loss improved. Resetting patience.\")\n",
    "    else:\n",
    "        trigger += 1\n",
    "        print(f\"No improvement. Patience counter: {trigger}/{patience}\")\n",
    "        if trigger >= patience:\n",
    "            print(\"Early stopping triggered!\")\n",
    "            break"
   ]
  },
  {
   "cell_type": "code",
   "execution_count": 23,
   "id": "e0cd2d93-f21a-4903-8c94-38bf77d2c786",
   "metadata": {},
   "outputs": [
    {
     "data": {
      "application/vnd.jupyter.widget-view+json": {
       "model_id": "a2cb0bea64f04eabb10f1b2bf4d650ed",
       "version_major": 2,
       "version_minor": 0
      },
      "text/plain": [
       "🔍 Evaluation:   0%|          | 0/269 [00:00<?, ?it/s]"
      ]
     },
     "metadata": {},
     "output_type": "display_data"
    },
    {
     "name": "stdout",
     "output_type": "stream",
     "text": [
      "Spearman Rank Correlation: 0.6665\n",
      "NDCG Score: 0.9935\n",
      "RMSE: 0.0828\n",
      "R^2: 0.2588\n"
     ]
    }
   ],
   "source": [
    "# 9. 검증\n",
    "from sklearn.metrics import mean_squared_error, r2_score, ndcg_score\n",
    "from scipy.stats import spearmanr\n",
    "\n",
    "# 예측\n",
    "model.eval()\n",
    "y_true, y_pred = [], []\n",
    "\n",
    "with torch.no_grad():\n",
    "    for summary, similar_summary, extA, extB, y in tqdm(val_loader, desc='🔍 Evaluation'):\n",
    "        device = model.encoder[0].weight.device\n",
    "        extA, extB, y = extA.to(device), extB.to(device), y.to(device)\n",
    "        pred = model(summary, similar_summary, extA, extB)\n",
    "\n",
    "        y_true.extend(y.cpu().numpy())\n",
    "        y_pred.extend(pred.cpu().numpy())\n",
    "\n",
    "# 평탄화\n",
    "y_true = np.array(y_true).flatten()\n",
    "y_pred = np.array(y_pred).flatten()\n",
    "\n",
    "# 1. Spearman Correlation\n",
    "spearman_corr, _ = spearmanr(y_true, y_pred)\n",
    "print(f\"Spearman Rank Correlation: {spearman_corr:.4f}\")\n",
    "\n",
    "# 2. NDCG\n",
    "ndcg = ndcg_score([y_true], [y_pred])  # input: 2D list\n",
    "print(f\"NDCG Score: {ndcg:.4f}\")\n",
    "\n",
    "# 3. RMSE (보조 지표)\n",
    "rmse = np.sqrt(mean_squared_error(y_true, y_pred))\n",
    "print(f\"RMSE: {rmse:.4f}\")\n",
    "\n",
    "# 4. R^2 (보조 지표)\n",
    "r2 = r2_score(y_true, y_pred)\n",
    "print(f\"R^2: {r2:.4f}\")"
   ]
  },
  {
   "cell_type": "markdown",
   "id": "0a86fc21-0751-4195-882b-3c86ba6ed4a4",
   "metadata": {},
   "source": [
    "- Spearman Rank Correlation: 예측값과 실제값의 순위 간 일치도 측정 (순위의 일관성 측정에 최적)\n",
    "- NDCG (Normalized DCG): 예측된 순위가 실제값 순위와 얼마나 잘 맞는지를 측정 (랭킹 품질에 대한 절대적 평가)\n",
    "\n",
    "| 지표                      | 현재 값     | 실무 기준                                         | 해석                                               |\n",
    "| ----------------------- | -------- | --------------------------------------------- | ------------------------------------------------ |\n",
    "| **Spearman Rank Corr.** | `0.6665` | `0.6 이상 → 실사용 가능`, `0.7 이상 → 우수`              | **랭킹 순서 예측이 잘 됨**, 실무 적용 충분                      |\n",
    "| **NDCG\\@k**             | `0.9935` | `0.9 이상 → 거의 완벽`                              | 상위 N개 뉴스 재정렬/추천 목적이라면 **매우 우수**                  |\n",
    "| **RMSE**                | `0.0828` | `0.05~0.10 → 괜찮음`, `0.01~0.03 → 매우 우수`        | 수치 자체가 \\[-1,1] 범위인 cosine 유사도이기 때문에 **이 정도면 양호** |\n",
    "| **R²**                  | `0.2588` | `>0.2 → 약한 설명력`, `>0.5 → 실사용 가능`, `>0.7 → 우수` | **정량 예측엔 약간 부족**, 하지만 지금 모델은 그게 주 목적이 아님         |"
   ]
  },
  {
   "cell_type": "code",
   "execution_count": 26,
   "id": "d070f42e-be15-49e7-8f4e-6316d0b75620",
   "metadata": {},
   "outputs": [
    {
     "name": "stdout",
     "output_type": "stream",
     "text": [
      "SimilarityRanker ONNX 저장 완료!\n"
     ]
    }
   ],
   "source": [
    "# 10. onnx로 저장\n",
    "import torch\n",
    "import torch.nn as nn\n",
    "import torch.nn.functional as F\n",
    "\n",
    "class SimilarityRankerONNX(nn.Module):\n",
    "    def __init__(self, input_dim=298):\n",
    "        super().__init__()\n",
    "        self.news_fc = nn.Sequential(\n",
    "            nn.Linear(input_dim, 256), nn.BatchNorm1d(256), nn.ReLU(), nn.Dropout(0.2),\n",
    "            nn.Linear(256, 128), nn.BatchNorm1d(128), nn.ReLU(), nn.Dropout(0.2)\n",
    "        )\n",
    "\n",
    "    def forward(self, inputA, inputB):\n",
    "        hA = self.news_fc(inputA)\n",
    "        hB = self.news_fc(inputB)\n",
    "        sim = F.cosine_similarity(hA, hB, dim=1)\n",
    "        return sim.unsqueeze(1)  # [batch, 1]\n",
    "\n",
    "# ===== 1. 학습된 모델에서 news_fc 파라미터만 이식 =====\n",
    "onnx_model = SimilarityRankerONNX().eval().cpu()\n",
    "onnx_model.news_fc.load_state_dict(model.news_fc.state_dict())\n",
    "\n",
    "# ===== 2. 더미 입력 설정 =====\n",
    "dummy_A = torch.randn(1, 298)  # 256 + 42\n",
    "dummy_B = torch.randn(1, 298)\n",
    "\n",
    "# ===== 3. ONNX로 export =====\n",
    "torch.onnx.export(\n",
    "    onnx_model,\n",
    "    (dummy_A, dummy_B),\n",
    "    'similarity_ranker.onnx',\n",
    "    input_names=['inputA', 'inputB'],\n",
    "    output_names=['similarity'],\n",
    "    opset_version=13,\n",
    "    dynamic_axes={\n",
    "        'inputA': {0: 'batch_size'},\n",
    "        'inputB': {0: 'batch_size'},\n",
    "        'similarity': {0: 'batch_size'}\n",
    "    }\n",
    ")\n",
    "\n",
    "print('SimilarityRanker ONNX 저장 완료!')"
   ]
  },
  {
   "cell_type": "code",
   "execution_count": 25,
   "id": "742e1cd8-108e-41cb-a040-51fe611022ff",
   "metadata": {},
   "outputs": [
    {
     "name": "stderr",
     "output_type": "stream",
     "text": [
      "huggingface/tokenizers: The current process just got forked, after parallelism has already been used. Disabling parallelism to avoid deadlocks...\n",
      "To disable this warning, you can either:\n",
      "\t- Avoid using `tokenizers` before the fork if possible\n",
      "\t- Explicitly set the environment variable TOKENIZERS_PARALLELISM=(true | false)\n"
     ]
    },
    {
     "name": "stdout",
     "output_type": "stream",
     "text": [
      "Collecting onnx\n",
      "  Downloading onnx-1.18.0-cp310-cp310-manylinux_2_17_x86_64.manylinux2014_x86_64.whl.metadata (6.9 kB)\n",
      "Requirement already satisfied: numpy>=1.22 in /usr/local/lib/python3.10/dist-packages (from onnx) (1.24.1)\n",
      "Collecting protobuf>=4.25.1 (from onnx)\n",
      "  Downloading protobuf-6.31.1-cp39-abi3-manylinux2014_x86_64.whl.metadata (593 bytes)\n",
      "Requirement already satisfied: typing_extensions>=4.7.1 in /usr/local/lib/python3.10/dist-packages (from onnx) (4.14.0)\n",
      "Downloading onnx-1.18.0-cp310-cp310-manylinux_2_17_x86_64.manylinux2014_x86_64.whl (17.6 MB)\n",
      "\u001b[2K   \u001b[90m━━━━━━━━━━━━━━━━━━━━━━━━━━━━━━━━━━━━━━━━\u001b[0m \u001b[32m17.6/17.6 MB\u001b[0m \u001b[31m42.2 MB/s\u001b[0m eta \u001b[36m0:00:00\u001b[0m00:01\u001b[0m00:01\u001b[0m\n",
      "\u001b[?25hDownloading protobuf-6.31.1-cp39-abi3-manylinux2014_x86_64.whl (321 kB)\n",
      "\u001b[2K   \u001b[90m━━━━━━━━━━━━━━━━━━━━━━━━━━━━━━━━━━━━━━━\u001b[0m \u001b[32m321.1/321.1 kB\u001b[0m \u001b[31m101.2 MB/s\u001b[0m eta \u001b[36m0:00:00\u001b[0m\n",
      "\u001b[?25hInstalling collected packages: protobuf, onnx\n",
      "Successfully installed onnx-1.18.0 protobuf-6.31.1\n",
      "\u001b[33mWARNING: Running pip as the 'root' user can result in broken permissions and conflicting behaviour with the system package manager. It is recommended to use a virtual environment instead: https://pip.pypa.io/warnings/venv\u001b[0m\u001b[33m\n",
      "\u001b[0m\n",
      "\u001b[1m[\u001b[0m\u001b[34;49mnotice\u001b[0m\u001b[1;39;49m]\u001b[0m\u001b[39;49m A new release of pip is available: \u001b[0m\u001b[31;49m23.3.1\u001b[0m\u001b[39;49m -> \u001b[0m\u001b[32;49m25.1.1\u001b[0m\n",
      "\u001b[1m[\u001b[0m\u001b[34;49mnotice\u001b[0m\u001b[1;39;49m]\u001b[0m\u001b[39;49m To update, run: \u001b[0m\u001b[32;49mpython -m pip install --upgrade pip\u001b[0m\n"
     ]
    }
   ],
   "source": [
    "!pip install onnx"
   ]
  },
  {
   "cell_type": "code",
   "execution_count": null,
   "id": "f5bc51d5-8da5-42c8-bea9-832fee377a20",
   "metadata": {},
   "outputs": [],
   "source": []
  }
 ],
 "metadata": {
  "kernelspec": {
   "display_name": "Python 3 (ipykernel)",
   "language": "python",
   "name": "python3"
  },
  "language_info": {
   "codemirror_mode": {
    "name": "ipython",
    "version": 3
   },
   "file_extension": ".py",
   "mimetype": "text/x-python",
   "name": "python",
   "nbconvert_exporter": "python",
   "pygments_lexer": "ipython3",
   "version": "3.10.12"
  }
 },
 "nbformat": 4,
 "nbformat_minor": 5
}
