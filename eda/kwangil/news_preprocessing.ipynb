{
 "cells": [
  {
   "cell_type": "code",
   "execution_count": 14,
   "id": "cf643670",
   "metadata": {},
   "outputs": [],
   "source": [
    "import pandas as pd\n",
    "import seaborn as sns\n",
    "\n",
    "from transformers import AutoTokenizer, AutoModelForTokenClassification, pipeline\n",
    "from label_map import label2id, id2label"
   ]
  },
  {
   "cell_type": "markdown",
   "id": "342e643a",
   "metadata": {},
   "source": [
    "## 1 뉴스 본문 전처리, 요약, 종목명, 업종명, 임베딩"
   ]
  },
  {
   "cell_type": "markdown",
   "id": "9b2da6a4",
   "metadata": {},
   "source": [
    "### 1 뉴스 본문 전처리"
   ]
  },
  {
   "cell_type": "code",
   "execution_count": 15,
   "id": "e71a93df",
   "metadata": {},
   "outputs": [],
   "source": [
    "df = pd.read_csv(\"../../db/news_2023_2025.csv\")"
   ]
  },
  {
   "cell_type": "code",
   "execution_count": 16,
   "id": "999e1adc",
   "metadata": {},
   "outputs": [
    {
     "data": {
      "text/html": [
       "<div>\n",
       "<style scoped>\n",
       "    .dataframe tbody tr th:only-of-type {\n",
       "        vertical-align: middle;\n",
       "    }\n",
       "\n",
       "    .dataframe tbody tr th {\n",
       "        vertical-align: top;\n",
       "    }\n",
       "\n",
       "    .dataframe thead th {\n",
       "        text-align: right;\n",
       "    }\n",
       "</style>\n",
       "<table border=\"1\" class=\"dataframe\">\n",
       "  <thead>\n",
       "    <tr style=\"text-align: right;\">\n",
       "      <th></th>\n",
       "      <th>news_id</th>\n",
       "      <th>wdate</th>\n",
       "      <th>title</th>\n",
       "      <th>article</th>\n",
       "      <th>press</th>\n",
       "      <th>url</th>\n",
       "      <th>image</th>\n",
       "    </tr>\n",
       "  </thead>\n",
       "  <tbody>\n",
       "    <tr>\n",
       "      <th>0</th>\n",
       "      <td>20250523_0001</td>\n",
       "      <td>2025-05-23 19:11</td>\n",
       "      <td>[마켓인]모태펀드 존속 불확실성 해소될까…이재명 공약에 업계 주목</td>\n",
       "      <td>2035년 종료 앞둬, 존속 공약에 기대감\\n창업 초기자금 공백 완화 가능성에 업계...</td>\n",
       "      <td>이데일리</td>\n",
       "      <td>https://n.news.naver.com/mnews/article/018/000...</td>\n",
       "      <td>https://imgnews.pstatic.net/image/018/2025/05/...</td>\n",
       "    </tr>\n",
       "    <tr>\n",
       "      <th>1</th>\n",
       "      <td>20250523_0002</td>\n",
       "      <td>2025-05-23 18:52</td>\n",
       "      <td>[단독] 카카오페이, 2500만 회원 쓱·스마일페이 품나…간편결제 시장 빅3 경쟁 후끈</td>\n",
       "      <td>매각가 5000억 안팎 달할듯\\n결제시장 내 입지강화 포석\\n카카오페이 [사진 = ...</td>\n",
       "      <td>매일경제</td>\n",
       "      <td>https://n.news.naver.com/mnews/article/009/000...</td>\n",
       "      <td>https://imgnews.pstatic.net/image/009/2025/05/...</td>\n",
       "    </tr>\n",
       "  </tbody>\n",
       "</table>\n",
       "</div>"
      ],
      "text/plain": [
       "         news_id             wdate  \\\n",
       "0  20250523_0001  2025-05-23 19:11   \n",
       "1  20250523_0002  2025-05-23 18:52   \n",
       "\n",
       "                                              title  \\\n",
       "0              [마켓인]모태펀드 존속 불확실성 해소될까…이재명 공약에 업계 주목   \n",
       "1  [단독] 카카오페이, 2500만 회원 쓱·스마일페이 품나…간편결제 시장 빅3 경쟁 후끈   \n",
       "\n",
       "                                             article press  \\\n",
       "0  2035년 종료 앞둬, 존속 공약에 기대감\\n창업 초기자금 공백 완화 가능성에 업계...  이데일리   \n",
       "1  매각가 5000억 안팎 달할듯\\n결제시장 내 입지강화 포석\\n카카오페이 [사진 = ...  매일경제   \n",
       "\n",
       "                                                 url  \\\n",
       "0  https://n.news.naver.com/mnews/article/018/000...   \n",
       "1  https://n.news.naver.com/mnews/article/009/000...   \n",
       "\n",
       "                                               image  \n",
       "0  https://imgnews.pstatic.net/image/018/2025/05/...  \n",
       "1  https://imgnews.pstatic.net/image/009/2025/05/...  "
      ]
     },
     "execution_count": 16,
     "metadata": {},
     "output_type": "execute_result"
    }
   ],
   "source": [
    "df.head(2)"
   ]
  },
  {
   "cell_type": "code",
   "execution_count": 24,
   "id": "2dc0deb2",
   "metadata": {},
   "outputs": [],
   "source": [
    "import re\n",
    "from kss import split_sentences\n",
    "\n",
    "def remove_market_related_sentences(text: str) -> str:\n",
    "    # 줄바꿈 제거\n",
    "    text = text.replace(\"\\n\", \" \")\n",
    "\n",
    "    # 대괄호 포함 텍스트 제거: [파이낸셜뉴스], [사진] 등\n",
    "    text = re.sub(r\"\\[[^\\]]*\\]\", \"\", text)\n",
    "\n",
    "    # '/사진', '/사진제공' 제거\n",
    "    text = re.sub(r\"/사진(제공)?\", \"\", text)\n",
    "\n",
    "    # 이메일 주소 제거 (예: josh@yna.co.kr)\n",
    "    text = re.sub(r\"\\b[\\w.-]+@[\\w.-]+\\.\\w+\\b\", \"\", text)\n",
    "\n",
    "    # 문장 단위 분리 (간단하게 마침표 기준, 필요시 KSS 등 적용 가능)\n",
    "    sentences = split_sentences(text)\n",
    "\n",
    "    # 제거할 패턴들 (뉴스 문장에서 자주 등장하는 패턴)\n",
    "    patterns = [\n",
    "        r\"(자세한 내용|자세한 사항)\",  # 뉴스 기본 표현\n",
    "        r\"\\d{4}[.-]\\d{1,2}[.-]\\d{1,2}\",  # 날짜 (예: 2025.03.26, 2024-12-01)\n",
    "        r\"([0-9,]+(?:만)?[0-9,]*\\s?(?:원|만원))\",  # 가격 (예: 3,500원, 12000원)\n",
    "        r\"(강세|펀드|시가총액|등락률|한국거래소)\",  # 증시 용어\n",
    "        r\"\\([+-]?[0-9.,]+%\\)\",  # 괄호 안 퍼센트 등락률\n",
    "        r\"(투자의견|연구원|평가|예상치|증권가|리포트|팀장)\",  # 애널리스트 용어\n",
    "        r\"(순이익|전년|매출|영업이익|영업적자|증시|코스피|코스닥|다우|나스닥|매출액|거래일|호조세|레버리지|투자자|조정|자산|수익률|이익률|수익성|내리막|부진한|낙폭|기대치|실적발표|기업 가치)\",  # 시장 용어\n",
    "    ]\n",
    "\n",
    "    # 하나의 통합 패턴으로 컴파일\n",
    "    combined_pattern = re.compile(\"|\".join(patterns))\n",
    "\n",
    "    # 필터링된 문장만 유지\n",
    "    filtered = [s for s in sentences if not combined_pattern.search(s)]\n",
    "\n",
    "    text_preprocessed = \" \".join(filtered)\n",
    "\n",
    "    # print(f\"원문:{sentences}\\n|\\n전처리 된 문장: {text_preprocessed}\\n\\n\")\n",
    "\n",
    "    return text_preprocessed"
   ]
  },
  {
   "cell_type": "code",
   "execution_count": 25,
   "id": "1970973a",
   "metadata": {},
   "outputs": [
    {
     "name": "stderr",
     "output_type": "stream",
     "text": [
      "100%|██████████| 58405/58405 [28:07<00:00, 34.61it/s]  \n"
     ]
    }
   ],
   "source": [
    "from tqdm import tqdm\n",
    "\n",
    "tqdm.pandas()  # 이거 반드시 호출해야 함\n",
    "\n",
    "df[\"article_preprocessed\"] = df[\n",
    "    \"article\"\n",
    "].progress_apply(remove_market_related_sentences)"
   ]
  },
  {
   "cell_type": "code",
   "execution_count": 30,
   "id": "1e1795f2",
   "metadata": {},
   "outputs": [],
   "source": [
    "def drop_article_preprocessed(df):\n",
    "    # 전처리된 문장 길이 구하기\n",
    "    df[\"article_preprocessed_len\"] = df[\n",
    "        \"article_preprocessed\"\n",
    "    ].apply(lambda x: len(x))\n",
    "\n",
    "    # 전처리된 문장 길이가 70 이상인 것만 필터링\n",
    "    df = df[\n",
    "        df[\"article_preprocessed_len\"] > 70\n",
    "    ]\n",
    "\n",
    "    df = df.drop(columns=[\"article_preprocessed_len\"])\n",
    "\n",
    "    return df"
   ]
  },
  {
   "cell_type": "code",
   "execution_count": 31,
   "id": "e16b4fe5",
   "metadata": {},
   "outputs": [],
   "source": [
    "df = drop_article_preprocessed(df)"
   ]
  },
  {
   "cell_type": "code",
   "execution_count": 32,
   "id": "80f61e60",
   "metadata": {},
   "outputs": [
    {
     "name": "stdout",
     "output_type": "stream",
     "text": [
      "<class 'pandas.core.frame.DataFrame'>\n",
      "Index: 53202 entries, 0 to 58404\n",
      "Data columns (total 8 columns):\n",
      " #   Column                Non-Null Count  Dtype \n",
      "---  ------                --------------  ----- \n",
      " 0   news_id               53202 non-null  object\n",
      " 1   wdate                 53202 non-null  object\n",
      " 2   title                 53202 non-null  object\n",
      " 3   article               53202 non-null  object\n",
      " 4   press                 53202 non-null  object\n",
      " 5   url                   53202 non-null  object\n",
      " 6   image                 53202 non-null  object\n",
      " 7   article_preprocessed  53202 non-null  object\n",
      "dtypes: object(8)\n",
      "memory usage: 3.7+ MB\n"
     ]
    }
   ],
   "source": [
    "df.info()"
   ]
  },
  {
   "cell_type": "markdown",
   "id": "54b86993",
   "metadata": {},
   "source": [
    "### 2 뉴스 본문 요약"
   ]
  },
  {
   "cell_type": "code",
   "execution_count": 20,
   "id": "ff0282d1",
   "metadata": {},
   "outputs": [
    {
     "name": "stderr",
     "output_type": "stream",
     "text": [
      "You passed along `num_labels=3` with an incompatible id to label map: {'0': 'NEGATIVE', '1': 'POSITIVE'}. The number of labels will be overwritten to 2.\n"
     ]
    },
    {
     "data": {
      "text/plain": [
       "BartForConditionalGeneration(\n",
       "  (model): BartModel(\n",
       "    (shared): BartScaledWordEmbedding(30000, 768, padding_idx=3)\n",
       "    (encoder): BartEncoder(\n",
       "      (embed_tokens): BartScaledWordEmbedding(30000, 768, padding_idx=3)\n",
       "      (embed_positions): BartLearnedPositionalEmbedding(1028, 768)\n",
       "      (layers): ModuleList(\n",
       "        (0-5): 6 x BartEncoderLayer(\n",
       "          (self_attn): BartSdpaAttention(\n",
       "            (k_proj): Linear(in_features=768, out_features=768, bias=True)\n",
       "            (v_proj): Linear(in_features=768, out_features=768, bias=True)\n",
       "            (q_proj): Linear(in_features=768, out_features=768, bias=True)\n",
       "            (out_proj): Linear(in_features=768, out_features=768, bias=True)\n",
       "          )\n",
       "          (self_attn_layer_norm): LayerNorm((768,), eps=1e-05, elementwise_affine=True)\n",
       "          (activation_fn): GELUActivation()\n",
       "          (fc1): Linear(in_features=768, out_features=3072, bias=True)\n",
       "          (fc2): Linear(in_features=3072, out_features=768, bias=True)\n",
       "          (final_layer_norm): LayerNorm((768,), eps=1e-05, elementwise_affine=True)\n",
       "        )\n",
       "      )\n",
       "      (layernorm_embedding): LayerNorm((768,), eps=1e-05, elementwise_affine=True)\n",
       "    )\n",
       "    (decoder): BartDecoder(\n",
       "      (embed_tokens): BartScaledWordEmbedding(30000, 768, padding_idx=3)\n",
       "      (embed_positions): BartLearnedPositionalEmbedding(1028, 768)\n",
       "      (layers): ModuleList(\n",
       "        (0-5): 6 x BartDecoderLayer(\n",
       "          (self_attn): BartSdpaAttention(\n",
       "            (k_proj): Linear(in_features=768, out_features=768, bias=True)\n",
       "            (v_proj): Linear(in_features=768, out_features=768, bias=True)\n",
       "            (q_proj): Linear(in_features=768, out_features=768, bias=True)\n",
       "            (out_proj): Linear(in_features=768, out_features=768, bias=True)\n",
       "          )\n",
       "          (activation_fn): GELUActivation()\n",
       "          (self_attn_layer_norm): LayerNorm((768,), eps=1e-05, elementwise_affine=True)\n",
       "          (encoder_attn): BartSdpaAttention(\n",
       "            (k_proj): Linear(in_features=768, out_features=768, bias=True)\n",
       "            (v_proj): Linear(in_features=768, out_features=768, bias=True)\n",
       "            (q_proj): Linear(in_features=768, out_features=768, bias=True)\n",
       "            (out_proj): Linear(in_features=768, out_features=768, bias=True)\n",
       "          )\n",
       "          (encoder_attn_layer_norm): LayerNorm((768,), eps=1e-05, elementwise_affine=True)\n",
       "          (fc1): Linear(in_features=768, out_features=3072, bias=True)\n",
       "          (fc2): Linear(in_features=3072, out_features=768, bias=True)\n",
       "          (final_layer_norm): LayerNorm((768,), eps=1e-05, elementwise_affine=True)\n",
       "        )\n",
       "      )\n",
       "      (layernorm_embedding): LayerNorm((768,), eps=1e-05, elementwise_affine=True)\n",
       "    )\n",
       "  )\n",
       "  (lm_head): Linear(in_features=768, out_features=30000, bias=False)\n",
       ")"
      ]
     },
     "execution_count": 20,
     "metadata": {},
     "output_type": "execute_result"
    }
   ],
   "source": [
    "import torch\n",
    "from transformers import AutoTokenizer, AutoModelForSeq2SeqLM\n",
    "\n",
    "# 모델 이름\n",
    "model_summarize_name1 = \"digit82/kobart-summarization\"\n",
    "\n",
    "# 토크나이저 & 모델 로드\n",
    "tokenizer_summarize1 = AutoTokenizer.from_pretrained(model_summarize_name1)\n",
    "model_summarize1 = AutoModelForSeq2SeqLM.from_pretrained(\n",
    "    model_summarize_name1, use_safetensors=True\n",
    ")\n",
    "\n",
    "# GPU 사용 설정\n",
    "device = torch.device(\"cuda\" if torch.cuda.is_available() else \"cpu\")\n",
    "model_summarize1.to(device)"
   ]
  },
  {
   "cell_type": "code",
   "execution_count": 33,
   "id": "be546d90",
   "metadata": {},
   "outputs": [],
   "source": [
    "def summarize_event_focused(text):\n",
    "    # 토크나이징 및 텐서 변환 (GPU로 올리기)\n",
    "    inputs = tokenizer_summarize1(text, return_tensors=\"pt\", truncation=True, padding=True, max_length=512)\n",
    "    input_ids = inputs[\"input_ids\"].to(device)\n",
    "\n",
    "    text_length = len(text)\n",
    "\n",
    "    # 1. 최소 길이는 짧은 본문은 고정, 긴 본문은 점진적으로 증가\n",
    "    def compute_min_length(text_length: int) -> int:\n",
    "        if text_length < 300:\n",
    "            return 30\n",
    "        else:\n",
    "            return 50\n",
    "\n",
    "    min_len = compute_min_length(text_length)\n",
    "    max_len = round(text_length * 0.5) + 50  # 더 여유를 주되 max 길이 제한\n",
    "\n",
    "    # 2. generate 최적 설정\n",
    "    summary_ids = model_summarize1.generate(\n",
    "        input_ids,\n",
    "        min_length=min_len,\n",
    "        max_new_tokens=max_len,\n",
    "        num_beams=4,  # 4보다 빠름. 품질도 비슷\n",
    "        length_penalty=1.0,  # 길이 패널티 완화\n",
    "        repetition_penalty=1.3,  # 반복 억제 강화\n",
    "        no_repeat_ngram_size=3,  # 반복 문장 방지\n",
    "        early_stopping=True,\n",
    "        do_sample=False,  # 일관된 요약\n",
    "    )\n",
    "\n",
    "    return tokenizer_summarize1.decode(summary_ids[0], skip_special_tokens=True)\n",
    "\n",
    "\n",
    "def print_summary(df, max_tokens=128):\n",
    "    for i, row in tqdm(df.iterrows(), total=len(df)):\n",
    "        try:\n",
    "            text = row[\"article_preprocessed\"]\n",
    "            summary = summarize_event_focused(text)\n",
    "            print(f\"\\n📝 뉴스 {i}\\n\\n본문: {text} \\n\\n요약: {summary}\\n\")\n",
    "        except Exception as e:\n",
    "            print(f\"❌ 요약 실패: {e}\")"
   ]
  },
  {
   "cell_type": "code",
   "execution_count": 34,
   "id": "c0b09664",
   "metadata": {},
   "outputs": [
    {
     "name": "stderr",
     "output_type": "stream",
     "text": [
      " 33%|███▎      | 1/3 [00:04<00:09,  4.57s/it]"
     ]
    },
    {
     "name": "stdout",
     "output_type": "stream",
     "text": [
      "\n",
      "📝 뉴스 0\n",
      "\n",
      "본문: 2035년 종료 앞둬, 존속 공약에 기대감 창업 초기자금 공백 완화 가능성에 업계 안도 VC, \"정책 연속성 중요…불확실성 줄어야\" 퇴직연금도 벤처로…BDC 등 활성화 방안 포함 이 기사는 2025년05월23일 17시10분에 마켓인 프리미엄 콘텐츠 로 선공개 되었습니다. 23일 관련업계에 따르면 이 후보는 해당 공약을 ‘벤처·스타트업 10대 공약’의 하나로 포함시키며, 벤처 투자 인프라를 제도적으로 보완하겠다는 의지를 내비쳤다. 업계에서는 단기 예산 복원이 아닌, 정책 연속성에 무게를 둔 점에 주목하고 있다. 글로벌 대비 민간 자본의 투자 여력이 제한적인 한국 벤처 시장 특성상, 정부 출자의 존재감은 그만큼 절대적이다. 이에 따라 벤처캐피털(VC) 업계에서는 이재명 후보의 공약이 단순한 예산 복원을 넘어 구조적인 불확실성 해소에 방점을 두고 있다는 점에서 긍정적으로 받아들이는 분위기다. 이 후보는 이외에도 퇴직연금의 벤처투자 허용, 연기금 투자풀의 벤처투자 확대, 기업 성장집합투자기구(BDC) 도입 등 다양한 벤처투자 활성화 방안을 함께 제시하며 투자 생태계 전반의 구조 개편 의지를 밝혔다. \n",
      "\n",
      "요약: 이재명 후보의 벤처투자 허용, 연기금 투자풀의 벤처투자 확대, 기업 성장집합투자기구(BDC) 도입 등 다양한 벤처투자 활성화 방안을 함께 제시하며 투자 생태계 전반의 구조 개편 의지를 내비쳤다.   \n",
      "\n"
     ]
    },
    {
     "name": "stderr",
     "output_type": "stream",
     "text": [
      " 67%|██████▋   | 2/3 [00:06<00:02,  2.82s/it]"
     ]
    },
    {
     "name": "stdout",
     "output_type": "stream",
     "text": [
      "\n",
      "📝 뉴스 1\n",
      "\n",
      "본문: 매각가 5000억 안팎 달할듯 결제시장 내 입지강화 포석 카카오페이  국내 대표 전자결제사업자인 카카오페이가 신세계이마트 산하 간편결제사업부 인수에 나섰다. 네이버페이·토스페이에 대항해 시장 점유율을 늘리려는 포석으로 해석된다. 23일 정보기술(IT)·투자은행(IB) 업계에 따르면 카카오페이가 SSG닷컴 쓱페이와 G마켓 스마일페이 인수를 위해 신세계이마트 측과 협상을 진행 중인 것으로 파악됐다. 업계에서는 매각가가 5000억원 안팎에 달할 것으로 전망했다. 카카오페이는 약 2500만명의 이용자를 보유한 쓱페이·스마일페이를 인수할 경우 사업 외연을 확대할 수 있다. 매각 작업에 정통한 업계 고위 관계자는 “카카오페이가 결제시장 내 입지 강화를 위해 신세계이마트와 결제사업 부문 인수 등 다양한 방안에 대해 논의 중인 것으로 안다”고 전했다. 신세계이마트 측은 “매각을 재추진중인 건 맞지만 아직 정해진 것은 없다”고 밝혔다. 신세계이마트는 지난 해 토스와 결제사업 매각을 논의하다 결렬된 바 있다. \n",
      "\n",
      "요약: 23일 정보기술(IT)·투자은행(IB) 업계에 따르면 국내 대표 전자결제사업자인 카카오페이가 SSG닷컴 쓱페이와 G마켓 스마일페이 인수를 위해 신세계이마트 측과 협상을 진행 중인 것으로 알려졌다.\n",
      "\n"
     ]
    },
    {
     "name": "stderr",
     "output_type": "stream",
     "text": [
      "100%|██████████| 3/3 [00:07<00:00,  2.35s/it]"
     ]
    },
    {
     "name": "stdout",
     "output_type": "stream",
     "text": [
      "\n",
      "📝 뉴스 2\n",
      "\n",
      "본문: 총 2166대1의 경쟁률을 기록, 청약 증거금 6조원을 모으는 데 성공했다. 지난 22일부터 이날까지 양간 일반 청약을 진행한 결과 최종 경쟁률은 총 2166.01대1로  집계됐다. 청약 건수는 19만1049건으로, 청약 금액의 절반을 미리 내는 청약증거금은 약 6조1400억원이 모였다. 키스트론은 고려제강그룹 계열사로 1992년 설립됐다. 철선에 구리를 도금한 동복강선 리드 와이어가 핵심 제품으로, 글로벌 시장에서 약 18% 점유율을 갖췄다. 이번 공모를 통해 226억 원을 조달한다. 주관사는 신한투자증권이 맡았다. \n",
      "\n",
      "요약: 고려제강그룹 계열사로 1992년 설립된 키스트론은 지난 22일부터 양간 일반 청약을 진행한 결과 최종 경쟁률은 총 2166.01대1로 집계됐다.\n",
      "\n"
     ]
    },
    {
     "name": "stderr",
     "output_type": "stream",
     "text": [
      "\n"
     ]
    }
   ],
   "source": [
    "print_summary(df[:3])"
   ]
  },
  {
   "cell_type": "code",
   "execution_count": 37,
   "id": "3ef8ba0b",
   "metadata": {},
   "outputs": [],
   "source": [
    "df = df[:20000]"
   ]
  },
  {
   "cell_type": "code",
   "execution_count": null,
   "id": "93a6e504",
   "metadata": {},
   "outputs": [
    {
     "name": "stderr",
     "output_type": "stream",
     "text": [
      "  0%|          | 49/20000 [01:11<8:19:21,  1.50s/it] "
     ]
    }
   ],
   "source": [
    "df[\"summary\"] = df[\n",
    "    \"article_preprocessed\"\n",
    "].progress_apply(summarize_event_focused)"
   ]
  },
  {
   "cell_type": "markdown",
   "id": "bafa3b83",
   "metadata": {},
   "source": [
    "### 3 뉴스 종목 매칭하기"
   ]
  },
  {
   "cell_type": "code",
   "execution_count": 21,
   "id": "af7e1aec",
   "metadata": {},
   "outputs": [
    {
     "name": "stderr",
     "output_type": "stream",
     "text": [
      "Device set to use cpu\n"
     ]
    }
   ],
   "source": [
    "import torch\n",
    "from transformers import AutoTokenizer, AutoModelForTokenClassification, pipeline\n",
    "from label_map import label2id, id2label\n",
    "\n",
    "model_name = \"KPF/KPF-BERT-NER\"\n",
    "\n",
    "# 토크나이저와 모델 불러오기\n",
    "tokenizer_ner = AutoTokenizer.from_pretrained(model_name)\n",
    "model_ner = AutoModelForTokenClassification.from_pretrained(\n",
    "    model_name, use_safetensors=True\n",
    ")\n",
    "\n",
    "# 라벨 매핑 반영\n",
    "model_ner.config.label2id = label2id\n",
    "model_ner.config.id2label = id2label\n",
    "\n",
    "tokenizer_ner.model_max_length = 512\n",
    "\n",
    "# 디바이스 설정\n",
    "device = 0 if torch.cuda.is_available() else -1\n",
    "\n",
    "# NER 파이프라인 생성 (GPU 사용)\n",
    "ner_pipeline = pipeline(\n",
    "    task=\"ner\",\n",
    "    model=model_ner,\n",
    "    tokenizer=tokenizer_ner,\n",
    "    aggregation_strategy=\"simple\",\n",
    "    framework=\"pt\",\n",
    "    device=device,\n",
    ")"
   ]
  },
  {
   "cell_type": "code",
   "execution_count": null,
   "id": "5b61d891",
   "metadata": {},
   "outputs": [],
   "source": [
    "def extract_ner(text):\n",
    "    entities = ner_pipeline(text)\n",
    "    results = []\n",
    "    seen = set()\n",
    "\n",
    "    for ent in entities:\n",
    "        word = ent[\"word\"].replace(\"##\", \"\").strip()\n",
    "        tag = ent[\"entity_group\"]\n",
    "\n",
    "        score = ent[\"score\"]\n",
    "\n",
    "        if word and score >= 0.95 and (word, tag) not in seen:\n",
    "            results.append((word, tag))\n",
    "            seen.add((word, tag))\n",
    "\n",
    "    return results\n",
    "\n",
    "\n",
    "def get_stock_names(text):\n",
    "    ner_list = extract_ner(text)\n",
    "\n",
    "    # OGG_ECONOMY만 필터링하여 종목명만 리스트로 추출\n",
    "    stock_names = [ent[0] for ent in ner_list if ent[1] == \"OGG_ECONOMY\"]\n",
    "\n",
    "    return stock_names"
   ]
  },
  {
   "cell_type": "code",
   "execution_count": null,
   "id": "df616db6",
   "metadata": {},
   "outputs": [],
   "source": [
    "df[\"stock_list\"] = df[\"summary\"].progress_apply(\n",
    "    get_stock_names\n",
    ")"
   ]
  },
  {
   "cell_type": "code",
   "execution_count": null,
   "id": "32455c71",
   "metadata": {},
   "outputs": [],
   "source": [
    "# 종목명이 1개 이상, 4개 이하인 뉴스만 필터링하기\n",
    "\n",
    "df[\"stock_list_len\"] = df[\"stock_list\"].apply(lambda x: len(x))\n",
    "\n",
    "df = df[(df[\"stock_list_len\"] >= 1) & (df[\"stock_list_len\"] <= 4)]\n",
    "\n",
    "df = df.drop(columns=[\"stock_list_len\"])"
   ]
  },
  {
   "cell_type": "markdown",
   "id": "4e3bc0c0",
   "metadata": {},
   "source": [
    "### 4 뉴스 업종명 매칭하기"
   ]
  },
  {
   "cell_type": "code",
   "execution_count": null,
   "id": "e0a73c36",
   "metadata": {},
   "outputs": [],
   "source": [
    "df_krx_desc = pd.read_csv(\"../../db/kospi_description.csv\", encoding=\"cp949\")\n",
    "df_krx_desc.head()"
   ]
  },
  {
   "cell_type": "code",
   "execution_count": null,
   "id": "3add6da6",
   "metadata": {},
   "outputs": [],
   "source": [
    "# 종목명 → 업종명 매핑 딕셔너리 생성\n",
    "stock_to_industry = dict(zip(df_krx_desc[\"종목명\"], df_krx_desc[\"업종명\"]))\n",
    "\n",
    "# 업종명을 리스트로 매핑\n",
    "def get_industry_list(stock_list):\n",
    "    return [\n",
    "        stock_to_industry.get(stock, \"\")\n",
    "        for stock in stock_list\n",
    "        if stock_to_industry.get(stock, \"\") != \"\"\n",
    "    ]\n",
    "\n",
    "# 새로운 컬럼에 저장\n",
    "df[\"industry_list\"] = df[\"stock_list\"].apply(get_industry_list)"
   ]
  },
  {
   "cell_type": "code",
   "execution_count": null,
   "id": "6feab71c",
   "metadata": {},
   "outputs": [],
   "source": [
    "# 업종명이 1개 이상인 뉴스만 필터링하기\n",
    "\n",
    "df[\"industry_list_len\"] = df[\"industry_list\"].apply(lambda x: len(x))\n",
    "\n",
    "df = df[df[\"industry_list_len\"] >= 1]\n",
    "\n",
    "df = df.drop(columns=[\"industry_list_len\"])"
   ]
  },
  {
   "cell_type": "markdown",
   "id": "64fd6ff7",
   "metadata": {},
   "source": [
    "### 5 뉴스 요약문 임베딩하기"
   ]
  },
  {
   "cell_type": "code",
   "execution_count": 22,
   "id": "947de2b4",
   "metadata": {},
   "outputs": [],
   "source": [
    "from sentence_transformers import SentenceTransformer\n",
    "import torch\n",
    "\n",
    "model_name = \"snunlp/KR-SBERT-V40K-klueNLI-augSTS\"\n",
    "\n",
    "# GPU가 있으면 GPU, 없으면 CPU\n",
    "device = \"cuda\" if torch.cuda.is_available() else \"cpu\"\n",
    "\n",
    "# 모델 로딩 후 디바이스 설정\n",
    "model_emb = SentenceTransformer(model_name, device=device)"
   ]
  },
  {
   "cell_type": "code",
   "execution_count": null,
   "id": "75513db2",
   "metadata": {},
   "outputs": [],
   "source": [
    "embeddings = model_emb.encode(\n",
    "    df[\"summary\"].tolist(), show_progress_bar=True\n",
    ")\n",
    "\n",
    "df[\"summary_embedding\"] = embeddings.tolist()"
   ]
  },
  {
   "cell_type": "code",
   "execution_count": null,
   "id": "5a45fd8f",
   "metadata": {},
   "outputs": [],
   "source": [
    "df.to_csv(\"../../db/news_2023_2025_summarized.csv\")"
   ]
  },
  {
   "cell_type": "markdown",
   "id": "5ad511eb",
   "metadata": {},
   "source": [
    "## 2 뉴스 경제 및 행동 지표 피쳐 추가\n",
    "- 주가 D+1~D+30 변동률, 금리, 환율, 기관 매매동향, 유가 등"
   ]
  },
  {
   "cell_type": "markdown",
   "id": "5657ae3c",
   "metadata": {},
   "source": [
    "## 3 뉴스 시멘틱 피쳐 추가\n",
    "-  topic별 분포값, 클러스터 동일 여부"
   ]
  },
  {
   "cell_type": "markdown",
   "id": "2aadeb97",
   "metadata": {},
   "source": [
    "## 4 뉴스 관계 피쳐 추가\n",
    "- cosine 유사도, 동일 종목, 동일 키워드 여부 등"
   ]
  }
 ],
 "metadata": {
  "kernelspec": {
   "display_name": "test-0602",
   "language": "python",
   "name": "python3"
  },
  "language_info": {
   "codemirror_mode": {
    "name": "ipython",
    "version": 3
   },
   "file_extension": ".py",
   "mimetype": "text/x-python",
   "name": "python",
   "nbconvert_exporter": "python",
   "pygments_lexer": "ipython3",
   "version": "3.9.21"
  }
 },
 "nbformat": 4,
 "nbformat_minor": 5
}
