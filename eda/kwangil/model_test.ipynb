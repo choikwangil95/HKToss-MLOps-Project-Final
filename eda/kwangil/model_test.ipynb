{
 "cells": [
  {
   "cell_type": "code",
   "execution_count": 2,
   "id": "50cc2b12",
   "metadata": {},
   "outputs": [
    {
     "name": "stderr",
     "output_type": "stream",
     "text": [
      "You passed along `num_labels=3` with an incompatible id to label map: {'0': 'NEGATIVE', '1': 'POSITIVE'}. The number of labels will be overwritten to 2.\n",
      "You passed along `num_labels=3` with an incompatible id to label map: {'0': 'NEGATIVE', '1': 'POSITIVE'}. The number of labels will be overwritten to 2.\n",
      "You passed along `num_labels=3` with an incompatible id to label map: {'0': 'NEGATIVE', '1': 'POSITIVE'}. The number of labels will be overwritten to 2.\n",
      "You passed along `num_labels=3` with an incompatible id to label map: {'0': 'NEGATIVE', '1': 'POSITIVE'}. The number of labels will be overwritten to 2.\n",
      "You passed along `num_labels=3` with an incompatible id to label map: {'0': 'NEGATIVE', '1': 'POSITIVE'}. The number of labels will be overwritten to 2.\n",
      "You passed along `num_labels=3` with an incompatible id to label map: {'0': 'NEGATIVE', '1': 'POSITIVE'}. The number of labels will be overwritten to 2.\n",
      "c:\\Users\\user\\anaconda3\\envs\\test-0602\\lib\\site-packages\\transformers\\models\\bart\\modeling_bart.py:232: TracerWarning: Converting a tensor to a Python boolean might cause the trace to be incorrect. We can't record the data flow of Python values, so this value will be treated as a constant in the future. This means that the trace might not generalize to other inputs!\n",
      "  if attn_weights.size() != (bsz * self.num_heads, tgt_len, src_len):\n",
      "c:\\Users\\user\\anaconda3\\envs\\test-0602\\lib\\site-packages\\transformers\\models\\bart\\modeling_bart.py:239: TracerWarning: Converting a tensor to a Python boolean might cause the trace to be incorrect. We can't record the data flow of Python values, so this value will be treated as a constant in the future. This means that the trace might not generalize to other inputs!\n",
      "  if attention_mask.size() != (bsz, 1, tgt_len, src_len):\n",
      "c:\\Users\\user\\anaconda3\\envs\\test-0602\\lib\\site-packages\\transformers\\models\\bart\\modeling_bart.py:271: TracerWarning: Converting a tensor to a Python boolean might cause the trace to be incorrect. We can't record the data flow of Python values, so this value will be treated as a constant in the future. This means that the trace might not generalize to other inputs!\n",
      "  if attn_output.size() != (bsz * self.num_heads, tgt_len, self.head_dim):\n",
      "c:\\Users\\user\\anaconda3\\envs\\test-0602\\lib\\site-packages\\transformers\\modeling_attn_mask_utils.py:88: TracerWarning: Converting a tensor to a Python boolean might cause the trace to be incorrect. We can't record the data flow of Python values, so this value will be treated as a constant in the future. This means that the trace might not generalize to other inputs!\n",
      "  if input_shape[-1] > 1 or self.sliding_window is not None:\n",
      "c:\\Users\\user\\anaconda3\\envs\\test-0602\\lib\\site-packages\\transformers\\modeling_attn_mask_utils.py:164: TracerWarning: Converting a tensor to a Python boolean might cause the trace to be incorrect. We can't record the data flow of Python values, so this value will be treated as a constant in the future. This means that the trace might not generalize to other inputs!\n",
      "  if past_key_values_length > 0:\n",
      "c:\\Users\\user\\anaconda3\\envs\\test-0602\\lib\\site-packages\\transformers\\models\\bart\\modeling_bart.py:194: TracerWarning: Converting a tensor to a Python boolean might cause the trace to be incorrect. We can't record the data flow of Python values, so this value will be treated as a constant in the future. This means that the trace might not generalize to other inputs!\n",
      "  and past_key_value[0].shape[2] == key_value_states.shape[1]\n",
      "You passed along `num_labels=3` with an incompatible id to label map: {'0': 'NEGATIVE', '1': 'POSITIVE'}. The number of labels will be overwritten to 2.\n"
     ]
    },
    {
     "name": "stdout",
     "output_type": "stream",
     "text": [
      "🎉 ONNX 변환 및 저장 완료: ..\\..\\automation\\models\\kobart_summary_onnx\n"
     ]
    }
   ],
   "source": [
    "from optimum.onnxruntime import ORTModelForSeq2SeqLM\n",
    "from transformers import AutoTokenizer\n",
    "from pathlib import Path\n",
    "\n",
    "model_name = \"digit82/kobart-summarization\"\n",
    "onnx_dir = Path(\"../../automation/models/kobart_summary_onnx\")\n",
    "\n",
    "# ✅ 1. 모델 변환 (export=True) ← 저장 안됨\n",
    "model = ORTModelForSeq2SeqLM.from_pretrained(model_name, export=True)\n",
    "\n",
    "# ✅ 2. ONNX 모델 저장\n",
    "model.save_pretrained(onnx_dir)\n",
    "\n",
    "# ✅ 3. 토크나이저 저장\n",
    "tokenizer = AutoTokenizer.from_pretrained(model_name)\n",
    "tokenizer.save_pretrained(onnx_dir)\n",
    "\n",
    "print(\"🎉 ONNX 변환 및 저장 완료:\", onnx_dir)"
   ]
  },
  {
   "cell_type": "code",
   "execution_count": 77,
   "id": "bbb22af4",
   "metadata": {},
   "outputs": [],
   "source": [
    "from optimum.onnxruntime import ORTModelForSeq2SeqLM\n",
    "from tokenizers import Tokenizer\n",
    "from pathlib import Path\n",
    "import torch\n",
    "\n",
    "def get_summarize_model():\n",
    "    \"\"\"\n",
    "    ONNX 모델과 토크나이저를 반환하는 함수\n",
    "    \"\"\"\n",
    "\n",
    "    model_dir = Path(\"../../automation/models/kobart_summary_onnx\")\n",
    "    model_summarize = ORTModelForSeq2SeqLM.from_pretrained(model_dir, local_files_only=True)\n",
    "\n",
    "    tokenizer_summarize = Tokenizer.from_file(str(model_dir / \"tokenizer.json\"))\n",
    "\n",
    "    return model_summarize, tokenizer_summarize"
   ]
  },
  {
   "cell_type": "code",
   "execution_count": 78,
   "id": "f99488bb",
   "metadata": {},
   "outputs": [
    {
     "name": "stderr",
     "output_type": "stream",
     "text": [
      "You passed along `num_labels=3` with an incompatible id to label map: {'0': 'NEGATIVE', '1': 'POSITIVE'}. The number of labels will be overwritten to 2.\n"
     ]
    }
   ],
   "source": [
    "model_summarize, tokenizer_summarize = get_summarize_model()"
   ]
  },
  {
   "cell_type": "code",
   "execution_count": 81,
   "id": "29515723",
   "metadata": {},
   "outputs": [],
   "source": [
    "def summarize_event_focused(text, model_summarize, tokenizer_summarize):\n",
    "    # 토큰화\n",
    "    encoding = tokenizer_summarize.encode(text)\n",
    "    input_ids = torch.tensor([encoding.ids])\n",
    "\n",
    "    text_length = len(text)\n",
    "\n",
    "    # 1. 최소 길이는 짧은 본문은 고정, 긴 본문은 점진적으로 증가\n",
    "    def compute_min_length(text_length: int) -> int:\n",
    "        if text_length < 300:\n",
    "            return 30\n",
    "        else:\n",
    "            return 50\n",
    "\n",
    "    min_len = compute_min_length(text_length)\n",
    "    max_len = round(text_length * 0.5) + 50  # 더 여유를 주되 max 길이 제한\n",
    "\n",
    "    # 생성\n",
    "    summary_ids = model_summarize.generate(\n",
    "        input_ids,\n",
    "        min_length=min_len,  # 최소 요약 길이 (예: 30)\n",
    "        max_new_tokens=max_len,  # 추가 생성 최대 토큰 수\n",
    "        num_beams=4,  # 빔 서치 개수\n",
    "        length_penalty=1.0,  # 너무 긴 문장 방지\n",
    "        repetition_penalty=1.3,  # 반복 억제\n",
    "        no_repeat_ngram_size=3,  # 동일한 3-gram 반복 금지\n",
    "        early_stopping=True,  # <eos> 토큰 생성 시 중단\n",
    "        # do_sample은 사용하지 않음 (ONNX 미지원)\n",
    "    )\n",
    "    summary = tokenizer_summarize.decode(summary_ids[0].tolist(), skip_special_tokens=True)\n",
    "\n",
    "    return summary"
   ]
  },
  {
   "cell_type": "code",
   "execution_count": 82,
   "id": "6731acf1",
   "metadata": {},
   "outputs": [
    {
     "name": "stdout",
     "output_type": "stream",
     "text": [
      "📄 요약: 카카오페이가 신세계 이마트 측에서 쓱페이·스마일페이 인수를 추진하고 나선 건 국내 간편결제 시장에서 영향력을 확대하기 위한 차원이며, 쓱페이와 스마일페이는 주 이용률 빈도는 낮지만, 이용자가 약 2500만명에 달해 카카오페이와 시너지 효과를 극대화할 수 있다.\n"
     ]
    }
   ],
   "source": [
    "# 입력 문장\n",
    "text = \"\"\"\n",
    "카카오페이, 신세계 페이 품나 이커머스 결제 강화 점유 확대 압도적 1위 네이버에 도전장 매각가 5천억원 안팎 달할 듯 카카오페이가 신세계 이마트 측에서 쓱페이·스마일페이 인수를 추진하고 나선 건 국내 간편결제 시장에서 영향력을 확대하기 위한 차원이다. 미리 계좌·카드를 등록만 해놓으면 간편하게 물건·서비스를 결제할 수 있는 간편결제 시장은 해마다 가파른 성장세를 보이며 전자금융 업계의 중요한 먹거리로 급부상 중이다. 23일 한국은행 등에 따르면 국내 간편지급(간편결제) 서비스 시장의 일평균 이용 금액은 지난해 기준 9594억원에 달한다. 이 중 네이버페이, 카카오페이, 토스페이 등 전자금융업자가 일평균 4814억원, 휴대폰 제조 회사(삼성페이·애플페이 등)가 일평균 2443억원, 금융회사(카드사·은행 등)가 일평균 2337억원을 담당하고 있다. 전자금융업자가 간편지급 시장의 50.7%를 차지하고 있는 셈이다. 현재 전자금융업자는 총 40개에 달하는데, 이 중 빅3인 네이버페이, 카카오페이, 토스페이가 90%의 점유율을 기록 중이다. 이 밖에 쓱페이, 당근페이, 무신사페이, 컬리페이 등도 경쟁을 펼치고 있다. 카카오페이는 선물하기 등 결제 기능이 있지만, 이커머스와 연동돼 있는 네이버, 카드사와 연동돼 있는 토스에 비해 시장점유율이 낮은 상황이다. 이 때문에 카카오페이는 이커머스 기능이 있는 쓱페이·스마일페이 인수를 시도하며 시장점유율 확대를 노릴 것으로 전망된다. 쓱페이와 스마일페이는 주 이용률 빈도는 낮지만, 이용자가 약 2500만명에 달해 카카오페이와 시너지 효과를 극대화할 수 있다. 앞서 신세계그룹은 지난해 한 차례 쓱페이·스마일페이에 대한 매각 작업을 추진하며 우선협상대상자로 토스(비바리퍼블리카)를 선정한 바 있다. 당시 거론된 가격은 7000억원 선이었다. 하지만 양측은 이후 시너지 창출 방안과 관련해 이견이 생겼고, 결국 매각 작업이 무산됐다. 이런 가운데 이날 이마트의 자회사 SSG닷컴은 간편결제 사업부인 \\'쓱페이\\'를 물적분할해 신설 회사인 \\'플래티넘페이먼츠\\'를 설립한다고 밝혔다. 분할 기일은 2025년 7월 1일이며, 신설 법인은 SSG닷컴 자회사로 편입될 예정이다. SSG닷컴 측은 \"간편결제 서비스의 전문성을 강화하고, 범용성을 높여 경영 효율성을 제고하기 위한 결정\"이라고 밝혔다. 관련 업계에서는 간편결제 사업 매각을 위한 이마트 측의 사전정지 작업으로 해석하고 있다. 현재 투자은행(IB) 업계에서 거론되는 쓱페이·스마일페이의 매각가는 약 5000억원 안팎이다. 이번 매각으로 자금이 유입되면 이마트의 재무 개선에도 도움이 될 전망이다. 이마트의 부채 비율은 올해 3월 말 기준 117.4%로, 2022~2023년 90%대 초반이었던 것과 비교하면 부채가 늘어난 상황이다\n",
    "\"\"\"\n",
    "summary = summarize_event_focused(text, model_summarize, tokenizer_summarize)\n",
    "\n",
    "print(\"📄 요약:\", summary)"
   ]
  },
  {
   "cell_type": "code",
   "execution_count": 29,
   "id": "8df65d77",
   "metadata": {},
   "outputs": [],
   "source": [
    "import pandas as pd\n",
    "\n",
    "# 행 전체 출력\n",
    "pd.set_option(\"display.max_rows\", None)\n",
    "\n",
    "# 열 전체 출력\n",
    "pd.set_option(\"display.max_columns\", 200)\n",
    "\n",
    "# 각 열 너비 무제한 출력\n",
    "pd.set_option(\"display.max_colwidth\", 200)\n",
    "\n",
    "# 전체 넓이 제한 해제\n",
    "pd.set_option(\"display.width\", None)"
   ]
  },
  {
   "cell_type": "code",
   "execution_count": 18,
   "id": "deb883fb",
   "metadata": {},
   "outputs": [],
   "source": [
    "import re\n",
    "from kss import split_sentences\n",
    "\n",
    "def remove_market_related_sentences(text: str) -> str:\n",
    "    # 줄바꿈 제거\n",
    "    text = text.replace(\"\\n\", \" \")\n",
    "\n",
    "    # 대괄호 포함 텍스트 제거: [파이낸셜뉴스], [사진] 등\n",
    "    text = re.sub(r\"\\[[^\\]]*\\]\", \"\", text)\n",
    "\n",
    "    # '/사진', '/사진제공' 제거\n",
    "    text = re.sub(r\"/사진(제공)?\", \"\", text)\n",
    "\n",
    "    # 이메일 주소 제거 (예: josh@yna.co.kr)\n",
    "    text = re.sub(r\"\\b[\\w.-]+@[\\w.-]+\\.\\w+\\b\", \"\", text)\n",
    "\n",
    "    # 문장 단위 분리 (간단하게 마침표 기준, 필요시 KSS 등 적용 가능)\n",
    "    sentences = split_sentences(text)\n",
    "\n",
    "    # 제거할 패턴들 (뉴스 문장에서 자주 등장하는 패턴)\n",
    "    patterns = [\n",
    "        r\"(자세한 내용|자세한 사항)\",  # 뉴스 기본 표현\n",
    "        r\"\\d{4}[.-]\\d{1,2}[.-]\\d{1,2}\",  # 날짜 (예: 2025.03.26, 2024-12-01)\n",
    "        r\"([0-9,]+(?:만)?[0-9,]*\\s?(?:원|만원))\",  # 가격 (예: 3,500원, 12000원)\n",
    "        r\"(강세|펀드|시가총액|등락률|한국거래소)\",  # 증시 용어\n",
    "        r\"\\([+-]?[0-9.,]+%\\)\",  # 괄호 안 퍼센트 등락률\n",
    "        r\"(투자의견|연구원|평가|예상치|증권가|리포트|팀장)\",  # 애널리스트 용어\n",
    "        r\"(순이익|전년|매출|영업이익|영업적자|증시|코스피|코스닥|다우|나스닥|매출액|거래일|호조세|레버리지|투자자|조정|자산|수익률|이익률|수익성|내리막|부진한|낙폭|기대치|실적발표|기업 가치)\",  # 시장 용어\n",
    "    ]\n",
    "\n",
    "    # 하나의 통합 패턴으로 컴파일\n",
    "    combined_pattern = re.compile(\"|\".join(patterns))\n",
    "\n",
    "    # 필터링된 문장만 유지\n",
    "    filtered = [s for s in sentences if not combined_pattern.search(s)]\n",
    "\n",
    "    text_preprocessed = \" \".join(filtered)\n",
    "\n",
    "    # print(f\"원문:{sentences}\\n|\\n전처리 된 문장: {text_preprocessed}\\n\\n\")\n",
    "\n",
    "    return text_preprocessed"
   ]
  },
  {
   "cell_type": "code",
   "execution_count": 19,
   "id": "5df16d43",
   "metadata": {},
   "outputs": [
    {
     "name": "stderr",
     "output_type": "stream",
     "text": [
      "[Kss]: Oh! You have mecab in your environment. Kss will take this as a backend! :D\n",
      "\n"
     ]
    }
   ],
   "source": [
    "df_5 = df.head(5).copy()\n",
    "df_5['article'] = df_5['article'].apply(remove_market_related_sentences)"
   ]
  },
  {
   "cell_type": "code",
   "execution_count": 36,
   "id": "75c77c57",
   "metadata": {},
   "outputs": [
    {
     "data": {
      "text/plain": [
       "'카카오페이, 신세계 페이 품나 이커머스 결제 강화 점유 확대 압도적 1위 네이버에 도전장 매각가 5천억원 안팎 달할 듯 카카오페이가 신세계 이마트 측에서 쓱페이·스마일페이 인수를 추진하고 나선 건 국내 간편결제 시장에서 영향력을 확대하기 위한 차원이다. 미리 계좌·카드를 등록만 해놓으면 간편하게 물건·서비스를 결제할 수 있는 간편결제 시장은 해마다 가파른 성장세를 보이며 전자금융 업계의 중요한 먹거리로 급부상 중이다. 23일 한국은행 등에 따르면 국내 간편지급(간편결제) 서비스 시장의 일평균 이용 금액은 지난해 기준 9594억원에 달한다. 이 중 네이버페이, 카카오페이, 토스페이 등 전자금융업자가 일평균 4814억원, 휴대폰 제조 회사(삼성페이·애플페이 등)가 일평균 2443억원, 금융회사(카드사·은행 등)가 일평균 2337억원을 담당하고 있다. 전자금융업자가 간편지급 시장의 50.7%를 차지하고 있는 셈이다. 현재 전자금융업자는 총 40개에 달하는데, 이 중 빅3인 네이버페이, 카카오페이, 토스페이가 90%의 점유율을 기록 중이다. 이 밖에 쓱페이, 당근페이, 무신사페이, 컬리페이 등도 경쟁을 펼치고 있다. 카카오페이는 선물하기 등 결제 기능이 있지만, 이커머스와 연동돼 있는 네이버, 카드사와 연동돼 있는 토스에 비해 시장점유율이 낮은 상황이다. 이 때문에 카카오페이는 이커머스 기능이 있는 쓱페이·스마일페이 인수를 시도하며 시장점유율 확대를 노릴 것으로 전망된다. 쓱페이와 스마일페이는 주 이용률 빈도는 낮지만, 이용자가 약 2500만명에 달해 카카오페이와 시너지 효과를 극대화할 수 있다. 앞서 신세계그룹은 지난해 한 차례 쓱페이·스마일페이에 대한 매각 작업을 추진하며 우선협상대상자로 토스(비바리퍼블리카)를 선정한 바 있다. 당시 거론된 가격은 7000억원 선이었다. 하지만 양측은 이후 시너지 창출 방안과 관련해 이견이 생겼고, 결국 매각 작업이 무산됐다. 이런 가운데 이날 이마트의 자회사 SSG닷컴은 간편결제 사업부인 \\'쓱페이\\'를 물적분할해 신설 회사인 \\'플래티넘페이먼츠\\'를 설립한다고 밝혔다. 분할 기일은 2025년 7월 1일이며, 신설 법인은 SSG닷컴 자회사로 편입될 예정이다. SSG닷컴 측은 \"간편결제 서비스의 전문성을 강화하고, 범용성을 높여 경영 효율성을 제고하기 위한 결정\"이라고 밝혔다. 관련 업계에서는 간편결제 사업 매각을 위한 이마트 측의 사전정지 작업으로 해석하고 있다. 현재 투자은행(IB) 업계에서 거론되는 쓱페이·스마일페이의 매각가는 약 5000억원 안팎이다. 이번 매각으로 자금이 유입되면 이마트의 재무 개선에도 도움이 될 전망이다. 이마트의 부채 비율은 올해 3월 말 기준 117.4%로, 2022~2023년 90%대 초반이었던 것과 비교하면 부채가 늘어난 상황이다.'"
      ]
     },
     "execution_count": 36,
     "metadata": {},
     "output_type": "execute_result"
    }
   ],
   "source": [
    "df_5['article'][4]"
   ]
  },
  {
   "cell_type": "code",
   "execution_count": 38,
   "id": "4a54f312",
   "metadata": {},
   "outputs": [
    {
     "name": "stdout",
     "output_type": "stream",
     "text": [
      "✅ NER ONNX 모델 저장 완료: ..\\..\\automoation\\models\\ner_onnx\n"
     ]
    }
   ],
   "source": [
    "from transformers import AutoTokenizer\n",
    "from optimum.onnxruntime import ORTModelForTokenClassification\n",
    "from pathlib import Path\n",
    "\n",
    "model_id = \"KPF/KPF-BERT-NER\"\n",
    "save_dir = Path(\"../../automoation/models/ner_onnx\")\n",
    "\n",
    "# ONNX로 export\n",
    "model = ORTModelForTokenClassification.from_pretrained(model_id, export=True)\n",
    "model.save_pretrained(save_dir)\n",
    "\n",
    "# tokenizer도 저장\n",
    "tokenizer = AutoTokenizer.from_pretrained(model_id)\n",
    "tokenizer.save_pretrained(save_dir)\n",
    "\n",
    "print(\"✅ NER ONNX 모델 저장 완료:\", save_dir)"
   ]
  },
  {
   "cell_type": "code",
   "execution_count": null,
   "id": "430e7173",
   "metadata": {},
   "outputs": [],
   "source": [
    "import onnxruntime as ort\n",
    "\n",
    "def get_ner_tokenizer():\n",
    "    \"\"\"\n",
    "    ONNX NER 모델을 위한 토크나이저를 반환합니다.\n",
    "    \"\"\"\n",
    "\n",
    "    # 🟢 토크나이저 로딩\n",
    "    tokenizer_ner = Tokenizer.from_file(\"../../automation/models/ner_onnx/tokenizer.json\")\n",
    "\n",
    "    # 🟢 ONNX 모델 세션 로딩\n",
    "    session_ner = ort.InferenceSession(\"../../automation/models/ner_onnx/model.onnx\")\n",
    "\n",
    "    return tokenizer_ner, session_ner"
   ]
  },
  {
   "cell_type": "code",
   "execution_count": 67,
   "id": "017227ad",
   "metadata": {},
   "outputs": [],
   "source": [
    "import numpy as np\n",
    "from label_map import id2label  # 라벨 ID ↔ 라벨명 매핑\n",
    "\n",
    "tokenizer_ner, session_ner = get_ner_tokenizer()\n",
    "\n",
    "def get_ner_tokens(tokenizer, session, text, id2label):\n",
    "    # 🟡 토큰화 및 입력값 준비\n",
    "    encoding = tokenizer.encode(text)\n",
    "    input_ids = np.array([encoding.ids], dtype=np.int64)\n",
    "    attention_mask = np.ones_like(input_ids, dtype=np.int64)\n",
    "    token_type_ids = np.zeros_like(input_ids, dtype=np.int64)\n",
    "\n",
    "    # 🔵 ONNX 추론 실행\n",
    "    inputs = {\n",
    "        \"input_ids\": input_ids,\n",
    "        \"attention_mask\": attention_mask,\n",
    "        \"token_type_ids\": token_type_ids,\n",
    "    }\n",
    "\n",
    "    logits = session.run(None, inputs)[0]  # shape: (1, seq_len, num_labels)\n",
    "\n",
    "    # 🔵 라벨 인덱스 → 실제 라벨명\n",
    "    preds = np.argmax(logits, axis=-1)[0]\n",
    "    labels = [id2label[p] for p in preds[: len(encoding.tokens)]]\n",
    "\n",
    "    # 🔵 시각화\n",
    "    tokens = encoding.tokens\n",
    "\n",
    "    return tokens, labels"
   ]
  },
  {
   "cell_type": "code",
   "execution_count": null,
   "id": "106d80bc",
   "metadata": {},
   "outputs": [],
   "source": [
    "def extract_ogg_economy(tokens, labels, target_label=\"OGG_ECONOMY\"):\n",
    "    merged_words = []\n",
    "    current_word = \"\"\n",
    "\n",
    "    for token, label in zip(tokens, labels):\n",
    "        token_clean = token.replace(\"##\", \"\") if token.startswith(\"##\") else token\n",
    "\n",
    "        if label == f\"B-{target_label}\":\n",
    "            if current_word:\n",
    "                merged_words.append(current_word)\n",
    "            current_word = token_clean\n",
    "\n",
    "        elif label == f\"I-{target_label}\":\n",
    "            current_word += token_clean\n",
    "\n",
    "        else:\n",
    "            if current_word:\n",
    "                merged_words.append(current_word)\n",
    "                current_word = \"\"\n",
    "\n",
    "    if current_word:\n",
    "        merged_words.append(current_word)\n",
    "\n",
    "    stock_list = merged_words.copy()\n",
    "\n",
    "    return stock_list"
   ]
  },
  {
   "cell_type": "code",
   "execution_count": 71,
   "id": "8efe21cb",
   "metadata": {},
   "outputs": [
    {
     "data": {
      "text/plain": [
       "['골드만삭스', '한국은행', '삼성전자', 'MBK파트너스']"
      ]
     },
     "execution_count": 71,
     "metadata": {},
     "output_type": "execute_result"
    }
   ],
   "source": [
    "import numpy as np\n",
    "from label_map import id2label  # 라벨 ID ↔ 라벨명 매핑\n",
    "\n",
    "text = \"\"\"\n",
    "세계 2위 투자은행(IB)인 골드만삭스의 사장 겸 최고운영책임자(COO)인 존 월드론이 방한해 이창용 한국은행 총재, 이재용 삼성전자 회장, 김병주 MBK파트너스 회장 등과 함께 한국의 금융당국, 기업 및 금융계와의 협력 방안을 논의했다.\n",
    "\"\"\"\n",
    "\n",
    "tokens, labels = get_ner_tokens(tokenizer_ner, session_ner, text, id2label)\n",
    "stock_list = extract_ogg_economy(tokens, labels, target_label=\"OGG_ECONOMY\")\n",
    "stock_list"
   ]
  },
  {
   "cell_type": "code",
   "execution_count": null,
   "id": "7de794ad",
   "metadata": {},
   "outputs": [],
   "source": []
  }
 ],
 "metadata": {
  "kernelspec": {
   "display_name": "test-0602",
   "language": "python",
   "name": "python3"
  },
  "language_info": {
   "codemirror_mode": {
    "name": "ipython",
    "version": 3
   },
   "file_extension": ".py",
   "mimetype": "text/x-python",
   "name": "python",
   "nbconvert_exporter": "python",
   "pygments_lexer": "ipython3",
   "version": "3.9.21"
  }
 },
 "nbformat": 4,
 "nbformat_minor": 5
}
