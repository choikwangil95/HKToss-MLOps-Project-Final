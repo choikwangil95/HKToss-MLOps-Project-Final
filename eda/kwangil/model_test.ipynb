{
 "cells": [
  {
   "cell_type": "code",
   "execution_count": 2,
   "id": "50cc2b12",
   "metadata": {},
   "outputs": [
    {
     "name": "stderr",
     "output_type": "stream",
     "text": [
      "You passed along `num_labels=3` with an incompatible id to label map: {'0': 'NEGATIVE', '1': 'POSITIVE'}. The number of labels will be overwritten to 2.\n",
      "You passed along `num_labels=3` with an incompatible id to label map: {'0': 'NEGATIVE', '1': 'POSITIVE'}. The number of labels will be overwritten to 2.\n",
      "You passed along `num_labels=3` with an incompatible id to label map: {'0': 'NEGATIVE', '1': 'POSITIVE'}. The number of labels will be overwritten to 2.\n",
      "You passed along `num_labels=3` with an incompatible id to label map: {'0': 'NEGATIVE', '1': 'POSITIVE'}. The number of labels will be overwritten to 2.\n",
      "You passed along `num_labels=3` with an incompatible id to label map: {'0': 'NEGATIVE', '1': 'POSITIVE'}. The number of labels will be overwritten to 2.\n",
      "You passed along `num_labels=3` with an incompatible id to label map: {'0': 'NEGATIVE', '1': 'POSITIVE'}. The number of labels will be overwritten to 2.\n",
      "c:\\Users\\user\\anaconda3\\envs\\test-0602\\lib\\site-packages\\transformers\\models\\bart\\modeling_bart.py:232: TracerWarning: Converting a tensor to a Python boolean might cause the trace to be incorrect. We can't record the data flow of Python values, so this value will be treated as a constant in the future. This means that the trace might not generalize to other inputs!\n",
      "  if attn_weights.size() != (bsz * self.num_heads, tgt_len, src_len):\n",
      "c:\\Users\\user\\anaconda3\\envs\\test-0602\\lib\\site-packages\\transformers\\models\\bart\\modeling_bart.py:239: TracerWarning: Converting a tensor to a Python boolean might cause the trace to be incorrect. We can't record the data flow of Python values, so this value will be treated as a constant in the future. This means that the trace might not generalize to other inputs!\n",
      "  if attention_mask.size() != (bsz, 1, tgt_len, src_len):\n",
      "c:\\Users\\user\\anaconda3\\envs\\test-0602\\lib\\site-packages\\transformers\\models\\bart\\modeling_bart.py:271: TracerWarning: Converting a tensor to a Python boolean might cause the trace to be incorrect. We can't record the data flow of Python values, so this value will be treated as a constant in the future. This means that the trace might not generalize to other inputs!\n",
      "  if attn_output.size() != (bsz * self.num_heads, tgt_len, self.head_dim):\n",
      "c:\\Users\\user\\anaconda3\\envs\\test-0602\\lib\\site-packages\\transformers\\modeling_attn_mask_utils.py:88: TracerWarning: Converting a tensor to a Python boolean might cause the trace to be incorrect. We can't record the data flow of Python values, so this value will be treated as a constant in the future. This means that the trace might not generalize to other inputs!\n",
      "  if input_shape[-1] > 1 or self.sliding_window is not None:\n",
      "c:\\Users\\user\\anaconda3\\envs\\test-0602\\lib\\site-packages\\transformers\\modeling_attn_mask_utils.py:164: TracerWarning: Converting a tensor to a Python boolean might cause the trace to be incorrect. We can't record the data flow of Python values, so this value will be treated as a constant in the future. This means that the trace might not generalize to other inputs!\n",
      "  if past_key_values_length > 0:\n",
      "c:\\Users\\user\\anaconda3\\envs\\test-0602\\lib\\site-packages\\transformers\\models\\bart\\modeling_bart.py:194: TracerWarning: Converting a tensor to a Python boolean might cause the trace to be incorrect. We can't record the data flow of Python values, so this value will be treated as a constant in the future. This means that the trace might not generalize to other inputs!\n",
      "  and past_key_value[0].shape[2] == key_value_states.shape[1]\n",
      "You passed along `num_labels=3` with an incompatible id to label map: {'0': 'NEGATIVE', '1': 'POSITIVE'}. The number of labels will be overwritten to 2.\n"
     ]
    },
    {
     "name": "stdout",
     "output_type": "stream",
     "text": [
      "🎉 ONNX 변환 및 저장 완료: ..\\..\\automation\\models\\kobart_summary_onnx\n"
     ]
    }
   ],
   "source": [
    "from optimum.onnxruntime import ORTModelForSeq2SeqLM\n",
    "from transformers import AutoTokenizer\n",
    "from pathlib import Path\n",
    "\n",
    "model_name = \"digit82/kobart-summarization\"\n",
    "onnx_dir = Path(\"../../automation/models/kobart_summary_onnx\")\n",
    "\n",
    "# ✅ 1. 모델 변환 (export=True) ← 저장 안됨\n",
    "model = ORTModelForSeq2SeqLM.from_pretrained(model_name, export=True)\n",
    "\n",
    "# ✅ 2. ONNX 모델 저장\n",
    "model.save_pretrained(onnx_dir)\n",
    "\n",
    "# ✅ 3. 토크나이저 저장\n",
    "tokenizer = AutoTokenizer.from_pretrained(model_name)\n",
    "tokenizer.save_pretrained(onnx_dir)\n",
    "\n",
    "print(\"🎉 ONNX 변환 및 저장 완료:\", onnx_dir)"
   ]
  },
  {
   "cell_type": "code",
   "execution_count": 16,
   "id": "bbb22af4",
   "metadata": {},
   "outputs": [
    {
     "name": "stderr",
     "output_type": "stream",
     "text": [
      "c:\\Users\\user\\anaconda3\\envs\\test-0602\\lib\\site-packages\\tqdm\\auto.py:21: TqdmWarning: IProgress not found. Please update jupyter and ipywidgets. See https://ipywidgets.readthedocs.io/en/stable/user_install.html\n",
      "  from .autonotebook import tqdm as notebook_tqdm\n"
     ]
    }
   ],
   "source": [
    "from optimum.onnxruntime import ORTModelForSeq2SeqLM\n",
    "from tokenizers import Tokenizer\n",
    "from pathlib import Path\n",
    "import torch\n",
    "\n",
    "def get_summarize_model():\n",
    "    \"\"\"\n",
    "    ONNX 모델과 토크나이저를 반환하는 함수\n",
    "    \"\"\"\n",
    "\n",
    "    model_dir = Path(\"../../automation/models/kobart_summary_onnx\")\n",
    "    model_summarize = ORTModelForSeq2SeqLM.from_pretrained(model_dir, local_files_only=True)\n",
    "\n",
    "    tokenizer_summarize = Tokenizer.from_file(str(model_dir / \"tokenizer.json\"))\n",
    "\n",
    "    return model_summarize, tokenizer_summarize"
   ]
  },
  {
   "cell_type": "code",
   "execution_count": null,
   "id": "287ac95f",
   "metadata": {},
   "outputs": [],
   "source": [
    "import numpy as np\n",
    "import onnxruntime as ort\n",
    "from tokenizers import Tokenizer\n",
    "from pathlib import Path\n",
    "\n",
    "# ⬇ 모델 세션 초기화\n",
    "def load_model():\n",
    "    base_path = Path(\"../../automation/models/kobart_summary_onnx\")\n",
    "    encoder_sess = ort.InferenceSession(str(base_path / \"encoder_model.onnx\"))\n",
    "    decoder_sess = ort.InferenceSession(str(base_path / \"decoder_model.onnx\"))\n",
    "    tokenizer = Tokenizer.from_file(str(base_path / \"tokenizer.json\"))\n",
    "    return encoder_sess, decoder_sess, tokenizer\n",
    "\n",
    "\n",
    "# ⬇ 디코딩 함수 (greedy 또는 beam=1)\n",
    "def summarize_event_focused(\n",
    "    text,\n",
    "    encoder_sess,\n",
    "    decoder_sess,\n",
    "    tokenizer,\n",
    "    max_length=128,\n",
    "    no_repeat_ngram_size=3,\n",
    "    repetition_penalty=1.2,\n",
    "):\n",
    "    input_ids = tokenizer.encode(text).ids\n",
    "    input_ids_np = np.array([input_ids], dtype=np.int64)\n",
    "    attention_mask = np.ones_like(input_ids_np, dtype=np.int64)\n",
    "\n",
    "    encoder_outputs = encoder_sess.run(\n",
    "        None, {\"input_ids\": input_ids_np, \"attention_mask\": attention_mask}\n",
    "    )[0]\n",
    "\n",
    "    decoder_input_ids = [tokenizer.token_to_id(\"<s>\")]\n",
    "    generated_ids = decoder_input_ids.copy()\n",
    "\n",
    "    for _ in range(max_length):\n",
    "        decoder_input_np = np.array([generated_ids], dtype=np.int64)\n",
    "        decoder_inputs = {\n",
    "            \"input_ids\": decoder_input_np,\n",
    "            \"encoder_hidden_states\": encoder_outputs,\n",
    "            \"encoder_attention_mask\": attention_mask,\n",
    "        }\n",
    "        logits = decoder_sess.run(None, decoder_inputs)[0]\n",
    "        next_token_logits = logits[:, -1, :]\n",
    "\n",
    "        # repetition penalty 적용\n",
    "        for token_id in set(generated_ids):\n",
    "            next_token_logits[0, token_id] /= repetition_penalty\n",
    "\n",
    "        # no_repeat_ngram_size 적용\n",
    "        if no_repeat_ngram_size > 0 and len(generated_ids) >= no_repeat_ngram_size:\n",
    "            ngram = tuple(generated_ids[-(no_repeat_ngram_size - 1) :])\n",
    "            banned = {\n",
    "                tuple(generated_ids[i : i + no_repeat_ngram_size])\n",
    "                for i in range(len(generated_ids) - no_repeat_ngram_size + 1)\n",
    "            }\n",
    "            for token_id in range(next_token_logits.shape[-1]):\n",
    "                if ngram + (token_id,) in banned:\n",
    "                    next_token_logits[0, token_id] = -1e9  # 큰 마이너스\n",
    "\n",
    "        # greedy 선택\n",
    "        next_token_id = int(np.argmax(next_token_logits, axis=-1)[0])\n",
    "\n",
    "        if next_token_id == tokenizer.token_to_id(\"</s>\"):\n",
    "            break\n",
    "\n",
    "        generated_ids.append(next_token_id)\n",
    "\n",
    "    return tokenizer.decode(generated_ids, skip_special_tokens=True)"
   ]
  },
  {
   "cell_type": "code",
   "execution_count": 37,
   "id": "f99488bb",
   "metadata": {},
   "outputs": [],
   "source": [
    "encoder_sess, decoder_sess, tokenizer = load_model()"
   ]
  },
  {
   "cell_type": "code",
   "execution_count": 58,
   "id": "6731acf1",
   "metadata": {},
   "outputs": [
    {
     "name": "stdout",
     "output_type": "stream",
     "text": [
      "📄 요약: 삼성바이오로직스는 의약품 위탁 개발·생산(CDMO) 부문은 존속법인에 남기고, 신설법인인 삼성바이오에피스 지분 100%를 승계하도록 하는 방안을 추진하겠다고 밝히며 본격적인 신약 개발에 나서겠다는 의미하고 해석하였다.\n"
     ]
    }
   ],
   "source": [
    "# 입력 문장\n",
    "text = \"\"\"\n",
    "'사진=한경DB\\n키움증권은 23일 삼성바이오로직스에 대해 인적분할을 추진하는 건 본격적인 신약 개발에 나서겠다는 의미하고 해석했다.\\n삼성바이오로직스는 인적분할을 통해 의약품 위탁 개발·생산(CDMO) 부문은 존속법인에 남기고, 신설법인인 삼성에피스홀딩스에 삼성바이오에피스 지분 100%를 승계하도록 하는 방안을 추진하겠다고 공시했다.\\n이에 대해 허혜민 키움증권 연구원은 “삼성그룹이 (삼성에피스홀딩스를 통해) 본격적으로 신약 개발을 시작한다는 의미로 해석된다”고 말했다. 이어 “삼성바이오로직스는 글로벌 파트너십 확대를 위한 영업활동이 수월해질 것”이라며 “분할된 신설법인은 투자지주회사로 신성장 동력 발굴과 연구·개발(R&D) 및 기업 인수·합병(M&A)를 통해 적극적인 성장을 추진할 것”이라고 내다봤다.\\n이번 분할 추진이 단기적으로 펀더멘털에 미치는 영향은 미미할 것으로 분석됐다.\\n다만 허 연구원은 “최근 인적분할 업체들의 분할상장 전 주가 수익률이 대체로 상승 흐름을 나타냈다”며 “이후 각 사의 펀더멘털, 수급, 모멘텀에 따라 변동했다”고 전했다.\n",
    "\"\"\"\n",
    "\n",
    "summary = summarize_event_focused(text, encoder_sess, decoder_sess, tokenizer)\n",
    "\n",
    "print(\"📄 요약:\", summary)"
   ]
  },
  {
   "cell_type": "code",
   "execution_count": 29,
   "id": "8df65d77",
   "metadata": {},
   "outputs": [],
   "source": [
    "import pandas as pd\n",
    "\n",
    "# 행 전체 출력\n",
    "pd.set_option(\"display.max_rows\", None)\n",
    "\n",
    "# 열 전체 출력\n",
    "pd.set_option(\"display.max_columns\", 200)\n",
    "\n",
    "# 각 열 너비 무제한 출력\n",
    "pd.set_option(\"display.max_colwidth\", 200)\n",
    "\n",
    "# 전체 넓이 제한 해제\n",
    "pd.set_option(\"display.width\", None)"
   ]
  },
  {
   "cell_type": "code",
   "execution_count": 18,
   "id": "deb883fb",
   "metadata": {},
   "outputs": [],
   "source": [
    "import re\n",
    "from kss import split_sentences\n",
    "\n",
    "def remove_market_related_sentences(text: str) -> str:\n",
    "    # 줄바꿈 제거\n",
    "    text = text.replace(\"\\n\", \" \")\n",
    "\n",
    "    # 대괄호 포함 텍스트 제거: [파이낸셜뉴스], [사진] 등\n",
    "    text = re.sub(r\"\\[[^\\]]*\\]\", \"\", text)\n",
    "\n",
    "    # '/사진', '/사진제공' 제거\n",
    "    text = re.sub(r\"/사진(제공)?\", \"\", text)\n",
    "\n",
    "    # 이메일 주소 제거 (예: josh@yna.co.kr)\n",
    "    text = re.sub(r\"\\b[\\w.-]+@[\\w.-]+\\.\\w+\\b\", \"\", text)\n",
    "\n",
    "    # 문장 단위 분리 (간단하게 마침표 기준, 필요시 KSS 등 적용 가능)\n",
    "    sentences = split_sentences(text)\n",
    "\n",
    "    # 제거할 패턴들 (뉴스 문장에서 자주 등장하는 패턴)\n",
    "    patterns = [\n",
    "        r\"(자세한 내용|자세한 사항)\",  # 뉴스 기본 표현\n",
    "        r\"\\d{4}[.-]\\d{1,2}[.-]\\d{1,2}\",  # 날짜 (예: 2025.03.26, 2024-12-01)\n",
    "        r\"([0-9,]+(?:만)?[0-9,]*\\s?(?:원|만원))\",  # 가격 (예: 3,500원, 12000원)\n",
    "        r\"(강세|펀드|시가총액|등락률|한국거래소)\",  # 증시 용어\n",
    "        r\"\\([+-]?[0-9.,]+%\\)\",  # 괄호 안 퍼센트 등락률\n",
    "        r\"(투자의견|연구원|평가|예상치|증권가|리포트|팀장)\",  # 애널리스트 용어\n",
    "        r\"(순이익|전년|매출|영업이익|영업적자|증시|코스피|코스닥|다우|나스닥|매출액|거래일|호조세|레버리지|투자자|조정|자산|수익률|이익률|수익성|내리막|부진한|낙폭|기대치|실적발표|기업 가치)\",  # 시장 용어\n",
    "    ]\n",
    "\n",
    "    # 하나의 통합 패턴으로 컴파일\n",
    "    combined_pattern = re.compile(\"|\".join(patterns))\n",
    "\n",
    "    # 필터링된 문장만 유지\n",
    "    filtered = [s for s in sentences if not combined_pattern.search(s)]\n",
    "\n",
    "    text_preprocessed = \" \".join(filtered)\n",
    "\n",
    "    # print(f\"원문:{sentences}\\n|\\n전처리 된 문장: {text_preprocessed}\\n\\n\")\n",
    "\n",
    "    return text_preprocessed"
   ]
  },
  {
   "cell_type": "code",
   "execution_count": 19,
   "id": "5df16d43",
   "metadata": {},
   "outputs": [
    {
     "name": "stderr",
     "output_type": "stream",
     "text": [
      "[Kss]: Oh! You have mecab in your environment. Kss will take this as a backend! :D\n",
      "\n"
     ]
    }
   ],
   "source": [
    "df_5 = df.head(5).copy()\n",
    "df_5['article'] = df_5['article'].apply(remove_market_related_sentences)"
   ]
  },
  {
   "cell_type": "code",
   "execution_count": 39,
   "id": "75c77c57",
   "metadata": {},
   "outputs": [
    {
     "ename": "NameError",
     "evalue": "name 'df_5' is not defined",
     "output_type": "error",
     "traceback": [
      "\u001b[1;31m---------------------------------------------------------------------------\u001b[0m",
      "\u001b[1;31mNameError\u001b[0m                                 Traceback (most recent call last)",
      "Cell \u001b[1;32mIn[39], line 1\u001b[0m\n\u001b[1;32m----> 1\u001b[0m \u001b[43mdf_5\u001b[49m[\u001b[38;5;124m'\u001b[39m\u001b[38;5;124marticle\u001b[39m\u001b[38;5;124m'\u001b[39m][\u001b[38;5;241m2\u001b[39m]\n",
      "\u001b[1;31mNameError\u001b[0m: name 'df_5' is not defined"
     ]
    }
   ],
   "source": [
    "df_5['article'][2]"
   ]
  },
  {
   "cell_type": "code",
   "execution_count": 38,
   "id": "4a54f312",
   "metadata": {},
   "outputs": [
    {
     "name": "stdout",
     "output_type": "stream",
     "text": [
      "✅ NER ONNX 모델 저장 완료: ..\\..\\automoation\\models\\ner_onnx\n"
     ]
    }
   ],
   "source": [
    "from transformers import AutoTokenizer\n",
    "from optimum.onnxruntime import ORTModelForTokenClassification\n",
    "from pathlib import Path\n",
    "\n",
    "model_id = \"KPF/KPF-BERT-NER\"\n",
    "save_dir = Path(\"../../automoation/models/ner_onnx\")\n",
    "\n",
    "# ONNX로 export\n",
    "model = ORTModelForTokenClassification.from_pretrained(model_id, export=True)\n",
    "model.save_pretrained(save_dir)\n",
    "\n",
    "# tokenizer도 저장\n",
    "tokenizer = AutoTokenizer.from_pretrained(model_id)\n",
    "tokenizer.save_pretrained(save_dir)\n",
    "\n",
    "print(\"✅ NER ONNX 모델 저장 완료:\", save_dir)"
   ]
  },
  {
   "cell_type": "code",
   "execution_count": null,
   "id": "430e7173",
   "metadata": {},
   "outputs": [],
   "source": [
    "import onnxruntime as ort\n",
    "\n",
    "def get_ner_tokenizer():\n",
    "    \"\"\"\n",
    "    ONNX NER 모델을 위한 토크나이저를 반환합니다.\n",
    "    \"\"\"\n",
    "\n",
    "    # 🟢 토크나이저 로딩\n",
    "    tokenizer_ner = Tokenizer.from_file(\"../../automation/models/ner_onnx/tokenizer.json\")\n",
    "\n",
    "    # 🟢 ONNX 모델 세션 로딩\n",
    "    session_ner = ort.InferenceSession(\"../../automation/models/ner_onnx/model.onnx\")\n",
    "\n",
    "    return tokenizer_ner, session_ner"
   ]
  },
  {
   "cell_type": "code",
   "execution_count": 67,
   "id": "017227ad",
   "metadata": {},
   "outputs": [],
   "source": [
    "import numpy as np\n",
    "from label_map import id2label  # 라벨 ID ↔ 라벨명 매핑\n",
    "\n",
    "tokenizer_ner, session_ner = get_ner_tokenizer()\n",
    "\n",
    "def get_ner_tokens(tokenizer, session, text, id2label):\n",
    "    # 🟡 토큰화 및 입력값 준비\n",
    "    encoding = tokenizer.encode(text)\n",
    "    input_ids = np.array([encoding.ids], dtype=np.int64)\n",
    "    attention_mask = np.ones_like(input_ids, dtype=np.int64)\n",
    "    token_type_ids = np.zeros_like(input_ids, dtype=np.int64)\n",
    "\n",
    "    # 🔵 ONNX 추론 실행\n",
    "    inputs = {\n",
    "        \"input_ids\": input_ids,\n",
    "        \"attention_mask\": attention_mask,\n",
    "        \"token_type_ids\": token_type_ids,\n",
    "    }\n",
    "\n",
    "    logits = session.run(None, inputs)[0]  # shape: (1, seq_len, num_labels)\n",
    "\n",
    "    # 🔵 라벨 인덱스 → 실제 라벨명\n",
    "    preds = np.argmax(logits, axis=-1)[0]\n",
    "    labels = [id2label[p] for p in preds[: len(encoding.tokens)]]\n",
    "\n",
    "    # 🔵 시각화\n",
    "    tokens = encoding.tokens\n",
    "\n",
    "    return tokens, labels"
   ]
  },
  {
   "cell_type": "code",
   "execution_count": null,
   "id": "106d80bc",
   "metadata": {},
   "outputs": [],
   "source": [
    "def extract_ogg_economy(tokens, labels, target_label=\"OGG_ECONOMY\"):\n",
    "    merged_words = []\n",
    "    current_word = \"\"\n",
    "\n",
    "    for token, label in zip(tokens, labels):\n",
    "        token_clean = token.replace(\"##\", \"\") if token.startswith(\"##\") else token\n",
    "\n",
    "        if label == f\"B-{target_label}\":\n",
    "            if current_word:\n",
    "                merged_words.append(current_word)\n",
    "            current_word = token_clean\n",
    "\n",
    "        elif label == f\"I-{target_label}\":\n",
    "            current_word += token_clean\n",
    "\n",
    "        else:\n",
    "            if current_word:\n",
    "                merged_words.append(current_word)\n",
    "                current_word = \"\"\n",
    "\n",
    "    if current_word:\n",
    "        merged_words.append(current_word)\n",
    "\n",
    "    stock_list = merged_words.copy()\n",
    "\n",
    "    return stock_list"
   ]
  },
  {
   "cell_type": "code",
   "execution_count": 71,
   "id": "8efe21cb",
   "metadata": {},
   "outputs": [
    {
     "data": {
      "text/plain": [
       "['골드만삭스', '한국은행', '삼성전자', 'MBK파트너스']"
      ]
     },
     "execution_count": 71,
     "metadata": {},
     "output_type": "execute_result"
    }
   ],
   "source": [
    "import numpy as np\n",
    "from label_map import id2label  # 라벨 ID ↔ 라벨명 매핑\n",
    "\n",
    "text = \"\"\"\n",
    "세계 2위 투자은행(IB)인 골드만삭스의 사장 겸 최고운영책임자(COO)인 존 월드론이 방한해 이창용 한국은행 총재, 이재용 삼성전자 회장, 김병주 MBK파트너스 회장 등과 함께 한국의 금융당국, 기업 및 금융계와의 협력 방안을 논의했다.\n",
    "\"\"\"\n",
    "\n",
    "tokens, labels = get_ner_tokens(tokenizer_ner, session_ner, text, id2label)\n",
    "stock_list = extract_ogg_economy(tokens, labels, target_label=\"OGG_ECONOMY\")\n",
    "stock_list"
   ]
  },
  {
   "cell_type": "code",
   "execution_count": 57,
   "id": "7de794ad",
   "metadata": {},
   "outputs": [
    {
     "data": {
      "text/plain": [
       "'사진=한경DB\\n키움증권은 23일 삼성바이오로직스에 대해 인적분할을 추진하는 건 본격적인 신약 개발에 나서겠다는 의미하고 해석했다.\\n삼성바이오로직스는 인적분할을 통해 의약품 위탁 개발·생산(CDMO) 부문은 존속법인에 남기고, 신설법인인 삼성에피스홀딩스에 삼성바이오에피스 지분 100%를 승계하도록 하는 방안을 추진하겠다고 공시했다.\\n이에 대해 허혜민 키움증권 연구원은 “삼성그룹이 (삼성에피스홀딩스를 통해) 본격적으로 신약 개발을 시작한다는 의미로 해석된다”고 말했다. 이어 “삼성바이오로직스는 글로벌 파트너십 확대를 위한 영업활동이 수월해질 것”이라며 “분할된 신설법인은 투자지주회사로 신성장 동력 발굴과 연구·개발(R&D) 및 기업 인수·합병(M&A)를 통해 적극적인 성장을 추진할 것”이라고 내다봤다.\\n이번 분할 추진이 단기적으로 펀더멘털에 미치는 영향은 미미할 것으로 분석됐다.\\n다만 허 연구원은 “최근 인적분할 업체들의 분할상장 전 주가 수익률이 대체로 상승 흐름을 나타냈다”며 “이후 각 사의 펀더멘털, 수급, 모멘텀에 따라 변동했다”고 전했다.'"
      ]
     },
     "execution_count": 57,
     "metadata": {},
     "output_type": "execute_result"
    }
   ],
   "source": [
    "import pandas as pd\n",
    "\n",
    "df = pd.read_csv('../../db/news_2023_2025_summarized_view.csv')\n",
    "df['article'][20]"
   ]
  },
  {
   "cell_type": "code",
   "execution_count": 13,
   "id": "a89b7375",
   "metadata": {},
   "outputs": [
    {
     "data": {
      "text/html": [
       "<div>\n",
       "<style scoped>\n",
       "    .dataframe tbody tr th:only-of-type {\n",
       "        vertical-align: middle;\n",
       "    }\n",
       "\n",
       "    .dataframe tbody tr th {\n",
       "        vertical-align: top;\n",
       "    }\n",
       "\n",
       "    .dataframe thead th {\n",
       "        text-align: right;\n",
       "    }\n",
       "</style>\n",
       "<table border=\"1\" class=\"dataframe\">\n",
       "  <thead>\n",
       "    <tr style=\"text-align: right;\">\n",
       "      <th></th>\n",
       "      <th>news_id</th>\n",
       "      <th>summary</th>\n",
       "      <th>stock_list</th>\n",
       "      <th>industry_list</th>\n",
       "    </tr>\n",
       "  </thead>\n",
       "  <tbody>\n",
       "    <tr>\n",
       "      <th>0</th>\n",
       "      <td>20250523_0002</td>\n",
       "      <td>23일 정보기술(IT)·투자은행(IB) 업계에 따르면 국내 대표 전자결제사업자인 카...</td>\n",
       "      <td>['카카오페이']</td>\n",
       "      <td>['금융 지원 서비스업']</td>\n",
       "    </tr>\n",
       "    <tr>\n",
       "      <th>1</th>\n",
       "      <td>20250523_0004</td>\n",
       "      <td>세계 2위 투자은행(IB)인 골드만삭스의 사장 겸 최고운영책임자(COO)인 존 월드...</td>\n",
       "      <td>['삼성전자']</td>\n",
       "      <td>['통신 및 방송 장비 제조업']</td>\n",
       "    </tr>\n",
       "    <tr>\n",
       "      <th>2</th>\n",
       "      <td>20250523_0007</td>\n",
       "      <td>23일 정보기술(IT)·투자은행(IB) 업계에 따르면 카카오페이가 SSG닷컴 쓱페이...</td>\n",
       "      <td>['카카오페이']</td>\n",
       "      <td>['금융 지원 서비스업']</td>\n",
       "    </tr>\n",
       "    <tr>\n",
       "      <th>3</th>\n",
       "      <td>20250523_0010</td>\n",
       "      <td>23일 효성중공업은 조 회장이 상속세 재원을 마련하기 위해 시간 외 매매로 효성중 ...</td>\n",
       "      <td>['효성중공업']</td>\n",
       "      <td>['전동기, 발전기 및 전기 변환 · 공급 · 제어 장치 제조업']</td>\n",
       "    </tr>\n",
       "    <tr>\n",
       "      <th>4</th>\n",
       "      <td>20250523_0011</td>\n",
       "      <td>카카오페이가 신세계 이마트 측에서 쓱페이·스마일페이 인수를 추진하고 나선 건 국내 ...</td>\n",
       "      <td>['카카오페이']</td>\n",
       "      <td>['금융 지원 서비스업']</td>\n",
       "    </tr>\n",
       "  </tbody>\n",
       "</table>\n",
       "</div>"
      ],
      "text/plain": [
       "         news_id                                            summary  \\\n",
       "0  20250523_0002  23일 정보기술(IT)·투자은행(IB) 업계에 따르면 국내 대표 전자결제사업자인 카...   \n",
       "1  20250523_0004  세계 2위 투자은행(IB)인 골드만삭스의 사장 겸 최고운영책임자(COO)인 존 월드...   \n",
       "2  20250523_0007  23일 정보기술(IT)·투자은행(IB) 업계에 따르면 카카오페이가 SSG닷컴 쓱페이...   \n",
       "3  20250523_0010  23일 효성중공업은 조 회장이 상속세 재원을 마련하기 위해 시간 외 매매로 효성중 ...   \n",
       "4  20250523_0011  카카오페이가 신세계 이마트 측에서 쓱페이·스마일페이 인수를 추진하고 나선 건 국내 ...   \n",
       "\n",
       "  stock_list                          industry_list  \n",
       "0  ['카카오페이']                         ['금융 지원 서비스업']  \n",
       "1   ['삼성전자']                     ['통신 및 방송 장비 제조업']  \n",
       "2  ['카카오페이']                         ['금융 지원 서비스업']  \n",
       "3  ['효성중공업']  ['전동기, 발전기 및 전기 변환 · 공급 · 제어 장치 제조업']  \n",
       "4  ['카카오페이']                         ['금융 지원 서비스업']  "
      ]
     },
     "execution_count": 13,
     "metadata": {},
     "output_type": "execute_result"
    }
   ],
   "source": [
    "df = df[['news_id', 'summary', 'stock_list', 'industry_list']]\n",
    "df.head()"
   ]
  },
  {
   "cell_type": "code",
   "execution_count": 14,
   "id": "aca8af3a",
   "metadata": {},
   "outputs": [],
   "source": [
    "df.to_csv('../../db/news_2023_2025_metadata.csv', index=False)"
   ]
  },
  {
   "cell_type": "code",
   "execution_count": null,
   "id": "dd3a399d",
   "metadata": {},
   "outputs": [],
   "source": []
  }
 ],
 "metadata": {
  "kernelspec": {
   "display_name": "test-0602",
   "language": "python",
   "name": "python3"
  },
  "language_info": {
   "codemirror_mode": {
    "name": "ipython",
    "version": 3
   },
   "file_extension": ".py",
   "mimetype": "text/x-python",
   "name": "python",
   "nbconvert_exporter": "python",
   "pygments_lexer": "ipython3",
   "version": "3.9.21"
  }
 },
 "nbformat": 4,
 "nbformat_minor": 5
}
