{
 "cells": [
  {
   "cell_type": "code",
   "execution_count": 2,
   "id": "50cc2b12",
   "metadata": {},
   "outputs": [
    {
     "name": "stderr",
     "output_type": "stream",
     "text": [
      "You passed along `num_labels=3` with an incompatible id to label map: {'0': 'NEGATIVE', '1': 'POSITIVE'}. The number of labels will be overwritten to 2.\n",
      "You passed along `num_labels=3` with an incompatible id to label map: {'0': 'NEGATIVE', '1': 'POSITIVE'}. The number of labels will be overwritten to 2.\n",
      "You passed along `num_labels=3` with an incompatible id to label map: {'0': 'NEGATIVE', '1': 'POSITIVE'}. The number of labels will be overwritten to 2.\n",
      "You passed along `num_labels=3` with an incompatible id to label map: {'0': 'NEGATIVE', '1': 'POSITIVE'}. The number of labels will be overwritten to 2.\n",
      "You passed along `num_labels=3` with an incompatible id to label map: {'0': 'NEGATIVE', '1': 'POSITIVE'}. The number of labels will be overwritten to 2.\n",
      "You passed along `num_labels=3` with an incompatible id to label map: {'0': 'NEGATIVE', '1': 'POSITIVE'}. The number of labels will be overwritten to 2.\n",
      "c:\\Users\\user\\anaconda3\\envs\\test-0602\\lib\\site-packages\\transformers\\models\\bart\\modeling_bart.py:232: TracerWarning: Converting a tensor to a Python boolean might cause the trace to be incorrect. We can't record the data flow of Python values, so this value will be treated as a constant in the future. This means that the trace might not generalize to other inputs!\n",
      "  if attn_weights.size() != (bsz * self.num_heads, tgt_len, src_len):\n",
      "c:\\Users\\user\\anaconda3\\envs\\test-0602\\lib\\site-packages\\transformers\\models\\bart\\modeling_bart.py:239: TracerWarning: Converting a tensor to a Python boolean might cause the trace to be incorrect. We can't record the data flow of Python values, so this value will be treated as a constant in the future. This means that the trace might not generalize to other inputs!\n",
      "  if attention_mask.size() != (bsz, 1, tgt_len, src_len):\n",
      "c:\\Users\\user\\anaconda3\\envs\\test-0602\\lib\\site-packages\\transformers\\models\\bart\\modeling_bart.py:271: TracerWarning: Converting a tensor to a Python boolean might cause the trace to be incorrect. We can't record the data flow of Python values, so this value will be treated as a constant in the future. This means that the trace might not generalize to other inputs!\n",
      "  if attn_output.size() != (bsz * self.num_heads, tgt_len, self.head_dim):\n",
      "c:\\Users\\user\\anaconda3\\envs\\test-0602\\lib\\site-packages\\transformers\\modeling_attn_mask_utils.py:88: TracerWarning: Converting a tensor to a Python boolean might cause the trace to be incorrect. We can't record the data flow of Python values, so this value will be treated as a constant in the future. This means that the trace might not generalize to other inputs!\n",
      "  if input_shape[-1] > 1 or self.sliding_window is not None:\n",
      "c:\\Users\\user\\anaconda3\\envs\\test-0602\\lib\\site-packages\\transformers\\modeling_attn_mask_utils.py:164: TracerWarning: Converting a tensor to a Python boolean might cause the trace to be incorrect. We can't record the data flow of Python values, so this value will be treated as a constant in the future. This means that the trace might not generalize to other inputs!\n",
      "  if past_key_values_length > 0:\n",
      "c:\\Users\\user\\anaconda3\\envs\\test-0602\\lib\\site-packages\\transformers\\models\\bart\\modeling_bart.py:194: TracerWarning: Converting a tensor to a Python boolean might cause the trace to be incorrect. We can't record the data flow of Python values, so this value will be treated as a constant in the future. This means that the trace might not generalize to other inputs!\n",
      "  and past_key_value[0].shape[2] == key_value_states.shape[1]\n",
      "You passed along `num_labels=3` with an incompatible id to label map: {'0': 'NEGATIVE', '1': 'POSITIVE'}. The number of labels will be overwritten to 2.\n"
     ]
    },
    {
     "name": "stdout",
     "output_type": "stream",
     "text": [
      "🎉 ONNX 변환 및 저장 완료: ..\\..\\automation\\models\\kobart_summary_onnx\n"
     ]
    }
   ],
   "source": [
    "from optimum.onnxruntime import ORTModelForSeq2SeqLM\n",
    "from transformers import AutoTokenizer\n",
    "from pathlib import Path\n",
    "\n",
    "model_name = \"digit82/kobart-summarization\"\n",
    "onnx_dir = Path(\"../../automation/models/kobart_summary_onnx\")\n",
    "\n",
    "# ✅ 1. 모델 변환 (export=True) ← 저장 안됨\n",
    "model = ORTModelForSeq2SeqLM.from_pretrained(model_name, export=True)\n",
    "\n",
    "# ✅ 2. ONNX 모델 저장\n",
    "model.save_pretrained(onnx_dir)\n",
    "\n",
    "# ✅ 3. 토크나이저 저장\n",
    "tokenizer = AutoTokenizer.from_pretrained(model_name)\n",
    "tokenizer.save_pretrained(onnx_dir)\n",
    "\n",
    "print(\"🎉 ONNX 변환 및 저장 완료:\", onnx_dir)"
   ]
  },
  {
   "cell_type": "code",
   "execution_count": 16,
   "id": "bbb22af4",
   "metadata": {},
   "outputs": [
    {
     "name": "stderr",
     "output_type": "stream",
     "text": [
      "c:\\Users\\user\\anaconda3\\envs\\test-0602\\lib\\site-packages\\tqdm\\auto.py:21: TqdmWarning: IProgress not found. Please update jupyter and ipywidgets. See https://ipywidgets.readthedocs.io/en/stable/user_install.html\n",
      "  from .autonotebook import tqdm as notebook_tqdm\n"
     ]
    }
   ],
   "source": [
    "from optimum.onnxruntime import ORTModelForSeq2SeqLM\n",
    "from tokenizers import Tokenizer\n",
    "from pathlib import Path\n",
    "import torch\n",
    "\n",
    "def get_summarize_model():\n",
    "    \"\"\"\n",
    "    ONNX 모델과 토크나이저를 반환하는 함수\n",
    "    \"\"\"\n",
    "\n",
    "    model_dir = Path(\"../../automation/models/kobart_summary_onnx\")\n",
    "    model_summarize = ORTModelForSeq2SeqLM.from_pretrained(model_dir, local_files_only=True)\n",
    "\n",
    "    tokenizer_summarize = Tokenizer.from_file(str(model_dir / \"tokenizer.json\"))\n",
    "\n",
    "    return model_summarize, tokenizer_summarize"
   ]
  },
  {
   "cell_type": "code",
   "execution_count": null,
   "id": "287ac95f",
   "metadata": {},
   "outputs": [],
   "source": [
    "import numpy as np\n",
    "import onnxruntime as ort\n",
    "from tokenizers import Tokenizer\n",
    "from pathlib import Path\n",
    "\n",
    "# ⬇ 모델 세션 초기화\n",
    "def load_model():\n",
    "    base_path = Path(\"../../automation/models/kobart_summary_onnx\")\n",
    "    encoder_sess = ort.InferenceSession(str(base_path / \"encoder_model.onnx\"))\n",
    "    decoder_sess = ort.InferenceSession(str(base_path / \"decoder_model.onnx\"))\n",
    "    tokenizer = Tokenizer.from_file(str(base_path / \"tokenizer.json\"))\n",
    "    return encoder_sess, decoder_sess, tokenizer\n",
    "\n",
    "\n",
    "# ⬇ 디코딩 함수 (greedy 또는 beam=1)\n",
    "def summarize_event_focused(\n",
    "    text,\n",
    "    encoder_sess,\n",
    "    decoder_sess,\n",
    "    tokenizer,\n",
    "    max_length=128,\n",
    "    no_repeat_ngram_size=3,\n",
    "    repetition_penalty=1.2,\n",
    "):\n",
    "    input_ids = tokenizer.encode(text).ids\n",
    "    input_ids_np = np.array([input_ids], dtype=np.int64)\n",
    "    attention_mask = np.ones_like(input_ids_np, dtype=np.int64)\n",
    "\n",
    "    encoder_outputs = encoder_sess.run(\n",
    "        None, {\"input_ids\": input_ids_np, \"attention_mask\": attention_mask}\n",
    "    )[0]\n",
    "\n",
    "    decoder_input_ids = [tokenizer.token_to_id(\"<s>\")]\n",
    "    generated_ids = decoder_input_ids.copy()\n",
    "\n",
    "    for _ in range(max_length):\n",
    "        decoder_input_np = np.array([generated_ids], dtype=np.int64)\n",
    "        decoder_inputs = {\n",
    "            \"input_ids\": decoder_input_np,\n",
    "            \"encoder_hidden_states\": encoder_outputs,\n",
    "            \"encoder_attention_mask\": attention_mask,\n",
    "        }\n",
    "        logits = decoder_sess.run(None, decoder_inputs)[0]\n",
    "        next_token_logits = logits[:, -1, :]\n",
    "\n",
    "        # repetition penalty 적용\n",
    "        for token_id in set(generated_ids):\n",
    "            next_token_logits[0, token_id] /= repetition_penalty\n",
    "\n",
    "        # no_repeat_ngram_size 적용\n",
    "        if no_repeat_ngram_size > 0 and len(generated_ids) >= no_repeat_ngram_size:\n",
    "            ngram = tuple(generated_ids[-(no_repeat_ngram_size - 1) :])\n",
    "            banned = {\n",
    "                tuple(generated_ids[i : i + no_repeat_ngram_size])\n",
    "                for i in range(len(generated_ids) - no_repeat_ngram_size + 1)\n",
    "            }\n",
    "            for token_id in range(next_token_logits.shape[-1]):\n",
    "                if ngram + (token_id,) in banned:\n",
    "                    next_token_logits[0, token_id] = -1e9  # 큰 마이너스\n",
    "\n",
    "        # greedy 선택\n",
    "        next_token_id = int(np.argmax(next_token_logits, axis=-1)[0])\n",
    "\n",
    "        if next_token_id == tokenizer.token_to_id(\"</s>\"):\n",
    "            break\n",
    "\n",
    "        generated_ids.append(next_token_id)\n",
    "\n",
    "    return tokenizer.decode(generated_ids, skip_special_tokens=True)"
   ]
  },
  {
   "cell_type": "code",
   "execution_count": 37,
   "id": "f99488bb",
   "metadata": {},
   "outputs": [],
   "source": [
    "encoder_sess, decoder_sess, tokenizer = load_model()"
   ]
  },
  {
   "cell_type": "code",
   "execution_count": 58,
   "id": "6731acf1",
   "metadata": {},
   "outputs": [
    {
     "name": "stdout",
     "output_type": "stream",
     "text": [
      "📄 요약: 삼성바이오로직스는 의약품 위탁 개발·생산(CDMO) 부문은 존속법인에 남기고, 신설법인인 삼성바이오에피스 지분 100%를 승계하도록 하는 방안을 추진하겠다고 밝히며 본격적인 신약 개발에 나서겠다는 의미하고 해석하였다.\n"
     ]
    }
   ],
   "source": [
    "# 입력 문장\n",
    "text = \"\"\"\n",
    "'사진=한경DB\\n키움증권은 23일 삼성바이오로직스에 대해 인적분할을 추진하는 건 본격적인 신약 개발에 나서겠다는 의미하고 해석했다.\\n삼성바이오로직스는 인적분할을 통해 의약품 위탁 개발·생산(CDMO) 부문은 존속법인에 남기고, 신설법인인 삼성에피스홀딩스에 삼성바이오에피스 지분 100%를 승계하도록 하는 방안을 추진하겠다고 공시했다.\\n이에 대해 허혜민 키움증권 연구원은 “삼성그룹이 (삼성에피스홀딩스를 통해) 본격적으로 신약 개발을 시작한다는 의미로 해석된다”고 말했다. 이어 “삼성바이오로직스는 글로벌 파트너십 확대를 위한 영업활동이 수월해질 것”이라며 “분할된 신설법인은 투자지주회사로 신성장 동력 발굴과 연구·개발(R&D) 및 기업 인수·합병(M&A)를 통해 적극적인 성장을 추진할 것”이라고 내다봤다.\\n이번 분할 추진이 단기적으로 펀더멘털에 미치는 영향은 미미할 것으로 분석됐다.\\n다만 허 연구원은 “최근 인적분할 업체들의 분할상장 전 주가 수익률이 대체로 상승 흐름을 나타냈다”며 “이후 각 사의 펀더멘털, 수급, 모멘텀에 따라 변동했다”고 전했다.\n",
    "\"\"\"\n",
    "\n",
    "summary = summarize_event_focused(text, encoder_sess, decoder_sess, tokenizer)\n",
    "\n",
    "print(\"📄 요약:\", summary)"
   ]
  },
  {
   "cell_type": "code",
   "execution_count": 29,
   "id": "8df65d77",
   "metadata": {},
   "outputs": [],
   "source": [
    "import pandas as pd\n",
    "\n",
    "# 행 전체 출력\n",
    "pd.set_option(\"display.max_rows\", None)\n",
    "\n",
    "# 열 전체 출력\n",
    "pd.set_option(\"display.max_columns\", 200)\n",
    "\n",
    "# 각 열 너비 무제한 출력\n",
    "pd.set_option(\"display.max_colwidth\", 200)\n",
    "\n",
    "# 전체 넓이 제한 해제\n",
    "pd.set_option(\"display.width\", None)"
   ]
  },
  {
   "cell_type": "code",
   "execution_count": 18,
   "id": "deb883fb",
   "metadata": {},
   "outputs": [],
   "source": [
    "import re\n",
    "from kss import split_sentences\n",
    "\n",
    "def remove_market_related_sentences(text: str) -> str:\n",
    "    # 줄바꿈 제거\n",
    "    text = text.replace(\"\\n\", \" \")\n",
    "\n",
    "    # 대괄호 포함 텍스트 제거: [파이낸셜뉴스], [사진] 등\n",
    "    text = re.sub(r\"\\[[^\\]]*\\]\", \"\", text)\n",
    "\n",
    "    # '/사진', '/사진제공' 제거\n",
    "    text = re.sub(r\"/사진(제공)?\", \"\", text)\n",
    "\n",
    "    # 이메일 주소 제거 (예: josh@yna.co.kr)\n",
    "    text = re.sub(r\"\\b[\\w.-]+@[\\w.-]+\\.\\w+\\b\", \"\", text)\n",
    "\n",
    "    # 문장 단위 분리 (간단하게 마침표 기준, 필요시 KSS 등 적용 가능)\n",
    "    sentences = split_sentences(text)\n",
    "\n",
    "    # 제거할 패턴들 (뉴스 문장에서 자주 등장하는 패턴)\n",
    "    patterns = [\n",
    "        r\"(자세한 내용|자세한 사항)\",  # 뉴스 기본 표현\n",
    "        r\"\\d{4}[.-]\\d{1,2}[.-]\\d{1,2}\",  # 날짜 (예: 2025.03.26, 2024-12-01)\n",
    "        r\"([0-9,]+(?:만)?[0-9,]*\\s?(?:원|만원))\",  # 가격 (예: 3,500원, 12000원)\n",
    "        r\"(강세|펀드|시가총액|등락률|한국거래소)\",  # 증시 용어\n",
    "        r\"\\([+-]?[0-9.,]+%\\)\",  # 괄호 안 퍼센트 등락률\n",
    "        r\"(투자의견|연구원|평가|예상치|증권가|리포트|팀장)\",  # 애널리스트 용어\n",
    "        r\"(순이익|전년|매출|영업이익|영업적자|증시|코스피|코스닥|다우|나스닥|매출액|거래일|호조세|레버리지|투자자|조정|자산|수익률|이익률|수익성|내리막|부진한|낙폭|기대치|실적발표|기업 가치)\",  # 시장 용어\n",
    "    ]\n",
    "\n",
    "    # 하나의 통합 패턴으로 컴파일\n",
    "    combined_pattern = re.compile(\"|\".join(patterns))\n",
    "\n",
    "    # 필터링된 문장만 유지\n",
    "    filtered = [s for s in sentences if not combined_pattern.search(s)]\n",
    "\n",
    "    text_preprocessed = \" \".join(filtered)\n",
    "\n",
    "    # print(f\"원문:{sentences}\\n|\\n전처리 된 문장: {text_preprocessed}\\n\\n\")\n",
    "\n",
    "    return text_preprocessed"
   ]
  },
  {
   "cell_type": "code",
   "execution_count": 19,
   "id": "5df16d43",
   "metadata": {},
   "outputs": [
    {
     "name": "stderr",
     "output_type": "stream",
     "text": [
      "[Kss]: Oh! You have mecab in your environment. Kss will take this as a backend! :D\n",
      "\n"
     ]
    }
   ],
   "source": [
    "df_5 = df.head(5).copy()\n",
    "df_5['article'] = df_5['article'].apply(remove_market_related_sentences)"
   ]
  },
  {
   "cell_type": "code",
   "execution_count": 39,
   "id": "75c77c57",
   "metadata": {},
   "outputs": [
    {
     "ename": "NameError",
     "evalue": "name 'df_5' is not defined",
     "output_type": "error",
     "traceback": [
      "\u001b[1;31m---------------------------------------------------------------------------\u001b[0m",
      "\u001b[1;31mNameError\u001b[0m                                 Traceback (most recent call last)",
      "Cell \u001b[1;32mIn[39], line 1\u001b[0m\n\u001b[1;32m----> 1\u001b[0m \u001b[43mdf_5\u001b[49m[\u001b[38;5;124m'\u001b[39m\u001b[38;5;124marticle\u001b[39m\u001b[38;5;124m'\u001b[39m][\u001b[38;5;241m2\u001b[39m]\n",
      "\u001b[1;31mNameError\u001b[0m: name 'df_5' is not defined"
     ]
    }
   ],
   "source": [
    "df_5['article'][2]"
   ]
  },
  {
   "cell_type": "code",
   "execution_count": null,
   "id": "4a54f312",
   "metadata": {},
   "outputs": [
    {
     "name": "stderr",
     "output_type": "stream",
     "text": [
      "c:\\Users\\user\\anaconda3\\envs\\test-0602\\lib\\site-packages\\tqdm\\auto.py:21: TqdmWarning: IProgress not found. Please update jupyter and ipywidgets. See https://ipywidgets.readthedocs.io/en/stable/user_install.html\n",
      "  from .autonotebook import tqdm as notebook_tqdm\n"
     ]
    },
    {
     "name": "stdout",
     "output_type": "stream",
     "text": [
      "✅ NER ONNX 모델 저장 완료: ..\\..\\automoation\\models\\ner_onnx\n"
     ]
    }
   ],
   "source": [
    "from transformers import AutoTokenizer\n",
    "from optimum.onnxruntime import ORTModelForTokenClassification\n",
    "from pathlib import Path\n",
    "\n",
    "model_id = \"KPF/KPF-BERT-NER\"\n",
    "save_dir = Path(\"../../automation/models/ner_onnx\")\n",
    "\n",
    "# ONNX로 export\n",
    "model = ORTModelForTokenClassification.from_pretrained(model_id, export=True)\n",
    "model.save_pretrained(save_dir)\n",
    "\n",
    "# tokenizer도 저장\n",
    "tokenizer = AutoTokenizer.from_pretrained(model_id)\n",
    "tokenizer.save_pretrained(save_dir)\n",
    "\n",
    "print(\"✅ NER ONNX 모델 저장 완료:\", save_dir)"
   ]
  },
  {
   "cell_type": "code",
   "execution_count": 7,
   "id": "430e7173",
   "metadata": {},
   "outputs": [],
   "source": [
    "import onnxruntime as ort\n",
    "from tokenizers import Tokenizer\n",
    "\n",
    "def get_ner_tokenizer():\n",
    "    \"\"\"\n",
    "    ONNX NER 모델을 위한 토크나이저를 반환합니다.\n",
    "    \"\"\"\n",
    "\n",
    "    # 🟢 토크나이저 로딩\n",
    "    tokenizer_ner = Tokenizer.from_file(\"../../automation/models/ner_onnx/tokenizer.json\")\n",
    "\n",
    "    # 🟢 ONNX 모델 세션 로딩\n",
    "    session_ner = ort.InferenceSession(\"../../automation/models/ner_onnx/model.onnx\")\n",
    "\n",
    "    return tokenizer_ner, session_ner"
   ]
  },
  {
   "cell_type": "code",
   "execution_count": 8,
   "id": "017227ad",
   "metadata": {},
   "outputs": [],
   "source": [
    "import numpy as np\n",
    "from label_map import id2label  # 라벨 ID ↔ 라벨명 매핑\n",
    "\n",
    "tokenizer_ner, session_ner = get_ner_tokenizer()\n",
    "\n",
    "def get_ner_tokens(tokenizer, session, text, id2label):\n",
    "    # 🟡 토큰화 및 입력값 준비\n",
    "    encoding = tokenizer.encode(text)\n",
    "    input_ids = np.array([encoding.ids], dtype=np.int64)\n",
    "    attention_mask = np.ones_like(input_ids, dtype=np.int64)\n",
    "    token_type_ids = np.zeros_like(input_ids, dtype=np.int64)\n",
    "\n",
    "    # 🔵 ONNX 추론 실행\n",
    "    inputs = {\n",
    "        \"input_ids\": input_ids,\n",
    "        \"attention_mask\": attention_mask,\n",
    "        \"token_type_ids\": token_type_ids,\n",
    "    }\n",
    "\n",
    "    logits = session.run(None, inputs)[0]  # shape: (1, seq_len, num_labels)\n",
    "\n",
    "    # 🔵 라벨 인덱스 → 실제 라벨명\n",
    "    preds = np.argmax(logits, axis=-1)[0]\n",
    "    labels = [id2label[p] for p in preds[: len(encoding.tokens)]]\n",
    "\n",
    "    # 🔵 시각화\n",
    "    tokens = encoding.tokens\n",
    "\n",
    "    return tokens, labels"
   ]
  },
  {
   "cell_type": "code",
   "execution_count": 9,
   "id": "106d80bc",
   "metadata": {},
   "outputs": [],
   "source": [
    "def extract_ogg_economy(tokens, labels, target_label=\"OGG_ECONOMY\"):\n",
    "    merged_words = []\n",
    "    current_word = \"\"\n",
    "\n",
    "    for token, label in zip(tokens, labels):\n",
    "        token_clean = token.replace(\"##\", \"\") if token.startswith(\"##\") else token\n",
    "\n",
    "        if label == f\"B-{target_label}\":\n",
    "            if current_word:\n",
    "                merged_words.append(current_word)\n",
    "            current_word = token_clean\n",
    "\n",
    "        elif label == f\"I-{target_label}\":\n",
    "            current_word += token_clean\n",
    "\n",
    "        else:\n",
    "            if current_word:\n",
    "                merged_words.append(current_word)\n",
    "                current_word = \"\"\n",
    "\n",
    "    if current_word:\n",
    "        merged_words.append(current_word)\n",
    "\n",
    "    stock_list = merged_words.copy()\n",
    "\n",
    "    return stock_list"
   ]
  },
  {
   "cell_type": "code",
   "execution_count": 22,
   "id": "8efe21cb",
   "metadata": {},
   "outputs": [
    {
     "data": {
      "text/plain": [
       "['골드만삭스', '한국은행', '삼성전자', 'MBK파트너스']"
      ]
     },
     "execution_count": 22,
     "metadata": {},
     "output_type": "execute_result"
    }
   ],
   "source": [
    "import numpy as np\n",
    "from label_map import id2label  # 라벨 ID ↔ 라벨명 매핑\n",
    "\n",
    "text = \"\"\"\n",
    "세계 2위 투자은행(IB)인 골드만삭스의 사장 겸 최고운영책임자(COO)인 존 월드론이 방한해 이창용 한국은행 총재, 이재용 삼성전자 회장, 김병주 MBK파트너스 회장 등과 함께 한국의 금융당국, 기업 및 금융계와의 협력 방안을 논의했다.\n",
    "\"\"\"\n",
    "\n",
    "tokens, labels = get_ner_tokens(tokenizer_ner, session_ner, text, id2label)\n",
    "stock_list = extract_ogg_economy(tokens, labels, target_label=\"OGG_ECONOMY\")\n",
    "stock_list"
   ]
  },
  {
   "cell_type": "code",
   "execution_count": 23,
   "id": "ff4e5de6",
   "metadata": {},
   "outputs": [],
   "source": [
    "import pandas as pd"
   ]
  },
  {
   "cell_type": "code",
   "execution_count": 14,
   "id": "521339c2",
   "metadata": {},
   "outputs": [],
   "source": [
    "def load_official_stock_list(krx_csv_path):\n",
    "    df = pd.read_csv(krx_csv_path, encoding=\"cp949\")\n",
    "    return set(df[\"종목명\"].dropna().unique())"
   ]
  },
  {
   "cell_type": "code",
   "execution_count": 24,
   "id": "b04bfcbd",
   "metadata": {},
   "outputs": [],
   "source": [
    "official_stock_set = load_official_stock_list(\"../../db/KRX_KOSPI.csv\")"
   ]
  },
  {
   "cell_type": "code",
   "execution_count": 25,
   "id": "77d54207",
   "metadata": {},
   "outputs": [],
   "source": [
    "def filter_official_stocks_from_list(stock_list, official_stock_set):\n",
    "    return [stock for stock in stock_list if stock in official_stock_set]"
   ]
  },
  {
   "cell_type": "code",
   "execution_count": 26,
   "id": "43fbd042",
   "metadata": {},
   "outputs": [],
   "source": [
    "stock_list = filter_official_stocks_from_list(\n",
    "    stock_list, official_stock_set\n",
    ")"
   ]
  },
  {
   "cell_type": "code",
   "execution_count": 27,
   "id": "82936a79",
   "metadata": {},
   "outputs": [
    {
     "data": {
      "text/plain": [
       "['삼성전자']"
      ]
     },
     "execution_count": 27,
     "metadata": {},
     "output_type": "execute_result"
    }
   ],
   "source": [
    "stock_list"
   ]
  },
  {
   "cell_type": "code",
   "execution_count": 43,
   "id": "4ddcf065",
   "metadata": {},
   "outputs": [],
   "source": [
    "summarzied_news = [\n",
    "    {\n",
    "        \"news_id\": \"20250610_08827802\",\n",
    "        \"wdate\": \"2025-06-10 17:45\",\n",
    "        \"title\": \"컴포즈커피 산 필리핀 기업, 노랑통닭도 삼켰다\",\n",
    "        \"article\": \"글로벌 외식업체 졸리비\\n인수 우선협상대상자 선정\\n연이은 M&A … 韓공략 속도\\n필리핀 최대 외식업체 졸리비푸드(이하 졸리비)가 지난해 국내 저가 커피 2위 업체인 컴포즈커피를 인수한 데 이어 올해 하반기 국내 치킨 프랜차이즈 노랑통닭을 운용하는 노랑푸드도 인수할 예정이다.\\n10일 투자은행(IB) 업계에 따르면 코스톤아시아와 큐캐피탈파트너스는 노랑푸드 인수 우선협상대상자로 졸리비를 선정하고 이날 오전 양해각서(MOU)를 체결했다.\\n인수 주체는 졸리비의 한국법인인 졸리케이이며 조만간 상세 실사에 착수할 예정이다.\\n양측은 오는 8월 말까지 실사를 마무리하고 올해 내로 주식매매계약(SPA)을 체결할 전망이다. 예상 매각가는 1000억원대 중반이다.\\n졸리비는 큐캐피탈과 코스톤이 보유한 노랑통닭 운영사 노랑푸드 지분 100%를 인수하게 된다. 졸리비는 필리핀에 본사를 둔 글로벌 외식기업이다. 동남아시아를 비롯해 미국·유럽·중국 등 전 세계에서 매장을 운영 중이다.\\n졸리비는 국내 사모펀드 운용사인 엘리베이션에쿼티파트너스와 함께 지난해 국내 저가 커피 2위 업체인 컴포즈커피를 4700억원에 인수하며 한국 시장에 처음으로 진출한 바 있다.\\n코스톤과 큐캐피탈은 2020년 노랑푸드 지분 100%를 약 700억원에 인수했다.\\n두 운용사가 인수한 이후 노랑통닭 실적은 크게 개선됐다. 2019년 말 400여 개였던 가맹점 수는 올해 700개를 넘겼다. 2019년 502억원이던 매출도 2024년 1067억원으로 두 배 넘게 올랐다.\\n[나현준 기자 / 정슬기 기자]\",\n",
    "        \"press\": \"매일경제\",\n",
    "        \"url\": \"https://n.news.naver.com/mnews/article/009/0005506513\",\n",
    "        \"image\": \"https://imgnews.pstatic.net/image/009/2025/06/10/0005506513_001_20250610174509011.jpg?type=w800\",\n",
    "        \"article_preprocessed\": \"글로벌 외식업체 졸리비 인수 우선협상대상자 선정 연이은 M&A … 韓공략 속도 필리핀 최대 외식업체 졸리비푸드(이하 졸리비)가 지난해 국내 저가 커피 2위 업체인 컴포즈커피를 인수한 데 이어 올해 하반기 국내 치킨 프랜차이즈 노랑통닭을 운용하는 노랑푸드도 인수할 예정이다. 10일 투자은행(IB) 업계에 따르면 코스톤아시아와 큐캐피탈파트너스는 노랑푸드 인수 우선협상대상자로 졸리비를 선정하고 이날 오전 양해각서(MOU)를 체결했다. 인수 주체는 졸리비의 한국법인인 졸리케이이며 조만간 상세 실사에 착수할 예정이다. 양측은 오는 8월 말까지 실사를 마무리하고 올해 내로 주식매매계약(SPA)을 체결할 전망이다. 예상 매각가는 1000억원대 중반이다. 졸리비는 큐캐피탈과 코스톤이 보유한 노랑통닭 운영사 노랑푸드 지분 100%를 인수하게 된다. 졸리비는 필리핀에 본사를 둔 글로벌 외식기업이다. 동남아시아를 비롯해 미국·유럽·중국 등 전 세계에서 매장을 운영 중이다. 코스톤과 큐캐피탈은 2020년 노랑푸드 지분 100%를 약 700억원에 인수했다. 두 운용사가 인수한 이후 노랑통닭 실적은 크게 개선됐다. 2019년 말 400여 개였던 가맹점 수는 올해 700개를 넘겼다.\",\n",
    "        \"summary\": \"필리핀 최대 외식업체 졸리비푸드가 국내 저가 커피 2위 업체인 컴포즈커피를 인수한 데 이어 올해 하반기 국내 치킨 프랜차이즈 노랑통닭을 운용하는 노랑푸드도 인수할 예정이다.\",\n",
    "    },\n",
    "    {\n",
    "        \"news_id\": \"20250610_45742590\",\n",
    "        \"wdate\": \"2025-06-10 17:44\",\n",
    "        \"title\": \"컴포즈커피 산 필리핀 기업, 노랑통닭도 삼켰다\",\n",
    "        \"article\": \"글로벌 외식업체 졸리비\\n인수 우선협상대상자 선정\\n연이은 M&A … 韓공략 속도\\n필리핀 최대 외식업체 졸리비푸드(이하 졸리비)가 지난해 국내 저가 커피 2위 업체인 컴포즈커피를 인수한 데 이어 올해 하반기 국내 치킨 프랜차이즈 노랑통닭을 운용하는 노랑푸드도 인수할 예정이다.\\n10일 투자은행(IB) 업계에 따르면 코스톤아시아와 큐캐피탈파트너스는 노랑푸드 인수 우선협상대상자로 졸리비를 선정하고 이날 오전 양해각서(MOU)를 체결했다.\\n인수 주체는 졸리비의 한국법인인 졸리케이이며 조만간 상세 실사에 착수할 예정이다.\\n양측은 오는 8월 말까지 실사를 마무리하고 올해 내로 주식매매계약(SPA)을 체결할 전망이다. 예상 매각가는 1000억원대 중반이다.\\n졸리비는 큐캐피탈과 코스톤이 보유한 노랑통닭 운영사 노랑푸드 지분 100%를 인수하게 된다. 졸리비는 필리핀에 본사를 둔 글로벌 외식기업이다. 동남아시아를 비롯해 미국·유럽·중국 등 전 세계에서 매장을 운영 중이다.\\n졸리비는 국내 사모펀드 운용사인 엘리베이션에쿼티파트너스와 함께 지난해 국내 저가 커피 2위 업체인 컴포즈커피를 4700억원에 인수하며 한국 시장에 처음으로 진출한 바 있다.\\n코스톤과 큐캐피탈은 2020년 노랑푸드 지분 100%를 약 700억원에 인수했다.\\n두 운용사가 인수한 이후 노랑통닭 실적은 크게 개선됐다. 2019년 말 400여 개였던 가맹점 수는 올해 700개를 넘겼다. 2019년 502억원이던 매출도 2024년 1067억원으로 두 배 넘게 올랐다.\\n[나현준 기자 / 정슬기 기자]\",\n",
    "        \"press\": \"한국경제\",\n",
    "        \"url\": \"https://n.news.naver.com/mnews/article/009/0005506513\",\n",
    "        \"image\": \"https://imgnews.pstatic.net/image/009/2025/06/10/0005506513_001_20250610174509011.jpg?type=w800\",\n",
    "        \"article_preprocessed\": \"글로벌 외식업체 졸리비 인수 우선협상대상자 선정 연이은 M&A … 韓공략 속도 필리핀 최대 외식업체 졸리비푸드(이하 졸리비)가 지난해 국내 저가 커피 2위 업체인 컴포즈커피를 인수한 데 이어 올해 하반기 국내 치킨 프랜차이즈 노랑통닭을 운용하는 노랑푸드도 인수할 예정이다. 10일 투자은행(IB) 업계에 따르면 코스톤아시아와 큐캐피탈파트너스는 노랑푸드 인수 우선협상대상자로 졸리비를 선정하고 이날 오전 양해각서(MOU)를 체결했다. 인수 주체는 졸리비의 한국법인인 졸리케이이며 조만간 상세 실사에 착수할 예정이다. 양측은 오는 8월 말까지 실사를 마무리하고 올해 내로 주식매매계약(SPA)을 체결할 전망이다. 예상 매각가는 1000억원대 중반이다. 졸리비는 큐캐피탈과 코스톤이 보유한 노랑통닭 운영사 노랑푸드 지분 100%를 인수하게 된다. 졸리비는 필리핀에 본사를 둔 글로벌 외식기업이다. 동남아시아를 비롯해 미국·유럽·중국 등 전 세계에서 매장을 운영 중이다. 코스톤과 큐캐피탈은 2020년 노랑푸드 지분 100%를 약 700억원에 인수했다. 두 운용사가 인수한 이후 노랑통닭 실적은 크게 개선됐다. 2019년 말 400여 개였던 가맹점 수는 올해 700개를 넘겼다.\",\n",
    "        \"summary\": \"필리핀 최대 외식업체 졸리비푸드가 국내 저가 커피 2위 업체인 컴포즈커피를 인수한 데 이어 올해 하반기 국내 치킨 프랜차이즈 노랑통닭을 운용하는 노랑푸드도 인수할 예정이다.\",\n",
    "    },\n",
    "    {\n",
    "        \"news_id\": \"20250610_01590130\",\n",
    "        \"wdate\": \"2025-06-10 17:44\",\n",
    "        \"title\": \"한투證 '독점 골드만 리서치' 서학개미 투자 교과서 됐다\",\n",
    "        \"article\": \"한달새 조회수 14만회 돌파\\n김성환 한투證 사장\\n한국투자증권이 지난달 골드만삭스와 제휴해 선보인 '독점 미국 현지 리서치'의 누적 조회수가 14만회를 돌파했다고 10일 밝혔다. 한 달간 발간된 보고서 가운데 서학개미들이 가장 주목한 이슈는 '3분기 중국 경제전망'이었다.\\n'독점 미국 현지 리서치'는 한국투자증권이 글로벌 리서치 차별화를 위해 세계 최대 투자은행 골드만삭스와 손잡고 출시한 서비스다. 론칭한 후 10영업일 만에 조회수 10만회를 돌파하며 높은 관심을 받았고, 평균 조회수도 1만회 이상을 기록하며 현재까지 누적 14만회를 넘겼다. 가장 높은 조회수를 기록한 보고서는 지난 5월 15일 발간된 '반짝 회복 뒤 다가올 긴 그림자'로 약 2만8000회를 기록했다.\\n골드만삭스 제휴 리서치는 한국투자증권 모바일트레이딩시스템(MTS)과 홈페이지를 통해 무료로 제공되며, 글로벌 거시경제 이슈부터 주요 자산군 전망까지 폭넓게 다룬다.\\n한국투자증권의 글로벌 리서치 협업은 이번이 처음은 아니다. 앞서 지난해 3월에는 미국 금융사 스티펄파이낸셜과 손잡고 '슬립리스 인 USA(Sleepless in USA)'를 출시했다.\\n유종우 한국투자증권 리서치본부장은 \\\"해외주식 투자 규모가 사상 최대치를 경신하는 가운데, 정보 격차로 인해 투자 수요가 여전히 일부 종목에 편중돼 있다\\\"며 \\\"앞으로도 글로벌 리서치 역량을 강화해 투자자에게 보다 풍부하고 균형 잡힌 정보를 제공하겠다\\\"고 말했다.\\n[김제림 기자]\",\n",
    "        \"press\": \"매일경제\",\n",
    "        \"url\": \"https://n.news.naver.com/mnews/article/009/0005506504\",\n",
    "        \"image\": \"https://imgnews.pstatic.net/image/009/2025/06/10/0005506504_001_20250610174408978.jpg?type=w800\",\n",
    "        \"article_preprocessed\": \"한달새 조회수 14만회 돌파 김성환 한투證 사장 한국투자증권이 지난달 골드만삭스와 제휴해 선보인 '독점 미국 현지 리서치'의 누적 조회수가 14만회를 돌파했다고 10일 밝혔다. 한 달간 발간된 보고서 가운데 서학개미들이 가장 주목한 이슈는 '3분기 중국 경제전망'이었다. '독점 미국 현지 리서치'는 한국투자증권이 글로벌 리서치 차별화를 위해 세계 최대 투자은행 골드만삭스와 손잡고 출시한 서비스다. 론칭한 후 10영업일 만에 조회수 10만회를 돌파하며 높은 관심을 받았고, 평균 조회수도 1만회 이상을 기록하며 현재까지 누적 14만회를 넘겼다. 가장 높은 조회수를 기록한 보고서는 지난 5월 15일 발간된 '반짝 회복 뒤 다가올 긴 그림자'로 약 2만8000회를 기록했다. 한국투자증권의 글로벌 리서치 협업은 이번이 처음은 아니다. 앞서 지난해 3월에는 미국 금융사 스티펄파이낸셜과 손잡고 '슬립리스 인 USA(Sleepless in USA)'를 출시했다.\",\n",
    "        \"summary\": \"한국투자증권이 골드만삭스와 제휴해 선보인 '독점 미국 현지 리서치'의 누적 조회수가 10영업일 만에 10만회를 돌파하며 높은 관심을 받았고, 평균 조회수도 1만회 이상을 기록하며 현재까지 14만회를 넘겼다.\",\n",
    "    },\n",
    "]"
   ]
  },
  {
   "cell_type": "code",
   "execution_count": 45,
   "id": "c68072a2",
   "metadata": {},
   "outputs": [],
   "source": [
    "def get_industry_list_from_stocks(stock_list, stock_to_industry):\n",
    "    if len(stock_list) > 4 or len(stock_list) < 1:\n",
    "        return []\n",
    "\n",
    "    return [\n",
    "        stock_to_industry.get(stock, \"\")\n",
    "        for stock in stock_list\n",
    "        if stock_to_industry.get(stock, \"\") != \"\"\n",
    "    ]"
   ]
  },
  {
   "cell_type": "code",
   "execution_count": 46,
   "id": "a5104ed8",
   "metadata": {},
   "outputs": [],
   "source": [
    "def load_stock_to_industry_map(kospi_desc_csv_path):\n",
    "    df = pd.read_csv(kospi_desc_csv_path, encoding=\"cp949\")\n",
    "    return dict(zip(df[\"종목명\"], df[\"업종명\"]))"
   ]
  },
  {
   "cell_type": "code",
   "execution_count": 47,
   "id": "19e6f62d",
   "metadata": {},
   "outputs": [],
   "source": [
    "stock_to_industry = load_stock_to_industry_map('../../automation/db/KRX_KOSPI_DESCRIPTION.csv')"
   ]
  },
  {
   "cell_type": "code",
   "execution_count": 48,
   "id": "f271772c",
   "metadata": {},
   "outputs": [],
   "source": [
    "ner_news = []\n",
    "\n",
    "# 3 뉴스 종목, 업종명 매칭 함수\n",
    "if len(summarzied_news) != 0:\n",
    "    for news in summarzied_news:\n",
    "        news_summary = news[\"summary\"]\n",
    "        tokens, labels = get_ner_tokens(\n",
    "            tokenizer_ner, session_ner, news_summary, id2label\n",
    "        )\n",
    "        stock_list = extract_ogg_economy(tokens, labels)\n",
    "\n",
    "        # 여기서 필터링\n",
    "        stock_list = filter_official_stocks_from_list(\n",
    "            stock_list, official_stock_set\n",
    "        )\n",
    "        news[\"stock_list\"] = stock_list\n",
    "\n",
    "        # 종목 없거나 너무 많으면 제외\n",
    "        if len(stock_list) > 4 or len(stock_list) < 1:\n",
    "            news[\"stock_list\"] = None\n",
    "\n",
    "        industry_list = get_industry_list_from_stocks(stock_list, stock_to_industry)\n",
    "        news[\"industry_list\"] = industry_list\n",
    "\n",
    "        if len(industry_list) < 1:\n",
    "            news[\"industry_list\"] = None\n",
    "\n",
    "        ner_news.append(news)"
   ]
  },
  {
   "cell_type": "code",
   "execution_count": 51,
   "id": "44cb76be",
   "metadata": {},
   "outputs": [],
   "source": [
    "def get_news_deduplicate_by_title(news_list):\n",
    "    seen_titles = set()\n",
    "    deduped_news = []\n",
    "\n",
    "    for news in news_list:\n",
    "        title = news.get(\"title\")\n",
    "        if title not in seen_titles:\n",
    "            seen_titles.add(title)\n",
    "            deduped_news.append(news)\n",
    "\n",
    "    return deduped_news"
   ]
  },
  {
   "cell_type": "code",
   "execution_count": 52,
   "id": "f5b64e9a",
   "metadata": {},
   "outputs": [
    {
     "data": {
      "text/plain": [
       "[{'news_id': '20250610_08827802',\n",
       "  'wdate': '2025-06-10 17:45',\n",
       "  'title': '컴포즈커피 산 필리핀 기업, 노랑통닭도 삼켰다',\n",
       "  'article': '글로벌 외식업체 졸리비\\n인수 우선협상대상자 선정\\n연이은 M&A … 韓공략 속도\\n필리핀 최대 외식업체 졸리비푸드(이하 졸리비)가 지난해 국내 저가 커피 2위 업체인 컴포즈커피를 인수한 데 이어 올해 하반기 국내 치킨 프랜차이즈 노랑통닭을 운용하는 노랑푸드도 인수할 예정이다.\\n10일 투자은행(IB) 업계에 따르면 코스톤아시아와 큐캐피탈파트너스는 노랑푸드 인수 우선협상대상자로 졸리비를 선정하고 이날 오전 양해각서(MOU)를 체결했다.\\n인수 주체는 졸리비의 한국법인인 졸리케이이며 조만간 상세 실사에 착수할 예정이다.\\n양측은 오는 8월 말까지 실사를 마무리하고 올해 내로 주식매매계약(SPA)을 체결할 전망이다. 예상 매각가는 1000억원대 중반이다.\\n졸리비는 큐캐피탈과 코스톤이 보유한 노랑통닭 운영사 노랑푸드 지분 100%를 인수하게 된다. 졸리비는 필리핀에 본사를 둔 글로벌 외식기업이다. 동남아시아를 비롯해 미국·유럽·중국 등 전 세계에서 매장을 운영 중이다.\\n졸리비는 국내 사모펀드 운용사인 엘리베이션에쿼티파트너스와 함께 지난해 국내 저가 커피 2위 업체인 컴포즈커피를 4700억원에 인수하며 한국 시장에 처음으로 진출한 바 있다.\\n코스톤과 큐캐피탈은 2020년 노랑푸드 지분 100%를 약 700억원에 인수했다.\\n두 운용사가 인수한 이후 노랑통닭 실적은 크게 개선됐다. 2019년 말 400여 개였던 가맹점 수는 올해 700개를 넘겼다. 2019년 502억원이던 매출도 2024년 1067억원으로 두 배 넘게 올랐다.\\n[나현준 기자 / 정슬기 기자]',\n",
       "  'press': '매일경제',\n",
       "  'url': 'https://n.news.naver.com/mnews/article/009/0005506513',\n",
       "  'image': 'https://imgnews.pstatic.net/image/009/2025/06/10/0005506513_001_20250610174509011.jpg?type=w800',\n",
       "  'article_preprocessed': '글로벌 외식업체 졸리비 인수 우선협상대상자 선정 연이은 M&A … 韓공략 속도 필리핀 최대 외식업체 졸리비푸드(이하 졸리비)가 지난해 국내 저가 커피 2위 업체인 컴포즈커피를 인수한 데 이어 올해 하반기 국내 치킨 프랜차이즈 노랑통닭을 운용하는 노랑푸드도 인수할 예정이다. 10일 투자은행(IB) 업계에 따르면 코스톤아시아와 큐캐피탈파트너스는 노랑푸드 인수 우선협상대상자로 졸리비를 선정하고 이날 오전 양해각서(MOU)를 체결했다. 인수 주체는 졸리비의 한국법인인 졸리케이이며 조만간 상세 실사에 착수할 예정이다. 양측은 오는 8월 말까지 실사를 마무리하고 올해 내로 주식매매계약(SPA)을 체결할 전망이다. 예상 매각가는 1000억원대 중반이다. 졸리비는 큐캐피탈과 코스톤이 보유한 노랑통닭 운영사 노랑푸드 지분 100%를 인수하게 된다. 졸리비는 필리핀에 본사를 둔 글로벌 외식기업이다. 동남아시아를 비롯해 미국·유럽·중국 등 전 세계에서 매장을 운영 중이다. 코스톤과 큐캐피탈은 2020년 노랑푸드 지분 100%를 약 700억원에 인수했다. 두 운용사가 인수한 이후 노랑통닭 실적은 크게 개선됐다. 2019년 말 400여 개였던 가맹점 수는 올해 700개를 넘겼다.',\n",
       "  'summary': '필리핀 최대 외식업체 졸리비푸드가 국내 저가 커피 2위 업체인 컴포즈커피를 인수한 데 이어 올해 하반기 국내 치킨 프랜차이즈 노랑통닭을 운용하는 노랑푸드도 인수할 예정이다.',\n",
       "  'stock_list': None,\n",
       "  'industry_list': None},\n",
       " {'news_id': '20250610_01590130',\n",
       "  'wdate': '2025-06-10 17:44',\n",
       "  'title': \"한투證 '독점 골드만 리서치' 서학개미 투자 교과서 됐다\",\n",
       "  'article': '한달새 조회수 14만회 돌파\\n김성환 한투證 사장\\n한국투자증권이 지난달 골드만삭스와 제휴해 선보인 \\'독점 미국 현지 리서치\\'의 누적 조회수가 14만회를 돌파했다고 10일 밝혔다. 한 달간 발간된 보고서 가운데 서학개미들이 가장 주목한 이슈는 \\'3분기 중국 경제전망\\'이었다.\\n\\'독점 미국 현지 리서치\\'는 한국투자증권이 글로벌 리서치 차별화를 위해 세계 최대 투자은행 골드만삭스와 손잡고 출시한 서비스다. 론칭한 후 10영업일 만에 조회수 10만회를 돌파하며 높은 관심을 받았고, 평균 조회수도 1만회 이상을 기록하며 현재까지 누적 14만회를 넘겼다. 가장 높은 조회수를 기록한 보고서는 지난 5월 15일 발간된 \\'반짝 회복 뒤 다가올 긴 그림자\\'로 약 2만8000회를 기록했다.\\n골드만삭스 제휴 리서치는 한국투자증권 모바일트레이딩시스템(MTS)과 홈페이지를 통해 무료로 제공되며, 글로벌 거시경제 이슈부터 주요 자산군 전망까지 폭넓게 다룬다.\\n한국투자증권의 글로벌 리서치 협업은 이번이 처음은 아니다. 앞서 지난해 3월에는 미국 금융사 스티펄파이낸셜과 손잡고 \\'슬립리스 인 USA(Sleepless in USA)\\'를 출시했다.\\n유종우 한국투자증권 리서치본부장은 \"해외주식 투자 규모가 사상 최대치를 경신하는 가운데, 정보 격차로 인해 투자 수요가 여전히 일부 종목에 편중돼 있다\"며 \"앞으로도 글로벌 리서치 역량을 강화해 투자자에게 보다 풍부하고 균형 잡힌 정보를 제공하겠다\"고 말했다.\\n[김제림 기자]',\n",
       "  'press': '매일경제',\n",
       "  'url': 'https://n.news.naver.com/mnews/article/009/0005506504',\n",
       "  'image': 'https://imgnews.pstatic.net/image/009/2025/06/10/0005506504_001_20250610174408978.jpg?type=w800',\n",
       "  'article_preprocessed': \"한달새 조회수 14만회 돌파 김성환 한투證 사장 한국투자증권이 지난달 골드만삭스와 제휴해 선보인 '독점 미국 현지 리서치'의 누적 조회수가 14만회를 돌파했다고 10일 밝혔다. 한 달간 발간된 보고서 가운데 서학개미들이 가장 주목한 이슈는 '3분기 중국 경제전망'이었다. '독점 미국 현지 리서치'는 한국투자증권이 글로벌 리서치 차별화를 위해 세계 최대 투자은행 골드만삭스와 손잡고 출시한 서비스다. 론칭한 후 10영업일 만에 조회수 10만회를 돌파하며 높은 관심을 받았고, 평균 조회수도 1만회 이상을 기록하며 현재까지 누적 14만회를 넘겼다. 가장 높은 조회수를 기록한 보고서는 지난 5월 15일 발간된 '반짝 회복 뒤 다가올 긴 그림자'로 약 2만8000회를 기록했다. 한국투자증권의 글로벌 리서치 협업은 이번이 처음은 아니다. 앞서 지난해 3월에는 미국 금융사 스티펄파이낸셜과 손잡고 '슬립리스 인 USA(Sleepless in USA)'를 출시했다.\",\n",
       "  'summary': \"한국투자증권이 골드만삭스와 제휴해 선보인 '독점 미국 현지 리서치'의 누적 조회수가 10영업일 만에 10만회를 돌파하며 높은 관심을 받았고, 평균 조회수도 1만회 이상을 기록하며 현재까지 14만회를 넘겼다.\",\n",
       "  'stock_list': None,\n",
       "  'industry_list': None}]"
      ]
     },
     "execution_count": 52,
     "metadata": {},
     "output_type": "execute_result"
    }
   ],
   "source": [
    "get_news_deduplicate_by_title(ner_news)"
   ]
  },
  {
   "cell_type": "code",
   "execution_count": 49,
   "id": "9bedbf03",
   "metadata": {},
   "outputs": [
    {
     "data": {
      "text/plain": [
       "[{'news_id': '20250610_08827802',\n",
       "  'wdate': '2025-06-10 17:45',\n",
       "  'title': '컴포즈커피 산 필리핀 기업, 노랑통닭도 삼켰다',\n",
       "  'article': '글로벌 외식업체 졸리비\\n인수 우선협상대상자 선정\\n연이은 M&A … 韓공략 속도\\n필리핀 최대 외식업체 졸리비푸드(이하 졸리비)가 지난해 국내 저가 커피 2위 업체인 컴포즈커피를 인수한 데 이어 올해 하반기 국내 치킨 프랜차이즈 노랑통닭을 운용하는 노랑푸드도 인수할 예정이다.\\n10일 투자은행(IB) 업계에 따르면 코스톤아시아와 큐캐피탈파트너스는 노랑푸드 인수 우선협상대상자로 졸리비를 선정하고 이날 오전 양해각서(MOU)를 체결했다.\\n인수 주체는 졸리비의 한국법인인 졸리케이이며 조만간 상세 실사에 착수할 예정이다.\\n양측은 오는 8월 말까지 실사를 마무리하고 올해 내로 주식매매계약(SPA)을 체결할 전망이다. 예상 매각가는 1000억원대 중반이다.\\n졸리비는 큐캐피탈과 코스톤이 보유한 노랑통닭 운영사 노랑푸드 지분 100%를 인수하게 된다. 졸리비는 필리핀에 본사를 둔 글로벌 외식기업이다. 동남아시아를 비롯해 미국·유럽·중국 등 전 세계에서 매장을 운영 중이다.\\n졸리비는 국내 사모펀드 운용사인 엘리베이션에쿼티파트너스와 함께 지난해 국내 저가 커피 2위 업체인 컴포즈커피를 4700억원에 인수하며 한국 시장에 처음으로 진출한 바 있다.\\n코스톤과 큐캐피탈은 2020년 노랑푸드 지분 100%를 약 700억원에 인수했다.\\n두 운용사가 인수한 이후 노랑통닭 실적은 크게 개선됐다. 2019년 말 400여 개였던 가맹점 수는 올해 700개를 넘겼다. 2019년 502억원이던 매출도 2024년 1067억원으로 두 배 넘게 올랐다.\\n[나현준 기자 / 정슬기 기자]',\n",
       "  'press': '매일경제',\n",
       "  'url': 'https://n.news.naver.com/mnews/article/009/0005506513',\n",
       "  'image': 'https://imgnews.pstatic.net/image/009/2025/06/10/0005506513_001_20250610174509011.jpg?type=w800',\n",
       "  'article_preprocessed': '글로벌 외식업체 졸리비 인수 우선협상대상자 선정 연이은 M&A … 韓공략 속도 필리핀 최대 외식업체 졸리비푸드(이하 졸리비)가 지난해 국내 저가 커피 2위 업체인 컴포즈커피를 인수한 데 이어 올해 하반기 국내 치킨 프랜차이즈 노랑통닭을 운용하는 노랑푸드도 인수할 예정이다. 10일 투자은행(IB) 업계에 따르면 코스톤아시아와 큐캐피탈파트너스는 노랑푸드 인수 우선협상대상자로 졸리비를 선정하고 이날 오전 양해각서(MOU)를 체결했다. 인수 주체는 졸리비의 한국법인인 졸리케이이며 조만간 상세 실사에 착수할 예정이다. 양측은 오는 8월 말까지 실사를 마무리하고 올해 내로 주식매매계약(SPA)을 체결할 전망이다. 예상 매각가는 1000억원대 중반이다. 졸리비는 큐캐피탈과 코스톤이 보유한 노랑통닭 운영사 노랑푸드 지분 100%를 인수하게 된다. 졸리비는 필리핀에 본사를 둔 글로벌 외식기업이다. 동남아시아를 비롯해 미국·유럽·중국 등 전 세계에서 매장을 운영 중이다. 코스톤과 큐캐피탈은 2020년 노랑푸드 지분 100%를 약 700억원에 인수했다. 두 운용사가 인수한 이후 노랑통닭 실적은 크게 개선됐다. 2019년 말 400여 개였던 가맹점 수는 올해 700개를 넘겼다.',\n",
       "  'summary': '필리핀 최대 외식업체 졸리비푸드가 국내 저가 커피 2위 업체인 컴포즈커피를 인수한 데 이어 올해 하반기 국내 치킨 프랜차이즈 노랑통닭을 운용하는 노랑푸드도 인수할 예정이다.',\n",
       "  'stock_list': None,\n",
       "  'industry_list': None},\n",
       " {'news_id': '20250610_45742590',\n",
       "  'wdate': '2025-06-10 17:44',\n",
       "  'title': '컴포즈커피 산 필리핀 기업, 노랑통닭도 삼켰다',\n",
       "  'article': '글로벌 외식업체 졸리비\\n인수 우선협상대상자 선정\\n연이은 M&A … 韓공략 속도\\n필리핀 최대 외식업체 졸리비푸드(이하 졸리비)가 지난해 국내 저가 커피 2위 업체인 컴포즈커피를 인수한 데 이어 올해 하반기 국내 치킨 프랜차이즈 노랑통닭을 운용하는 노랑푸드도 인수할 예정이다.\\n10일 투자은행(IB) 업계에 따르면 코스톤아시아와 큐캐피탈파트너스는 노랑푸드 인수 우선협상대상자로 졸리비를 선정하고 이날 오전 양해각서(MOU)를 체결했다.\\n인수 주체는 졸리비의 한국법인인 졸리케이이며 조만간 상세 실사에 착수할 예정이다.\\n양측은 오는 8월 말까지 실사를 마무리하고 올해 내로 주식매매계약(SPA)을 체결할 전망이다. 예상 매각가는 1000억원대 중반이다.\\n졸리비는 큐캐피탈과 코스톤이 보유한 노랑통닭 운영사 노랑푸드 지분 100%를 인수하게 된다. 졸리비는 필리핀에 본사를 둔 글로벌 외식기업이다. 동남아시아를 비롯해 미국·유럽·중국 등 전 세계에서 매장을 운영 중이다.\\n졸리비는 국내 사모펀드 운용사인 엘리베이션에쿼티파트너스와 함께 지난해 국내 저가 커피 2위 업체인 컴포즈커피를 4700억원에 인수하며 한국 시장에 처음으로 진출한 바 있다.\\n코스톤과 큐캐피탈은 2020년 노랑푸드 지분 100%를 약 700억원에 인수했다.\\n두 운용사가 인수한 이후 노랑통닭 실적은 크게 개선됐다. 2019년 말 400여 개였던 가맹점 수는 올해 700개를 넘겼다. 2019년 502억원이던 매출도 2024년 1067억원으로 두 배 넘게 올랐다.\\n[나현준 기자 / 정슬기 기자]',\n",
       "  'press': '한국경제',\n",
       "  'url': 'https://n.news.naver.com/mnews/article/009/0005506513',\n",
       "  'image': 'https://imgnews.pstatic.net/image/009/2025/06/10/0005506513_001_20250610174509011.jpg?type=w800',\n",
       "  'article_preprocessed': '글로벌 외식업체 졸리비 인수 우선협상대상자 선정 연이은 M&A … 韓공략 속도 필리핀 최대 외식업체 졸리비푸드(이하 졸리비)가 지난해 국내 저가 커피 2위 업체인 컴포즈커피를 인수한 데 이어 올해 하반기 국내 치킨 프랜차이즈 노랑통닭을 운용하는 노랑푸드도 인수할 예정이다. 10일 투자은행(IB) 업계에 따르면 코스톤아시아와 큐캐피탈파트너스는 노랑푸드 인수 우선협상대상자로 졸리비를 선정하고 이날 오전 양해각서(MOU)를 체결했다. 인수 주체는 졸리비의 한국법인인 졸리케이이며 조만간 상세 실사에 착수할 예정이다. 양측은 오는 8월 말까지 실사를 마무리하고 올해 내로 주식매매계약(SPA)을 체결할 전망이다. 예상 매각가는 1000억원대 중반이다. 졸리비는 큐캐피탈과 코스톤이 보유한 노랑통닭 운영사 노랑푸드 지분 100%를 인수하게 된다. 졸리비는 필리핀에 본사를 둔 글로벌 외식기업이다. 동남아시아를 비롯해 미국·유럽·중국 등 전 세계에서 매장을 운영 중이다. 코스톤과 큐캐피탈은 2020년 노랑푸드 지분 100%를 약 700억원에 인수했다. 두 운용사가 인수한 이후 노랑통닭 실적은 크게 개선됐다. 2019년 말 400여 개였던 가맹점 수는 올해 700개를 넘겼다.',\n",
       "  'summary': '필리핀 최대 외식업체 졸리비푸드가 국내 저가 커피 2위 업체인 컴포즈커피를 인수한 데 이어 올해 하반기 국내 치킨 프랜차이즈 노랑통닭을 운용하는 노랑푸드도 인수할 예정이다.',\n",
       "  'stock_list': None,\n",
       "  'industry_list': None},\n",
       " {'news_id': '20250610_01590130',\n",
       "  'wdate': '2025-06-10 17:44',\n",
       "  'title': \"한투證 '독점 골드만 리서치' 서학개미 투자 교과서 됐다\",\n",
       "  'article': '한달새 조회수 14만회 돌파\\n김성환 한투證 사장\\n한국투자증권이 지난달 골드만삭스와 제휴해 선보인 \\'독점 미국 현지 리서치\\'의 누적 조회수가 14만회를 돌파했다고 10일 밝혔다. 한 달간 발간된 보고서 가운데 서학개미들이 가장 주목한 이슈는 \\'3분기 중국 경제전망\\'이었다.\\n\\'독점 미국 현지 리서치\\'는 한국투자증권이 글로벌 리서치 차별화를 위해 세계 최대 투자은행 골드만삭스와 손잡고 출시한 서비스다. 론칭한 후 10영업일 만에 조회수 10만회를 돌파하며 높은 관심을 받았고, 평균 조회수도 1만회 이상을 기록하며 현재까지 누적 14만회를 넘겼다. 가장 높은 조회수를 기록한 보고서는 지난 5월 15일 발간된 \\'반짝 회복 뒤 다가올 긴 그림자\\'로 약 2만8000회를 기록했다.\\n골드만삭스 제휴 리서치는 한국투자증권 모바일트레이딩시스템(MTS)과 홈페이지를 통해 무료로 제공되며, 글로벌 거시경제 이슈부터 주요 자산군 전망까지 폭넓게 다룬다.\\n한국투자증권의 글로벌 리서치 협업은 이번이 처음은 아니다. 앞서 지난해 3월에는 미국 금융사 스티펄파이낸셜과 손잡고 \\'슬립리스 인 USA(Sleepless in USA)\\'를 출시했다.\\n유종우 한국투자증권 리서치본부장은 \"해외주식 투자 규모가 사상 최대치를 경신하는 가운데, 정보 격차로 인해 투자 수요가 여전히 일부 종목에 편중돼 있다\"며 \"앞으로도 글로벌 리서치 역량을 강화해 투자자에게 보다 풍부하고 균형 잡힌 정보를 제공하겠다\"고 말했다.\\n[김제림 기자]',\n",
       "  'press': '매일경제',\n",
       "  'url': 'https://n.news.naver.com/mnews/article/009/0005506504',\n",
       "  'image': 'https://imgnews.pstatic.net/image/009/2025/06/10/0005506504_001_20250610174408978.jpg?type=w800',\n",
       "  'article_preprocessed': \"한달새 조회수 14만회 돌파 김성환 한투證 사장 한국투자증권이 지난달 골드만삭스와 제휴해 선보인 '독점 미국 현지 리서치'의 누적 조회수가 14만회를 돌파했다고 10일 밝혔다. 한 달간 발간된 보고서 가운데 서학개미들이 가장 주목한 이슈는 '3분기 중국 경제전망'이었다. '독점 미국 현지 리서치'는 한국투자증권이 글로벌 리서치 차별화를 위해 세계 최대 투자은행 골드만삭스와 손잡고 출시한 서비스다. 론칭한 후 10영업일 만에 조회수 10만회를 돌파하며 높은 관심을 받았고, 평균 조회수도 1만회 이상을 기록하며 현재까지 누적 14만회를 넘겼다. 가장 높은 조회수를 기록한 보고서는 지난 5월 15일 발간된 '반짝 회복 뒤 다가올 긴 그림자'로 약 2만8000회를 기록했다. 한국투자증권의 글로벌 리서치 협업은 이번이 처음은 아니다. 앞서 지난해 3월에는 미국 금융사 스티펄파이낸셜과 손잡고 '슬립리스 인 USA(Sleepless in USA)'를 출시했다.\",\n",
       "  'summary': \"한국투자증권이 골드만삭스와 제휴해 선보인 '독점 미국 현지 리서치'의 누적 조회수가 10영업일 만에 10만회를 돌파하며 높은 관심을 받았고, 평균 조회수도 1만회 이상을 기록하며 현재까지 14만회를 넘겼다.\",\n",
       "  'stock_list': None,\n",
       "  'industry_list': None}]"
      ]
     },
     "execution_count": 49,
     "metadata": {},
     "output_type": "execute_result"
    }
   ],
   "source": [
    "ner_news"
   ]
  },
  {
   "cell_type": "code",
   "execution_count": 57,
   "id": "7de794ad",
   "metadata": {},
   "outputs": [
    {
     "data": {
      "text/plain": [
       "'사진=한경DB\\n키움증권은 23일 삼성바이오로직스에 대해 인적분할을 추진하는 건 본격적인 신약 개발에 나서겠다는 의미하고 해석했다.\\n삼성바이오로직스는 인적분할을 통해 의약품 위탁 개발·생산(CDMO) 부문은 존속법인에 남기고, 신설법인인 삼성에피스홀딩스에 삼성바이오에피스 지분 100%를 승계하도록 하는 방안을 추진하겠다고 공시했다.\\n이에 대해 허혜민 키움증권 연구원은 “삼성그룹이 (삼성에피스홀딩스를 통해) 본격적으로 신약 개발을 시작한다는 의미로 해석된다”고 말했다. 이어 “삼성바이오로직스는 글로벌 파트너십 확대를 위한 영업활동이 수월해질 것”이라며 “분할된 신설법인은 투자지주회사로 신성장 동력 발굴과 연구·개발(R&D) 및 기업 인수·합병(M&A)를 통해 적극적인 성장을 추진할 것”이라고 내다봤다.\\n이번 분할 추진이 단기적으로 펀더멘털에 미치는 영향은 미미할 것으로 분석됐다.\\n다만 허 연구원은 “최근 인적분할 업체들의 분할상장 전 주가 수익률이 대체로 상승 흐름을 나타냈다”며 “이후 각 사의 펀더멘털, 수급, 모멘텀에 따라 변동했다”고 전했다.'"
      ]
     },
     "execution_count": 57,
     "metadata": {},
     "output_type": "execute_result"
    }
   ],
   "source": [
    "import pandas as pd\n",
    "\n",
    "df = pd.read_csv('../../db/news_2023_2025_summarized_view.csv')\n",
    "df['article'][20]"
   ]
  },
  {
   "cell_type": "code",
   "execution_count": 13,
   "id": "a89b7375",
   "metadata": {},
   "outputs": [
    {
     "data": {
      "text/html": [
       "<div>\n",
       "<style scoped>\n",
       "    .dataframe tbody tr th:only-of-type {\n",
       "        vertical-align: middle;\n",
       "    }\n",
       "\n",
       "    .dataframe tbody tr th {\n",
       "        vertical-align: top;\n",
       "    }\n",
       "\n",
       "    .dataframe thead th {\n",
       "        text-align: right;\n",
       "    }\n",
       "</style>\n",
       "<table border=\"1\" class=\"dataframe\">\n",
       "  <thead>\n",
       "    <tr style=\"text-align: right;\">\n",
       "      <th></th>\n",
       "      <th>news_id</th>\n",
       "      <th>summary</th>\n",
       "      <th>stock_list</th>\n",
       "      <th>industry_list</th>\n",
       "    </tr>\n",
       "  </thead>\n",
       "  <tbody>\n",
       "    <tr>\n",
       "      <th>0</th>\n",
       "      <td>20250523_0002</td>\n",
       "      <td>23일 정보기술(IT)·투자은행(IB) 업계에 따르면 국내 대표 전자결제사업자인 카...</td>\n",
       "      <td>['카카오페이']</td>\n",
       "      <td>['금융 지원 서비스업']</td>\n",
       "    </tr>\n",
       "    <tr>\n",
       "      <th>1</th>\n",
       "      <td>20250523_0004</td>\n",
       "      <td>세계 2위 투자은행(IB)인 골드만삭스의 사장 겸 최고운영책임자(COO)인 존 월드...</td>\n",
       "      <td>['삼성전자']</td>\n",
       "      <td>['통신 및 방송 장비 제조업']</td>\n",
       "    </tr>\n",
       "    <tr>\n",
       "      <th>2</th>\n",
       "      <td>20250523_0007</td>\n",
       "      <td>23일 정보기술(IT)·투자은행(IB) 업계에 따르면 카카오페이가 SSG닷컴 쓱페이...</td>\n",
       "      <td>['카카오페이']</td>\n",
       "      <td>['금융 지원 서비스업']</td>\n",
       "    </tr>\n",
       "    <tr>\n",
       "      <th>3</th>\n",
       "      <td>20250523_0010</td>\n",
       "      <td>23일 효성중공업은 조 회장이 상속세 재원을 마련하기 위해 시간 외 매매로 효성중 ...</td>\n",
       "      <td>['효성중공업']</td>\n",
       "      <td>['전동기, 발전기 및 전기 변환 · 공급 · 제어 장치 제조업']</td>\n",
       "    </tr>\n",
       "    <tr>\n",
       "      <th>4</th>\n",
       "      <td>20250523_0011</td>\n",
       "      <td>카카오페이가 신세계 이마트 측에서 쓱페이·스마일페이 인수를 추진하고 나선 건 국내 ...</td>\n",
       "      <td>['카카오페이']</td>\n",
       "      <td>['금융 지원 서비스업']</td>\n",
       "    </tr>\n",
       "  </tbody>\n",
       "</table>\n",
       "</div>"
      ],
      "text/plain": [
       "         news_id                                            summary  \\\n",
       "0  20250523_0002  23일 정보기술(IT)·투자은행(IB) 업계에 따르면 국내 대표 전자결제사업자인 카...   \n",
       "1  20250523_0004  세계 2위 투자은행(IB)인 골드만삭스의 사장 겸 최고운영책임자(COO)인 존 월드...   \n",
       "2  20250523_0007  23일 정보기술(IT)·투자은행(IB) 업계에 따르면 카카오페이가 SSG닷컴 쓱페이...   \n",
       "3  20250523_0010  23일 효성중공업은 조 회장이 상속세 재원을 마련하기 위해 시간 외 매매로 효성중 ...   \n",
       "4  20250523_0011  카카오페이가 신세계 이마트 측에서 쓱페이·스마일페이 인수를 추진하고 나선 건 국내 ...   \n",
       "\n",
       "  stock_list                          industry_list  \n",
       "0  ['카카오페이']                         ['금융 지원 서비스업']  \n",
       "1   ['삼성전자']                     ['통신 및 방송 장비 제조업']  \n",
       "2  ['카카오페이']                         ['금융 지원 서비스업']  \n",
       "3  ['효성중공업']  ['전동기, 발전기 및 전기 변환 · 공급 · 제어 장치 제조업']  \n",
       "4  ['카카오페이']                         ['금융 지원 서비스업']  "
      ]
     },
     "execution_count": 13,
     "metadata": {},
     "output_type": "execute_result"
    }
   ],
   "source": [
    "df = df[['news_id', 'summary', 'stock_list', 'industry_list']]\n",
    "df.head()"
   ]
  },
  {
   "cell_type": "code",
   "execution_count": 14,
   "id": "aca8af3a",
   "metadata": {},
   "outputs": [],
   "source": [
    "df.to_csv('../../db/news_2023_2025_metadata.csv', index=False)"
   ]
  },
  {
   "cell_type": "code",
   "execution_count": 1,
   "id": "dd3a399d",
   "metadata": {},
   "outputs": [
    {
     "name": "stdout",
     "output_type": "stream",
     "text": [
      "{\"news_id\": \"20250610_2777\", \"wdate\": \"2025-06-10 17:45\", \"title\": \"카카오그룹주 124급등…경고장 날린 JP412412모간DDDDD\", \"article\": \"카카오페이 한달 95% 급등\\nJP모간 \\\"정당화하기 어렵다\\\"\\n최근 카카오그룹주가 급등한 데 대해 외국계 투자은행(IB) JP모간이 “정당화하기 어려운 주가 급등세”라고 평가절하했다.\\n10일 한국거래소에 따르면 최근 한 달간 카카오페이 주가는 95.24% 뛰었다. 같은 기간 카카오가 35.32%, 카카오뱅크는 24.89% 올랐다. 카카오페이를 필두로 카카오그룹주가 급등한 건 이재명 정부 출범과 함께 원화 스테이블코인 도입 논의가 본격화할 것이란 기대가 커졌기 때문이란 분석이 나온다. 지난 6일 초대 대통령실 정책실장으로 원화 스테이블코인 도입 필요성을 주장해 온 김용범 전 기획재정부 1차관이 선임되며 주가 상승에 탄력이 붙었다.\\n그러나 JP모간은 이날 “카카오페이 급등은 근본적으로 정당화하기 어렵다”고 지적했다. JP모간은 “원화 기반 스테이블코인 정책 수혜주로 카카오페이를 단정하기엔 시기상조”라며 “스테이블코인 도입과 관련한 불확실성도 여전히 크다”고 덧붙였다.\\n지역화폐 바우처 정책의 효과도 미미할 것으로 봤다. JP모간은 “지역화폐를 통한 소비 진작 정책은 일회성”이라며 “카카오페이의 올해 영업이익을 30억원가량 늘리는 데 그칠 것”이라고 말했다. JP모간은 “최근 카카오그룹주 상승세는 실적이 아니라 기대만으로 급등한 2022년 말~2023년 초와 비슷하다”고 했다.\\n이날 카카오페이는 15.96% 상승한 5만7400원에 거래를 마쳤다. 카카오와 카카오뱅크는 각각 2.72%, 2.74% 하락했다.\", \"press\": \"한국경제2\", \"url\": \"https://n.news.naver.com/mnews/article/015/0005142865123\", \"image\": \"https://imgnews.pstatic.net/image/015/2025/06/10/0005142865_001_20250610174710184.jpg?type=w80044\"}\n",
      "{\"news_id\": \"20250610_2211545555\", \"wdate\": \"2025-06-10 17:47\", \"title\": \"카카오그룹주 급등…경고장 날린 JP모간\", \"article\": \"카카오페이 한달 95% 급등\\nJP모간 \\\"정당화하기 어렵다\\\"\\n최근 카카오그룹주가 급등한 데 대해 외국계 투자은행(IB) JP모간이 “정당화하기 어려운 주가 급등세”라고 평가절하했다.\\n10일 한국거래소에 따르면 최근 한 달간 카카오페이 주가는 95.24% 뛰었다. 같은 기간 카카오가 35.32%, 카카오뱅크는 24.89% 올랐다. 카카오페이를 필두로 카카오그룹주가 급등한 건 이재명 정부 출범과 함께 원화 스테이블코인 도입 논의가 본격화할 것이란 기대가 커졌기 때문이란 분석이 나온다. 지난 6일 초대 대통령실 정책실장으로 원화 스테이블코인 도입 필요성을 주장해 온 김용범 전 기획재정부 1차관이 선임되며 주가 상승에 탄력이 붙었다.\\n그러나 JP모간은 이날 “카카오페이 급등은 근본적으로 정당화하기 어렵다”고 지적했다. JP모간은 “원화 기반 스테이블코인 정책 수혜주로 카카오페이를 단정하기엔 시기상조”라며 “스테이블코인 도입과 관련한 불확실성도 여전히 크다”고 덧붙였다.\\n지역화폐 바우처 정책의 효과도 미미할 것으로 봤다. JP모간은 “지역화폐를 통한 소비 진작 정책은 일회성”이라며 “카카오페이의 올해 영업이익을 30억원가량 늘리는 데 그칠 것”이라고 말했다. JP모간은 “최근 카카오그룹주 상승세는 실적이 아니라 기대만으로 급등한 2022년 말~2023년 초와 비슷하다”고 했다.\\n이날 카카오페이는 15.96% 상승한 5만7400원에 거래를 마쳤다. 카카오와 카카오뱅크는 각각 2.72%, 2.74% 하락했다.\", \"press\": \"한국경제\", \"url\": \"https://n.news.naver.com/mnews/article/015/0005142865\", \"image\": \"https://imgnews.pstatic.net/image/015/2025/06/10/0005142865_001_20250610174710184.jpg?type=w800\"}\n",
      "{\"news_id\": \"20250610_2111111522255\", \"wdate\": \"2025-06-10 17:46\", \"title\": \"녹생성장·통일…잊혔던 관제214124펀드 '부활'\", \"article\": \"이명박·朴 펀드 20%대 수익\\n남북관계·친환경 정책 기대\\n이재명표 펀드도 곧 나올 듯\\n과거 정부 때 탄생한 ‘녹생성장펀드’와 ‘통일펀드’가 올해 들어 높은 수익률을 내고 있다.\\n10일 펀드평가사 에프앤가이드에 따르면 이명박 정부 때 조성한 녹색성장펀드인 ‘마이다스책임투자’는 올해 들어 전날까지 20.34%의 수익을 냈다. 2016년 박근혜 정부 당시 남북경협주에 투자하기 위해 만들어진 ‘삼성통일코리아’는 같은 기간 24% 넘는 수익률을 기록했다. 지난해 윤석열 정부 정책에 맞춰 나온 ‘밸류업’ 관련 상장지수펀드(ETF)도 선전하고 있다. 대표 밸류업 ETF로 불리는 ‘삼성KODEX코리아밸류업’의 연초 대비 수익률은 22.62%에 달한다.\\n원본보기\\n이재명 정부의 친환경 에너지, 대북 정책 방향이 과거 정부와 다르지 않다는 판단이 관련주 매수로 이어지고 있다는 분석이 나온다. 새 정부는 앞서 기후에너지부를 신설하고 재생에너지와 원전을 활용해 전력 문제를 해결하겠다는 의지를 밝혔다. 이 영향으로 태양광, 해상풍력 등 관련주가 강세를 보이고 있다.\\n대북 유화 정책 기대도 크다. 통일부는 지난 9일 납북자피해가족연합회가 2일 대북전단을 살포한 일과 관련해 “대북전단 살포 중지를 강력히 요청한다”고 밝혔다. 기업 지배구조 개편과 상법 개정 등 자본시장 활성화 관련 공약은 과거 밸류업 수혜주로 꼽힌 지주사와 증권주에 대한 관심을 끌어올렸다.\\n다만 문재인 정부 당시 조성된 뉴딜펀드는 올해 수익률이 저조했다. 뉴딜 ETF로 불리는 ‘미래에셋 TIGER 2차전지TOP10’은 연초 대비 19% 가까이 급락했다. 2차전지 관련주는 미국의 상호관세 불확실성 등으로 실적 우려가 커진 상황이다. 자투리 펀드(자산 규모 약 50억원 미만)로 규모가 축소되거나 취지와 다르게 운용되는 정책형 펀드도 적지 않다. 녹색성장테마에서 29개 펀드는 운용 규모가 50억원 미만이다.\\n자산운용업계에선 조만간 새 정부도 정책형 펀드 조성에 나설 것으로 관측하고 있다. 앞서 이재명 대통령은 국가 첨단전략산업에 투자하는 국민참여형 펀드 조성을 공약으로 내세웠다. 운용업계 관계자는 “과거 정권이 바뀔 때마다 국정 과제를 뒷받침하는 관제 펀드를 조성하는 일이 반복돼 왔다”고 말했다.\", \"press\": \"한국경제\", \"url\": \"https://n.news.naver.com/mnews/article/015/0005142864\", \"image\": \"https://imgnews.pstatic.net/image/015/2025/06/10/0005142864_001_20250610174615081.jpg?type=w800\"}\n"
     ]
    },
    {
     "ename": "KeyboardInterrupt",
     "evalue": "",
     "output_type": "error",
     "traceback": [
      "\u001b[1;31m---------------------------------------------------------------------------\u001b[0m",
      "\u001b[1;31mKeyboardInterrupt\u001b[0m                         Traceback (most recent call last)",
      "Cell \u001b[1;32mIn[1], line 9\u001b[0m\n\u001b[0;32m      6\u001b[0m pubsub \u001b[38;5;241m=\u001b[39m redis_client\u001b[38;5;241m.\u001b[39mpubsub()\n\u001b[0;32m      7\u001b[0m pubsub\u001b[38;5;241m.\u001b[39msubscribe(\u001b[38;5;124m\"\u001b[39m\u001b[38;5;124mnews_channel\u001b[39m\u001b[38;5;124m\"\u001b[39m)\n\u001b[1;32m----> 9\u001b[0m \u001b[38;5;28;01mfor\u001b[39;00m message \u001b[38;5;129;01min\u001b[39;00m pubsub\u001b[38;5;241m.\u001b[39mlisten():\n\u001b[0;32m     10\u001b[0m     \u001b[38;5;28;01mif\u001b[39;00m message[\u001b[38;5;124m\"\u001b[39m\u001b[38;5;124mtype\u001b[39m\u001b[38;5;124m\"\u001b[39m] \u001b[38;5;241m==\u001b[39m \u001b[38;5;124m\"\u001b[39m\u001b[38;5;124mmessage\u001b[39m\u001b[38;5;124m\"\u001b[39m:\n\u001b[0;32m     11\u001b[0m         \u001b[38;5;28mprint\u001b[39m(message[\u001b[38;5;124m'\u001b[39m\u001b[38;5;124mdata\u001b[39m\u001b[38;5;124m'\u001b[39m])\n",
      "File \u001b[1;32mc:\\Users\\user\\anaconda3\\envs\\test-0602\\lib\\site-packages\\redis\\client.py:1103\u001b[0m, in \u001b[0;36mPubSub.listen\u001b[1;34m(self)\u001b[0m\n\u001b[0;32m   1101\u001b[0m \u001b[38;5;124m\"\u001b[39m\u001b[38;5;124mListen for messages on channels this client has been subscribed to\u001b[39m\u001b[38;5;124m\"\u001b[39m\n\u001b[0;32m   1102\u001b[0m \u001b[38;5;28;01mwhile\u001b[39;00m \u001b[38;5;28mself\u001b[39m\u001b[38;5;241m.\u001b[39msubscribed:\n\u001b[1;32m-> 1103\u001b[0m     response \u001b[38;5;241m=\u001b[39m \u001b[38;5;28mself\u001b[39m\u001b[38;5;241m.\u001b[39mhandle_message(\u001b[38;5;28;43mself\u001b[39;49m\u001b[38;5;241;43m.\u001b[39;49m\u001b[43mparse_response\u001b[49m\u001b[43m(\u001b[49m\u001b[43mblock\u001b[49m\u001b[38;5;241;43m=\u001b[39;49m\u001b[38;5;28;43;01mTrue\u001b[39;49;00m\u001b[43m)\u001b[49m)\n\u001b[0;32m   1104\u001b[0m     \u001b[38;5;28;01mif\u001b[39;00m response \u001b[38;5;129;01mis\u001b[39;00m \u001b[38;5;129;01mnot\u001b[39;00m \u001b[38;5;28;01mNone\u001b[39;00m:\n\u001b[0;32m   1105\u001b[0m         \u001b[38;5;28;01myield\u001b[39;00m response\n",
      "File \u001b[1;32mc:\\Users\\user\\anaconda3\\envs\\test-0602\\lib\\site-packages\\redis\\client.py:942\u001b[0m, in \u001b[0;36mPubSub.parse_response\u001b[1;34m(self, block, timeout)\u001b[0m\n\u001b[0;32m    939\u001b[0m         conn\u001b[38;5;241m.\u001b[39mconnect()\n\u001b[0;32m    940\u001b[0m     \u001b[38;5;28;01mreturn\u001b[39;00m conn\u001b[38;5;241m.\u001b[39mread_response(disconnect_on_error\u001b[38;5;241m=\u001b[39m\u001b[38;5;28;01mFalse\u001b[39;00m, push_request\u001b[38;5;241m=\u001b[39m\u001b[38;5;28;01mTrue\u001b[39;00m)\n\u001b[1;32m--> 942\u001b[0m response \u001b[38;5;241m=\u001b[39m \u001b[38;5;28;43mself\u001b[39;49m\u001b[38;5;241;43m.\u001b[39;49m\u001b[43m_execute\u001b[49m\u001b[43m(\u001b[49m\u001b[43mconn\u001b[49m\u001b[43m,\u001b[49m\u001b[43m \u001b[49m\u001b[43mtry_read\u001b[49m\u001b[43m)\u001b[49m\n\u001b[0;32m    944\u001b[0m \u001b[38;5;28;01mif\u001b[39;00m \u001b[38;5;28mself\u001b[39m\u001b[38;5;241m.\u001b[39mis_health_check_response(response):\n\u001b[0;32m    945\u001b[0m     \u001b[38;5;66;03m# ignore the health check message as user might not expect it\u001b[39;00m\n\u001b[0;32m    946\u001b[0m     \u001b[38;5;28mself\u001b[39m\u001b[38;5;241m.\u001b[39mhealth_check_response_counter \u001b[38;5;241m-\u001b[39m\u001b[38;5;241m=\u001b[39m \u001b[38;5;241m1\u001b[39m\n",
      "File \u001b[1;32mc:\\Users\\user\\anaconda3\\envs\\test-0602\\lib\\site-packages\\redis\\client.py:918\u001b[0m, in \u001b[0;36mPubSub._execute\u001b[1;34m(self, conn, command, *args, **kwargs)\u001b[0m\n\u001b[0;32m    910\u001b[0m \u001b[38;5;28;01mdef\u001b[39;00m\u001b[38;5;250m \u001b[39m\u001b[38;5;21m_execute\u001b[39m(\u001b[38;5;28mself\u001b[39m, conn, command, \u001b[38;5;241m*\u001b[39margs, \u001b[38;5;241m*\u001b[39m\u001b[38;5;241m*\u001b[39mkwargs):\n\u001b[0;32m    911\u001b[0m \u001b[38;5;250m    \u001b[39m\u001b[38;5;124;03m\"\"\"\u001b[39;00m\n\u001b[0;32m    912\u001b[0m \u001b[38;5;124;03m    Connect manually upon disconnection. If the Redis server is down,\u001b[39;00m\n\u001b[0;32m    913\u001b[0m \u001b[38;5;124;03m    this will fail and raise a ConnectionError as desired.\u001b[39;00m\n\u001b[1;32m   (...)\u001b[0m\n\u001b[0;32m    916\u001b[0m \u001b[38;5;124;03m    patterns we were previously listening to\u001b[39;00m\n\u001b[0;32m    917\u001b[0m \u001b[38;5;124;03m    \"\"\"\u001b[39;00m\n\u001b[1;32m--> 918\u001b[0m     \u001b[38;5;28;01mreturn\u001b[39;00m \u001b[43mconn\u001b[49m\u001b[38;5;241;43m.\u001b[39;49m\u001b[43mretry\u001b[49m\u001b[38;5;241;43m.\u001b[39;49m\u001b[43mcall_with_retry\u001b[49m\u001b[43m(\u001b[49m\n\u001b[0;32m    919\u001b[0m \u001b[43m        \u001b[49m\u001b[38;5;28;43;01mlambda\u001b[39;49;00m\u001b[43m:\u001b[49m\u001b[43m \u001b[49m\u001b[43mcommand\u001b[49m\u001b[43m(\u001b[49m\u001b[38;5;241;43m*\u001b[39;49m\u001b[43margs\u001b[49m\u001b[43m,\u001b[49m\u001b[43m \u001b[49m\u001b[38;5;241;43m*\u001b[39;49m\u001b[38;5;241;43m*\u001b[39;49m\u001b[43mkwargs\u001b[49m\u001b[43m)\u001b[49m\u001b[43m,\u001b[49m\n\u001b[0;32m    920\u001b[0m \u001b[43m        \u001b[49m\u001b[38;5;28;43;01mlambda\u001b[39;49;00m\u001b[43m \u001b[49m\u001b[43m_\u001b[49m\u001b[43m:\u001b[49m\u001b[43m \u001b[49m\u001b[38;5;28;43mself\u001b[39;49m\u001b[38;5;241;43m.\u001b[39;49m\u001b[43m_reconnect\u001b[49m\u001b[43m(\u001b[49m\u001b[43mconn\u001b[49m\u001b[43m)\u001b[49m\u001b[43m,\u001b[49m\n\u001b[0;32m    921\u001b[0m \u001b[43m    \u001b[49m\u001b[43m)\u001b[49m\n",
      "File \u001b[1;32mc:\\Users\\user\\anaconda3\\envs\\test-0602\\lib\\site-packages\\redis\\retry.py:87\u001b[0m, in \u001b[0;36mRetry.call_with_retry\u001b[1;34m(self, do, fail)\u001b[0m\n\u001b[0;32m     85\u001b[0m \u001b[38;5;28;01mwhile\u001b[39;00m \u001b[38;5;28;01mTrue\u001b[39;00m:\n\u001b[0;32m     86\u001b[0m     \u001b[38;5;28;01mtry\u001b[39;00m:\n\u001b[1;32m---> 87\u001b[0m         \u001b[38;5;28;01mreturn\u001b[39;00m \u001b[43mdo\u001b[49m\u001b[43m(\u001b[49m\u001b[43m)\u001b[49m\n\u001b[0;32m     88\u001b[0m     \u001b[38;5;28;01mexcept\u001b[39;00m \u001b[38;5;28mself\u001b[39m\u001b[38;5;241m.\u001b[39m_supported_errors \u001b[38;5;28;01mas\u001b[39;00m error:\n\u001b[0;32m     89\u001b[0m         failures \u001b[38;5;241m+\u001b[39m\u001b[38;5;241m=\u001b[39m \u001b[38;5;241m1\u001b[39m\n",
      "File \u001b[1;32mc:\\Users\\user\\anaconda3\\envs\\test-0602\\lib\\site-packages\\redis\\client.py:919\u001b[0m, in \u001b[0;36mPubSub._execute.<locals>.<lambda>\u001b[1;34m()\u001b[0m\n\u001b[0;32m    910\u001b[0m \u001b[38;5;28;01mdef\u001b[39;00m\u001b[38;5;250m \u001b[39m\u001b[38;5;21m_execute\u001b[39m(\u001b[38;5;28mself\u001b[39m, conn, command, \u001b[38;5;241m*\u001b[39margs, \u001b[38;5;241m*\u001b[39m\u001b[38;5;241m*\u001b[39mkwargs):\n\u001b[0;32m    911\u001b[0m \u001b[38;5;250m    \u001b[39m\u001b[38;5;124;03m\"\"\"\u001b[39;00m\n\u001b[0;32m    912\u001b[0m \u001b[38;5;124;03m    Connect manually upon disconnection. If the Redis server is down,\u001b[39;00m\n\u001b[0;32m    913\u001b[0m \u001b[38;5;124;03m    this will fail and raise a ConnectionError as desired.\u001b[39;00m\n\u001b[1;32m   (...)\u001b[0m\n\u001b[0;32m    916\u001b[0m \u001b[38;5;124;03m    patterns we were previously listening to\u001b[39;00m\n\u001b[0;32m    917\u001b[0m \u001b[38;5;124;03m    \"\"\"\u001b[39;00m\n\u001b[0;32m    918\u001b[0m     \u001b[38;5;28;01mreturn\u001b[39;00m conn\u001b[38;5;241m.\u001b[39mretry\u001b[38;5;241m.\u001b[39mcall_with_retry(\n\u001b[1;32m--> 919\u001b[0m         \u001b[38;5;28;01mlambda\u001b[39;00m: command(\u001b[38;5;241m*\u001b[39margs, \u001b[38;5;241m*\u001b[39m\u001b[38;5;241m*\u001b[39mkwargs),\n\u001b[0;32m    920\u001b[0m         \u001b[38;5;28;01mlambda\u001b[39;00m _: \u001b[38;5;28mself\u001b[39m\u001b[38;5;241m.\u001b[39m_reconnect(conn),\n\u001b[0;32m    921\u001b[0m     )\n",
      "File \u001b[1;32mc:\\Users\\user\\anaconda3\\envs\\test-0602\\lib\\site-packages\\redis\\client.py:940\u001b[0m, in \u001b[0;36mPubSub.parse_response.<locals>.try_read\u001b[1;34m()\u001b[0m\n\u001b[0;32m    938\u001b[0m \u001b[38;5;28;01melse\u001b[39;00m:\n\u001b[0;32m    939\u001b[0m     conn\u001b[38;5;241m.\u001b[39mconnect()\n\u001b[1;32m--> 940\u001b[0m \u001b[38;5;28;01mreturn\u001b[39;00m \u001b[43mconn\u001b[49m\u001b[38;5;241;43m.\u001b[39;49m\u001b[43mread_response\u001b[49m\u001b[43m(\u001b[49m\u001b[43mdisconnect_on_error\u001b[49m\u001b[38;5;241;43m=\u001b[39;49m\u001b[38;5;28;43;01mFalse\u001b[39;49;00m\u001b[43m,\u001b[49m\u001b[43m \u001b[49m\u001b[43mpush_request\u001b[49m\u001b[38;5;241;43m=\u001b[39;49m\u001b[38;5;28;43;01mTrue\u001b[39;49;00m\u001b[43m)\u001b[49m\n",
      "File \u001b[1;32mc:\\Users\\user\\anaconda3\\envs\\test-0602\\lib\\site-packages\\redis\\connection.py:644\u001b[0m, in \u001b[0;36mAbstractConnection.read_response\u001b[1;34m(self, disable_decoding, disconnect_on_error, push_request)\u001b[0m\n\u001b[0;32m    640\u001b[0m         response \u001b[38;5;241m=\u001b[39m \u001b[38;5;28mself\u001b[39m\u001b[38;5;241m.\u001b[39m_parser\u001b[38;5;241m.\u001b[39mread_response(\n\u001b[0;32m    641\u001b[0m             disable_decoding\u001b[38;5;241m=\u001b[39mdisable_decoding, push_request\u001b[38;5;241m=\u001b[39mpush_request\n\u001b[0;32m    642\u001b[0m         )\n\u001b[0;32m    643\u001b[0m     \u001b[38;5;28;01melse\u001b[39;00m:\n\u001b[1;32m--> 644\u001b[0m         response \u001b[38;5;241m=\u001b[39m \u001b[38;5;28;43mself\u001b[39;49m\u001b[38;5;241;43m.\u001b[39;49m\u001b[43m_parser\u001b[49m\u001b[38;5;241;43m.\u001b[39;49m\u001b[43mread_response\u001b[49m\u001b[43m(\u001b[49m\u001b[43mdisable_decoding\u001b[49m\u001b[38;5;241;43m=\u001b[39;49m\u001b[43mdisable_decoding\u001b[49m\u001b[43m)\u001b[49m\n\u001b[0;32m    645\u001b[0m \u001b[38;5;28;01mexcept\u001b[39;00m socket\u001b[38;5;241m.\u001b[39mtimeout:\n\u001b[0;32m    646\u001b[0m     \u001b[38;5;28;01mif\u001b[39;00m disconnect_on_error:\n",
      "File \u001b[1;32mc:\\Users\\user\\anaconda3\\envs\\test-0602\\lib\\site-packages\\redis\\_parsers\\resp2.py:15\u001b[0m, in \u001b[0;36m_RESP2Parser.read_response\u001b[1;34m(self, disable_decoding)\u001b[0m\n\u001b[0;32m     13\u001b[0m pos \u001b[38;5;241m=\u001b[39m \u001b[38;5;28mself\u001b[39m\u001b[38;5;241m.\u001b[39m_buffer\u001b[38;5;241m.\u001b[39mget_pos() \u001b[38;5;28;01mif\u001b[39;00m \u001b[38;5;28mself\u001b[39m\u001b[38;5;241m.\u001b[39m_buffer \u001b[38;5;28;01melse\u001b[39;00m \u001b[38;5;28;01mNone\u001b[39;00m\n\u001b[0;32m     14\u001b[0m \u001b[38;5;28;01mtry\u001b[39;00m:\n\u001b[1;32m---> 15\u001b[0m     result \u001b[38;5;241m=\u001b[39m \u001b[38;5;28;43mself\u001b[39;49m\u001b[38;5;241;43m.\u001b[39;49m\u001b[43m_read_response\u001b[49m\u001b[43m(\u001b[49m\u001b[43mdisable_decoding\u001b[49m\u001b[38;5;241;43m=\u001b[39;49m\u001b[43mdisable_decoding\u001b[49m\u001b[43m)\u001b[49m\n\u001b[0;32m     16\u001b[0m \u001b[38;5;28;01mexcept\u001b[39;00m \u001b[38;5;167;01mBaseException\u001b[39;00m:\n\u001b[0;32m     17\u001b[0m     \u001b[38;5;28;01mif\u001b[39;00m \u001b[38;5;28mself\u001b[39m\u001b[38;5;241m.\u001b[39m_buffer:\n",
      "File \u001b[1;32mc:\\Users\\user\\anaconda3\\envs\\test-0602\\lib\\site-packages\\redis\\_parsers\\resp2.py:25\u001b[0m, in \u001b[0;36m_RESP2Parser._read_response\u001b[1;34m(self, disable_decoding)\u001b[0m\n\u001b[0;32m     24\u001b[0m \u001b[38;5;28;01mdef\u001b[39;00m\u001b[38;5;250m \u001b[39m\u001b[38;5;21m_read_response\u001b[39m(\u001b[38;5;28mself\u001b[39m, disable_decoding\u001b[38;5;241m=\u001b[39m\u001b[38;5;28;01mFalse\u001b[39;00m):\n\u001b[1;32m---> 25\u001b[0m     raw \u001b[38;5;241m=\u001b[39m \u001b[38;5;28;43mself\u001b[39;49m\u001b[38;5;241;43m.\u001b[39;49m\u001b[43m_buffer\u001b[49m\u001b[38;5;241;43m.\u001b[39;49m\u001b[43mreadline\u001b[49m\u001b[43m(\u001b[49m\u001b[43m)\u001b[49m\n\u001b[0;32m     26\u001b[0m     \u001b[38;5;28;01mif\u001b[39;00m \u001b[38;5;129;01mnot\u001b[39;00m raw:\n\u001b[0;32m     27\u001b[0m         \u001b[38;5;28;01mraise\u001b[39;00m \u001b[38;5;167;01mConnectionError\u001b[39;00m(SERVER_CLOSED_CONNECTION_ERROR)\n",
      "File \u001b[1;32mc:\\Users\\user\\anaconda3\\envs\\test-0602\\lib\\site-packages\\redis\\_parsers\\socket.py:115\u001b[0m, in \u001b[0;36mSocketBuffer.readline\u001b[1;34m(self)\u001b[0m\n\u001b[0;32m    112\u001b[0m data \u001b[38;5;241m=\u001b[39m buf\u001b[38;5;241m.\u001b[39mreadline()\n\u001b[0;32m    113\u001b[0m \u001b[38;5;28;01mwhile\u001b[39;00m \u001b[38;5;129;01mnot\u001b[39;00m data\u001b[38;5;241m.\u001b[39mendswith(SYM_CRLF):\n\u001b[0;32m    114\u001b[0m     \u001b[38;5;66;03m# there's more data in the socket that we need\u001b[39;00m\n\u001b[1;32m--> 115\u001b[0m     \u001b[38;5;28;43mself\u001b[39;49m\u001b[38;5;241;43m.\u001b[39;49m\u001b[43m_read_from_socket\u001b[49m\u001b[43m(\u001b[49m\u001b[43m)\u001b[49m\n\u001b[0;32m    116\u001b[0m     data \u001b[38;5;241m+\u001b[39m\u001b[38;5;241m=\u001b[39m buf\u001b[38;5;241m.\u001b[39mreadline()\n\u001b[0;32m    118\u001b[0m \u001b[38;5;28;01mreturn\u001b[39;00m data[:\u001b[38;5;241m-\u001b[39m\u001b[38;5;241m2\u001b[39m]\n",
      "File \u001b[1;32mc:\\Users\\user\\anaconda3\\envs\\test-0602\\lib\\site-packages\\redis\\_parsers\\socket.py:65\u001b[0m, in \u001b[0;36mSocketBuffer._read_from_socket\u001b[1;34m(self, length, timeout, raise_on_timeout)\u001b[0m\n\u001b[0;32m     63\u001b[0m \u001b[38;5;28;01mtry\u001b[39;00m:\n\u001b[0;32m     64\u001b[0m     \u001b[38;5;28;01mwhile\u001b[39;00m \u001b[38;5;28;01mTrue\u001b[39;00m:\n\u001b[1;32m---> 65\u001b[0m         data \u001b[38;5;241m=\u001b[39m \u001b[38;5;28;43mself\u001b[39;49m\u001b[38;5;241;43m.\u001b[39;49m\u001b[43m_sock\u001b[49m\u001b[38;5;241;43m.\u001b[39;49m\u001b[43mrecv\u001b[49m\u001b[43m(\u001b[49m\u001b[43msocket_read_size\u001b[49m\u001b[43m)\u001b[49m\n\u001b[0;32m     66\u001b[0m         \u001b[38;5;66;03m# an empty string indicates the server shutdown the socket\u001b[39;00m\n\u001b[0;32m     67\u001b[0m         \u001b[38;5;28;01mif\u001b[39;00m \u001b[38;5;28misinstance\u001b[39m(data, \u001b[38;5;28mbytes\u001b[39m) \u001b[38;5;129;01mand\u001b[39;00m \u001b[38;5;28mlen\u001b[39m(data) \u001b[38;5;241m==\u001b[39m \u001b[38;5;241m0\u001b[39m:\n",
      "\u001b[1;31mKeyboardInterrupt\u001b[0m: "
     ]
    }
   ],
   "source": [
    "import redis\n",
    "\n",
    "redis_client = redis.Redis(\n",
    "    host=\"43.200.17.139\", port=6379, password=\"q1w2e3r4!@#\", decode_responses=True\n",
    ")\n",
    "pubsub = redis_client.pubsub()\n",
    "pubsub.subscribe(\"news_channel\")\n",
    "\n",
    "for message in pubsub.listen():\n",
    "    if message[\"type\"] == \"message\":\n",
    "        print(message['data'])"
   ]
  },
  {
   "cell_type": "code",
   "execution_count": null,
   "id": "19852e4d",
   "metadata": {},
   "outputs": [],
   "source": []
  }
 ],
 "metadata": {
  "kernelspec": {
   "display_name": "test-0602",
   "language": "python",
   "name": "python3"
  },
  "language_info": {
   "codemirror_mode": {
    "name": "ipython",
    "version": 3
   },
   "file_extension": ".py",
   "mimetype": "text/x-python",
   "name": "python",
   "nbconvert_exporter": "python",
   "pygments_lexer": "ipython3",
   "version": "3.9.21"
  }
 },
 "nbformat": 4,
 "nbformat_minor": 5
}
