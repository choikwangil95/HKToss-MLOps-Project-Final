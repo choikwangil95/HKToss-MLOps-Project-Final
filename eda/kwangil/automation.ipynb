{
 "cells": [
  {
   "cell_type": "code",
   "execution_count": 1,
   "id": "4081fd91",
   "metadata": {},
   "outputs": [],
   "source": [
    "import requests"
   ]
  },
  {
   "cell_type": "code",
   "execution_count": 3,
   "id": "0abe70ac",
   "metadata": {},
   "outputs": [],
   "source": [
    "def get_article_summary(\n",
    "  text,\n",
    "):\n",
    "  url = \"http://15.165.211.100:8000/models/summarize\"  # 또는 EC2 내부/외부 주소\n",
    "  payload = {\"article\": text}\n",
    "\n",
    "  try:\n",
    "      response = requests.post(url, json=payload)\n",
    "      response.raise_for_status()\n",
    "\n",
    "      summary = response.json()[\"summary\"]  # 또는 실제 리턴 필드에 따라 조정\n",
    "\n",
    "      return summary\n",
    "\n",
    "  except Exception as e:\n",
    "      print(f\"❌ 요약 요청 실패: {e}\")\n",
    "      return \"\"\n",
    "\n",
    "def get_stock_list(text):\n",
    "  # 🟡 토큰화 및 입력값 준비\n",
    "\n",
    "  url = \"http://15.165.211.100:8000/models/stock_list\"\n",
    "  payload = {\"article\": text}\n",
    "\n",
    "  try:\n",
    "      response = requests.post(url, json=payload)\n",
    "      response.raise_for_status()\n",
    "      return response.json()[\"stock_list\"]  # 혹은 API 응답 구조에 따라 조정\n",
    "  except Exception as e:\n",
    "      print(f\"❌ 종목명 추출 실패: {e}\")\n",
    "      return []"
   ]
  },
  {
   "cell_type": "code",
   "execution_count": 10,
   "id": "0f519502",
   "metadata": {},
   "outputs": [],
   "source": [
    "text = '나이스신용평가는 23일 삼성바이오로직스의 인적 분할이 신용도에 끼치는 영향은 제한적이라고 밝혔다.\\n삼성바이오로직스는 전날 22일 인적 분할 계획을 공시했다. 바이오의약품 개발 및 상업화 사업을 분할해 신설법인(삼성에피스홀딩스)을 설립하고, 존속법인(삼성바이오로직스㈜은 바이오의약품 위탁개발생산(CDMO) 사업을 영위할 예정이다. 삼성에피스홀딩스는 삼성바이오에피스 및 바이오 관련 신사업을 영위하는 신설 자회사를 100% 지배하는 지주사로서 자회사 관리와 신규투자 등을 담당하게 된다.\\n나신평은 분할 전 발행된 회사채의 신용도에 즉각적인 변화는 없을 것이라고 설명했다. 나신평은 \"인적 분할의 경우 상법상 분할 전 회사의 채무에 관하여 각 분할 존속회사 및 분할 신설회사가 연대해 변제할 책임이 있다\"며 \"가상적인 연결 실체의 상환능력에는 변화가 없으며, 기존 회사채의 신용도는 동일하게 유지된다\"고 설명했다.\\n그러면서 인적 분할이 회사의 신용도에 미치는 영향은 제한적인 수준으로 판단된다\"며 \"분할 이후 회사의 매출 외형은 분할 전 대비 약 23% 축소될 것으로 보인다\"면서도 \"PPA 상각비 등이 신설법인에 귀속되면서 회사의 이익창출력은 우수한 수준을 유지할 것으로 전망된다\"고 말했다.\\n다만 분할 이후 회사의 확정된 재무제표 상 재무안정성 지표의 저하 수준과 매출, 수익성 및 현금창출력의 변동 여부와 함께 향후 투자계획의 변경 등이 신용도에 영향을 미칠 것으로 내다봤다. 나신평은 \"회사의 재무상태는 최종 분할 시점에 변경될 가능성이 존재하며, 이후에도 분할대상 부문의 사업 조정 과정에서 추가적인 변동이 나타날 수 있다\"며 \"향후 임시주주총회 투표 결과를 비롯한 기업분할 관련 진행 상황 및 분할 과정에서의 재무 안정성의 변화 여부를 지속 점검해 신용등급에 반영할 예정\"이라고 설명했다.'"
   ]
  },
  {
   "cell_type": "code",
   "execution_count": 11,
   "id": "21d8e2e3",
   "metadata": {},
   "outputs": [
    {
     "data": {
      "text/plain": [
       "'나이스신용평가는 23일 삼성바이오로직스의 인적 분할 계획이 발표되었으며 이에 따라 회사의 신용도에 미치는 영향은 제한적이라고 밝혔다.'"
      ]
     },
     "execution_count": 11,
     "metadata": {},
     "output_type": "execute_result"
    }
   ],
   "source": [
    "summary = get_article_summary(text)\n",
    "summary"
   ]
  },
  {
   "cell_type": "code",
   "execution_count": 9,
   "id": "107883c7",
   "metadata": {},
   "outputs": [
    {
     "data": {
      "text/plain": [
       "['삼성전자', 'MBK파트너스']"
      ]
     },
     "execution_count": 9,
     "metadata": {},
     "output_type": "execute_result"
    }
   ],
   "source": [
    "stock_list = get_stock_list(summary)\n",
    "stock_list"
   ]
  },
  {
   "cell_type": "code",
   "execution_count": 12,
   "id": "81fc09c0",
   "metadata": {},
   "outputs": [],
   "source": [
    "import pandas as pd "
   ]
  },
  {
   "cell_type": "code",
   "execution_count": 15,
   "id": "fa96d6f7",
   "metadata": {},
   "outputs": [],
   "source": [
    "df_krx = pd.read_csv('../../automation/db/KRX_KOSPI_STOCK.csv', encoding='cp949')"
   ]
  },
  {
   "cell_type": "code",
   "execution_count": 16,
   "id": "dd4e85c3",
   "metadata": {},
   "outputs": [],
   "source": [
    "df_krx[\"종목코드\"] = df_krx[\"종목코드\"].astype(str).str.zfill(6)"
   ]
  },
  {
   "cell_type": "code",
   "execution_count": 18,
   "id": "d0439d3a",
   "metadata": {},
   "outputs": [
    {
     "data": {
      "text/html": [
       "<div>\n",
       "<style scoped>\n",
       "    .dataframe tbody tr th:only-of-type {\n",
       "        vertical-align: middle;\n",
       "    }\n",
       "\n",
       "    .dataframe tbody tr th {\n",
       "        vertical-align: top;\n",
       "    }\n",
       "\n",
       "    .dataframe thead th {\n",
       "        text-align: right;\n",
       "    }\n",
       "</style>\n",
       "<table border=\"1\" class=\"dataframe\">\n",
       "  <thead>\n",
       "    <tr style=\"text-align: right;\">\n",
       "      <th></th>\n",
       "      <th>종목코드</th>\n",
       "      <th>종목명</th>\n",
       "      <th>종가</th>\n",
       "      <th>대비</th>\n",
       "      <th>등락률</th>\n",
       "      <th>상장시가총액</th>\n",
       "    </tr>\n",
       "  </thead>\n",
       "  <tbody>\n",
       "    <tr>\n",
       "      <th>0</th>\n",
       "      <td>005930</td>\n",
       "      <td>삼성전자</td>\n",
       "      <td>55700</td>\n",
       "      <td>1800</td>\n",
       "      <td>3.34</td>\n",
       "      <td>329723832.0</td>\n",
       "    </tr>\n",
       "    <tr>\n",
       "      <th>1</th>\n",
       "      <td>000660</td>\n",
       "      <td>SK하이닉스</td>\n",
       "      <td>208000</td>\n",
       "      <td>5500</td>\n",
       "      <td>2.72</td>\n",
       "      <td>151424492.0</td>\n",
       "    </tr>\n",
       "    <tr>\n",
       "      <th>2</th>\n",
       "      <td>207940</td>\n",
       "      <td>삼성바이오로직스</td>\n",
       "      <td>1029000</td>\n",
       "      <td>3000</td>\n",
       "      <td>0.29</td>\n",
       "      <td>73238046.0</td>\n",
       "    </tr>\n",
       "    <tr>\n",
       "      <th>3</th>\n",
       "      <td>373220</td>\n",
       "      <td>LG에너지솔루션</td>\n",
       "      <td>282500</td>\n",
       "      <td>10000</td>\n",
       "      <td>3.67</td>\n",
       "      <td>66105000.0</td>\n",
       "    </tr>\n",
       "    <tr>\n",
       "      <th>4</th>\n",
       "      <td>012450</td>\n",
       "      <td>한화에어로스페이스</td>\n",
       "      <td>884000</td>\n",
       "      <td>-3000</td>\n",
       "      <td>-0.34</td>\n",
       "      <td>41809842.0</td>\n",
       "    </tr>\n",
       "  </tbody>\n",
       "</table>\n",
       "</div>"
      ],
      "text/plain": [
       "     종목코드        종목명       종가     대비   등락률       상장시가총액\n",
       "0  005930       삼성전자    55700   1800  3.34  329723832.0\n",
       "1  000660     SK하이닉스   208000   5500  2.72  151424492.0\n",
       "2  207940   삼성바이오로직스  1029000   3000  0.29   73238046.0\n",
       "3  373220   LG에너지솔루션   282500  10000  3.67   66105000.0\n",
       "4  012450  한화에어로스페이스   884000  -3000 -0.34   41809842.0"
      ]
     },
     "execution_count": 18,
     "metadata": {},
     "output_type": "execute_result"
    }
   ],
   "source": [
    "df_krx.drop(columns=['Unnamed: 0'], inplace=True)\n",
    "df_krx.head()"
   ]
  },
  {
   "cell_type": "code",
   "execution_count": 20,
   "id": "a6d0d195",
   "metadata": {},
   "outputs": [],
   "source": [
    "df_krx.to_csv('../../automation/db/KRX_KOSPI_STOCK.csv', index=False)"
   ]
  },
  {
   "cell_type": "code",
   "execution_count": 21,
   "id": "ee59a924",
   "metadata": {},
   "outputs": [],
   "source": [
    "df_krx_desc = pd.read_csv(\"../../automation/db/KRX_KOSPI_DESCRIPTION.csv\", encoding=\"cp949\")"
   ]
  },
  {
   "cell_type": "code",
   "execution_count": 22,
   "id": "05031ad0",
   "metadata": {},
   "outputs": [],
   "source": [
    "df_krx_desc[\"종목코드\"] = df_krx_desc[\"종목코드\"].astype(str).str.zfill(6)"
   ]
  },
  {
   "cell_type": "code",
   "execution_count": 24,
   "id": "0920eb28",
   "metadata": {},
   "outputs": [
    {
     "data": {
      "text/html": [
       "<div>\n",
       "<style scoped>\n",
       "    .dataframe tbody tr th:only-of-type {\n",
       "        vertical-align: middle;\n",
       "    }\n",
       "\n",
       "    .dataframe tbody tr th {\n",
       "        vertical-align: top;\n",
       "    }\n",
       "\n",
       "    .dataframe thead th {\n",
       "        text-align: right;\n",
       "    }\n",
       "</style>\n",
       "<table border=\"1\" class=\"dataframe\">\n",
       "  <thead>\n",
       "    <tr style=\"text-align: right;\">\n",
       "      <th></th>\n",
       "      <th>종목코드</th>\n",
       "      <th>종목명</th>\n",
       "      <th>시장구분</th>\n",
       "      <th>소속부</th>\n",
       "      <th>소속부.1</th>\n",
       "      <th>업종코드</th>\n",
       "      <th>업종명</th>\n",
       "      <th>결산월</th>\n",
       "      <th>지정자문인</th>\n",
       "      <th>상장주식수</th>\n",
       "      <th>액면가</th>\n",
       "      <th>자본금</th>\n",
       "      <th>통화구분</th>\n",
       "      <th>대표이사</th>\n",
       "      <th>대표전화</th>\n",
       "      <th>주소</th>\n",
       "    </tr>\n",
       "  </thead>\n",
       "  <tbody>\n",
       "    <tr>\n",
       "      <th>0</th>\n",
       "      <td>095570</td>\n",
       "      <td>AJ네트웍스</td>\n",
       "      <td>KOSPI</td>\n",
       "      <td>NaN</td>\n",
       "      <td>NaN</td>\n",
       "      <td>147603</td>\n",
       "      <td>산업용 기계 및 장비 임대업</td>\n",
       "      <td>12</td>\n",
       "      <td>NaN</td>\n",
       "      <td>45252759</td>\n",
       "      <td>1000</td>\n",
       "      <td>46822295000</td>\n",
       "      <td>원(KRW)</td>\n",
       "      <td>곽정호</td>\n",
       "      <td>02-6363-9999</td>\n",
       "      <td>서울특별시 송파구 정의로8길 9 (문정동,AJ빌딩)</td>\n",
       "    </tr>\n",
       "    <tr>\n",
       "      <th>1</th>\n",
       "      <td>006840</td>\n",
       "      <td>AK홀딩스</td>\n",
       "      <td>KOSPI</td>\n",
       "      <td>NaN</td>\n",
       "      <td>NaN</td>\n",
       "      <td>116409</td>\n",
       "      <td>기타 금융업</td>\n",
       "      <td>12</td>\n",
       "      <td>NaN</td>\n",
       "      <td>13247561</td>\n",
       "      <td>5000</td>\n",
       "      <td>66237805000</td>\n",
       "      <td>원(KRW)</td>\n",
       "      <td>고준, 채형석 (각자 대표이사)</td>\n",
       "      <td>02-768-2923</td>\n",
       "      <td>서울특별시 마포구 양화로 188 -</td>\n",
       "    </tr>\n",
       "    <tr>\n",
       "      <th>2</th>\n",
       "      <td>027410</td>\n",
       "      <td>BGF</td>\n",
       "      <td>KOSPI</td>\n",
       "      <td>NaN</td>\n",
       "      <td>NaN</td>\n",
       "      <td>116409</td>\n",
       "      <td>기타 금융업</td>\n",
       "      <td>12</td>\n",
       "      <td>NaN</td>\n",
       "      <td>95716791</td>\n",
       "      <td>1000</td>\n",
       "      <td>95716791000</td>\n",
       "      <td>NaN</td>\n",
       "      <td>홍정국</td>\n",
       "      <td>1577-3663</td>\n",
       "      <td>서울특별시 강남구 테헤란로 405</td>\n",
       "    </tr>\n",
       "    <tr>\n",
       "      <th>3</th>\n",
       "      <td>282330</td>\n",
       "      <td>BGF리테일</td>\n",
       "      <td>KOSPI</td>\n",
       "      <td>NaN</td>\n",
       "      <td>NaN</td>\n",
       "      <td>74701</td>\n",
       "      <td>종합 소매업</td>\n",
       "      <td>12</td>\n",
       "      <td>NaN</td>\n",
       "      <td>17283906</td>\n",
       "      <td>1000</td>\n",
       "      <td>17283906000</td>\n",
       "      <td>원(KRW)</td>\n",
       "      <td>민승배</td>\n",
       "      <td>02-1577-8007</td>\n",
       "      <td>서울특별시 강남구 테헤란로 405 BGF사옥</td>\n",
       "    </tr>\n",
       "    <tr>\n",
       "      <th>4</th>\n",
       "      <td>138930</td>\n",
       "      <td>BNK금융지주</td>\n",
       "      <td>KOSPI</td>\n",
       "      <td>NaN</td>\n",
       "      <td>NaN</td>\n",
       "      <td>116409</td>\n",
       "      <td>기타 금융업</td>\n",
       "      <td>12</td>\n",
       "      <td>NaN</td>\n",
       "      <td>318383519</td>\n",
       "      <td>5000</td>\n",
       "      <td>1629676230000</td>\n",
       "      <td>원(KRW)</td>\n",
       "      <td>빈대인</td>\n",
       "      <td>051-620-3023</td>\n",
       "      <td>부산광역시 남구 문현금융로 30(문현동)</td>\n",
       "    </tr>\n",
       "  </tbody>\n",
       "</table>\n",
       "</div>"
      ],
      "text/plain": [
       "     종목코드      종목명   시장구분  소속부  소속부.1    업종코드              업종명  결산월  지정자문인  \\\n",
       "0  095570   AJ네트웍스  KOSPI  NaN    NaN  147603  산업용 기계 및 장비 임대업   12    NaN   \n",
       "1  006840    AK홀딩스  KOSPI  NaN    NaN  116409           기타 금융업   12    NaN   \n",
       "2  027410      BGF  KOSPI  NaN    NaN  116409           기타 금융업   12    NaN   \n",
       "3  282330   BGF리테일  KOSPI  NaN    NaN   74701           종합 소매업   12    NaN   \n",
       "4  138930  BNK금융지주  KOSPI  NaN    NaN  116409           기타 금융업   12    NaN   \n",
       "\n",
       "       상장주식수   액면가            자본금    통화구분               대표이사          대표전화  \\\n",
       "0   45252759  1000    46822295000  원(KRW)                곽정호  02-6363-9999   \n",
       "1   13247561  5000    66237805000  원(KRW)  고준, 채형석 (각자 대표이사)   02-768-2923   \n",
       "2   95716791  1000    95716791000     NaN                홍정국     1577-3663   \n",
       "3   17283906  1000    17283906000  원(KRW)                민승배  02-1577-8007   \n",
       "4  318383519  5000  1629676230000  원(KRW)                빈대인  051-620-3023   \n",
       "\n",
       "                             주소  \n",
       "0  서울특별시 송파구 정의로8길 9 (문정동,AJ빌딩)  \n",
       "1          서울특별시 마포구 양화로 188 -   \n",
       "2           서울특별시 강남구 테헤란로 405   \n",
       "3      서울특별시 강남구 테헤란로 405 BGF사옥  \n",
       "4       부산광역시 남구 문현금융로 30(문현동)   "
      ]
     },
     "execution_count": 24,
     "metadata": {},
     "output_type": "execute_result"
    }
   ],
   "source": [
    "df_krx_desc.drop(columns=[\"Unnamed: 0\"], inplace=True)\n",
    "df_krx_desc.head()"
   ]
  },
  {
   "cell_type": "code",
   "execution_count": 25,
   "id": "34e53c3b",
   "metadata": {},
   "outputs": [],
   "source": [
    "df_krx.to_csv(\"../../automation/db/KRX_KOSPI_DESCRIPTION.csv\", index=False)"
   ]
  },
  {
   "cell_type": "code",
   "execution_count": null,
   "id": "336e9ce9",
   "metadata": {},
   "outputs": [],
   "source": [
    "# ③ 종목명 → 종목코드 딕셔너리 생성\n",
    "name_to_code = dict(zip(df_krx[\"종목명\"], df_krx[\"종목코드\"]))\n",
    "\n",
    "# ④ stock_list를 매핑된 딕셔너리 리스트로 변환하는 함수\n",
    "import ast\n",
    "\n",
    "\n",
    "def enrich_stock_list(stock_names_raw):\n",
    "    try:\n",
    "        stock_names = stock_names_raw\n",
    "        result = []\n",
    "        for name in stock_names:\n",
    "            code = name_to_code.get(name)\n",
    "            if code:\n",
    "                result.append({\"stock_id\": code, \"stock_name\": name})\n",
    "        return result\n",
    "    except Exception:\n",
    "        return []\n",
    "\n",
    "\n",
    "# ⑤ 적용\n",
    "# df_meta[\"stock_list\"] = df_meta[\"stock_list\"].apply(enrich_stock_list)"
   ]
  },
  {
   "cell_type": "code",
   "execution_count": 39,
   "id": "714fb92c",
   "metadata": {},
   "outputs": [
    {
     "data": {
      "text/plain": [
       "[{'stock_id': '005930', 'stock_name': '삼성전자'}]"
      ]
     },
     "execution_count": 39,
     "metadata": {},
     "output_type": "execute_result"
    }
   ],
   "source": [
    "stock_list2 = enrich_stock_list(stock_list)\n",
    "stock_list2"
   ]
  },
  {
   "cell_type": "code",
   "execution_count": null,
   "id": "5ac9827a",
   "metadata": {},
   "outputs": [],
   "source": []
  }
 ],
 "metadata": {
  "kernelspec": {
   "display_name": "test-0603",
   "language": "python",
   "name": "python3"
  },
  "language_info": {
   "codemirror_mode": {
    "name": "ipython",
    "version": 3
   },
   "file_extension": ".py",
   "mimetype": "text/x-python",
   "name": "python",
   "nbconvert_exporter": "python",
   "pygments_lexer": "ipython3",
   "version": "3.9.18"
  }
 },
 "nbformat": 4,
 "nbformat_minor": 5
}
